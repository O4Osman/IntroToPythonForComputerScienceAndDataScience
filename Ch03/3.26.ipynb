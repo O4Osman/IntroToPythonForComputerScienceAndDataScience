{
 "cells": [
  {
   "cell_type": "code",
   "execution_count": null,
   "id": "dc15952c-a0e4-4505-821b-60f331555858",
   "metadata": {},
   "outputs": [],
   "source": [
    "\"\"\"\n",
    "\n",
    "3.26 (Research: Anscombe’s Quartet) In this book’s data science case studies, we’ll emphasize the importance of “getting to know your data.” The basic descriptive statistics that \n",
    "you’ve seen in this chapter’s and the previous chapter’s Intro to Data Science sections certainly help you know more about your data. One caution, though, is that different datasets \n",
    "can have identical or nearly identical descriptive statistics and yet the data can be significantly different. For an example of this phenomenon, research Anscombe’s Quartet. \n",
    "You should find four datasets and the associated visualizations. It’s the visualizations that convince you the datasets are quite different. In an exercise in a later chapter, \n",
    "you’ll create these visualizations.\n",
    "\n",
    "\"\"\""
   ]
  },
  {
   "cell_type": "code",
   "execution_count": null,
   "id": "d3371a77-a200-4594-9816-96cbd4d47b18",
   "metadata": {},
   "outputs": [],
   "source": [
    "# The four datasets of Anscombe's quartet.\n",
    "# https://media.geeksforgeeks.org/wp-content/uploads/20200329231436/data-sets.jpg"
   ]
  },
  {
   "cell_type": "code",
   "execution_count": null,
   "id": "7577d14f-fd02-48b2-a7e8-4b11c43774bf",
   "metadata": {},
   "outputs": [],
   "source": [
    "\"\"\"\n",
    "Output\n",
    "                                    I         II        III         IV\n",
    "Mean_x                        9.000000   9.000000   9.000000   9.000000\n",
    "Variance_x                   11.000000  11.000000  11.000000  11.000000\n",
    "Mean_y                        7.500909   7.500909   7.500000   7.500909\n",
    "Variance_y                    4.127269   4.127629   4.122620   4.123249\n",
    "Correlation                   0.816421   0.816237   0.816287   0.816521\n",
    "Linear Regression slope       0.500091   0.500000   0.499727   0.499909\n",
    "Linear Regression intercept   3.000091   3.000909   3.002455   3.001727\n",
    "\n",
    "\"\"\""
   ]
  }
 ],
 "metadata": {
  "kernelspec": {
   "display_name": "Python [conda env:base] *",
   "language": "python",
   "name": "conda-base-py"
  },
  "language_info": {
   "codemirror_mode": {
    "name": "ipython",
    "version": 3
   },
   "file_extension": ".py",
   "mimetype": "text/x-python",
   "name": "python",
   "nbconvert_exporter": "python",
   "pygments_lexer": "ipython3",
   "version": "3.13.5"
  }
 },
 "nbformat": 4,
 "nbformat_minor": 5
}
