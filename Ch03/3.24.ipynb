{
 "cells": [
  {
   "cell_type": "code",
   "execution_count": null,
   "id": "6b8cd7bc-6ac0-4a66-a008-1a99fa122740",
   "metadata": {},
   "outputs": [],
   "source": [
    "\"\"\"\n",
    "\n",
    "3.24 (Project: Using the prospector Static Code Analysis Tool)  The prospector tool runs several popular static code analysis tools to check your Python code for common errors and to \n",
    "help you improve your code. Check that you’ve installed prospector (see the Before You Begin section that follows the Preface). Run prospector on each of the scripts in this chapter. \n",
    "To do so, open the folder containing the scripts in a Terminal (macOS/Linux), Command Prompt (Windows) or shell (Linux), then run the following command from that folder:\n",
    "prospector --strictness veryhigh --doc-warnings\n",
    "\n",
    "\"\"\""
   ]
  },
  {
   "cell_type": "code",
   "execution_count": null,
   "id": "efa471b1-a959-469e-a1b1-5dc5906c1cb9",
   "metadata": {},
   "outputs": [],
   "source": [
    "  Line: None\n",
    "    pydocstyle: failure / Tool pydocstyle failed to run (exception was raised, re-run prospector with -X to see the stacktrace)\n",
    "\n",
    "validate_indents.py\n",
    "  Line: 6\n",
    "    pylint: syntax-error / Parsing failed: 'unindent does not match any outer indentation level (validate_indents, line 6)' (col 22)\n",
    "\n",
    "\n",
    "\n",
    "Check Information\n",
    "=================\n",
    "         Started: 2025-09-16 23:14:28.973006\n",
    "        Finished: 2025-09-16 23:14:30.139116\n",
    "      Time Taken: 1.17 seconds\n",
    "       Formatter: grouped\n",
    "        Profiles: default, doc_warnings, strictness_veryhigh, no_doc_warnings, no_test_warnings, no_member_warnings\n",
    "      Strictness: veryhigh\n",
    "  Libraries Used: \n",
    "       Tools Run: dodgy, mccabe, profile-validator, pycodestyle, pydocstyle, pyflakes, pylint\n",
    "  Messages Found: 2"
   ]
  },
  {
   "cell_type": "code",
   "execution_count": null,
   "id": "94685ec4-a86f-40ba-bea4-67bb7faa4f75",
   "metadata": {},
   "outputs": [],
   "source": [
    "# No error in my code except validate_indents.py which include error to understand the exercise"
   ]
  }
 ],
 "metadata": {
  "kernelspec": {
   "display_name": "Python [conda env:base] *",
   "language": "python",
   "name": "conda-base-py"
  },
  "language_info": {
   "codemirror_mode": {
    "name": "ipython",
    "version": 3
   },
   "file_extension": ".py",
   "mimetype": "text/x-python",
   "name": "python",
   "nbconvert_exporter": "python",
   "pygments_lexer": "ipython3",
   "version": "3.13.5"
  }
 },
 "nbformat": 4,
 "nbformat_minor": 5
}
