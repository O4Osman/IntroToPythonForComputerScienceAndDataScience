{
 "cells": [
  {
   "cell_type": "code",
   "execution_count": null,
   "id": "53bc4a09-05c3-461d-a9b4-d2bd739f2599",
   "metadata": {},
   "outputs": [],
   "source": [
    "\"\"\"\n",
    "\n",
    "3.6 (Turing Test)  The great British mathematician Alan Turing proposed a simple test to determine whether machines could exhibit \n",
    "intelligent behavior. A user sits at a computer and does the same text chat with a human sitting at a computer and a computer \n",
    "operating by itself. The user doesn’t know if the responses are coming back from the human or the independent computer. \n",
    "If the user can’t distinguish which responses are coming from the human and which are coming from the computer, then it’s \n",
    "reasonable to say that the computer is exhibiting intelligence.\n",
    "Create a script that plays the part of the independent computer, giving its user a simple medical diagnosis. \n",
    "The script should prompt the user with 'What is your problem?' When the user answers and presses Enter, the script should \n",
    "simply ignore the user’s input, then prompt the user again with 'Have you had this problem before (yes or no)?' If the user \n",
    "enters 'yes', print 'Well, you have it again.' If the user answers 'no', print 'Well, you have it now.'\n",
    "Would this conversation convince the user that the entity at the other end exhibited intelligent behavior? Why or why not?\n",
    "\n",
    "\"\"\""
   ]
  },
  {
   "cell_type": "code",
   "execution_count": 8,
   "id": "263be305-0c97-4c52-90e1-d8eec6971e5b",
   "metadata": {},
   "outputs": [
    {
     "name": "stdin",
     "output_type": "stream",
     "text": [
      "What is your problem?  I have abc.\n"
     ]
    },
    {
     "data": {
      "text/plain": [
       "'I have abc.'"
      ]
     },
     "execution_count": 8,
     "metadata": {},
     "output_type": "execute_result"
    }
   ],
   "source": [
    "input('What is your problem? ')"
   ]
  },
  {
   "cell_type": "code",
   "execution_count": 9,
   "id": "407a9e11-a48f-402e-8963-eeca3adf6c01",
   "metadata": {},
   "outputs": [
    {
     "name": "stdin",
     "output_type": "stream",
     "text": [
      "Have you had this problem before (yes or no)?  no\n"
     ]
    }
   ],
   "source": [
    "answer = input('Have you had this problem before (yes or no)? ').lower()"
   ]
  },
  {
   "cell_type": "code",
   "execution_count": 10,
   "id": "037dd3a8-f727-4ec2-8262-9723f73cf5b1",
   "metadata": {},
   "outputs": [
    {
     "name": "stdout",
     "output_type": "stream",
     "text": [
      "Well, you have it now.\n"
     ]
    }
   ],
   "source": [
    "if answer == 'yes':\n",
    "    print('Well, you have it again.')\n",
    "elif answer == 'no':\n",
    "    print('Well, you have it now.')"
   ]
  },
  {
   "cell_type": "raw",
   "id": "b552c1e8-f381-4fba-ac84-b0bc6821e44e",
   "metadata": {},
   "source": [
    "Yes, I think this conversaiton will convince the user that the entity at the other end exhibited intelligent because\n",
    "the computer will answer the user which the user can expect from a real person. So that is the reason that I think will convince the user."
   ]
  }
 ],
 "metadata": {
  "kernelspec": {
   "display_name": "Python [conda env:base] *",
   "language": "python",
   "name": "conda-base-py"
  },
  "language_info": {
   "codemirror_mode": {
    "name": "ipython",
    "version": 3
   },
   "file_extension": ".py",
   "mimetype": "text/x-python",
   "name": "python",
   "nbconvert_exporter": "python",
   "pygments_lexer": "ipython3",
   "version": "3.13.5"
  }
 },
 "nbformat": 4,
 "nbformat_minor": 5
}
