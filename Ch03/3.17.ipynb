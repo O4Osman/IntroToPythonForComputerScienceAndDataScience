{
 "cells": [
  {
   "cell_type": "code",
   "execution_count": null,
   "id": "0331fccd-d486-47ce-b0c7-a220c9fdb1c7",
   "metadata": {},
   "outputs": [],
   "source": [
    "\"\"\"\n",
    "\n",
    "3.17 (Nested Loops)  Write a script that displays the following triangle patterns separately, one below the other. \n",
    "Separate each pattern from the next by one blank line. Use for loops to generate the patterns. Display all asterisks ( *) \n",
    "with a single statement of the form\n",
    "print('*', end='')\n",
    "which causes the asterisks to display side by side. [Hint: For the last two patterns, begin each line with zero or more \n",
    "space characters.]\n",
    "\n",
    "(a)         (b)          (c)                (d)\n",
    "*           **********  **********           *\n",
    "**          *********    *********          **\n",
    "***         ********      ********         ***\n",
    "****        *******        *******        ****\n",
    "\n",
    "\"\"\""
   ]
  },
  {
   "cell_type": "code",
   "execution_count": 32,
   "id": "b97f772e-485d-430d-8b5e-4fd1910b38df",
   "metadata": {},
   "outputs": [
    {
     "name": "stdout",
     "output_type": "stream",
     "text": [
      "(a)\n",
      "*\n",
      "**\n",
      "***\n",
      "****\n",
      "\n",
      "(b)\n",
      "**********\n",
      "*********\n",
      "********\n",
      "*******\n",
      "\n",
      "(c)\n",
      "**********\n",
      " *********\n",
      "  ********\n",
      "   *******\n",
      "\n",
      "(d)\n",
      "    *\n",
      "   **\n",
      "  ***\n",
      " ****\n"
     ]
    }
   ],
   "source": [
    "print('(a)')\n",
    "\n",
    "for i in range(1, 5):\n",
    "    for j in range(i):\n",
    "        print('*', end='')\n",
    "    print()\n",
    "\n",
    "print(f'\\n(b)')\n",
    "\n",
    "for i in range(1, 5):\n",
    "    for j in range(0 , 11 - i):\n",
    "        print('*', end='')\n",
    "    print()\n",
    "\n",
    "print(f'\\n(c)')\n",
    "\n",
    "for i in range(1, 5):\n",
    "    for j in range(i - 1):\n",
    "        print(' ', end='')\n",
    "    for k in range(0 , 11 - i):\n",
    "        print('*', end='')\n",
    "    print()\n",
    "\n",
    "print(f'\\n(d)')\n",
    "\n",
    "for i in range(1, 5):\n",
    "    for j in range (5 - i):\n",
    "        print(' ', end='')\n",
    "    \n",
    "    for j in range(i):\n",
    "        print('*', end='')\n",
    "    print()"
   ]
  },
  {
   "cell_type": "code",
   "execution_count": null,
   "id": "15ce9e7d-cd1f-4830-8624-92d4260083d7",
   "metadata": {},
   "outputs": [],
   "source": []
  }
 ],
 "metadata": {
  "kernelspec": {
   "display_name": "Python [conda env:base] *",
   "language": "python",
   "name": "conda-base-py"
  },
  "language_info": {
   "codemirror_mode": {
    "name": "ipython",
    "version": 3
   },
   "file_extension": ".py",
   "mimetype": "text/x-python",
   "name": "python",
   "nbconvert_exporter": "python",
   "pygments_lexer": "ipython3",
   "version": "3.13.5"
  }
 },
 "nbformat": 4,
 "nbformat_minor": 5
}
