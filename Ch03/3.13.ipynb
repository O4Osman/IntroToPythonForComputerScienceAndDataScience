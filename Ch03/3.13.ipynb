{
 "cells": [
  {
   "cell_type": "code",
   "execution_count": null,
   "id": "c9b7ba74-8bb9-4ac6-93b4-a8c9e10630a8",
   "metadata": {},
   "outputs": [],
   "source": [
    "\"\"\"\n",
    "\n",
    "3.13 (Factorials)  Factorial calculations are common in probability. The factorial of a nonnegative integer n is written \n",
    "n! (pronounced “n factorial”) and is defined as follows:\n",
    "n! = n · (n - 1) · (n - 2) · … · 1\n",
    "for values of n greater than or equal to 1, with 0! defined to be 1. So,\n",
    "5! = 5 · 4 · 3 · 2 · 1\n",
    "\n",
    "which is 120. Factorials increase in size very rapidly. Write a script that inputs a nonnegative integer and computes \n",
    "and displays its factorial. Try your script on the integers 10, 20, 30 and even larger values. \n",
    "Did you find any integer input for which Python could not produce an integer factorial value?\n",
    "\n",
    "\"\"\""
   ]
  },
  {
   "cell_type": "code",
   "execution_count": 109,
   "id": "949293a7-89b2-485c-9f2b-70e9ecac0480",
   "metadata": {},
   "outputs": [
    {
     "name": "stdin",
     "output_type": "stream",
     "text": [
      "Enter the number:  2000\n"
     ]
    }
   ],
   "source": [
    "number = int(input('Enter the number: '))"
   ]
  },
  {
   "cell_type": "code",
   "execution_count": 110,
   "id": "3a2f2c77-a2a9-4031-9b1a-799e39449f19",
   "metadata": {},
   "outputs": [],
   "source": [
    "factorial = 1"
   ]
  },
  {
   "cell_type": "code",
   "execution_count": 111,
   "id": "db693524-60b8-4241-8e3d-ff683d8d42c3",
   "metadata": {},
   "outputs": [],
   "source": [
    "for i in range(1, number + 1):\n",
    "    factorial *= i"
   ]
  },
  {
   "cell_type": "code",
   "execution_count": 112,
   "id": "445bd26a-2808-465a-9fad-67cc19be8076",
   "metadata": {},
   "outputs": [
    {
     "ename": "ValueError",
     "evalue": "Exceeds the limit (4300 digits) for integer string conversion; use sys.set_int_max_str_digits() to increase the limit",
     "output_type": "error",
     "traceback": [
      "\u001b[0;31m---------------------------------------------------------------------------\u001b[0m",
      "\u001b[0;31mValueError\u001b[0m                                Traceback (most recent call last)",
      "Cell \u001b[0;32mIn[112], line 1\u001b[0m\n\u001b[0;32m----> 1\u001b[0m \u001b[38;5;28mprint\u001b[39m(\u001b[38;5;124mf\u001b[39m\u001b[38;5;124m'\u001b[39m\u001b[38;5;124mFactorial is \u001b[39m\u001b[38;5;132;01m{\u001b[39;00mfactorial\u001b[38;5;132;01m}\u001b[39;00m\u001b[38;5;124m'\u001b[39m)\n",
      "\u001b[0;31mValueError\u001b[0m: Exceeds the limit (4300 digits) for integer string conversion; use sys.set_int_max_str_digits() to increase the limit"
     ]
    }
   ],
   "source": [
    "print(f'Factorial is {factorial}')"
   ]
  },
  {
   "cell_type": "code",
   "execution_count": null,
   "id": "a1e3eca1-8839-4498-8365-54ceec25df80",
   "metadata": {},
   "outputs": [],
   "source": [
    "# yes I find and integer which python could produce factorila is 2000."
   ]
  }
 ],
 "metadata": {
  "kernelspec": {
   "display_name": "Python [conda env:base] *",
   "language": "python",
   "name": "conda-base-py"
  },
  "language_info": {
   "codemirror_mode": {
    "name": "ipython",
    "version": 3
   },
   "file_extension": ".py",
   "mimetype": "text/x-python",
   "name": "python",
   "nbconvert_exporter": "python",
   "pygments_lexer": "ipython3",
   "version": "3.13.5"
  }
 },
 "nbformat": 4,
 "nbformat_minor": 5
}
