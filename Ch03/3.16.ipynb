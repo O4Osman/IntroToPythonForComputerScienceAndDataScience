{
 "cells": [
  {
   "cell_type": "code",
   "execution_count": null,
   "id": "185f20b1-c7fb-40b6-8552-087d490351c5",
   "metadata": {},
   "outputs": [],
   "source": [
    "\"\"\"\n",
    "\n",
    "3.16 (Nested Control Statements)  Use a loop to find the two largest values of 10 numbers entered.\n",
    "\n",
    "\"\"\""
   ]
  },
  {
   "cell_type": "code",
   "execution_count": 674,
   "id": "31007b87-2888-4197-bda8-6c8b8a99b619",
   "metadata": {},
   "outputs": [],
   "source": [
    "most_largest = None"
   ]
  },
  {
   "cell_type": "code",
   "execution_count": 675,
   "id": "a3778e9d-e868-4274-96f4-16b40eb697db",
   "metadata": {},
   "outputs": [],
   "source": [
    "second_largest = None"
   ]
  },
  {
   "cell_type": "code",
   "execution_count": 676,
   "id": "67923fd7-5e79-4685-8650-34570d6dadfc",
   "metadata": {},
   "outputs": [],
   "source": [
    "place_holder = 0"
   ]
  },
  {
   "cell_type": "code",
   "execution_count": 677,
   "id": "6f43b747-0f46-4583-9d31-b27463f53f89",
   "metadata": {},
   "outputs": [
    {
     "name": "stdin",
     "output_type": "stream",
     "text": [
      "Please enter a number:  5\n",
      "Please enter a number:  4\n",
      "Please enter a number:  3\n",
      "Please enter a number:  2\n",
      "Please enter a number:  1\n",
      "Please enter a number:  6\n",
      "Please enter a number:  7\n",
      "Please enter a number:  8\n",
      "Please enter a number:  9\n",
      "Please enter a number:  10\n"
     ]
    }
   ],
   "source": [
    "# Test it on all type of value i.e positive, negative, mixture of positive and negative\n",
    "\n",
    "for i in range(10):\n",
    "    value = int(input('Please enter a number: '))\n",
    "\n",
    "    if most_largest == None:                                #set first value to most largest\n",
    "        most_largest = value\n",
    "    elif second_largest == None and value < most_largest:   # set value which is smaller then most largest and second largest is None.\n",
    "        second_largest = value\n",
    "    elif value > most_largest:                              # if value is greater then most largest then set current most largest to 2nd largest and current value to largest\n",
    "        second_largest = most_largest\n",
    "        most_largest = value\n",
    "    elif second_largest and value > second_largest and value < most_largest:   # if 2nd largest is not None and value is greater then second largest but less the most largest then set it to second largest.\n",
    "        second_largest = value"
   ]
  },
  {
   "cell_type": "code",
   "execution_count": 678,
   "id": "83e03201-64be-4b2d-b4c5-b362c625237d",
   "metadata": {},
   "outputs": [
    {
     "name": "stdout",
     "output_type": "stream",
     "text": [
      "Most largset: 10\n",
      "Second largest: 9\n"
     ]
    }
   ],
   "source": [
    "print(f'Most largset: {most_largest}\\nSecond largest: {second_largest}')"
   ]
  },
  {
   "cell_type": "markdown",
   "id": "43134b26-2345-43bc-b73d-ea4211671748",
   "metadata": {},
   "source": [
    "# "
   ]
  }
 ],
 "metadata": {
  "kernelspec": {
   "display_name": "Python [conda env:base] *",
   "language": "python",
   "name": "conda-base-py"
  },
  "language_info": {
   "codemirror_mode": {
    "name": "ipython",
    "version": 3
   },
   "file_extension": ".py",
   "mimetype": "text/x-python",
   "name": "python",
   "nbconvert_exporter": "python",
   "pygments_lexer": "ipython3",
   "version": "3.13.5"
  }
 },
 "nbformat": 4,
 "nbformat_minor": 5
}
