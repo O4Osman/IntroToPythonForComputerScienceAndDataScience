{
 "cells": [
  {
   "cell_type": "code",
   "execution_count": 74,
   "id": "e3e7b481-3a22-4c69-b0b8-1eb2e8e5152d",
   "metadata": {},
   "outputs": [
    {
     "data": {
      "text/plain": [
       "'\\n\\n3.8 (Arithmetic, Smallest and Largest)  In Exercise 2.10, you wrote a script that input three integers, then displayed \\nthe sum, average, product, smallest and largest of those values. Reimplement your script with a loop that inputs four \\nintegers.\\n\\n\\n\\n'"
      ]
     },
     "execution_count": 74,
     "metadata": {},
     "output_type": "execute_result"
    }
   ],
   "source": [
    "\"\"\"\n",
    "\n",
    "3.8 (Arithmetic, Smallest and Largest)  In Exercise 2.10, you wrote a script that input three integers, then displayed \n",
    "the sum, average, product, smallest and largest of those values. Reimplement your script with a loop that inputs four \n",
    "integers.\n",
    "\n",
    "\"\"\""
   ]
  },
  {
   "cell_type": "code",
   "execution_count": 75,
   "id": "5fef7c18-d310-442a-998d-948f241ab411",
   "metadata": {},
   "outputs": [],
   "source": [
    "sum_val = 0"
   ]
  },
  {
   "cell_type": "code",
   "execution_count": 76,
   "id": "f4140ef4-d448-453f-a7d6-4d4e4b673d49",
   "metadata": {},
   "outputs": [],
   "source": [
    "average = 0"
   ]
  },
  {
   "cell_type": "code",
   "execution_count": 77,
   "id": "4a7f087e-885d-4747-b408-42c3d6f706f7",
   "metadata": {},
   "outputs": [],
   "source": [
    "product = 1"
   ]
  },
  {
   "cell_type": "code",
   "execution_count": 78,
   "id": "393b26f4-e79f-44a5-a937-786d83a6026d",
   "metadata": {},
   "outputs": [],
   "source": [
    "smallest = 0"
   ]
  },
  {
   "cell_type": "code",
   "execution_count": 79,
   "id": "8be5dc07-f8ce-4b68-8dd7-bd332aea8554",
   "metadata": {},
   "outputs": [],
   "source": [
    "largest = 0"
   ]
  },
  {
   "cell_type": "code",
   "execution_count": 80,
   "id": "f83e14e6-754b-4910-9d59-0df12febce16",
   "metadata": {},
   "outputs": [],
   "source": [
    "counter = 0"
   ]
  },
  {
   "cell_type": "code",
   "execution_count": 81,
   "id": "d9719d80-15e2-46db-a48a-9cd5962a5482",
   "metadata": {},
   "outputs": [
    {
     "name": "stdin",
     "output_type": "stream",
     "text": [
      "Enter value 1:  4\n",
      "Enter value 2:  2\n",
      "Enter value 3:  3\n",
      "Enter value 4:  1\n"
     ]
    }
   ],
   "source": [
    "for i in range(4):\n",
    "    val = int(input(f'Enter value {i + 1}: '))\n",
    "    sum_val += val\n",
    "    product *= val\n",
    "    \n",
    "    if smallest == 0:\n",
    "        smallest = val\n",
    "\n",
    "    if largest == 0:\n",
    "        largest = val\n",
    "        \n",
    "    smallest = min(smallest, val)\n",
    "    largest = max(largest, val)\n",
    "    counter += 1"
   ]
  },
  {
   "cell_type": "code",
   "execution_count": 82,
   "id": "f7f2ca66-4572-4017-bf1c-9bdf29be9f8f",
   "metadata": {},
   "outputs": [],
   "source": [
    "average = sum_val / counter"
   ]
  },
  {
   "cell_type": "code",
   "execution_count": 83,
   "id": "f10fd12e-a7c7-46a6-b315-319d6781c4b7",
   "metadata": {},
   "outputs": [
    {
     "name": "stdout",
     "output_type": "stream",
     "text": [
      "Sum is 10\n"
     ]
    }
   ],
   "source": [
    "print('Sum is', sum_val)"
   ]
  },
  {
   "cell_type": "code",
   "execution_count": 84,
   "id": "39e56dfd-2361-47af-bcd4-4fff2fc22844",
   "metadata": {},
   "outputs": [
    {
     "name": "stdout",
     "output_type": "stream",
     "text": [
      "Average is 2.5\n"
     ]
    }
   ],
   "source": [
    "print('Average is', average)"
   ]
  },
  {
   "cell_type": "code",
   "execution_count": 85,
   "id": "b52e18c8-2944-4d89-8f9d-07d8c7ba88e7",
   "metadata": {},
   "outputs": [
    {
     "name": "stdout",
     "output_type": "stream",
     "text": [
      "Product is 24\n"
     ]
    }
   ],
   "source": [
    "print('Product is', product)"
   ]
  },
  {
   "cell_type": "code",
   "execution_count": 86,
   "id": "e34c5259-8713-4f60-8211-71abc459e8b8",
   "metadata": {},
   "outputs": [
    {
     "name": "stdout",
     "output_type": "stream",
     "text": [
      "Smallest is 1\n"
     ]
    }
   ],
   "source": [
    "print('Smallest is', smallest)"
   ]
  },
  {
   "cell_type": "code",
   "execution_count": 87,
   "id": "0e012d45-2693-4f11-b552-2e06aa390ceb",
   "metadata": {},
   "outputs": [
    {
     "name": "stdout",
     "output_type": "stream",
     "text": [
      "largest is 4\n"
     ]
    }
   ],
   "source": [
    "print('largest is', largest)"
   ]
  },
  {
   "cell_type": "code",
   "execution_count": null,
   "id": "aefe26c0-7249-421b-8229-d37ac9fd429a",
   "metadata": {},
   "outputs": [],
   "source": []
  }
 ],
 "metadata": {
  "kernelspec": {
   "display_name": "Python [conda env:base] *",
   "language": "python",
   "name": "conda-base-py"
  },
  "language_info": {
   "codemirror_mode": {
    "name": "ipython",
    "version": 3
   },
   "file_extension": ".py",
   "mimetype": "text/x-python",
   "name": "python",
   "nbconvert_exporter": "python",
   "pygments_lexer": "ipython3",
   "version": "3.13.5"
  }
 },
 "nbformat": 4,
 "nbformat_minor": 5
}
