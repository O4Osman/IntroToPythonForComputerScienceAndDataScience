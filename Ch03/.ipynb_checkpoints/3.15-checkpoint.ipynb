{
 "cells": [
  {
   "cell_type": "code",
   "execution_count": 44,
   "id": "7f959d01-9af8-4aeb-9eb7-83db8b798c0e",
   "metadata": {},
   "outputs": [
    {
     "data": {
      "text/plain": [
       "'\\n\\n3.15 (Challenge: Approximating the Mathematical Constant e)  Write a script that estimates the value of the mathematical \\nconstant e by using the formula below. Your script can stop after summing 10 terms.\\n\\nCh03/e.png\\n\\n'"
      ]
     },
     "execution_count": 44,
     "metadata": {},
     "output_type": "execute_result"
    }
   ],
   "source": [
    "\"\"\"\n",
    "\n",
    "3.15 (Challenge: Approximating the Mathematical Constant e)  Write a script that estimates the value of the mathematical \n",
    "constant e by using the formula below. Your script can stop after summing 10 terms.\n",
    "\n",
    "Ch03/e.png\n",
    "\n",
    "\"\"\""
   ]
  },
  {
   "cell_type": "code",
   "execution_count": 45,
   "id": "a6836a91-60e9-4270-9148-653f6bc89768",
   "metadata": {},
   "outputs": [],
   "source": [
    "euler_number = 0"
   ]
  },
  {
   "cell_type": "code",
   "execution_count": 46,
   "id": "329a83d2-406c-4384-97a4-0eb32a9c84ef",
   "metadata": {},
   "outputs": [],
   "source": [
    "for i in range(0, 10):\n",
    "    factorial = 1\n",
    "\n",
    "    for j in range(1, i +1):\n",
    "        factorial *= j\n",
    "        \n",
    "    euler_number += 1 / factorial"
   ]
  },
  {
   "cell_type": "code",
   "execution_count": 47,
   "id": "19beab65-043f-41e5-adb9-124abcce57d1",
   "metadata": {},
   "outputs": [
    {
     "name": "stdout",
     "output_type": "stream",
     "text": [
      "Value of Euler Number after 10 countes is: 2.718281526\n"
     ]
    }
   ],
   "source": [
    "print(f'Value of Euler Number after 10 counts is: {euler_number:.9f}')"
   ]
  }
 ],
 "metadata": {
  "kernelspec": {
   "display_name": "Python [conda env:base] *",
   "language": "python",
   "name": "conda-base-py"
  },
  "language_info": {
   "codemirror_mode": {
    "name": "ipython",
    "version": 3
   },
   "file_extension": ".py",
   "mimetype": "text/x-python",
   "name": "python",
   "nbconvert_exporter": "python",
   "pygments_lexer": "ipython3",
   "version": "3.13.5"
  }
 },
 "nbformat": 4,
 "nbformat_minor": 5
}
