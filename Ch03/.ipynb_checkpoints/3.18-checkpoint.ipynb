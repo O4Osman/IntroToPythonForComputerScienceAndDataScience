{
 "cells": [
  {
   "cell_type": "code",
   "execution_count": null,
   "id": "39dfdbdf-eb7e-4fee-9d85-9168165c6c73",
   "metadata": {},
   "outputs": [],
   "source": [
    "\"\"\"\n",
    "\n",
    "3.18 (Challenge: Nested Looping)  Modify your script from Exercise 3.17 to display all four patterns side-by-side \n",
    "(as shown above) by making clever use of nested for loops. Separate each triangle from the next by three horizontal spaces. \n",
    "[Hint: One for loop should control the row number. Its nested for loops should calculate from the row number the appropriate \n",
    "number of asterisks and spaces for each of the four patterns.]\n",
    "\n",
    "\"\"\""
   ]
  },
  {
   "cell_type": "code",
   "execution_count": 19,
   "id": "1c09981e-82c2-4611-8735-83fcb949c2ae",
   "metadata": {},
   "outputs": [],
   "source": [
    "a = \"(a)\"\n",
    "b = \"(b)\"\n",
    "c = \"(c)\"\n",
    "d = \"(d)\""
   ]
  },
  {
   "cell_type": "code",
   "execution_count": 62,
   "id": "f0604e5b-65c0-4bf0-ad9c-d73839fc45af",
   "metadata": {},
   "outputs": [
    {
     "name": "stdout",
     "output_type": "stream",
     "text": [
      "(a)    (b)          (c)              (d)\n",
      "*       **********   **********       *\n",
      "**      *********     *********      **\n",
      "***     ********       ********     ***\n",
      "****    *******         *******    ****\n"
     ]
    }
   ],
   "source": [
    "print(f'{a:<7}{b:<13}{c:<13}{d:>7}')\n",
    "for i in range(1, 5):\n",
    "    \n",
    "    for j in range(i):\n",
    "        print('*',end='')\n",
    "\n",
    "    for j in range(5 - i):\n",
    "        print(' ', end='')\n",
    "\n",
    "    print('   ', end='')\n",
    "\n",
    "    for j in range(0 , 11 - i):\n",
    "        print('*', end='')\n",
    "        \n",
    "    for j in range(i - 1):\n",
    "        print(' ', end='')\n",
    "\n",
    "    print('   ', end='')\n",
    "    \n",
    "    for j in range(i - 1):\n",
    "        print(' ', end='')\n",
    "        \n",
    "    for j in range(0 , 11 - i):\n",
    "        print('*', end='')\n",
    "\n",
    "    print('   ', end='')\n",
    "\n",
    "    for j in range (5 - i):\n",
    "        print(' ', end='')\n",
    "    \n",
    "    for j in range(i):\n",
    "        print('*', end='')\n",
    "    print()"
   ]
  }
 ],
 "metadata": {
  "kernelspec": {
   "display_name": "Python [conda env:base] *",
   "language": "python",
   "name": "conda-base-py"
  },
  "language_info": {
   "codemirror_mode": {
    "name": "ipython",
    "version": 3
   },
   "file_extension": ".py",
   "mimetype": "text/x-python",
   "name": "python",
   "nbconvert_exporter": "python",
   "pygments_lexer": "ipython3",
   "version": "3.13.5"
  }
 },
 "nbformat": 4,
 "nbformat_minor": 5
}
