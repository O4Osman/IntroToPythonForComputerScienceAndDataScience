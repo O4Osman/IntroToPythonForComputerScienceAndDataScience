{
 "cells": [
  {
   "cell_type": "code",
   "execution_count": null,
   "id": "502a39d1-9e87-43b6-9f3a-a205253566a3",
   "metadata": {},
   "outputs": [],
   "source": [
    "\"\"\"\n",
    "\n",
    "3.22 (Optional else Clause of a Loop)  The while and for statements each have an optional else clause. In a while statement, the else clause executes when the condition becomes False. \n",
    "In a for statement, the else clause executes when there are no more items to process. If you break out of a while or for that has an else, the else part does not execute. \n",
    "Execute the following code to see that the else clause executes only if the break statement does not:\n",
    "\n",
    "for i in range(2):\n",
    "    value = int(input('Enter an integer (-1 to break): '))\n",
    "    print('You entered:', value)\n",
    "\n",
    "    if value == -1:\n",
    "       break\n",
    "else:\n",
    "    print('The loop terminated without executing the break')\n",
    "    \n",
    "For more information on loop else clauses, see\n",
    "https://docs.python.org/3/tutorial/controlflow.html#break-and-continue-statements-and-else-clauses-on-loops”\n",
    "\n",
    "\"\"\""
   ]
  },
  {
   "cell_type": "code",
   "execution_count": 7,
   "id": "b52dda5b-c855-4977-86b8-d9949705968d",
   "metadata": {},
   "outputs": [
    {
     "name": "stdin",
     "output_type": "stream",
     "text": [
      "Enter an integer (-1 to break):  1\n"
     ]
    },
    {
     "name": "stdout",
     "output_type": "stream",
     "text": [
      "You entered: 1\n"
     ]
    },
    {
     "name": "stdin",
     "output_type": "stream",
     "text": [
      "Enter an integer (-1 to break):  1\n"
     ]
    },
    {
     "name": "stdout",
     "output_type": "stream",
     "text": [
      "You entered: 1\n",
      "The loop terminated without executing the break\n"
     ]
    }
   ],
   "source": [
    "for i in range(2):\n",
    "    value = int(input('Enter an integer (-1 to break): '))\n",
    "    print('You entered:', value)\n",
    "\n",
    "    if value == -1:\n",
    "       break\n",
    "else:\n",
    "    print('The loop terminated without executing the break')"
   ]
  },
  {
   "cell_type": "code",
   "execution_count": 8,
   "id": "afe6e0a7-ddc5-4dd1-9709-52265926f321",
   "metadata": {},
   "outputs": [
    {
     "name": "stdout",
     "output_type": "stream",
     "text": [
      "Else executes even for empty loops\n"
     ]
    }
   ],
   "source": [
    "for i in range(0):\n",
    "    print(\"This never executes\")\n",
    "else:\n",
    "    print(\"Else executes even for empty loops\")"
   ]
  }
 ],
 "metadata": {
  "kernelspec": {
   "display_name": "Python [conda env:base] *",
   "language": "python",
   "name": "conda-base-py"
  },
  "language_info": {
   "codemirror_mode": {
    "name": "ipython",
    "version": 3
   },
   "file_extension": ".py",
   "mimetype": "text/x-python",
   "name": "python",
   "nbconvert_exporter": "python",
   "pygments_lexer": "ipython3",
   "version": "3.13.5"
  }
 },
 "nbformat": 4,
 "nbformat_minor": 5
}
