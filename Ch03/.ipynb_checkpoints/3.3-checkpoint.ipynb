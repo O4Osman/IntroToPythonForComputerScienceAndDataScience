{
 "cells": [
  {
   "cell_type": "raw",
   "id": "eaad1cdd-be9b-4258-9d0b-f4779d2be191",
   "metadata": {},
   "source": [
    "\"\"\"\n",
    "\n",
    "3.3 (What Does This Code Do?)  What does the following program print?\n",
    "for row in range(10):\n",
    "    for column in range(10):\n",
    "        print('<' if row % 2 == 1 else '>', end='')\n",
    "    print()\n",
    "\n",
    "\"\"\""
   ]
  },
  {
   "cell_type": "code",
   "execution_count": null,
   "id": "568f84b6-a416-490f-9aeb-f52578f2198e",
   "metadata": {},
   "outputs": [],
   "source": [
    ">>>>>>>>>>\n",
    "<<<<<<<<<<\n",
    ">>>>>>>>>>\n",
    "<<<<<<<<<<\n",
    ">>>>>>>>>>\n",
    "<<<<<<<<<<\n",
    ">>>>>>>>>>\n",
    "<<<<<<<<<<\n",
    ">>>>>>>>>>\n",
    "<<<<<<<<<<"
   ]
  }
 ],
 "metadata": {
  "kernelspec": {
   "display_name": "Python [conda env:base] *",
   "language": "python",
   "name": "conda-base-py"
  },
  "language_info": {
   "codemirror_mode": {
    "name": "ipython",
    "version": 3
   },
   "file_extension": ".py",
   "mimetype": "text/x-python",
   "name": "python",
   "nbconvert_exporter": "python",
   "pygments_lexer": "ipython3",
   "version": "3.13.5"
  }
 },
 "nbformat": 4,
 "nbformat_minor": 5
}
