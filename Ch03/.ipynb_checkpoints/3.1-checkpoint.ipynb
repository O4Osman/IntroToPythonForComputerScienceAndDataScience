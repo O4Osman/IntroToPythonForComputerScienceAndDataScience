{
 "cells": [
  {
   "cell_type": "raw",
   "id": "263dc82e-df3b-45b4-ae17-045eab85fbdd",
   "metadata": {},
   "source": [
    "\"\"\"\n",
    "\n",
    "3.1 (Validating User Input) Modify the script of Fig3.3.  to validate its inputs. For any input, if the value entered \n",
    "is other than 1 or 2, keep looping until the user enters a correct value. Use one counter to keep track of the number \n",
    "of passes, then calculate the number of failures after all the user’s inputs have been received.\n",
    "\n",
    "1 # fig03_03.py\n",
    "2 \"Using nested control statements to analyze examination results.\"\n",
    "3\n",
    "4 # initialize variables\n",
    "5 passes = 0  # number of passes\n",
    "6 failures = 0  # number of failures\n",
    "7\n",
    "8 # process 10 students\n",
    "9 for student in range(10):\n",
    "10     # get one exam result\n",
    "11     result = int(input('Enter result (1=pass, 2=fail): '))\n",
    "12\n",
    "13     if result == 1:\n",
    "14         passes = passes + 1\n",
    "15     else:\n",
    "16         failures = failures + 1\n",
    "17\n",
    "18 # termination phase\n",
    "19 print('Passed:', passes)\n",
    "20 print('Failed:', failures)\n",
    "21\n",
    "22 if passes > 8:\n",
    "23     print('Bonus to instructor')”\n",
    "\n",
    "\"\"\""
   ]
  },
  {
   "cell_type": "code",
   "execution_count": 35,
   "id": "93cc12ee-7bee-452c-8625-301d9737ee93",
   "metadata": {},
   "outputs": [],
   "source": [
    "passes = 0"
   ]
  },
  {
   "cell_type": "code",
   "execution_count": 36,
   "id": "85688a86-845d-4a5e-9c8b-ebe86e16b34c",
   "metadata": {},
   "outputs": [
    {
     "name": "stdin",
     "output_type": "stream",
     "text": [
      "Enter result (1=pass, 2=fail):  1\n",
      "Enter result (1=pass, 2=fail):  1\n",
      "Enter result (1=pass, 2=fail):  1\n",
      "Enter result (1=pass, 2=fail):  1\n",
      "Enter result (1=pass, 2=fail):  2\n",
      "Enter result (1=pass, 2=fail):  1\n",
      "Enter result (1=pass, 2=fail):  1\n",
      "Enter result (1=pass, 2=fail):  1\n",
      "Enter result (1=pass, 2=fail):  2\n",
      "Enter result (1=pass, 2=fail):  1\n"
     ]
    }
   ],
   "source": [
    "for student in range(10):\n",
    "    result = int(input('Enter result (1=pass, 2=fail): '))\n",
    "    while True:\n",
    "        if result == 1:\n",
    "            passes += 1\n",
    "            break\n",
    "        elif result == 2:\n",
    "            break\n",
    "        else:\n",
    "            result = int(input('Wrong Value. Enter result (1=pass, 2=fail): '))"
   ]
  },
  {
   "cell_type": "code",
   "execution_count": 41,
   "id": "a94dd616-f15c-45e8-abc3-94296b07e23c",
   "metadata": {},
   "outputs": [],
   "source": [
    "failures = 10 - passes"
   ]
  },
  {
   "cell_type": "code",
   "execution_count": 42,
   "id": "1860904d-35da-4c51-abaa-c355a404e617",
   "metadata": {},
   "outputs": [
    {
     "name": "stdout",
     "output_type": "stream",
     "text": [
      "Passed: 8\n"
     ]
    }
   ],
   "source": [
    "print('Passed:', passes)"
   ]
  },
  {
   "cell_type": "code",
   "execution_count": 43,
   "id": "11ce0ef1-5b2d-45f6-89fd-f021ad34c795",
   "metadata": {},
   "outputs": [
    {
     "name": "stdout",
     "output_type": "stream",
     "text": [
      "Failed: 2\n"
     ]
    }
   ],
   "source": [
    "print('Failed:', failures)"
   ]
  },
  {
   "cell_type": "code",
   "execution_count": 45,
   "id": "bf338ca2-7995-43c6-a71d-99ccb4993f8f",
   "metadata": {},
   "outputs": [],
   "source": [
    "if passes > 8:\n",
    "    print('Bonus to instructor')"
   ]
  }
 ],
 "metadata": {
  "kernelspec": {
   "display_name": "Python [conda env:base] *",
   "language": "python",
   "name": "conda-base-py"
  },
  "language_info": {
   "codemirror_mode": {
    "name": "ipython",
    "version": 3
   },
   "file_extension": ".py",
   "mimetype": "text/x-python",
   "name": "python",
   "nbconvert_exporter": "python",
   "pygments_lexer": "ipython3",
   "version": "3.13.5"
  }
 },
 "nbformat": 4,
 "nbformat_minor": 5
}
