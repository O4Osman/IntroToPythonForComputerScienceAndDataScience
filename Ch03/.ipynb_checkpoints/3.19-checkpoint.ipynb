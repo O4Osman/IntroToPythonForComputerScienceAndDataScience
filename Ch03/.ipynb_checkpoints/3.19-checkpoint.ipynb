{
 "cells": [
  {
   "cell_type": "code",
   "execution_count": null,
   "id": "ec99137e-d7bd-417b-980b-ac55ebc8ef31",
   "metadata": {},
   "outputs": [],
   "source": [
    "\"\"\"\n",
    "\n",
    "3.19 (Brute-Force Computing: Pythagorean Triples)   A right triangle can have sides that are all integers. The set of three \n",
    "integer values for the sides of a right triangle is called a Pythagorean triple. These three sides must satisfy the \n",
    "relationship that the sum of the squares of two of the sides is equal to the square of the “hypotenuse. Find all Pythagorean \n",
    "triples for side1, side2 and hypotenuse (such as 3, 4 and 5) all no larger than 20. Use a triple-nested for-loop that tries \n",
    "all possibilities. This is an example of “brute-force” computing. You’ll learn in more advanced computer science courses that \n",
    "there are many interesting problems for which there is no known algorithmic approach other than sheer brute force.\n",
    "\n",
    "\"\"\""
   ]
  },
  {
   "cell_type": "code",
   "execution_count": 7,
   "id": "16823f61-4048-4d13-ba08-e41af1952d8d",
   "metadata": {},
   "outputs": [
    {
     "name": "stdout",
     "output_type": "stream",
     "text": [
      "This triples with hypotenuse: 5 , side1: 3, side2: 4 are Pythagorean Triples\n",
      "This triples with hypotenuse: 5 , side1: 4, side2: 3 are Pythagorean Triples\n",
      "This triples with hypotenuse: 10 , side1: 6, side2: 8 are Pythagorean Triples\n",
      "This triples with hypotenuse: 10 , side1: 8, side2: 6 are Pythagorean Triples\n",
      "This triples with hypotenuse: 13 , side1: 5, side2: 12 are Pythagorean Triples\n",
      "This triples with hypotenuse: 13 , side1: 12, side2: 5 are Pythagorean Triples\n",
      "This triples with hypotenuse: 15 , side1: 9, side2: 12 are Pythagorean Triples\n",
      "This triples with hypotenuse: 15 , side1: 12, side2: 9 are Pythagorean Triples\n",
      "This triples with hypotenuse: 17 , side1: 8, side2: 15 are Pythagorean Triples\n",
      "This triples with hypotenuse: 17 , side1: 15, side2: 8 are Pythagorean Triples\n",
      "This triples with hypotenuse: 20 , side1: 12, side2: 16 are Pythagorean Triples\n",
      "This triples with hypotenuse: 20 , side1: 16, side2: 12 are Pythagorean Triples\n"
     ]
    }
   ],
   "source": [
    "for hypotenuse in range(1 , 21):\n",
    "\n",
    "    for side1 in range (1, 21):\n",
    "\n",
    "        for side2 in range(1, 21):\n",
    "            \n",
    "            if (hypotenuse ** 2) == (side1 ** 2 + side2 ** 2):\n",
    "                \n",
    "                print(f'This triples with hypotenuse: {hypotenuse} , side1: {side1}, side2: {side2} are Pythagorean Triples')"
   ]
  },
  {
   "cell_type": "code",
   "execution_count": null,
   "id": "90603577-9f3a-49ad-be83-733512163de5",
   "metadata": {},
   "outputs": [],
   "source": []
  }
 ],
 "metadata": {
  "kernelspec": {
   "display_name": "Python [conda env:base] *",
   "language": "python",
   "name": "conda-base-py"
  },
  "language_info": {
   "codemirror_mode": {
    "name": "ipython",
    "version": 3
   },
   "file_extension": ".py",
   "mimetype": "text/x-python",
   "name": "python",
   "nbconvert_exporter": "python",
   "pygments_lexer": "ipython3",
   "version": "3.13.5"
  }
 },
 "nbformat": 4,
 "nbformat_minor": 5
}
