{
 "cells": [
  {
   "cell_type": "code",
   "execution_count": null,
   "id": "d01eabe2-3ab7-40fb-920e-e00dc9e4e4e0",
   "metadata": {},
   "outputs": [],
   "source": [
    "\"\"\"\"\n",
    "\n",
    "3.29 (Intro to Data Science: Problem with the Median)  For an odd number of values, to get the median you simply arrange them in order and take the middle value. For an even number, \n",
    "you average the two middle values. What problem occurs if those two values are different?\n",
    "\n",
    "\"\"\""
   ]
  },
  {
   "cell_type": "code",
   "execution_count": null,
   "id": "e4e7d942-e0b1-4c7e-ae14-17cf1a93d38c",
   "metadata": {},
   "outputs": [],
   "source": [
    "# The problem is that the median of even-sized dataset can produce a median value which does not exist in the data-set. As it can be a number in between two values."
   ]
  }
 ],
 "metadata": {
  "kernelspec": {
   "display_name": "Python [conda env:base] *",
   "language": "python",
   "name": "conda-base-py"
  },
  "language_info": {
   "codemirror_mode": {
    "name": "ipython",
    "version": 3
   },
   "file_extension": ".py",
   "mimetype": "text/x-python",
   "name": "python",
   "nbconvert_exporter": "python",
   "pygments_lexer": "ipython3",
   "version": "3.13.5"
  }
 },
 "nbformat": 4,
 "nbformat_minor": 5
}
