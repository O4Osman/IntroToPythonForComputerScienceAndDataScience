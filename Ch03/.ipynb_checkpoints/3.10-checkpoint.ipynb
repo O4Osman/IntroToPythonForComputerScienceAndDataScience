{
 "cells": [
  {
   "cell_type": "code",
   "execution_count": null,
   "id": "62311786-e9e0-4693-9f80-adb995f0624b",
   "metadata": {},
   "outputs": [],
   "source": [
    "\"\"\"\n",
    "\n",
    "3.10 (7% Investment Return)  Reimplement Exercise 2.12 to use a loop that calculates and displays the amount of money \n",
    "you’ll have each year at the ends of years 1 through 30.\n",
    "\n",
    "\"\"\""
   ]
  },
  {
   "cell_type": "code",
   "execution_count": 7,
   "id": "b7d30447-cf51-4e66-b0e1-e6747956a108",
   "metadata": {},
   "outputs": [],
   "source": [
    "p = 1000"
   ]
  },
  {
   "cell_type": "code",
   "execution_count": 3,
   "id": "36a96eb8-b483-4961-aaad-a9d7cfcf5c87",
   "metadata": {},
   "outputs": [],
   "source": [
    "r = 7/100"
   ]
  },
  {
   "cell_type": "code",
   "execution_count": 10,
   "id": "ed841517-c115-46d9-a849-b5cdd24f249c",
   "metadata": {},
   "outputs": [],
   "source": [
    "amount = 0"
   ]
  },
  {
   "cell_type": "code",
   "execution_count": 12,
   "id": "0b05839b-4060-454a-a6a5-4dfbe933d196",
   "metadata": {},
   "outputs": [
    {
     "name": "stdout",
     "output_type": "stream",
     "text": [
      "Amount after 31 year: $1070.00\n",
      "Amount after 31 year: $1144.90\n",
      "Amount after 31 year: $1225.04\n",
      "Amount after 31 year: $1310.80\n",
      "Amount after 31 year: $1402.55\n",
      "Amount after 31 year: $1500.73\n",
      "Amount after 31 year: $1605.78\n",
      "Amount after 31 year: $1718.19\n",
      "Amount after 31 year: $1838.46\n",
      "Amount after 31 year: $1967.15\n",
      "Amount after 31 year: $2104.85\n",
      "Amount after 31 year: $2252.19\n",
      "Amount after 31 year: $2409.85\n",
      "Amount after 31 year: $2578.53\n",
      "Amount after 31 year: $2759.03\n",
      "Amount after 31 year: $2952.16\n",
      "Amount after 31 year: $3158.82\n",
      "Amount after 31 year: $3379.93\n",
      "Amount after 31 year: $3616.53\n",
      "Amount after 31 year: $3869.68\n",
      "Amount after 31 year: $4140.56\n",
      "Amount after 31 year: $4430.40\n",
      "Amount after 31 year: $4740.53\n",
      "Amount after 31 year: $5072.37\n",
      "Amount after 31 year: $5427.43\n",
      "Amount after 31 year: $5807.35\n",
      "Amount after 31 year: $6213.87\n",
      "Amount after 31 year: $6648.84\n",
      "Amount after 31 year: $7114.26\n",
      "Amount after 31 year: $7612.26\n"
     ]
    }
   ],
   "source": [
    "for i in range(1, 31):\n",
    "    amount = p * (1 + r) ** i\n",
    "    print(f'Amount after {counter} year: ${amount:.2f}')"
   ]
  }
 ],
 "metadata": {
  "kernelspec": {
   "display_name": "Python [conda env:base] *",
   "language": "python",
   "name": "conda-base-py"
  },
  "language_info": {
   "codemirror_mode": {
    "name": "ipython",
    "version": 3
   },
   "file_extension": ".py",
   "mimetype": "text/x-python",
   "name": "python",
   "nbconvert_exporter": "python",
   "pygments_lexer": "ipython3",
   "version": "3.13.5"
  }
 },
 "nbformat": 4,
 "nbformat_minor": 5
}
