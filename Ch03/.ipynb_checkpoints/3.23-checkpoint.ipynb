{
 "cells": [
  {
   "cell_type": "code",
   "execution_count": null,
   "id": "b5dbd584-f808-4f50-ab06-06c8fa9f82b4",
   "metadata": {},
   "outputs": [],
   "source": [
    "\"\"\"\n",
    "\n",
    "3.23 (Validating Indentation)  The file validate_indents.py in this chapter’s ch03 examples folder contains the following code with incorrect indentation:\n",
    "grade = 93\n",
    "\n",
    "if grade >= 90:\n",
    "    print('A')\n",
    "  print('Great Job!')\n",
    "   print('Take a break from studying')\n",
    "   \n",
    "The Python Standard Library includes a code indentation validator module named tabnanny, which you can run as a script to check your code for proper indentation—this is one of many \n",
    "static code analysis tools. Execute the following command in the ch03 folder to see the results of analyzing validate_indents.py:\n",
    "python -m tabnanny validate_indents.py\n",
    "\n",
    "Suppose you accidentally aligned the second print statement under the i in the if keyword. What kind of error would that be? Would you expect tabnanny to flag that as an error?\n",
    "\n",
    "\"\"\""
   ]
  },
  {
   "cell_type": "code",
   "execution_count": null,
   "id": "af257b95-4e1c-4824-abba-931a76f383ba",
   "metadata": {},
   "outputs": [],
   "source": [
    "# That would not be an error because of 2nd prind statement because it will be executed after if statement. It will act as next statement of if condition and its suite\n",
    "# No I would expect the tabnanny to flag that as an error but I do expect tabnanny to flag 3rd print statement as an error becuase that 3rd statement would have indentation error."
   ]
  },
  {
   "cell_type": "code",
   "execution_count": 3,
   "id": "320dea32-08c7-468f-ac68-fa7d94e53d09",
   "metadata": {},
   "outputs": [
    {
     "ename": "IndentationError",
     "evalue": "unexpected indent (2556101518.py, line 4)",
     "output_type": "error",
     "traceback": [
      "\u001b[0;36m  Cell \u001b[0;32mIn[3], line 4\u001b[0;36m\u001b[0m\n\u001b[0;31m    print('Take a break from studying')\u001b[0m\n\u001b[0m    ^\u001b[0m\n\u001b[0;31mIndentationError\u001b[0m\u001b[0;31m:\u001b[0m unexpected indent\n"
     ]
    }
   ],
   "source": [
    "if grade >= 90:\n",
    "    print('A')\n",
    "print('Great Job!')\n",
    "   print('Take a break from studying')"
   ]
  },
  {
   "cell_type": "code",
   "execution_count": null,
   "id": "20e5f2a9-0454-4e71-b4c5-5c49adc60e39",
   "metadata": {},
   "outputs": [],
   "source": []
  }
 ],
 "metadata": {
  "kernelspec": {
   "display_name": "Python [conda env:base] *",
   "language": "python",
   "name": "conda-base-py"
  },
  "language_info": {
   "codemirror_mode": {
    "name": "ipython",
    "version": 3
   },
   "file_extension": ".py",
   "mimetype": "text/x-python",
   "name": "python",
   "nbconvert_exporter": "python",
   "pygments_lexer": "ipython3",
   "version": "3.13.5"
  }
 },
 "nbformat": 4,
 "nbformat_minor": 5
}
