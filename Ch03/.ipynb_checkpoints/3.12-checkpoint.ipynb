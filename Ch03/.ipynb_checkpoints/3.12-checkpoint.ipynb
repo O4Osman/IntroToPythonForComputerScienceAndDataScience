{
 "cells": [
  {
   "cell_type": "code",
   "execution_count": null,
   "id": "ca25986d-a681-45ca-9aef-fd41cac10dc5",
   "metadata": {},
   "outputs": [],
   "source": [
    "\"\"\"\n",
    "\n",
    "3.12 (Palindromes)  A palindrome is a number, word or text phrase that reads the same backwards or forwards. For example, \n",
    "each of the following five-digit integers is a palindrome: 12321, 55555, 45554 and 11611. Write a script that reads in a \n",
    "five-digit integer and determines whether it’s a palindrome. [Hint: Use the // and % operators to separate the number into \n",
    "its digits.]\n",
    "\n",
    "\"\"\""
   ]
  },
  {
   "cell_type": "code",
   "execution_count": 47,
   "id": "d396a4e0-3cc4-4652-9768-079034b00244",
   "metadata": {},
   "outputs": [
    {
     "name": "stdin",
     "output_type": "stream",
     "text": [
      "Enter five digits input:  44444\n"
     ]
    }
   ],
   "source": [
    "user_input = int(input('Enter five digits input: '))"
   ]
  },
  {
   "cell_type": "code",
   "execution_count": 48,
   "id": "e83cbb67-ca84-4ab7-8cd1-407e797891eb",
   "metadata": {},
   "outputs": [],
   "source": [
    "# it is used to divide user input and get left most digit and it should of the same length as the number of digits in \n",
    "# user input\n",
    "divider = 10000"
   ]
  },
  {
   "cell_type": "code",
   "execution_count": 49,
   "id": "636d3d17-555a-44ac-be61-94be577a267a",
   "metadata": {},
   "outputs": [
    {
     "name": "stdout",
     "output_type": "stream",
     "text": [
      "The given number is palindrome.\n"
     ]
    }
   ],
   "source": [
    "for i in range(2):\n",
    "    val1 = user_input // divider     # Get the left most digit\n",
    "    user_input %= divider            # Get rid of left most digit\n",
    "    divider /= 100\n",
    "    val2 = user_input % 10           # Get the right most digit\n",
    "    user_input //= 10                # Get rid of right most digit\n",
    "\n",
    "    if val1 != val2:\n",
    "        print('The given number is not palindrome.')\n",
    "        break\n",
    "    if i == 1:\n",
    "        print('The given number is palindrome.')"
   ]
  },
  {
   "cell_type": "code",
   "execution_count": null,
   "id": "cdf0d31e-014d-4e2f-9b0e-acd412beee97",
   "metadata": {},
   "outputs": [],
   "source": []
  }
 ],
 "metadata": {
  "kernelspec": {
   "display_name": "Python [conda env:base] *",
   "language": "python",
   "name": "conda-base-py"
  },
  "language_info": {
   "codemirror_mode": {
    "name": "ipython",
    "version": 3
   },
   "file_extension": ".py",
   "mimetype": "text/x-python",
   "name": "python",
   "nbconvert_exporter": "python",
   "pygments_lexer": "ipython3",
   "version": "3.13.5"
  }
 },
 "nbformat": 4,
 "nbformat_minor": 5
}
