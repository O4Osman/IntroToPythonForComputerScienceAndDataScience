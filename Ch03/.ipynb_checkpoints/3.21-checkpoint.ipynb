{
 "cells": [
  {
   "cell_type": "code",
   "execution_count": null,
   "id": "42c934f6-9d28-41f1-9ae2-abd65fe898cb",
   "metadata": {},
   "outputs": [],
   "source": [
    "\"\"\"\n",
    "\n",
    "3.21 (Calculate Change Using Fewest Number of Coins)  Write a script that inputs a purchase price of a dollar or less for an item. Assume the purchaser pays with a dollar bill. \n",
    "Determine the amount of change the cashier should give back to the purchaser. Display the change using the fewest number of pennies, nickels, dimes and quarters. For example, \n",
    "if the purchaser is due 73 cents in change, the script would output:\n",
    "Your change is:\n",
    "2 quarters\n",
    "2 dimes\n",
    "3 pennies\n",
    "\n",
    "\"\"\""
   ]
  },
  {
   "cell_type": "code",
   "execution_count": 420,
   "id": "0a820e8e-274d-4e14-8a32-fdb02b5a7525",
   "metadata": {},
   "outputs": [],
   "source": [
    "from decimal import Decimal"
   ]
  },
  {
   "cell_type": "code",
   "execution_count": 421,
   "id": "62ae7798-f6a3-44a0-ac01-50e971e6c476",
   "metadata": {},
   "outputs": [
    {
     "name": "stdin",
     "output_type": "stream",
     "text": [
      "Enter the purchase price of the item:  76.84\n"
     ]
    }
   ],
   "source": [
    "purchase_price = input('Enter the purchase price of the item: ')"
   ]
  },
  {
   "cell_type": "code",
   "execution_count": 422,
   "id": "caa631ab-c9e3-444e-abd1-518c9263a0ae",
   "metadata": {},
   "outputs": [
    {
     "name": "stdin",
     "output_type": "stream",
     "text": [
      "Enter the paid dollers:  100\n"
     ]
    }
   ],
   "source": [
    "paid = input('Enter the paid dollers: ')"
   ]
  },
  {
   "cell_type": "code",
   "execution_count": 423,
   "id": "e006c7be-e311-45ab-bd5f-e196c3f3d21e",
   "metadata": {},
   "outputs": [],
   "source": [
    "remeaning = Decimal(paid) - Decimal(purchase_price)"
   ]
  },
  {
   "cell_type": "code",
   "execution_count": 424,
   "id": "c3055389-0bd3-4131-98ec-7e0606b22085",
   "metadata": {},
   "outputs": [],
   "source": [
    "r_dollers = Decimal(remeaning) // Decimal('1')"
   ]
  },
  {
   "cell_type": "code",
   "execution_count": 425,
   "id": "2ba255a3-1059-48ac-937f-c72d84ffad9c",
   "metadata": {},
   "outputs": [],
   "source": [
    "if r_dollers > 0:\n",
    "    remeaning -= Decimal(r_dollers)"
   ]
  },
  {
   "cell_type": "code",
   "execution_count": 426,
   "id": "1099c955-3668-43cc-b2ec-a5fda2c02f4a",
   "metadata": {},
   "outputs": [],
   "source": [
    "r_quaters = Decimal(remeaning) // Decimal('0.25')"
   ]
  },
  {
   "cell_type": "code",
   "execution_count": 427,
   "id": "e316d618-ff79-4c2e-a53a-da2e9b3b5475",
   "metadata": {},
   "outputs": [],
   "source": [
    "if r_quaters > 0:\n",
    "    remeaning -= Decimal(r_quaters) * Decimal('0.25')"
   ]
  },
  {
   "cell_type": "code",
   "execution_count": 428,
   "id": "5aabac01-edb5-4a3d-91fe-6b41b4b67112",
   "metadata": {},
   "outputs": [],
   "source": [
    "r_dimes = Decimal(remeaning) // Decimal('0.10')"
   ]
  },
  {
   "cell_type": "code",
   "execution_count": 429,
   "id": "1fd02833-889e-4596-914d-481a6a811b0b",
   "metadata": {},
   "outputs": [],
   "source": [
    "if r_dimes > 0:\n",
    "    remeaning -= Decimal(r_dimes) * Decimal('0.10')"
   ]
  },
  {
   "cell_type": "code",
   "execution_count": 430,
   "id": "c2fa8be9-5492-4870-815a-f33256d12a2d",
   "metadata": {},
   "outputs": [],
   "source": [
    "r_nickels = Decimal(remeaning) // Decimal('0.05')"
   ]
  },
  {
   "cell_type": "code",
   "execution_count": 431,
   "id": "47bb7448-974e-4548-8ecc-b138e037e672",
   "metadata": {},
   "outputs": [],
   "source": [
    "if r_nickels > 0:\n",
    "    remeaning -= Decimal(r_nickels) * Decimal('0.05')"
   ]
  },
  {
   "cell_type": "code",
   "execution_count": 432,
   "id": "bf61940f-d637-4f4c-a629-d034196ab756",
   "metadata": {},
   "outputs": [],
   "source": [
    "r_pennis = Decimal(remeaning) // Decimal('0.01')"
   ]
  },
  {
   "cell_type": "code",
   "execution_count": 433,
   "id": "09db2086-fa8a-4f36-b90d-a16ba0cdee76",
   "metadata": {},
   "outputs": [],
   "source": [
    "if r_pennis > 0:\n",
    "    remeaning -= Decimal(r_pennis) * Decimal('0.01')"
   ]
  },
  {
   "cell_type": "code",
   "execution_count": 434,
   "id": "e9e1149b-6a02-4629-b3ba-4474fff0c411",
   "metadata": {},
   "outputs": [
    {
     "name": "stdout",
     "output_type": "stream",
     "text": [
      "Your Change is:\n",
      "23 dollars\n",
      "1 dimes\n",
      "1 nickels\n",
      "1 pennies\n"
     ]
    }
   ],
   "source": [
    "print('Your Change is:')\n",
    "\n",
    "if r_dollers > 0:\n",
    "    print(f'{int(r_dollers)} dollars')\n",
    "    \n",
    "if r_quaters > 0:    \n",
    "    print(f'{int(r_quaters)} quaters')\n",
    "\n",
    "if r_dimes > 0:     \n",
    "    print(f'{int(r_dimes)} dimes')\n",
    "\n",
    "if r_nickels > 0:     \n",
    "    print(f'{int(r_nickels)} nickels')\n",
    "\n",
    "if r_pennis > 0:     \n",
    "    print(f'{int(r_pennis)} pennies')"
   ]
  },
  {
   "cell_type": "markdown",
   "id": "e45e4550-8de2-49cc-a0ef-8a5300059ae8",
   "metadata": {},
   "source": [
    "# "
   ]
  }
 ],
 "metadata": {
  "kernelspec": {
   "display_name": "Python [conda env:base] *",
   "language": "python",
   "name": "conda-base-py"
  },
  "language_info": {
   "codemirror_mode": {
    "name": "ipython",
    "version": 3
   },
   "file_extension": ".py",
   "mimetype": "text/x-python",
   "name": "python",
   "nbconvert_exporter": "python",
   "pygments_lexer": "ipython3",
   "version": "3.13.5"
  }
 },
 "nbformat": 4,
 "nbformat_minor": 5
}
