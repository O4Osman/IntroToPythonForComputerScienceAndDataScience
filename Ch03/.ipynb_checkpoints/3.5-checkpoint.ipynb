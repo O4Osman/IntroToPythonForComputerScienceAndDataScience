{
 "cells": [
  {
   "cell_type": "raw",
   "id": "466c0b5a-9d52-423b-93a6-4c2a64a24138",
   "metadata": {},
   "source": [
    "3.5 (if…else Statements)  Reimplement the script of Fig2.1.  using three if…else statements rather than six if statements. [Hint: For example, think of == and != as “opposite” tests.]\n",
    "\n",
    "1 # fig02_01.py\n",
    "2 \"\"\"Comparing integers using if statements and comparison operators.\"\"\"\n",
    "3\n",
    "4 print('Enter two integers, and I will tell you',\n",
    "5       'the relationships they satisfy.')\n",
    "6\n",
    "7 # read first integer\n",
    "8 number1 = int(input('Enter first integer: '))\n",
    "9\n",
    "10 # read second integer\n",
    "11 number2 = int(input('Enter second integer: '))\n",
    "12\n",
    "13 if number1 == number2:\n",
    "14     print(number1, 'is equal to', number2)\n",
    "15\n",
    "16 if number1 != number2:\n",
    "17     print(number1, 'is not equal to', number2)\n",
    "18\n",
    "19 if number1 < number2:\n",
    "20     print(number1, 'is less than', number2)\n",
    "21\n",
    "22 if number1 > number2:\n",
    "23     print(number1, 'is greater than', number2)\n",
    "24\n",
    "25 if number1 <= number2:\n",
    "26     print(number1, 'is less than or equal to', number2)\n",
    "27\n",
    "28 if number1 >= number2:\n",
    "29     print(number1, 'is greater than or equal to', number2)\n"
   ]
  },
  {
   "cell_type": "code",
   "execution_count": 1,
   "id": "ee17ff97-94f1-4eb0-8f96-f25e5f2ed5a3",
   "metadata": {},
   "outputs": [
    {
     "name": "stdout",
     "output_type": "stream",
     "text": [
      "Enter two integers, and I will tell you the relationship they satisfy.\n"
     ]
    }
   ],
   "source": [
    "print('Enter two integers, and I will tell you the relationship they satisfy.')"
   ]
  },
  {
   "cell_type": "code",
   "execution_count": 2,
   "id": "1100802c-a406-45cb-92ea-bacf0d029602",
   "metadata": {},
   "outputs": [
    {
     "name": "stdin",
     "output_type": "stream",
     "text": [
      "Enter first number:  15\n"
     ]
    }
   ],
   "source": [
    "number1 = int(input('Enter first number: '))"
   ]
  },
  {
   "cell_type": "code",
   "execution_count": 4,
   "id": "e1767622-55de-420a-8912-8bd1a65e91f4",
   "metadata": {},
   "outputs": [
    {
     "name": "stdin",
     "output_type": "stream",
     "text": [
      "Enter second number:  54\n"
     ]
    }
   ],
   "source": [
    "number2 = int(input('Enter second number: '))"
   ]
  },
  {
   "cell_type": "code",
   "execution_count": 6,
   "id": "a97aab58-1d23-4a61-9403-c349d8486f3f",
   "metadata": {},
   "outputs": [
    {
     "name": "stdout",
     "output_type": "stream",
     "text": [
      "15 is not equal to 54\n"
     ]
    }
   ],
   "source": [
    "if number1 == number2:\n",
    "    print(number1, 'is equal to', number2)\n",
    "else:\n",
    "    print(number1, 'is not equal to', number2)"
   ]
  },
  {
   "cell_type": "code",
   "execution_count": 8,
   "id": "60d2bb20-5ba1-47fd-b61a-c45623a86684",
   "metadata": {},
   "outputs": [
    {
     "name": "stdout",
     "output_type": "stream",
     "text": [
      "15 is less than 54\n"
     ]
    }
   ],
   "source": [
    "if number1 < number2:\n",
    "    print(number1, 'is less than', number2)\n",
    "else:\n",
    "    print(number1, 'is greater then', number2)"
   ]
  },
  {
   "cell_type": "code",
   "execution_count": 9,
   "id": "3581339c-0477-45e1-80c3-2d54d93fc819",
   "metadata": {},
   "outputs": [
    {
     "name": "stdout",
     "output_type": "stream",
     "text": [
      "15 is less than or equal to 54\n"
     ]
    }
   ],
   "source": [
    "if number1 <= number2:\n",
    "    print(number1, 'is less than or equal to', number2)\n",
    "else:\n",
    "    print(number1, 'is greater than or equal to', number2)"
   ]
  }
 ],
 "metadata": {
  "kernelspec": {
   "display_name": "Python [conda env:base] *",
   "language": "python",
   "name": "conda-base-py"
  },
  "language_info": {
   "codemirror_mode": {
    "name": "ipython",
    "version": 3
   },
   "file_extension": ".py",
   "mimetype": "text/x-python",
   "name": "python",
   "nbconvert_exporter": "python",
   "pygments_lexer": "ipython3",
   "version": "3.13.5"
  }
 },
 "nbformat": 4,
 "nbformat_minor": 5
}
