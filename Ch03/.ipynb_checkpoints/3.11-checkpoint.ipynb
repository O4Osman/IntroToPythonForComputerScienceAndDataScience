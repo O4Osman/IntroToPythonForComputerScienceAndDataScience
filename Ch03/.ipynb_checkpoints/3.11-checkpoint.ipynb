{
 "cells": [
  {
   "cell_type": "code",
   "execution_count": null,
   "id": "233b95db-fc5a-45e1-aa91-9f0a7f7a6eb0",
   "metadata": {},
   "outputs": [],
   "source": [
    "\"\"\"\n",
    "\n",
    "3.11 (Miles Per Gallon)  Drivers are concerned with the mileage obtained by their automobiles. One driver has kept track \n",
    "of several tankfuls of gasoline by recording miles driven and gallons used for each tankful. Develop a \n",
    "sentinel-controlled-repetition script that prompts the user to input the miles driven and gallons used for each tankful. \n",
    "The script should calculate and display the miles per gallon obtained for each tankful. After processing all input \n",
    "information, the script should calculate and display the combined miles per gallon obtained for all tankfuls \n",
    "(that is, total miles driven divided by total gallons used).\n",
    "\n",
    "Enter the gallons used (-1 to end): 12.8\n",
    "Enter the miles driven: 287\n",
    "The miles/gallon for this tank was 22.421875\n",
    "Enter the gallons used (-1 to end): 10.3\n",
    "Enter the miles driven: 200\n",
    "The miles/gallon for this tank was 19.417475\n",
    "Enter the gallons used (-1 to end): 5\n",
    "Enter the miles driven: 120\n",
    "The miles/gallon for this tank was 24.000000\n",
    "Enter the gallons used (-1 to end): -1\n",
    "The overall average miles/gallon was 21.601423\n",
    "\n",
    "\"\"\""
   ]
  },
  {
   "cell_type": "code",
   "execution_count": 25,
   "id": "6c5e8077-0695-4379-b296-ea2812940634",
   "metadata": {},
   "outputs": [],
   "source": [
    "total_gallons = 0"
   ]
  },
  {
   "cell_type": "code",
   "execution_count": 26,
   "id": "ce51a3c3-ed4a-4fc4-b4e0-20aea3c0f04d",
   "metadata": {},
   "outputs": [],
   "source": [
    "total_miles = 0"
   ]
  },
  {
   "cell_type": "code",
   "execution_count": 28,
   "id": "387410a6-ad4e-49e8-a2ed-03be91cb2d71",
   "metadata": {},
   "outputs": [
    {
     "name": "stdin",
     "output_type": "stream",
     "text": [
      "Enter the gallon use (-1 to end):  12.8\n"
     ]
    }
   ],
   "source": [
    "gallons = float(input('Enter the gallon use (-1 to end): '))"
   ]
  },
  {
   "cell_type": "code",
   "execution_count": 29,
   "id": "ae7f0f0b-8ba3-4f65-8ce8-0142efe76315",
   "metadata": {},
   "outputs": [
    {
     "name": "stdin",
     "output_type": "stream",
     "text": [
      "Enter the miles driven:  287\n"
     ]
    },
    {
     "name": "stdout",
     "output_type": "stream",
     "text": [
      "The miles/gallons for this tank was 22.421875\n"
     ]
    },
    {
     "name": "stdin",
     "output_type": "stream",
     "text": [
      "Enter the gallon use (-1 to end):  10.3\n",
      "Enter the miles driven:  200\n"
     ]
    },
    {
     "name": "stdout",
     "output_type": "stream",
     "text": [
      "The miles/gallons for this tank was 19.417476\n"
     ]
    },
    {
     "name": "stdin",
     "output_type": "stream",
     "text": [
      "Enter the gallon use (-1 to end):  5\n",
      "Enter the miles driven:  120\n"
     ]
    },
    {
     "name": "stdout",
     "output_type": "stream",
     "text": [
      "The miles/gallons for this tank was 24.000000\n"
     ]
    },
    {
     "name": "stdin",
     "output_type": "stream",
     "text": [
      "Enter the gallon use (-1 to end):  -1\n"
     ]
    }
   ],
   "source": [
    "\n",
    "while gallons != -1:\n",
    "    miles = float(input('Enter the miles driven: '))\n",
    "    total_gallons += gallons\n",
    "    total_miles += miles\n",
    "    current_cal = miles / gallons\n",
    "    print(f'The miles/gallons for this tank was {current_cal:.6f}')\n",
    "    gallons = float(input('Enter the gallon use (-1 to end): '))"
   ]
  },
  {
   "cell_type": "code",
   "execution_count": 30,
   "id": "3b52fe99-b786-4f36-bab6-f476379889c4",
   "metadata": {},
   "outputs": [],
   "source": [
    "overall_total = total_miles / total_gallons"
   ]
  },
  {
   "cell_type": "code",
   "execution_count": 31,
   "id": "b3bd3ab1-71bd-4a74-b698-75f06c216739",
   "metadata": {},
   "outputs": [
    {
     "name": "stdout",
     "output_type": "stream",
     "text": [
      "The overall average miles/gallons was 21.601423\n"
     ]
    }
   ],
   "source": [
    "print(f'The overall average miles/gallons was {overall_total:.6f}')"
   ]
  }
 ],
 "metadata": {
  "kernelspec": {
   "display_name": "Python [conda env:base] *",
   "language": "python",
   "name": "conda-base-py"
  },
  "language_info": {
   "codemirror_mode": {
    "name": "ipython",
    "version": 3
   },
   "file_extension": ".py",
   "mimetype": "text/x-python",
   "name": "python",
   "nbconvert_exporter": "python",
   "pygments_lexer": "ipython3",
   "version": "3.13.5"
  }
 },
 "nbformat": 4,
 "nbformat_minor": 5
}
