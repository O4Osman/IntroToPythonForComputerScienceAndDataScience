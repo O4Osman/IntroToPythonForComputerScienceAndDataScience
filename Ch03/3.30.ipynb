{
 "cells": [
  {
   "cell_type": "code",
   "execution_count": null,
   "id": "5a054799-76e1-401f-9752-ba12a0ee734c",
   "metadata": {},
   "outputs": [],
   "source": [
    "\"\"\"\n",
    "\n",
    "3.30 (Intro to Data Science: Outliers)  In statistics, outliers are values out of the ordinary and possibly way out of the ordinary. Sometimes, outliers are simply bad data. \n",
    "In the data science case studies, we’ll see that outliers can distort results. Which of the three measures of central tendency we discussed—mean, median and mode—is most affected by \n",
    "outliers? Why? Which of these measures are not affected or least affected? Why?\n",
    "\n",
    "\"\"\""
   ]
  },
  {
   "cell_type": "code",
   "execution_count": null,
   "id": "d4edba0d-9bfc-4fa2-9b4b-aea683d5d7e8",
   "metadata": {},
   "outputs": [],
   "source": [
    "# Mean can the one which is most affected by outliers because mean depends on sum of all the values and count of values. So if outliers can affact mean of the data-set mostly.\n",
    "# Mode can be 2nd in the list of most affected by outliers becuase if there are more then one outliers then mode can be affected.\n",
    "# Median can be last in the list as it is middle of the sorted data-set so it is dependent on position not the value."
   ]
  }
 ],
 "metadata": {
  "kernelspec": {
   "display_name": "Python [conda env:base] *",
   "language": "python",
   "name": "conda-base-py"
  },
  "language_info": {
   "codemirror_mode": {
    "name": "ipython",
    "version": 3
   },
   "file_extension": ".py",
   "mimetype": "text/x-python",
   "name": "python",
   "nbconvert_exporter": "python",
   "pygments_lexer": "ipython3",
   "version": "3.13.5"
  }
 },
 "nbformat": 4,
 "nbformat_minor": 5
}
