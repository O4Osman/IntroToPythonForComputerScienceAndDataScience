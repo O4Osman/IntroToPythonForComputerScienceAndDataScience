{
 "cells": [
  {
   "cell_type": "code",
   "execution_count": null,
   "id": "c6274bcf-ccbd-4d53-a861-25cf8808ba2c",
   "metadata": {},
   "outputs": [],
   "source": [
    "\"\"\"\n",
    "\n",
    "3.7 (Table of Squares and Cubes)  In Exercise 2.8, you wrote a script to calculate the squares and cubes of the numbers from 0 \n",
    "through 5, then printed the resulting values in table format. Reimplement your script using a for loop and the f-string \n",
    "capabilities you learned in this chapter to produce the following table with the numbers right aligned in each column.\n",
    "\n",
    "Ch03/table.png\n",
    "\n",
    "\"\"\""
   ]
  },
  {
   "cell_type": "code",
   "execution_count": 4,
   "id": "aa74a4b9-d018-409b-8b4d-dcc79acb811d",
   "metadata": {},
   "outputs": [
    {
     "name": "stdout",
     "output_type": "stream",
     "text": [
      "number\tsquare\tcube\n",
      "     0\t     0\t   0\n",
      "     1\t     1\t   1\n",
      "     2\t     4\t   8\n",
      "     3\t     9\t  27\n",
      "     4\t    16\t  64\n",
      "     5\t    25\t 125\n"
     ]
    }
   ],
   "source": [
    "print('number\\tsquare\\tcube')\n",
    "for i in range(6):\n",
    "    print(f'{i:>6}\\t{i * i:>6}\\t{ i * i * i:>4}')"
   ]
  }
 ],
 "metadata": {
  "kernelspec": {
   "display_name": "Python [conda env:base] *",
   "language": "python",
   "name": "conda-base-py"
  },
  "language_info": {
   "codemirror_mode": {
    "name": "ipython",
    "version": 3
   },
   "file_extension": ".py",
   "mimetype": "text/x-python",
   "name": "python",
   "nbconvert_exporter": "python",
   "pygments_lexer": "ipython3",
   "version": "3.13.5"
  }
 },
 "nbformat": 4,
 "nbformat_minor": 5
}
