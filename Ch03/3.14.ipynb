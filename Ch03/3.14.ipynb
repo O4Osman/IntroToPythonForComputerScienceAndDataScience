{
 "cells": [
  {
   "cell_type": "code",
   "execution_count": 1099,
   "id": "e6c50c5d-4606-4957-ba61-48f162d1b137",
   "metadata": {},
   "outputs": [
    {
     "data": {
      "text/plain": [
       "'\\n\\n3.14 (Challenge: Approximating the Mathematical Constant π)  Write a script that computes the value of  π from the \\nfollowing infinite series. Print a table that shows the value of  π approximated by one term of this series, by two terms, \\nby three terms, and so on. How many terms of this series do you have to use before you first get \\n3.14? 3.141? 3.1415? 3.14159?\\n\\nCh03/pi.png\\n\\n'"
      ]
     },
     "execution_count": 1099,
     "metadata": {},
     "output_type": "execute_result"
    }
   ],
   "source": [
    "\"\"\"\n",
    "\n",
    "3.14 (Challenge: Approximating the Mathematical Constant π)  Write a script that computes the value of  π from the \n",
    "following infinite series. Print a table that shows the value of  π approximated by one term of this series, by two terms, \n",
    "by three terms, and so on. How many terms of this series do you have to use before you first get \n",
    "3.14? 3.141? 3.1415? 3.14159?\n",
    "\n",
    "Ch03/pi.png\n",
    "\n",
    "\"\"\""
   ]
  },
  {
   "cell_type": "code",
   "execution_count": 1100,
   "id": "69affbe3-4103-43ec-aa80-f44138db100a",
   "metadata": {},
   "outputs": [],
   "source": [
    "terms = 0"
   ]
  },
  {
   "cell_type": "code",
   "execution_count": 1101,
   "id": "85a62132-4fc9-4b46-8641-94c12feb5f81",
   "metadata": {},
   "outputs": [],
   "source": [
    "is_positive = True"
   ]
  },
  {
   "cell_type": "code",
   "execution_count": 1102,
   "id": "fd6c1650-596b-4f15-854c-86462de76624",
   "metadata": {},
   "outputs": [],
   "source": [
    "pi = 0"
   ]
  },
  {
   "cell_type": "code",
   "execution_count": 1103,
   "id": "4ff78978-92dc-4662-8ac4-8df252fc3cf5",
   "metadata": {},
   "outputs": [
    {
     "name": "stdout",
     "output_type": "stream",
     "text": [
      "To get first 3.14 I had to use 152 terms of this series.\n"
     ]
    }
   ],
   "source": [
    "for i in range(1, 400, 2):\n",
    "    \n",
    "    if is_positive:\n",
    "        pi += 4 / i\n",
    "        is_positive = False\n",
    "    else:\n",
    "        pi -= 4 / i\n",
    "        is_positive = True\n",
    "\n",
    "    terms += 1\n",
    "\n",
    "    if(f'{pi:.2f}' == '3.14'):\n",
    "        print(f'To get first 3.14 I had to use {terms} terms of this series.')\n",
    "        break\n",
    "        "
   ]
  },
  {
   "cell_type": "code",
   "execution_count": 1104,
   "id": "740697b2-4d01-48b0-bb8b-82cbd4fe0f69",
   "metadata": {},
   "outputs": [],
   "source": [
    "terms = 0"
   ]
  },
  {
   "cell_type": "code",
   "execution_count": 1105,
   "id": "1b986521-1007-4f91-bc1f-9878d5975950",
   "metadata": {},
   "outputs": [],
   "source": [
    "is_positive = True"
   ]
  },
  {
   "cell_type": "code",
   "execution_count": 1106,
   "id": "23c327c6-4b62-4f84-b5a2-f18719cd62d8",
   "metadata": {},
   "outputs": [],
   "source": [
    "pi = 0"
   ]
  },
  {
   "cell_type": "code",
   "execution_count": 1107,
   "id": "ed1f2d96-1410-4e21-b460-a334a49ecbaf",
   "metadata": {},
   "outputs": [
    {
     "name": "stdout",
     "output_type": "stream",
     "text": [
      "To get first 3.141 I had to use 916 terms of this series.\n"
     ]
    }
   ],
   "source": [
    "for i in range(1, 1900, 2):\n",
    "    if is_positive:\n",
    "        pi += 4 / i\n",
    "        is_positive = False\n",
    "        terms += 1\n",
    "    else:\n",
    "        pi -= 4 / i\n",
    "        is_positive = True\n",
    "        terms += 1\n",
    "    if(f'{pi:.3f}' == '3.141'):\n",
    "        print(f'To get first 3.141 I had to use {terms} terms of this series.')\n",
    "        break"
   ]
  },
  {
   "cell_type": "code",
   "execution_count": 1108,
   "id": "a970c36a-c6ec-46bc-8bdc-54ad2c99b33d",
   "metadata": {},
   "outputs": [],
   "source": [
    "terms = 0"
   ]
  },
  {
   "cell_type": "code",
   "execution_count": 1109,
   "id": "5046a651-8f0b-4b73-b909-da5273552336",
   "metadata": {},
   "outputs": [],
   "source": [
    "is_positive = True"
   ]
  },
  {
   "cell_type": "code",
   "execution_count": 1110,
   "id": "56d92333-25d6-4dac-b5f1-777ee90a4073",
   "metadata": {},
   "outputs": [],
   "source": [
    "pi = 0"
   ]
  },
  {
   "cell_type": "code",
   "execution_count": 1111,
   "id": "237fe29a-c4bf-4f4e-8eac-1778681abf4b",
   "metadata": {},
   "outputs": [
    {
     "name": "stdout",
     "output_type": "stream",
     "text": [
      "To get first 3.1415 I had to use 7010 terms of this series.\n"
     ]
    }
   ],
   "source": [
    "for i in range(1, 15000, 2):\n",
    "    if is_positive:\n",
    "        pi += 4 / i\n",
    "        is_positive = False\n",
    "        terms += 1\n",
    "    else:\n",
    "        pi -= 4 / i\n",
    "        is_positive = True\n",
    "        terms += 1\n",
    "    if(f'{pi:.4f}' == '3.1415'):\n",
    "        print(f'To get first 3.1415 I had to use {terms} terms of this series.')\n",
    "        break"
   ]
  },
  {
   "cell_type": "code",
   "execution_count": 1112,
   "id": "4941bcf3-8839-4b19-ab58-986ec8bdf7fa",
   "metadata": {},
   "outputs": [],
   "source": [
    "terms = 0"
   ]
  },
  {
   "cell_type": "code",
   "execution_count": 1113,
   "id": "a293491d-3028-429e-ba9c-e0f19cd74c35",
   "metadata": {},
   "outputs": [],
   "source": [
    "is_positive = True"
   ]
  },
  {
   "cell_type": "code",
   "execution_count": 1114,
   "id": "8588b64a-6cc5-48e3-a13e-d4e4046392be",
   "metadata": {},
   "outputs": [],
   "source": [
    "pi = 0"
   ]
  },
  {
   "cell_type": "code",
   "execution_count": 1115,
   "id": "dbc04549-1504-45e1-91a4-6b5b5b736d42",
   "metadata": {},
   "outputs": [
    {
     "name": "stdout",
     "output_type": "stream",
     "text": [
      "To get first 3.14159 I had to use 130658 terms of this series.\n"
     ]
    }
   ],
   "source": [
    "for i in range(1, 300000, 2):\n",
    "    if is_positive:\n",
    "        pi += 4 / i\n",
    "        is_positive = False\n",
    "        terms += 1\n",
    "    else:\n",
    "        pi -= 4 / i\n",
    "        is_positive = True\n",
    "        terms += 1\n",
    "    if(f'{pi:.5f}' == '3.14159'):\n",
    "        print(f'To get first 3.14159 I had to use {terms} terms of this series.')\n",
    "        break"
   ]
  }
 ],
 "metadata": {
  "kernelspec": {
   "display_name": "Python [conda env:base] *",
   "language": "python",
   "name": "conda-base-py"
  },
  "language_info": {
   "codemirror_mode": {
    "name": "ipython",
    "version": 3
   },
   "file_extension": ".py",
   "mimetype": "text/x-python",
   "name": "python",
   "nbconvert_exporter": "python",
   "pygments_lexer": "ipython3",
   "version": "3.13.5"
  }
 },
 "nbformat": 4,
 "nbformat_minor": 5
}
