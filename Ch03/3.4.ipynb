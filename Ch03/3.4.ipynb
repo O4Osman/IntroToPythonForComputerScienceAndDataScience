{
 "cells": [
  {
   "cell_type": "raw",
   "id": "2f7e2b43-0f1a-42e0-b935-e1cc2d3a844b",
   "metadata": {},
   "source": [
    "\"\"\"\n",
    "\n",
    "3.4 (Fill in the Missing Code)  In the code below\n",
    "for ***:\n",
    "    for ***:\n",
    "        print('@')\n",
    "    print()\n",
    "replace the *** so that when you execute the code, it displays two rows, each containing seven @ symbols, as in:\n",
    "@@@@@@@\n",
    "@@@@@@@\n",
    "\n",
    "\"\"\""
   ]
  },
  {
   "cell_type": "code",
   "execution_count": 4,
   "id": "1537dc64-5602-4e21-8138-133514578f57",
   "metadata": {},
   "outputs": [
    {
     "name": "stdout",
     "output_type": "stream",
     "text": [
      "@@@@@@@\n",
      "@@@@@@@\n"
     ]
    }
   ],
   "source": [
    "for row in range(2):\n",
    "    for column in range(7):\n",
    "        print('@', end='')\n",
    "    print()"
   ]
  },
  {
   "cell_type": "code",
   "execution_count": null,
   "id": "3a83bc13-5a52-40da-840a-97f06cdbfd02",
   "metadata": {},
   "outputs": [],
   "source": []
  }
 ],
 "metadata": {
  "kernelspec": {
   "display_name": "Python [conda env:base] *",
   "language": "python",
   "name": "conda-base-py"
  },
  "language_info": {
   "codemirror_mode": {
    "name": "ipython",
    "version": 3
   },
   "file_extension": ".py",
   "mimetype": "text/x-python",
   "name": "python",
   "nbconvert_exporter": "python",
   "pygments_lexer": "ipython3",
   "version": "3.13.5"
  }
 },
 "nbformat": 4,
 "nbformat_minor": 5
}
