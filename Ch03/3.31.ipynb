{
 "cells": [
  {
   "cell_type": "code",
   "execution_count": null,
   "id": "b09b02cd-98d0-4542-b5e5-330872efd111",
   "metadata": {},
   "outputs": [],
   "source": [
    "\"\"\"\n",
    "\n",
    "3.31 (Intro to Data Science: Categorical Data) Mean, median and mode work well with numerical values. You can use them in calculations and arrange them in meaningful order. \n",
    "Categorical values are descriptive names like Boxer, Poodle, Collie, Beagle, Bulldog and Chihuahua. Normally, you don’t use these in calculations nor associate an order with them. \n",
    "Which if any of the descriptive statistics are appropriate for categorical data?\n",
    "\n",
    "\n",
    "\"\"\""
   ]
  },
  {
   "cell_type": "code",
   "execution_count": null,
   "id": "5d68f776-2e94-4a48-b27e-7cbfef96e282",
   "metadata": {},
   "outputs": [],
   "source": [
    "# We cannot calculate mean and median on descriptive data-set but we can find mode of descriptive data-set which can tell us which category appears more frequently."
   ]
  }
 ],
 "metadata": {
  "kernelspec": {
   "display_name": "Python [conda env:base] *",
   "language": "python",
   "name": "conda-base-py"
  },
  "language_info": {
   "codemirror_mode": {
    "name": "ipython",
    "version": 3
   },
   "file_extension": ".py",
   "mimetype": "text/x-python",
   "name": "python",
   "nbconvert_exporter": "python",
   "pygments_lexer": "ipython3",
   "version": "3.13.5"
  }
 },
 "nbformat": 4,
 "nbformat_minor": 5
}
