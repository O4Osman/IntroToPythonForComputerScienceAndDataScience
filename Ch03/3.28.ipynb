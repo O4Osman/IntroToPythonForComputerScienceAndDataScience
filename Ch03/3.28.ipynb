{
 "cells": [
  {
   "cell_type": "code",
   "execution_count": null,
   "id": "375fb23e-a869-44cf-83c3-1b305d84736e",
   "metadata": {},
   "outputs": [],
   "source": [
    "\"\"\"\n",
    "\n",
    "3.28 (Intro to Data Science: Mean, Median and Mode)  Calculate the mean, median and mode of the values 9, 11, 22, 34, 17, 22, 34, 22 and 40. Suppose the values included another 34. \n",
    "What problem might occur?\n",
    "\n",
    "\"\"\""
   ]
  },
  {
   "cell_type": "code",
   "execution_count": 1,
   "id": "cd9a2350-8159-45f4-8b62-0f528139e877",
   "metadata": {},
   "outputs": [],
   "source": [
    "import statistics"
   ]
  },
  {
   "cell_type": "code",
   "execution_count": 2,
   "id": "8c72f5ad-fc0a-4e35-9089-a00c3690e0e5",
   "metadata": {},
   "outputs": [],
   "source": [
    "values = [9, 11, 22, 34, 17, 22, 34, 22, 40] # 9 11 17 22 22 22 34 34 34 40"
   ]
  },
  {
   "cell_type": "code",
   "execution_count": 3,
   "id": "a0c65e4f-ba82-47b0-b703-486622b2cd4b",
   "metadata": {},
   "outputs": [],
   "source": [
    "mean = statistics.mean(values)"
   ]
  },
  {
   "cell_type": "code",
   "execution_count": 4,
   "id": "da0fbc0b-d7f6-4ab4-848e-d401c82053f9",
   "metadata": {},
   "outputs": [],
   "source": [
    "median = statistics.median(values)"
   ]
  },
  {
   "cell_type": "code",
   "execution_count": 5,
   "id": "34904336-efa3-448c-9505-76ae0daaabd0",
   "metadata": {},
   "outputs": [],
   "source": [
    "mode = statistics.mode(values)"
   ]
  },
  {
   "cell_type": "code",
   "execution_count": 7,
   "id": "b3809eab-d51c-4769-8088-b6f8dbe74073",
   "metadata": {},
   "outputs": [
    {
     "name": "stdout",
     "output_type": "stream",
     "text": [
      "Mean: 23.444444444444443 | Median: 22 | Mode: 22\n"
     ]
    }
   ],
   "source": [
    "print(f'Mean: {mean} | Median: {median} | Mode: {mode}')"
   ]
  },
  {
   "cell_type": "code",
   "execution_count": 8,
   "id": "fa63db92-6442-4492-bf09-ce70fb1559be",
   "metadata": {},
   "outputs": [],
   "source": [
    "# If a value of 34 is added in the given values then mode will give StatisticsError because there are 2 values which have same frequence 3 of 22 and 3 of 34 so mode give an error."
   ]
  }
 ],
 "metadata": {
  "kernelspec": {
   "display_name": "Python [conda env:base] *",
   "language": "python",
   "name": "conda-base-py"
  },
  "language_info": {
   "codemirror_mode": {
    "name": "ipython",
    "version": 3
   },
   "file_extension": ".py",
   "mimetype": "text/x-python",
   "name": "python",
   "nbconvert_exporter": "python",
   "pygments_lexer": "ipython3",
   "version": "3.13.5"
  }
 },
 "nbformat": 4,
 "nbformat_minor": 5
}
