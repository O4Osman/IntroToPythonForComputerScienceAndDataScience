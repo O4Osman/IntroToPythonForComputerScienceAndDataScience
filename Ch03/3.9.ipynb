{
 "cells": [
  {
   "cell_type": "code",
   "execution_count": null,
   "id": "b90e355c-030b-49f2-a506-9a79bf4c036a",
   "metadata": {},
   "outputs": [],
   "source": [
    "\"\"\"\n",
    "\n",
    "3.9 (Separating the Digits in an Integer)  In Exercise 2.11, you wrote a script that separated a five-digit integer into \n",
    "its individual digits and displayed them. Reimplement your script to use a loop that in each iteration “picks off” one \n",
    "digit (left to right) using the // and % operators, then displays that digit.\n",
    "\n",
    "\"\"\""
   ]
  },
  {
   "cell_type": "code",
   "execution_count": 57,
   "id": "75928fa1-3d2b-4c9e-8f79-79725514f182",
   "metadata": {},
   "outputs": [
    {
     "name": "stdin",
     "output_type": "stream",
     "text": [
      "Enter a 5 digit value:  12321\n"
     ]
    }
   ],
   "source": [
    "user_ip = int(input('Enter a 5 digit value: '))"
   ]
  },
  {
   "cell_type": "code",
   "execution_count": 58,
   "id": "ad4a34b3-0b9e-425f-b183-def5e5da3c5b",
   "metadata": {},
   "outputs": [],
   "source": [
    "divider = 10000 # it must of same number of digits as user input value digits"
   ]
  },
  {
   "cell_type": "code",
   "execution_count": 59,
   "id": "a7f389f4-2de4-49d3-897d-cc4420550a14",
   "metadata": {},
   "outputs": [
    {
     "name": "stdout",
     "output_type": "stream",
     "text": [
      "1   2   3   2   1   "
     ]
    }
   ],
   "source": [
    "for i in range(1, 6):\n",
    "    value = user_ip // divider             # to get left most digit\n",
    "    user_ip %= divider                     # to get rid of left most digit\n",
    "    divider /= 10                          # to make it same number of digits as of user input value\n",
    "    print(int(value), '  ', end='')"
   ]
  },
  {
   "cell_type": "code",
   "execution_count": null,
   "id": "f478ca52-1ee8-49b2-923c-f5ea2cb9711e",
   "metadata": {},
   "outputs": [],
   "source": []
  }
 ],
 "metadata": {
  "kernelspec": {
   "display_name": "Python [conda env:base] *",
   "language": "python",
   "name": "conda-base-py"
  },
  "language_info": {
   "codemirror_mode": {
    "name": "ipython",
    "version": 3
   },
   "file_extension": ".py",
   "mimetype": "text/x-python",
   "name": "python",
   "nbconvert_exporter": "python",
   "pygments_lexer": "ipython3",
   "version": "3.13.5"
  }
 },
 "nbformat": 4,
 "nbformat_minor": 5
}
