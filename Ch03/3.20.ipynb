{
 "cells": [
  {
   "cell_type": "code",
   "execution_count": null,
   "id": "239f2f32-8e46-49dc-82bb-21c0f7b90c7f",
   "metadata": {},
   "outputs": [],
   "source": [
    "\"\"\"\n",
    "\n",
    "3.20 (Binary-to-Decimal Conversion)  Input an integer containing 0s and 1s (i.e., a “binary” integer) and display its decimal equivalent. The online appendix, “Number Systems,” \n",
    "discusses the binary number system. [Hint: Use the modulus and division operators to pick off the “binary” number’s digits one at a time from right to left. Just as in the \n",
    "decimal number system, where the rightmost digit has the positional value 1 and the next digit to the left has the positional value 10, then 100, then 1000, etc., in the \n",
    "binary number system, the rightmost digit has the positional value 1, the next digit to the left has the positional value 2, then 4, then 8, etc. Thus, the decimal number \n",
    "234 can be interpreted as 2 * 100 + 3 * 10 + 4 * 1. The decimal equivalent of binary 1101 is 1 * 8 + 1 * 4 + 0 * 2 + 1 * 1.]\n",
    "\n",
    "\"\"\""
   ]
  },
  {
   "cell_type": "code",
   "execution_count": 62,
   "id": "06a9625d-ce5b-4842-ba04-c6a3c50fc9e3",
   "metadata": {},
   "outputs": [
    {
     "name": "stdin",
     "output_type": "stream",
     "text": [
      "Enter the binary value:  11111111\n"
     ]
    }
   ],
   "source": [
    "value = int(input('Enter the binary value: '))"
   ]
  },
  {
   "cell_type": "code",
   "execution_count": 63,
   "id": "5ae14ba5-59d0-47d2-807f-a1457b04c6a5",
   "metadata": {},
   "outputs": [],
   "source": [
    "decimal_value = 0"
   ]
  },
  {
   "cell_type": "code",
   "execution_count": 64,
   "id": "0d24ba7c-46b5-4b4a-a244-9afc69752750",
   "metadata": {},
   "outputs": [],
   "source": [
    "positional_value = 1"
   ]
  },
  {
   "cell_type": "code",
   "execution_count": 65,
   "id": "3f702f58-8363-47f4-9dc5-040972614bc7",
   "metadata": {},
   "outputs": [],
   "source": [
    "while True:\n",
    "    left_most_value = value % 10\n",
    "    value //= 10\n",
    "    decimal_value += left_most_value * positional_value\n",
    "    positional_value += positional_value\n",
    "    \n",
    "    if value <= 0:\n",
    "        break\n",
    "        "
   ]
  },
  {
   "cell_type": "code",
   "execution_count": 66,
   "id": "28b1a36b-dbf5-45d1-ba42-c7fc8b8c9059",
   "metadata": {},
   "outputs": [
    {
     "name": "stdout",
     "output_type": "stream",
     "text": [
      "Decimal value of given binary value is: 255\n"
     ]
    }
   ],
   "source": [
    "print(f'Decimal value of given binary value is: {decimal_value}')"
   ]
  }
 ],
 "metadata": {
  "kernelspec": {
   "display_name": "Python [conda env:base] *",
   "language": "python",
   "name": "conda-base-py"
  },
  "language_info": {
   "codemirror_mode": {
    "name": "ipython",
    "version": 3
   },
   "file_extension": ".py",
   "mimetype": "text/x-python",
   "name": "python",
   "nbconvert_exporter": "python",
   "pygments_lexer": "ipython3",
   "version": "3.13.5"
  }
 },
 "nbformat": 4,
 "nbformat_minor": 5
}
