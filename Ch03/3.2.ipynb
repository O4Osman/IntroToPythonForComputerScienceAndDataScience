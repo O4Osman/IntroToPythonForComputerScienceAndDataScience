{
 "cells": [
  {
   "cell_type": "raw",
   "id": "b47a3ba4-429c-4db0-87b5-44f214162c03",
   "metadata": {},
   "source": [
    "\"\"\"\n",
    "\n",
    "3.2 (What’s Wrong with This Code?)  What is wrong with the following code?\n",
    "a = b = 7\n",
    "print('a =', a, '\\nb =', b)\n",
    "First, answer the question, then check your work in an IPython session.\n",
    "\n",
    "\"\"\""
   ]
  },
  {
   "cell_type": "code",
   "execution_count": 4,
   "id": "25abf82e-945a-447f-b6b2-3cd58e58007a",
   "metadata": {},
   "outputs": [],
   "source": [
    "# Nothing is wrong with this code"
   ]
  },
  {
   "cell_type": "code",
   "execution_count": 5,
   "id": "1a72009f-baaa-454d-b88d-53e57226292a",
   "metadata": {},
   "outputs": [],
   "source": [
    "a = b = 7"
   ]
  },
  {
   "cell_type": "code",
   "execution_count": 6,
   "id": "94b46ea6-2157-40e8-ad05-9b11631c83b5",
   "metadata": {},
   "outputs": [
    {
     "name": "stdout",
     "output_type": "stream",
     "text": [
      "a = 7 \n",
      "b = 7\n"
     ]
    }
   ],
   "source": [
    "print('a =', a, '\\nb =', b)"
   ]
  }
 ],
 "metadata": {
  "kernelspec": {
   "display_name": "Python [conda env:base] *",
   "language": "python",
   "name": "conda-base-py"
  },
  "language_info": {
   "codemirror_mode": {
    "name": "ipython",
    "version": 3
   },
   "file_extension": ".py",
   "mimetype": "text/x-python",
   "name": "python",
   "nbconvert_exporter": "python",
   "pygments_lexer": "ipython3",
   "version": "3.13.5"
  }
 },
 "nbformat": 4,
 "nbformat_minor": 5
}
