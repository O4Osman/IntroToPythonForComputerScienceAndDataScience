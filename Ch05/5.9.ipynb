{
 "cells": [
  {
   "cell_type": "code",
   "execution_count": null,
   "id": "e6e3424c-36ed-4cb2-a309-64faf5c57ed5",
   "metadata": {},
   "outputs": [],
   "source": [
    "\"\"\"\n",
    "\n",
    "5.9 (Palindrome Tester) A string that’s spelled identically backward and forward, like 'radar', is a palindrome. \n",
    "Write a function is_palindrome that takes a string and returns True if it’s a palindrome and False otherwise. \n",
    "Use a stack (simulated with a list as we did in Section 5.11) to help determine whether a string is a palindrome. \n",
    "Your function should ignore case sensitivity (that is, 'a' and 'A' are the same), spaces and punctuation.\n",
    "\n",
    "\"\"\""
   ]
  },
  {
   "cell_type": "code",
   "execution_count": 226,
   "id": "b20ce064-8bb2-479a-a1f7-481034e9a511",
   "metadata": {},
   "outputs": [],
   "source": [
    "def is_palindrome(arg):\n",
    "    \"\"\"check if given string is palindrome or not\"\"\"\n",
    "    arg = arg.lower()\n",
    "    list1 = []\n",
    "    list1 += arg\n",
    "\n",
    "    punctuations = [' ', '.', ',', '!', '?', ';', ':', \"'\", '...', '-', '(', ')', '“', '”']\n",
    "\n",
    "    list1 = [x for x in list1 if x not in punctuations]\n",
    "\n",
    "    stack = []\n",
    "    for i in list1:\n",
    "        stack.append(i)\n",
    "\n",
    "    while stack:\n",
    "        last_element = stack.pop()\n",
    "        if last_element != list1[0]:\n",
    "            return False\n",
    "        del list1[0]\n",
    "        \n",
    "    return True"
   ]
  },
  {
   "cell_type": "code",
   "execution_count": 227,
   "id": "05af5bdf-aae5-4b78-af3b-34fb2f6a4690",
   "metadata": {},
   "outputs": [
    {
     "data": {
      "text/plain": [
       "True"
      ]
     },
     "execution_count": 227,
     "metadata": {},
     "output_type": "execute_result"
    }
   ],
   "source": [
    "is_palindrome('radar')"
   ]
  },
  {
   "cell_type": "code",
   "execution_count": 228,
   "id": "c3904325-585b-4383-aa0f-ba398b855ead",
   "metadata": {},
   "outputs": [
    {
     "data": {
      "text/plain": [
       "True"
      ]
     },
     "execution_count": 228,
     "metadata": {},
     "output_type": "execute_result"
    }
   ],
   "source": [
    "is_palindrome('level')"
   ]
  },
  {
   "cell_type": "code",
   "execution_count": 229,
   "id": "b1f7c67f-f1ac-4bfd-903f-651754b678af",
   "metadata": {},
   "outputs": [
    {
     "data": {
      "text/plain": [
       "True"
      ]
     },
     "execution_count": 229,
     "metadata": {},
     "output_type": "execute_result"
    }
   ],
   "source": [
    "is_palindrome('modom')"
   ]
  },
  {
   "cell_type": "code",
   "execution_count": 230,
   "id": "7845f13e-c46f-4331-99be-e983f0c708bd",
   "metadata": {},
   "outputs": [
    {
     "data": {
      "text/plain": [
       "False"
      ]
     },
     "execution_count": 230,
     "metadata": {},
     "output_type": "execute_result"
    }
   ],
   "source": [
    "is_palindrome('hello')"
   ]
  },
  {
   "cell_type": "code",
   "execution_count": 231,
   "id": "8a8ec9ad-f0cf-4c86-bd13-63bf78ebe5fc",
   "metadata": {},
   "outputs": [
    {
     "data": {
      "text/plain": [
       "True"
      ]
     },
     "execution_count": 231,
     "metadata": {},
     "output_type": "execute_result"
    }
   ],
   "source": [
    "is_palindrome('121')"
   ]
  },
  {
   "cell_type": "code",
   "execution_count": 232,
   "id": "19e4aee2-32a8-4cbc-bf58-7e99d5beae20",
   "metadata": {},
   "outputs": [
    {
     "data": {
      "text/plain": [
       "True"
      ]
     },
     "execution_count": 232,
     "metadata": {},
     "output_type": "execute_result"
    }
   ],
   "source": [
    "is_palindrome('RaceCar')"
   ]
  },
  {
   "cell_type": "code",
   "execution_count": 233,
   "id": "ec73de12-7ed0-4d6c-bc63-bbfda0402379",
   "metadata": {},
   "outputs": [
    {
     "data": {
      "text/plain": [
       "True"
      ]
     },
     "execution_count": 233,
     "metadata": {},
     "output_type": "execute_result"
    }
   ],
   "source": [
    "is_palindrome('Able was I ere I saw Elba')"
   ]
  },
  {
   "cell_type": "code",
   "execution_count": 234,
   "id": "ef1b9db2-7f67-44af-b565-6fcf7880dfe8",
   "metadata": {},
   "outputs": [
    {
     "data": {
      "text/plain": [
       "True"
      ]
     },
     "execution_count": 234,
     "metadata": {},
     "output_type": "execute_result"
    }
   ],
   "source": [
    "is_palindrome('A man, a plan, a canal: Panama')"
   ]
  },
  {
   "cell_type": "code",
   "execution_count": 235,
   "id": "c858810f-0ec5-46e1-b90c-f777343ad490",
   "metadata": {},
   "outputs": [
    {
     "data": {
      "text/plain": [
       "True"
      ]
     },
     "execution_count": 235,
     "metadata": {},
     "output_type": "execute_result"
    }
   ],
   "source": [
    "is_palindrome(\"No 'x' in Nixon\")"
   ]
  },
  {
   "cell_type": "code",
   "execution_count": 236,
   "id": "6cbb1b4c-ba1e-4b9b-b395-b2feda157c1b",
   "metadata": {},
   "outputs": [
    {
     "data": {
      "text/plain": [
       "True"
      ]
     },
     "execution_count": 236,
     "metadata": {},
     "output_type": "execute_result"
    }
   ],
   "source": [
    "is_palindrome(\"Was it a car or a cat I saw?\")"
   ]
  },
  {
   "cell_type": "code",
   "execution_count": 237,
   "id": "0c5e0aad-914b-42fe-8f5f-6d7e83437daf",
   "metadata": {},
   "outputs": [
    {
     "data": {
      "text/plain": [
       "True"
      ]
     },
     "execution_count": 237,
     "metadata": {},
     "output_type": "execute_result"
    }
   ],
   "source": [
    "is_palindrome(\"\")"
   ]
  },
  {
   "cell_type": "code",
   "execution_count": null,
   "id": "c18d97dc-8a38-48a7-901d-79ab785a4660",
   "metadata": {},
   "outputs": [],
   "source": []
  }
 ],
 "metadata": {
  "kernelspec": {
   "display_name": "Python [conda env:base] *",
   "language": "python",
   "name": "conda-base-py"
  },
  "language_info": {
   "codemirror_mode": {
    "name": "ipython",
    "version": 3
   },
   "file_extension": ".py",
   "mimetype": "text/x-python",
   "name": "python",
   "nbconvert_exporter": "python",
   "pygments_lexer": "ipython3",
   "version": "3.13.5"
  }
 },
 "nbformat": 4,
 "nbformat_minor": 5
}
