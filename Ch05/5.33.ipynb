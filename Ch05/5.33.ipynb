{
 "cells": [
  {
   "cell_type": "code",
   "execution_count": null,
   "id": "a54daaa6-41d3-42a0-a172-71ae700d5c3d",
   "metadata": {},
   "outputs": [],
   "source": [
    "\"\"\"\n",
    "\n",
    "5.33 (Intro to Data Science Challenge: Analyzing the Dice Game Craps) In this exercise, you’ll modify Chapter 4’s script \n",
    "that simulates the dice game craps by using the techniques you learned in Section 5.17.2. The script should receive a \n",
    "command-line argument indicating the number of games of craps to execute and use two lists to track the total numbers of \n",
    "games won and lost on the first roll, second roll, third roll, etc. Summarize the results as follows:\n",
    "\n",
    "a) Display a horizontal bar plot indicating how many games are won and how many are lost on the first roll, second roll, \n",
    "third roll, etc. Since the game could continue indefinitely, you might track wins and losses through the first dozen rolls \n",
    "(of a pair of dice), then maintain two counters that keep track of wins and losses after 12 rolls—no matter how long the \n",
    "game gets. Create separate bars for wins and losses.\n",
    "\n",
    "b) What are the chances of winning at craps? [Note: You should discover that craps is one of the fairest casino games. \n",
    "What do you suppose this means?]\n",
    "\n",
    "c) What is the mean for the length of a game of craps? The median? The mode?\n",
    "d) Do the chances of winning improve with the length of the game?\n",
    "\n",
    "\n",
    "\"\"\""
   ]
  },
  {
   "cell_type": "code",
   "execution_count": 7,
   "id": "4f58bb3e-91be-4652-8fb6-fc5926235a17",
   "metadata": {},
   "outputs": [],
   "source": [
    "\"\"\"\n",
    "a)\n",
    "\n",
    "python DiceGameCraps.py 50000\n",
    "\n",
    "\"\"\""
   ]
  },
  {
   "cell_type": "code",
   "execution_count": null,
   "id": "0664a372-2342-476b-820a-80e22897c726",
   "metadata": {},
   "outputs": [],
   "source": [
    "\"\"\"\n",
    "\n",
    "b) Craps is one of the fairest casino games because the chance of the house winning (and the player losing) is only \n",
    "slightly greater than the chance of the player winning.\n",
    "\n",
    "# Analysis of 50000 Games\n",
    "\n",
    "Winning Percentage: 49.29\n",
    "Loosing Percentage: 50.71\n",
    "\n",
    "\"\"\""
   ]
  },
  {
   "cell_type": "code",
   "execution_count": null,
   "id": "8f168b2d-2e94-466e-b282-5a6653f7b206",
   "metadata": {},
   "outputs": [],
   "source": [
    "\"\"\"\n",
    "Winning Results Analysis (50000 Games)\n",
    "\n",
    "Winning Mean: 2.885564453839587\n",
    "Winning Median: 2\n",
    "Winning Mode: 1\n",
    "\n",
    "Loosing Results Analysis (50000 Games)\n",
    "\n",
    "Loosing Mean: 3.7365134569023435\n",
    "Loosing Median: 3\n",
    "Loosing Mode: 2\n",
    "\n",
    "\"\"\""
   ]
  },
  {
   "cell_type": "code",
   "execution_count": null,
   "id": "5076396d-ccfa-496e-8985-77b057822b77",
   "metadata": {},
   "outputs": [],
   "source": [
    "\"\"\"\n",
    "\n",
    "d) Craps is an independent-events game. The chances of winning do not improve with the length of the game.\n",
    "\n",
    "\"\"\""
   ]
  }
 ],
 "metadata": {
  "kernelspec": {
   "display_name": "Python [conda env:base] *",
   "language": "python",
   "name": "conda-base-py"
  },
  "language_info": {
   "codemirror_mode": {
    "name": "ipython",
    "version": 3
   },
   "file_extension": ".py",
   "mimetype": "text/x-python",
   "name": "python",
   "nbconvert_exporter": "python",
   "pygments_lexer": "ipython3",
   "version": "3.13.5"
  }
 },
 "nbformat": 4,
 "nbformat_minor": 5
}
