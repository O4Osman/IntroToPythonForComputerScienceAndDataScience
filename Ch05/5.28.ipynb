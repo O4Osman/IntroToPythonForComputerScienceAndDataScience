{
 "cells": [
  {
   "cell_type": "code",
   "execution_count": null,
   "id": "7050452c-2d81-4c28-a662-5bff59d0bb80",
   "metadata": {},
   "outputs": [],
   "source": [
    "\"\"\"\n",
    "\n",
    "5.28 (Intro to Data Science: Survey Response Statistics) Twenty students were asked to rate on a scale of 1 to 5 the quality \n",
    "of the food in the student cafeteria, with 1 being “awful” and 5 being “excellent.” Place the 20 responses in a list\n",
    "1, 2, 5, 4, 3, 5, 2, 1, 3, 3, 1, 4, 3, 3, 3, 2, 3, 3, 2, 5\n",
    "Determine and display the frequency of each rating. Use the built-in functions, statistics module functions and NumPy \n",
    "functions demonstrated in Section 5.17.2 to display the following response statistics: minimum, maximum, range, mean, \n",
    "median, mode, variance and standard deviation.\n",
    "\n",
    "\"\"\""
   ]
  },
  {
   "cell_type": "code",
   "execution_count": 27,
   "id": "e68476da-cb70-4e3c-8167-43def5d08cc6",
   "metadata": {},
   "outputs": [],
   "source": [
    "import statistics\n",
    "import numpy as np"
   ]
  },
  {
   "cell_type": "code",
   "execution_count": 28,
   "id": "ebd004fb-81b6-41cd-8dc1-3d6b627af164",
   "metadata": {},
   "outputs": [],
   "source": [
    "ratings = [1, 2, 5, 4, 3, 5, 2, 1, 3, 3, 1, 4, 3, 3, 3, 2, 3, 3, 2, 5]"
   ]
  },
  {
   "cell_type": "code",
   "execution_count": 29,
   "id": "200c6683-ecae-4c07-9a58-e5460f13f0d3",
   "metadata": {},
   "outputs": [],
   "source": [
    "values, frequencies = np.unique(ratings, return_counts=True)"
   ]
  },
  {
   "cell_type": "code",
   "execution_count": 30,
   "id": "c390e805-4aec-4638-bf0c-e67c6354d672",
   "metadata": {},
   "outputs": [
    {
     "name": "stdout",
     "output_type": "stream",
     "text": [
      "Frequency of each rating.\n",
      "Rating\tFrequency\n",
      "1\t3\n",
      "2\t4\n",
      "3\t8\n",
      "4\t2\n",
      "5\t3\n"
     ]
    }
   ],
   "source": [
    "print('Frequency of each rating.')\n",
    "print('Rating\\tFrequency')\n",
    "for t in zip(values, frequencies):\n",
    "    print(f'{t[0]}\\t{t[1]}')"
   ]
  },
  {
   "cell_type": "code",
   "execution_count": 31,
   "id": "08b02768-6c30-41d6-ac11-1d305251127b",
   "metadata": {},
   "outputs": [],
   "source": [
    "minimum = min(ratings)\n",
    "maximum = max(ratings)\n",
    "r_range = maximum - minimum\n",
    "r_mean = statistics.mean(ratings)\n",
    "r_median = statistics.median(ratings)\n",
    "r_mode = statistics.mode(ratings)\n",
    "variance = statistics.variance(ratings)\n",
    "deviation = statistics.stdev(ratings)"
   ]
  },
  {
   "cell_type": "code",
   "execution_count": 32,
   "id": "30a98e37-6d73-4912-b70e-9a8fd1902c9e",
   "metadata": {},
   "outputs": [
    {
     "name": "stdout",
     "output_type": "stream",
     "text": [
      "The minimum rating is: 1\n",
      "The maximum rating is: 5\n",
      "The rang of rating is: 4\n",
      "The mean of ratings is: 2.9\n",
      "The median of ratings is: 3.0\n",
      "The mode of ratings is: 3\n",
      "The variance of ratings is: 1.568421052631579\n",
      "The deviation of ratings is: 1.2523661815266247\n"
     ]
    }
   ],
   "source": [
    "print(f'The minimum rating is: {minimum}')\n",
    "print(f'The maximum rating is: {maximum}')\n",
    "print(f'The rang of rating is: {r_range}')\n",
    "print(f'The mean of ratings is: {r_mean}')\n",
    "print(f'The median of ratings is: {r_median}')\n",
    "print(f'The mode of ratings is: {r_mode}')\n",
    "print(f'The variance of ratings is: {variance}')\n",
    "print(f'The deviation of ratings is: {deviation}')"
   ]
  },
  {
   "cell_type": "code",
   "execution_count": null,
   "id": "f165adf1-5244-421b-82de-642a6e1122cc",
   "metadata": {},
   "outputs": [],
   "source": []
  }
 ],
 "metadata": {
  "kernelspec": {
   "display_name": "Python [conda env:base] *",
   "language": "python",
   "name": "conda-base-py"
  },
  "language_info": {
   "codemirror_mode": {
    "name": "ipython",
    "version": 3
   },
   "file_extension": ".py",
   "mimetype": "text/x-python",
   "name": "python",
   "nbconvert_exporter": "python",
   "pygments_lexer": "ipython3",
   "version": "3.13.5"
  }
 },
 "nbformat": 4,
 "nbformat_minor": 5
}
