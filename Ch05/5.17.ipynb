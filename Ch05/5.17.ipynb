{
 "cells": [
  {
   "cell_type": "code",
   "execution_count": null,
   "id": "10546d0a-4602-4f23-8ad1-26f06637ba2b",
   "metadata": {},
   "outputs": [],
   "source": [
    "\"\"\"\n",
    "\n",
    "5.17 (Filter/Map Performance) With regard to the following code:\n",
    "\n",
    "numbers = [10, 3, 7, 1, 9, 4, 2, 8, 5, 6]\n",
    "\n",
    "list(map(lambda x: x ** 2,\n",
    "    filter(lambda x: x % 2 != 0, numbers)))\n",
    "\n",
    "A) How many times does the filter operation call its lambda argument?\n",
    "B) How many times does the map operation call its lambda argument?\n",
    "C) If you reverse the filter and map operations, how many times does the map operation call its lambda argument?\n",
    "\n",
    "To help you answer the preceding questions, define functions that perform the same tasks as the lambdas. In each function, \n",
    "include a print statement so you can see each time the function is called. Finally, replace the lambdas in the preceding \n",
    "code with the names of your functions.\n",
    "\n",
    "\"\"\""
   ]
  },
  {
   "cell_type": "code",
   "execution_count": 44,
   "id": "4431c681-8010-4d61-9cff-0172100957e0",
   "metadata": {},
   "outputs": [],
   "source": [
    "def filter_lambda(value):\n",
    "    \"\"\"return True if number is odd else False\"\"\"\n",
    "    print('Filter Lambda is called.')\n",
    "    if value % 2 != 0:\n",
    "        return True\n",
    "    else:\n",
    "        return False"
   ]
  },
  {
   "cell_type": "code",
   "execution_count": 49,
   "id": "4cac7c73-dd70-4be9-ba75-353967154cc1",
   "metadata": {},
   "outputs": [],
   "source": [
    "def map_lambda(value):\n",
    "    \"\"\"return square of value\"\"\"\n",
    "    print('Map Lambda is called.')\n",
    "    return value ** 2"
   ]
  },
  {
   "cell_type": "code",
   "execution_count": 50,
   "id": "2bf73422-bc10-443d-a1b7-da7abb3768a0",
   "metadata": {},
   "outputs": [
    {
     "name": "stdout",
     "output_type": "stream",
     "text": [
      "Filter Lambda is called.\n",
      "Filter Lambda is called.\n",
      "Filter Lambda is called.\n",
      "Filter Lambda is called.\n",
      "Filter Lambda is called.\n",
      "Filter Lambda is called.\n",
      "Filter Lambda is called.\n",
      "Filter Lambda is called.\n",
      "Filter Lambda is called.\n",
      "Filter Lambda is called.\n"
     ]
    },
    {
     "data": {
      "text/plain": [
       "[9, 49, 1, 81, 25]"
      ]
     },
     "execution_count": 50,
     "metadata": {},
     "output_type": "execute_result"
    }
   ],
   "source": [
    "# A)\n",
    "# Filter operations's call depends on the length of list given to it. The lambda argument is called for each item in the list.\n",
    "# The numbers list have 10 elements. So it will call the lambda argument 10 times.\n",
    "\n",
    "numbers = [10, 3, 7, 1, 9, 4, 2, 8, 5, 6]\n",
    "\n",
    "list(map(lambda x: x ** 2,\n",
    "    filter(filter_lambda, numbers)))"
   ]
  },
  {
   "cell_type": "code",
   "execution_count": 51,
   "id": "4dcb8631-1850-4bd7-b03b-0453ece3716a",
   "metadata": {},
   "outputs": [
    {
     "name": "stdout",
     "output_type": "stream",
     "text": [
      "Map Lambda is called.\n",
      "Map Lambda is called.\n",
      "Map Lambda is called.\n",
      "Map Lambda is called.\n",
      "Map Lambda is called.\n"
     ]
    },
    {
     "data": {
      "text/plain": [
       "[9, 49, 1, 81, 25]"
      ]
     },
     "execution_count": 51,
     "metadata": {},
     "output_type": "execute_result"
    }
   ],
   "source": [
    "# B)\n",
    "# map operation's call depends on the length of list return by filter function. In this case it will call its lambda argument\n",
    "# 5 times.\n",
    "\n",
    "list(map(map_lambda,\n",
    "    filter(lambda x: x % 2 != 0, numbers)))"
   ]
  },
  {
   "cell_type": "code",
   "execution_count": 53,
   "id": "787f1143-7de1-4bb0-960d-0c7dc85f58b2",
   "metadata": {},
   "outputs": [
    {
     "name": "stdout",
     "output_type": "stream",
     "text": [
      "Map Lambda is called.\n",
      "Map Lambda is called.\n",
      "Map Lambda is called.\n",
      "Map Lambda is called.\n",
      "Map Lambda is called.\n",
      "Map Lambda is called.\n",
      "Map Lambda is called.\n",
      "Map Lambda is called.\n",
      "Map Lambda is called.\n",
      "Map Lambda is called.\n"
     ]
    },
    {
     "data": {
      "text/plain": [
       "[9, 49, 1, 81, 25]"
      ]
     },
     "execution_count": 53,
     "metadata": {},
     "output_type": "execute_result"
    }
   ],
   "source": [
    "# C) \n",
    "# map operations's call depends on the length of list given to it. The lambda argument is called for each item in the list.\n",
    "# The numbers list have 10 elements. So it will call the lambda argument 10 times.\n",
    "\n",
    "list(filter(lambda x: x % 2 != 0, map(map_lambda, numbers)))"
   ]
  },
  {
   "cell_type": "code",
   "execution_count": null,
   "id": "8747de36-4269-4662-b1f2-977f2901be29",
   "metadata": {},
   "outputs": [],
   "source": []
  }
 ],
 "metadata": {
  "kernelspec": {
   "display_name": "Python [conda env:base] *",
   "language": "python",
   "name": "conda-base-py"
  },
  "language_info": {
   "codemirror_mode": {
    "name": "ipython",
    "version": 3
   },
   "file_extension": ".py",
   "mimetype": "text/x-python",
   "name": "python",
   "nbconvert_exporter": "python",
   "pygments_lexer": "ipython3",
   "version": "3.13.5"
  }
 },
 "nbformat": 4,
 "nbformat_minor": 5
}
