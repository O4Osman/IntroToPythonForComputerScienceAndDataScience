{
 "cells": [
  {
   "cell_type": "code",
   "execution_count": null,
   "id": "5abec8a0-166a-40dc-9504-9c23393ecc2c",
   "metadata": {},
   "outputs": [],
   "source": [
    "\"\"\"\n",
    "\n",
    "5.4 (Iteration Order) Create a 2-by-3 list, then use a nested loop to:\n",
    "\n",
    "a. Set each element’s value to an integer indicating the order in which it was processed by the nested loop.\n",
    "b. Display the elements in tabular format. Use the column indices as headings across the top, and the row indices \n",
    "to the left of each row.\n",
    "\n",
    "\n",
    "\"\"\""
   ]
  },
  {
   "cell_type": "code",
   "execution_count": 6,
   "id": "78478963-af34-40ca-b7c2-7faeb317aa93",
   "metadata": {},
   "outputs": [],
   "source": [
    "list1 = [[0, 0, 0], \n",
    "        [0, 0, 0]]"
   ]
  },
  {
   "cell_type": "code",
   "execution_count": 20,
   "id": "763cc011-fd78-4c19-8fe2-dc025bfe6aad",
   "metadata": {},
   "outputs": [
    {
     "name": "stdout",
     "output_type": "stream",
     "text": [
      "\n",
      "\n"
     ]
    },
    {
     "data": {
      "text/plain": [
       "[[1, 2, 3], [4, 5, 6]]"
      ]
     },
     "execution_count": 20,
     "metadata": {},
     "output_type": "execute_result"
    }
   ],
   "source": [
    "# a\n",
    "count = 0\n",
    "\n",
    "for r_idx, row in enumerate(list1):\n",
    "    for c_idx, col in enumerate(row):\n",
    "        count += 1\n",
    "        list1[r_idx][c_idx] = count\n",
    "    print()\n",
    "\n",
    "list1"
   ]
  },
  {
   "cell_type": "code",
   "execution_count": 25,
   "id": "7d801e13-f7b6-4664-a516-f1589754f009",
   "metadata": {},
   "outputs": [
    {
     "name": "stdout",
     "output_type": "stream",
     "text": [
      "  0 1 2\n",
      "0 1 2 3 \n",
      "1 4 5 6 \n"
     ]
    }
   ],
   "source": [
    "# b\n",
    "\n",
    "print(' ', 0, 1, 2)\n",
    "for r_idx, row in enumerate(list1):\n",
    "    print(r_idx, end=' ')\n",
    "    for col in row:\n",
    "        print(col, end=' ')\n",
    "    print()"
   ]
  },
  {
   "cell_type": "code",
   "execution_count": null,
   "id": "465e0c9e-184e-4312-9978-0bce89bf4088",
   "metadata": {},
   "outputs": [],
   "source": []
  }
 ],
 "metadata": {
  "kernelspec": {
   "display_name": "Python [conda env:base] *",
   "language": "python",
   "name": "conda-base-py"
  },
  "language_info": {
   "codemirror_mode": {
    "name": "ipython",
    "version": 3
   },
   "file_extension": ".py",
   "mimetype": "text/x-python",
   "name": "python",
   "nbconvert_exporter": "python",
   "pygments_lexer": "ipython3",
   "version": "3.13.5"
  }
 },
 "nbformat": 4,
 "nbformat_minor": 5
}
