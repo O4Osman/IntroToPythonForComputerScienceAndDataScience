{
 "cells": [
  {
   "cell_type": "code",
   "execution_count": null,
   "id": "10e9acf5-cd9b-46cd-9847-116e8b081050",
   "metadata": {},
   "outputs": [],
   "source": [
    "\"\"\"\n",
    "\n",
    "5.23 (Functional-Style Programming: Order of filter and map Calls) When combining filter and map operations, the order \n",
    "in which they’re performed matters. Consider a list numbers containing 10, 3, 7, 1, 9, 4, 2, 8, 5, 6 and the following code:\n",
    "\n",
    "numbers = [10, 3, 7, 1, 9, 4, 2, 8, 5, 6]\n",
    "\n",
    "list(map(lambda x: x * 2, filter(lambda x: x % 2 == 0, numbers)))\n",
    "[20, 8, 4, 16, 12]\n",
    "\n",
    "Reorder this code to call map first and filter second. What happens and why?”\n",
    "\n",
    "\"\"\""
   ]
  },
  {
   "cell_type": "code",
   "execution_count": 1,
   "id": "5133ffc5-98c8-4c1b-9b22-6ff2ae6c9656",
   "metadata": {},
   "outputs": [],
   "source": [
    "numbers = [10, 3, 7, 1, 9, 4, 2, 8, 5, 6]"
   ]
  },
  {
   "cell_type": "code",
   "execution_count": 2,
   "id": "90b1388e-2d5d-45f7-a224-3cf99a2f3a85",
   "metadata": {},
   "outputs": [
    {
     "data": {
      "text/plain": [
       "[20, 8, 4, 16, 12]"
      ]
     },
     "execution_count": 2,
     "metadata": {},
     "output_type": "execute_result"
    }
   ],
   "source": [
    "# original code\n",
    "list(map(lambda x: x * 2, filter(lambda x: x % 2 == 0, numbers)))"
   ]
  },
  {
   "cell_type": "code",
   "execution_count": 3,
   "id": "3ec3f0de-5d15-42e5-8322-1c2b3fc8d3f7",
   "metadata": {},
   "outputs": [],
   "source": [
    "# After reordering"
   ]
  },
  {
   "cell_type": "code",
   "execution_count": 5,
   "id": "cd8a5c17-553e-4c99-bd67-d1038960a50e",
   "metadata": {},
   "outputs": [
    {
     "data": {
      "text/plain": [
       "[20, 6, 14, 2, 18, 8, 4, 16, 10, 12]"
      ]
     },
     "execution_count": 5,
     "metadata": {},
     "output_type": "execute_result"
    }
   ],
   "source": [
    "list(filter(lambda x: x % 2 == 0 , map(lambda x: x * 2, numbers)))"
   ]
  },
  {
   "cell_type": "code",
   "execution_count": null,
   "id": "019f4e54-52fa-4f23-90f1-a104dbaa17ce",
   "metadata": {},
   "outputs": [],
   "source": [
    "# In the original code first filter is applied that return even numbers only and then double of those remeaning numbers \n",
    "# is calculated. But when we reorder double of all numbers is calculated first and then even numbers are filtered.\n",
    "# The main difference is in second case odd numbers are multiplied by 2 that converts odd numbers into even.\n",
    "# That is the reason when we reorder this more long list of even numbers is returned."
   ]
  }
 ],
 "metadata": {
  "kernelspec": {
   "display_name": "Python [conda env:base] *",
   "language": "python",
   "name": "conda-base-py"
  },
  "language_info": {
   "codemirror_mode": {
    "name": "ipython",
    "version": 3
   },
   "file_extension": ".py",
   "mimetype": "text/x-python",
   "name": "python",
   "nbconvert_exporter": "python",
   "pygments_lexer": "ipython3",
   "version": "3.13.5"
  }
 },
 "nbformat": 4,
 "nbformat_minor": 5
}
