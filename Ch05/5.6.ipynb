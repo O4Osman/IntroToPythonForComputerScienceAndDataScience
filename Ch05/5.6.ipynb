{
 "cells": [
  {
   "cell_type": "code",
   "execution_count": null,
   "id": "8479247a-f6d9-4858-b923-31ff89c1130b",
   "metadata": {},
   "outputs": [],
   "source": [
    "\"\"\"\n",
    "\n",
    "5.6 (Functions Returning Tuples) Define a function rotate that receives three arguments and returns a tuple in \n",
    "which the first argument is at index 1, the second argument is at index 2 and the third argument is at index 0. \n",
    "Define variables a, b and c containing 'Doug', 22 and 1984. Then call the function three times. For each call, \n",
    "unpack its result into a, b and c, then display their values.\n",
    "\n",
    "\"\"\""
   ]
  },
  {
   "cell_type": "code",
   "execution_count": 1,
   "id": "4a4a7e25-bdc8-4608-8976-a206433d9f60",
   "metadata": {},
   "outputs": [],
   "source": [
    "def rotate(val1, val2, val3):\n",
    "    \"\"\"returns tuple of parameters\"\"\"\n",
    "    return (val3, val1, val2)"
   ]
  },
  {
   "cell_type": "code",
   "execution_count": 2,
   "id": "575d1c8f-efd3-4592-8129-6eaee19f057a",
   "metadata": {},
   "outputs": [],
   "source": [
    "a = 'Doug'"
   ]
  },
  {
   "cell_type": "code",
   "execution_count": 3,
   "id": "e9efb4c9-266a-441b-bc2d-271878ae2720",
   "metadata": {},
   "outputs": [],
   "source": [
    "b = 22"
   ]
  },
  {
   "cell_type": "code",
   "execution_count": 4,
   "id": "888a60da-f30e-4f8a-93ad-74b62f7bfa07",
   "metadata": {},
   "outputs": [],
   "source": [
    "c = 1984"
   ]
  },
  {
   "cell_type": "code",
   "execution_count": 5,
   "id": "d0772955-e925-4aa9-9719-b00b21d4582a",
   "metadata": {},
   "outputs": [],
   "source": [
    "a, b, c = rotate(a, b, c)"
   ]
  },
  {
   "cell_type": "code",
   "execution_count": 6,
   "id": "972721a9-8ca4-458b-9042-c65495967814",
   "metadata": {},
   "outputs": [
    {
     "name": "stdout",
     "output_type": "stream",
     "text": [
      "First call result: 1984 Doug 22\n"
     ]
    }
   ],
   "source": [
    "print(f'First call result: {a} {b} {c}')"
   ]
  },
  {
   "cell_type": "code",
   "execution_count": 7,
   "id": "018ea612-55c9-4143-95ee-24f33dbf0665",
   "metadata": {},
   "outputs": [],
   "source": [
    "a, b, c = rotate(a, b, c)"
   ]
  },
  {
   "cell_type": "code",
   "execution_count": 8,
   "id": "3634589b-506d-4651-886d-91b497df9071",
   "metadata": {},
   "outputs": [
    {
     "name": "stdout",
     "output_type": "stream",
     "text": [
      "Second call result: 22 1984 Doug\n"
     ]
    }
   ],
   "source": [
    "print(f'Second call result: {a} {b} {c}')"
   ]
  },
  {
   "cell_type": "code",
   "execution_count": 9,
   "id": "71354a70-333a-46d0-ac27-b2f162493cd7",
   "metadata": {},
   "outputs": [],
   "source": [
    "a, b, c = rotate(a, b, c)"
   ]
  },
  {
   "cell_type": "code",
   "execution_count": 10,
   "id": "9a66bb85-d047-4364-81d7-a1970f1748b3",
   "metadata": {},
   "outputs": [
    {
     "name": "stdout",
     "output_type": "stream",
     "text": [
      "Third call result: Doug 22 1984\n"
     ]
    }
   ],
   "source": [
    "print(f'Third call result: {a} {b} {c}')"
   ]
  },
  {
   "cell_type": "code",
   "execution_count": null,
   "id": "d7738273-1d28-42e8-93ec-ab78b097f936",
   "metadata": {},
   "outputs": [],
   "source": []
  }
 ],
 "metadata": {
  "kernelspec": {
   "display_name": "Python [conda env:base] *",
   "language": "python",
   "name": "conda-base-py"
  },
  "language_info": {
   "codemirror_mode": {
    "name": "ipython",
    "version": 3
   },
   "file_extension": ".py",
   "mimetype": "text/x-python",
   "name": "python",
   "nbconvert_exporter": "python",
   "pygments_lexer": "ipython3",
   "version": "3.13.5"
  }
 },
 "nbformat": 4,
 "nbformat_minor": 5
}
