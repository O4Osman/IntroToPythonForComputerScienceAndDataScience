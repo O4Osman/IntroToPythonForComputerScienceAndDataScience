{
 "cells": [
  {
   "cell_type": "code",
   "execution_count": null,
   "id": "736e2a0f-92cb-4779-9e9d-5eafb08f83cc",
   "metadata": {},
   "outputs": [],
   "source": [
    "\"\"\"\n",
    "\n",
    "5.21 (Computer-Assisted Instruction: Reducing Student Fatigue) Re-implement Exercise 4.15 to store the computer’s \n",
    "responses in lists. Use random-number generation to select responses using random list indices.\n",
    "\n",
    "\"\"\""
   ]
  },
  {
   "cell_type": "code",
   "execution_count": 12,
   "id": "1ae95e7d-565c-4d7c-9868-e7b6e60c17d5",
   "metadata": {},
   "outputs": [],
   "source": [
    "import random"
   ]
  },
  {
   "cell_type": "code",
   "execution_count": 13,
   "id": "8044f63a-c548-474c-9300-bc37b5da3d37",
   "metadata": {},
   "outputs": [],
   "source": [
    "def generate_question():\n",
    "    \"\"\" This function generates two random numbers of single digit and calculate their product and return that. \"\"\"\n",
    "    num1 = random.randrange(1, 10)\n",
    "    num2 = random.randrange(1, 10)\n",
    "    answer = num1 * num2\n",
    "    return num1, num2, answer"
   ]
  },
  {
   "cell_type": "code",
   "execution_count": 18,
   "id": "b3c78a2e-588c-4067-96e5-f28d448b9beb",
   "metadata": {},
   "outputs": [],
   "source": [
    "responses = ['Very good!', 'Nice Work!', 'Keep up the good work!', 'No. Please try again.', \n",
    "            'Wrong. Try once more.', 'No. Keep trying.']"
   ]
  },
  {
   "cell_type": "code",
   "execution_count": 22,
   "id": "dfc86171-180c-44e8-840a-ec2287ec23ef",
   "metadata": {},
   "outputs": [],
   "source": [
    "num1, num2, answer = generate_question()"
   ]
  },
  {
   "cell_type": "code",
   "execution_count": 23,
   "id": "c3503d93-7ff6-4498-ba36-152139dec5ae",
   "metadata": {},
   "outputs": [
    {
     "name": "stdin",
     "output_type": "stream",
     "text": [
      "How much is 3 times 8 (-1 to quit) :  24\n"
     ]
    }
   ],
   "source": [
    "guess = int(input(f'How much is {num1} times {num2} (-1 to quit) : ')) "
   ]
  },
  {
   "cell_type": "code",
   "execution_count": 24,
   "id": "457eef37-aa7f-4a8f-b21c-ddeb101da05f",
   "metadata": {},
   "outputs": [
    {
     "name": "stdout",
     "output_type": "stream",
     "text": [
      "Nice Work!\n"
     ]
    },
    {
     "name": "stdin",
     "output_type": "stream",
     "text": [
      "How much is 7 times 4 (-1 to quit) :  28\n"
     ]
    },
    {
     "name": "stdout",
     "output_type": "stream",
     "text": [
      "Very good!\n"
     ]
    },
    {
     "name": "stdin",
     "output_type": "stream",
     "text": [
      "How much is 6 times 7 (-1 to quit) :  42\n"
     ]
    },
    {
     "name": "stdout",
     "output_type": "stream",
     "text": [
      "Keep up the good work!\n"
     ]
    },
    {
     "name": "stdin",
     "output_type": "stream",
     "text": [
      "How much is 2 times 5 (-1 to quit) :  10\n"
     ]
    },
    {
     "name": "stdout",
     "output_type": "stream",
     "text": [
      "Keep up the good work!\n"
     ]
    },
    {
     "name": "stdin",
     "output_type": "stream",
     "text": [
      "How much is 2 times 1 (-1 to quit) :  2\n"
     ]
    },
    {
     "name": "stdout",
     "output_type": "stream",
     "text": [
      "Keep up the good work!\n"
     ]
    },
    {
     "name": "stdin",
     "output_type": "stream",
     "text": [
      "How much is 1 times 9 (-1 to quit) :  -1\n"
     ]
    }
   ],
   "source": [
    "while True:\n",
    "    #check if user want to quit\n",
    "    if guess == -1:\n",
    "        break\n",
    "    elif guess == answer:\n",
    "        response_number = random.randrange(0, 3)\n",
    "        print(responses[response_number])\n",
    "        num1, num2, answer = generate_question()\n",
    "    else:\n",
    "        response_number = random.randrange(3, 6)\n",
    "        print(responses[response_number])\n",
    "\n",
    "    guess = int(input(f'How much is {num1} times {num2} (-1 to quit) : ')) "
   ]
  },
  {
   "cell_type": "code",
   "execution_count": null,
   "id": "26d6e693-cb00-4421-b77d-3fdc11ed74f1",
   "metadata": {},
   "outputs": [],
   "source": []
  }
 ],
 "metadata": {
  "kernelspec": {
   "display_name": "Python [conda env:base] *",
   "language": "python",
   "name": "conda-base-py"
  },
  "language_info": {
   "codemirror_mode": {
    "name": "ipython",
    "version": 3
   },
   "file_extension": ".py",
   "mimetype": "text/x-python",
   "name": "python",
   "nbconvert_exporter": "python",
   "pygments_lexer": "ipython3",
   "version": "3.13.5"
  }
 },
 "nbformat": 4,
 "nbformat_minor": 5
}
