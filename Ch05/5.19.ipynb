{
 "cells": [
  {
   "cell_type": "code",
   "execution_count": null,
   "id": "d2ac957b-e50c-461d-a9c0-123a61a583f8",
   "metadata": {},
   "outputs": [],
   "source": [
    "\"\"\"\n",
    "\n",
    "5.19 (Finding the People with a Specified Last Name) Create a list of tuples containing first and last names. Use filter to \n",
    "locate the tuples containing the last name Jones. Ensure that several tuples in your list have that last name.\n",
    "\n",
    "\"\"\""
   ]
  },
  {
   "cell_type": "code",
   "execution_count": 1,
   "id": "a9743d71-5aa5-4c7c-97b6-23ef3c2cf7e8",
   "metadata": {},
   "outputs": [],
   "source": [
    "names = [('osman', 'khalid'), ('Zeeshan', 'Khallid'), ('Salman', 'Khalid'), ('Kasim', 'Jones'),\n",
    "        ('Ali', 'Aoan'), ('Atif', 'Arif'), ('Usman', 'Arif'), ('Afaq', 'Jones'), ('Zain', 'Mesum'),\n",
    "        ('Fatima', 'Batool'), ('Ali', 'Mehdi'), ('Ayzal', 'Fatima'), ('Ghulam', 'Jones'), ('Shahida', 'Jones')]"
   ]
  },
  {
   "cell_type": "code",
   "execution_count": 2,
   "id": "160b62d3-4293-439f-8ebc-c934a1d6a5c5",
   "metadata": {},
   "outputs": [
    {
     "data": {
      "text/plain": [
       "[('Kasim', 'Jones'),\n",
       " ('Afaq', 'Jones'),\n",
       " ('Ghulam', 'Jones'),\n",
       " ('Shahida', 'Jones')]"
      ]
     },
     "execution_count": 2,
     "metadata": {},
     "output_type": "execute_result"
    }
   ],
   "source": [
    "list(filter(lambda x: x[1] == 'Jones', names))"
   ]
  },
  {
   "cell_type": "code",
   "execution_count": null,
   "id": "a858169a-0bc4-4a2a-b040-bf05e0f6ef3d",
   "metadata": {},
   "outputs": [],
   "source": []
  }
 ],
 "metadata": {
  "kernelspec": {
   "display_name": "Python [conda env:base] *",
   "language": "python",
   "name": "conda-base-py"
  },
  "language_info": {
   "codemirror_mode": {
    "name": "ipython",
    "version": 3
   },
   "file_extension": ".py",
   "mimetype": "text/x-python",
   "name": "python",
   "nbconvert_exporter": "python",
   "pygments_lexer": "ipython3",
   "version": "3.13.5"
  }
 },
 "nbformat": 4,
 "nbformat_minor": 5
}
