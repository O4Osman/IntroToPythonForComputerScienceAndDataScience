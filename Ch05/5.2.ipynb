{
 "cells": [
  {
   "cell_type": "code",
   "execution_count": null,
   "id": "4c34bbd6-4067-400b-8070-1dc468e93fde",
   "metadata": {},
   "outputs": [],
   "source": [
    "\"\"\"\n",
    "\n",
    "5.2 (What’s Does This Code Do?) What does the following function do, based on the sequence it receives as an argument?\n",
    "def mystery(sequence):\n",
    "    return sequence == sorted(sequence)\n",
    "\n",
    "\"\"\""
   ]
  },
  {
   "cell_type": "code",
   "execution_count": null,
   "id": "02f5d721-d6c3-4988-97c1-9a426ce4179a",
   "metadata": {},
   "outputs": [],
   "source": [
    "\"\"\"\n",
    "\n",
    "It returns True if the sequence it receives as an argument is sorted and false if not.\n",
    "\n",
    "\"\"\""
   ]
  },
  {
   "cell_type": "code",
   "execution_count": 1,
   "id": "abae99ca-e95e-4b99-8a4b-dfc40ccb490e",
   "metadata": {},
   "outputs": [],
   "source": [
    "s1 = [1, 2, 3, 4, 5, 6, 7]"
   ]
  },
  {
   "cell_type": "code",
   "execution_count": 2,
   "id": "8ed3825f-8348-416a-918a-1b1b8c7eaae2",
   "metadata": {},
   "outputs": [],
   "source": [
    "s2 = ['Appple', 'banana', 'Cat']"
   ]
  },
  {
   "cell_type": "code",
   "execution_count": 3,
   "id": "18e467ab-4073-4631-a918-aec1dd734e08",
   "metadata": {},
   "outputs": [],
   "source": [
    "def mystery(sequence):\n",
    "    \"\"\"returns True if the sequence passed as parameter is sorted else return false\"\"\"\n",
    "    return sequence == sorted(sequence)\n"
   ]
  },
  {
   "cell_type": "code",
   "execution_count": 4,
   "id": "81341c42-78e8-495c-92bd-de96442ee515",
   "metadata": {},
   "outputs": [
    {
     "data": {
      "text/plain": [
       "True"
      ]
     },
     "execution_count": 4,
     "metadata": {},
     "output_type": "execute_result"
    }
   ],
   "source": [
    "mystery(s1)"
   ]
  },
  {
   "cell_type": "code",
   "execution_count": 5,
   "id": "041da36c-a1f4-40cb-bb59-a7c4a248c097",
   "metadata": {},
   "outputs": [
    {
     "data": {
      "text/plain": [
       "False"
      ]
     },
     "execution_count": 5,
     "metadata": {},
     "output_type": "execute_result"
    }
   ],
   "source": [
    "mystery(s2)"
   ]
  },
  {
   "cell_type": "code",
   "execution_count": null,
   "id": "ed8984e5-7ecd-4c41-9148-8d7b2a6d8dbd",
   "metadata": {},
   "outputs": [],
   "source": []
  }
 ],
 "metadata": {
  "kernelspec": {
   "display_name": "Python [conda env:base] *",
   "language": "python",
   "name": "conda-base-py"
  },
  "language_info": {
   "codemirror_mode": {
    "name": "ipython",
    "version": 3
   },
   "file_extension": ".py",
   "mimetype": "text/x-python",
   "name": "python",
   "nbconvert_exporter": "python",
   "pygments_lexer": "ipython3",
   "version": "3.13.5"
  }
 },
 "nbformat": 4,
 "nbformat_minor": 5
}
