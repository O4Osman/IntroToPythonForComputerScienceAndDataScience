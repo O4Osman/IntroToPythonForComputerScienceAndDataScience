{
 "cells": [
  {
   "cell_type": "code",
   "execution_count": null,
   "id": "92c66d2f-d465-40cc-a634-605b7921d41c",
   "metadata": {},
   "outputs": [],
   "source": [
    "\"\"\"\n",
    "\n",
    "5.14 (Is a Sequence Sorted?) Create a function is_ordered that receives a sequence and returns True if the elements are \n",
    "in sorted order. Test your function with sorted and unsorted lists, tuples and strings.\n",
    "\n",
    "\"\"\""
   ]
  },
  {
   "cell_type": "code",
   "execution_count": 14,
   "id": "bed9dd33-eb72-4108-a029-495bdad31048",
   "metadata": {},
   "outputs": [],
   "source": [
    "def is_ordered(sequence):\n",
    "    \"\"\"return True if sequence is sorted else False\"\"\"\n",
    "    sequence = list(sequence)\n",
    "    return sequence == sorted(sequence)"
   ]
  },
  {
   "cell_type": "code",
   "execution_count": 16,
   "id": "1c019da0-d39f-41b9-8c44-680027e5c65f",
   "metadata": {},
   "outputs": [
    {
     "data": {
      "text/plain": [
       "False"
      ]
     },
     "execution_count": 16,
     "metadata": {},
     "output_type": "execute_result"
    }
   ],
   "source": [
    "is_ordered(('d', 'b', 'c', 'a'))"
   ]
  },
  {
   "cell_type": "code",
   "execution_count": 26,
   "id": "38e2ce1f-f904-4437-89e2-fec3757a50da",
   "metadata": {},
   "outputs": [
    {
     "data": {
      "text/plain": [
       "True"
      ]
     },
     "execution_count": 26,
     "metadata": {},
     "output_type": "execute_result"
    }
   ],
   "source": [
    "is_ordered(('a', 'b', 'c', 'd'))"
   ]
  },
  {
   "cell_type": "code",
   "execution_count": 19,
   "id": "f83c28f9-64ef-462d-a83e-8628b9b20d7d",
   "metadata": {},
   "outputs": [
    {
     "data": {
      "text/plain": [
       "False"
      ]
     },
     "execution_count": 19,
     "metadata": {},
     "output_type": "execute_result"
    }
   ],
   "source": [
    "is_ordered([15, 8, 10])"
   ]
  },
  {
   "cell_type": "code",
   "execution_count": 20,
   "id": "33250506-e84e-480d-be7c-537a120cc945",
   "metadata": {},
   "outputs": [
    {
     "data": {
      "text/plain": [
       "True"
      ]
     },
     "execution_count": 20,
     "metadata": {},
     "output_type": "execute_result"
    }
   ],
   "source": [
    "is_ordered([5, 8, 10])"
   ]
  },
  {
   "cell_type": "code",
   "execution_count": 21,
   "id": "6a0c2349-e725-4101-afc9-8f9dbcc5b121",
   "metadata": {},
   "outputs": [
    {
     "data": {
      "text/plain": [
       "False"
      ]
     },
     "execution_count": 21,
     "metadata": {},
     "output_type": "execute_result"
    }
   ],
   "source": [
    "is_ordered('orange')"
   ]
  },
  {
   "cell_type": "code",
   "execution_count": 23,
   "id": "83ac6b7f-b326-42bf-a9c2-cc2f135cde3c",
   "metadata": {},
   "outputs": [
    {
     "data": {
      "text/plain": [
       "True"
      ]
     },
     "execution_count": 23,
     "metadata": {},
     "output_type": "execute_result"
    }
   ],
   "source": [
    "is_ordered('abcxyz')"
   ]
  }
 ],
 "metadata": {
  "kernelspec": {
   "display_name": "Python [conda env:base] *",
   "language": "python",
   "name": "conda-base-py"
  },
  "language_info": {
   "codemirror_mode": {
    "name": "ipython",
    "version": 3
   },
   "file_extension": ".py",
   "mimetype": "text/x-python",
   "name": "python",
   "nbconvert_exporter": "python",
   "pygments_lexer": "ipython3",
   "version": "3.13.5"
  }
 },
 "nbformat": 4,
 "nbformat_minor": 5
}
