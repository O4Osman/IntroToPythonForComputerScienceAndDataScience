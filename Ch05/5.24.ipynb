{
 "cells": [
  {
   "cell_type": "code",
   "execution_count": null,
   "id": "65a3ccfc-0634-48ca-a463-751e431e5c05",
   "metadata": {},
   "outputs": [],
   "source": [
    "\"\"\"\n",
    "\n",
    "5.24 (Card Shuffling and Dealing) In Exercises 5.24 through 5.26, you’ll use lists of tuples in scripts that simulate card \n",
    "shuffling and dealing. Each tuple represents one card in the deck and contains a face \n",
    "(e.g., 'Ace', 'Deuce', 'Three', …, 'Jack', 'Queen', 'King') and a suit (e.g., 'Hearts', 'Diamonds', 'Clubs', 'Spades'). \n",
    "Create an initialize_deck function to initialize the deck of card tuples with 'Ace' through 'King' of each suit, as in\n",
    "\n",
    "deck = [('Ace', 'Hearts'), …, ('King', 'Hearts'), ('Ace', 'Diamonds'), …, ('King', 'Diamonds'), ('Ace', 'Clubs'), …, \n",
    "('King', 'Clubs'), ('Ace', 'Spades'), …, ('King', 'Spades')]\n",
    "\n",
    "Before returning the list, use the random module’s shuffle function to randomly order the list elements. \n",
    "Output the shuffled cards in the following four-column format:\n",
    "\n",
    "Six of Spades Eight of Spades Six of Clubs Nine of Hearts\n",
    "Queen of Hearts Seven of Clubs Nine of Spades King of Hearts\n",
    "Three of Diamonds Deuce of Clubs Ace of Hearts Ten of Spades\n",
    "Four of Spades Ace of Clubs Seven of Diamonds Four of Hearts\n",
    "Three of Clubs Deuce of Hearts Five of Spades Jack of Diamonds\n",
    "King of Clubs Ten of Hearts Three of Hearts Six of Diamonds\n",
    "Queen of Clubs Eight of Diamonds Deuce of Diamonds Ten of Diamonds\n",
    "Three of Spades King of Diamonds Nine of Clubs Six of Hearts\n",
    "Ace of Spades Four of Diamonds Seven of Hearts Eight of Clubs\n",
    "Deuce of Spades Eight of Hearts Five of Hearts Queen of Spades\n",
    "Jack of Hearts Seven of Spades Four of Clubs Nine of Diamonds\n",
    "Ace of Diamonds Queen of Diamonds Five of Clubs King of Spades\n",
    "Five of Diamonds Ten of Clubs Jack of Spades Jack of Clubs\n",
    "\n",
    "\"\"\""
   ]
  },
  {
   "cell_type": "code",
   "execution_count": 2,
   "id": "31e5ea2c-66fd-4660-b4d9-7adc3c21cfaa",
   "metadata": {},
   "outputs": [],
   "source": [
    "import random"
   ]
  },
  {
   "cell_type": "code",
   "execution_count": 3,
   "id": "e78672d0-8baf-4956-8deb-4417304e7716",
   "metadata": {},
   "outputs": [],
   "source": [
    "faces = ['Ace', 'Deuce', 'Three', 'Four', 'Five', 'Six', 'Seven', 'Eight', 'Nine', 'Ten', 'Jack', 'Queen', 'King']"
   ]
  },
  {
   "cell_type": "code",
   "execution_count": 4,
   "id": "bef17e26-b8be-4a1e-b359-cf31fb479ef4",
   "metadata": {},
   "outputs": [],
   "source": [
    "suits = ['Hearts', 'Diamonds', 'Clubs', 'Spades']"
   ]
  },
  {
   "cell_type": "code",
   "execution_count": 5,
   "id": "dbc91873-713b-442f-b948-ffcc342f5d7f",
   "metadata": {},
   "outputs": [],
   "source": [
    "def initialize_deck():\n",
    "    \"\"\"returns a shuffled deck of card\"\"\"\n",
    "    deck = []\n",
    "    for suit in suits:\n",
    "        for face in faces:\n",
    "            deck += [(face, suit)]\n",
    "    random.shuffle(deck)\n",
    "    return deck"
   ]
  },
  {
   "cell_type": "code",
   "execution_count": 6,
   "id": "6ab0acd0-7c31-4755-a062-9074d5e42984",
   "metadata": {},
   "outputs": [],
   "source": [
    "def output_deck(deck):\n",
    "    \"\"\"print deck of cards in 4 columns and 13 rows\"\"\"\n",
    "    for index, card in enumerate(deck):\n",
    "        print(f'{card[0]} of {card[1]:<18}\\t', end='')\n",
    "        index += 1\n",
    "        if index % 4 == 0 and index > 0:\n",
    "            print()"
   ]
  },
  {
   "cell_type": "code",
   "execution_count": 7,
   "id": "99b5bc48-b2c8-480f-9831-7957a3c045ab",
   "metadata": {},
   "outputs": [
    {
     "name": "stdout",
     "output_type": "stream",
     "text": [
      "Four of Spades            \tKing of Clubs             \tSix of Diamonds          \tThree of Clubs             \t\n",
      "Ace of Spades            \tSix of Spades            \tQueen of Clubs             \tEight of Hearts            \t\n",
      "Jack of Hearts            \tFive of Diamonds          \tQueen of Spades            \tFour of Clubs             \t\n",
      "Jack of Diamonds          \tDeuce of Diamonds          \tKing of Diamonds          \tNine of Diamonds          \t\n",
      "Seven of Spades            \tSeven of Clubs             \tDeuce of Hearts            \tAce of Hearts            \t\n",
      "Nine of Clubs             \tEight of Diamonds          \tFive of Clubs             \tFive of Hearts            \t\n",
      "Ace of Clubs             \tDeuce of Spades            \tFour of Hearts            \tFive of Spades            \t\n",
      "Nine of Hearts            \tSeven of Hearts            \tTen of Hearts            \tTen of Spades            \t\n",
      "Four of Diamonds          \tQueen of Diamonds          \tThree of Diamonds          \tAce of Diamonds          \t\n",
      "Queen of Hearts            \tDeuce of Clubs             \tTen of Clubs             \tThree of Spades            \t\n",
      "Jack of Spades            \tJack of Clubs             \tEight of Spades            \tSix of Clubs             \t\n",
      "King of Hearts            \tTen of Diamonds          \tKing of Spades            \tEight of Clubs             \t\n",
      "Nine of Spades            \tSix of Hearts            \tThree of Hearts            \tSeven of Diamonds          \t\n"
     ]
    }
   ],
   "source": [
    "deck = initialize_deck()\n",
    "output_deck(deck)"
   ]
  },
  {
   "cell_type": "code",
   "execution_count": null,
   "id": "94c99671-f808-49b0-8b86-a6f75cada85c",
   "metadata": {},
   "outputs": [],
   "source": []
  }
 ],
 "metadata": {
  "kernelspec": {
   "display_name": "Python [conda env:base] *",
   "language": "python",
   "name": "conda-base-py"
  },
  "language_info": {
   "codemirror_mode": {
    "name": "ipython",
    "version": 3
   },
   "file_extension": ".py",
   "mimetype": "text/x-python",
   "name": "python",
   "nbconvert_exporter": "python",
   "pygments_lexer": "ipython3",
   "version": "3.13.5"
  }
 },
 "nbformat": 4,
 "nbformat_minor": 5
}
