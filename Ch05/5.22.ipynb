{
 "cells": [
  {
   "cell_type": "code",
   "execution_count": null,
   "id": "55c0decd-9c3f-4589-87bd-821e1c9a12c0",
   "metadata": {},
   "outputs": [],
   "source": [
    "\"\"\"\n",
    "\n",
    "5.22 (Simulating a Queue with a List) In this chapter, you simulated a stack using a list. You also can simulate a queue \n",
    "collection with a list. Queues represent waiting lines similar to a checkout line in a supermarket. The cashier services \n",
    "the person at the front of the line first. Other customers enter the line only at the end and wait for service. \n",
    "In a queue, you insert items at the back (known as the tail) and delete items from the front (known as the head). For this \n",
    "reason, queues are first-in, first-out (FIFO) collections. The insert and remove operations are commonly known as enqueue \n",
    "and dequeue. Queues have many uses in computer systems, such as sharing CPUs among a potentially large number of competing \n",
    "applications and the operating system itself. Applications not currently being serviced sit in a queue until a CPU becomes \n",
    "available. The application at the front of the queue is the next to receive service. Each application gradually advances \n",
    "to the front as the applications before it receive service. Simulate a queue of integers using list methods append \n",
    "(to simulate enqueue) and pop with the argument 0 (to simulate dequeue). Enqueue the values 3, 2 and 1, then dequeue them \n",
    "to show that they’re removed in FIFO order.\n",
    "\n",
    "\"\"\""
   ]
  },
  {
   "cell_type": "code",
   "execution_count": 58,
   "id": "0f3c2e7a-a9b8-4763-8c8a-4c1c66d443ab",
   "metadata": {},
   "outputs": [],
   "source": [
    "queue = []"
   ]
  },
  {
   "cell_type": "code",
   "execution_count": 59,
   "id": "09549f7e-9036-4a3a-bd05-f831a1d79560",
   "metadata": {},
   "outputs": [],
   "source": [
    "def enqueue(value):\n",
    "    \"\"\"act as enqueue method of queue\"\"\"\n",
    "    queue.append(value)\n",
    "    print(queue)"
   ]
  },
  {
   "cell_type": "code",
   "execution_count": 60,
   "id": "f0716567-9bc1-4d3f-8aef-833a90395e6c",
   "metadata": {},
   "outputs": [],
   "source": [
    "def dequeue():\n",
    "    \"\"\"act as dequeue method of queue\"\"\"\n",
    "    if len(queue) > 0:\n",
    "        value = queue.pop(0)\n",
    "        return value\n",
    "    else:\n",
    "        print('Queue is empty')\n",
    "        return None"
   ]
  },
  {
   "cell_type": "code",
   "execution_count": 61,
   "id": "e71f47f1-f75e-49ac-a60d-54196baf5abc",
   "metadata": {},
   "outputs": [
    {
     "name": "stdout",
     "output_type": "stream",
     "text": [
      "[3]\n"
     ]
    }
   ],
   "source": [
    "enqueue(3)"
   ]
  },
  {
   "cell_type": "code",
   "execution_count": 62,
   "id": "39199f03-c9b6-4d15-a481-e1c87ae8a2ea",
   "metadata": {},
   "outputs": [
    {
     "name": "stdout",
     "output_type": "stream",
     "text": [
      "[3, 2]\n"
     ]
    }
   ],
   "source": [
    "enqueue(2)"
   ]
  },
  {
   "cell_type": "code",
   "execution_count": 63,
   "id": "6ae4ca1d-e83c-40a9-8fc8-66c9fa39a41e",
   "metadata": {},
   "outputs": [
    {
     "name": "stdout",
     "output_type": "stream",
     "text": [
      "[3, 2, 1]\n"
     ]
    }
   ],
   "source": [
    "enqueue(1)"
   ]
  },
  {
   "cell_type": "code",
   "execution_count": 64,
   "id": "34bf4ea0-8aa4-4fbe-9f14-3432a94245a9",
   "metadata": {},
   "outputs": [
    {
     "data": {
      "text/plain": [
       "3"
      ]
     },
     "execution_count": 64,
     "metadata": {},
     "output_type": "execute_result"
    }
   ],
   "source": [
    "dequeue()"
   ]
  },
  {
   "cell_type": "code",
   "execution_count": 65,
   "id": "f7e8b0ff-50ae-4ec8-9926-b379155c9d85",
   "metadata": {},
   "outputs": [
    {
     "data": {
      "text/plain": [
       "2"
      ]
     },
     "execution_count": 65,
     "metadata": {},
     "output_type": "execute_result"
    }
   ],
   "source": [
    "dequeue()"
   ]
  },
  {
   "cell_type": "code",
   "execution_count": 66,
   "id": "e12b9d90-cc7b-47e8-a594-8fe130ae829e",
   "metadata": {},
   "outputs": [
    {
     "data": {
      "text/plain": [
       "1"
      ]
     },
     "execution_count": 66,
     "metadata": {},
     "output_type": "execute_result"
    }
   ],
   "source": [
    "dequeue()"
   ]
  },
  {
   "cell_type": "code",
   "execution_count": 67,
   "id": "dcdb44dc-ca28-4efa-8a78-04683f4fa913",
   "metadata": {},
   "outputs": [
    {
     "name": "stdout",
     "output_type": "stream",
     "text": [
      "Queue is empty\n"
     ]
    }
   ],
   "source": [
    "dequeue()"
   ]
  },
  {
   "cell_type": "code",
   "execution_count": null,
   "id": "7598858e-f8b4-491b-8f47-5b9914b2ddbf",
   "metadata": {},
   "outputs": [],
   "source": []
  }
 ],
 "metadata": {
  "kernelspec": {
   "display_name": "Python [conda env:base] *",
   "language": "python",
   "name": "conda-base-py"
  },
  "language_info": {
   "codemirror_mode": {
    "name": "ipython",
    "version": 3
   },
   "file_extension": ".py",
   "mimetype": "text/x-python",
   "name": "python",
   "nbconvert_exporter": "python",
   "pygments_lexer": "ipython3",
   "version": "3.13.5"
  }
 },
 "nbformat": 4,
 "nbformat_minor": 5
}
