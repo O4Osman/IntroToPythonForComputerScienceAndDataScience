{
 "cells": [
  {
   "cell_type": "code",
   "execution_count": null,
   "id": "c6f58912-5d11-494a-a8b4-c0d190236087",
   "metadata": {},
   "outputs": [],
   "source": [
    "\"\"\"\n",
    "\n",
    "5.5 (IPython Session: Slicing) Create a string called alphabet containing 'abcdefghijklmnopqrstuvwxyz', \n",
    "then perform the following separate slice operations to obtain: \n",
    "\n",
    "a. The first half of the string using starting and ending indices.\n",
    "b. The first half of the string using only the ending index.\n",
    "c. The second half of the string using starting and ending indices.\n",
    "d. The second half of the string using only the starting index.\n",
    "e. Every second letter in the string starting with 'a'.\n",
    "f. The entire string in reverse.\n",
    "g. Every third letter of the string in reverse starting with 'z'.\n",
    "\n",
    "\"\"\""
   ]
  },
  {
   "cell_type": "code",
   "execution_count": 1,
   "id": "05eb457a-77a7-4f79-8436-4990599c5fe2",
   "metadata": {},
   "outputs": [],
   "source": [
    "alphabet = 'abcdefghijklmnopqrstuvwxyz'"
   ]
  },
  {
   "cell_type": "code",
   "execution_count": 18,
   "id": "343082e1-e28b-40ca-b186-781c441b3f58",
   "metadata": {},
   "outputs": [
    {
     "data": {
      "text/plain": [
       "'abcdefghijklm'"
      ]
     },
     "execution_count": 18,
     "metadata": {},
     "output_type": "execute_result"
    }
   ],
   "source": [
    "# a. The first half of the string using starting and ending indices.\n",
    "\n",
    "alphabet[0:int(len(alphabet)/2)]"
   ]
  },
  {
   "cell_type": "code",
   "execution_count": 19,
   "id": "8279172e-6c22-4bf2-ad3b-ab64f55ac897",
   "metadata": {},
   "outputs": [
    {
     "data": {
      "text/plain": [
       "'abcdefghijklm'"
      ]
     },
     "execution_count": 19,
     "metadata": {},
     "output_type": "execute_result"
    }
   ],
   "source": [
    "# b. The first half of the string using only the ending index.\n",
    "\n",
    "alphabet[:int(len(alphabet)/2)]"
   ]
  },
  {
   "cell_type": "code",
   "execution_count": 20,
   "id": "0213f2b9-bf8c-48b4-ba72-612de1580f2d",
   "metadata": {},
   "outputs": [
    {
     "data": {
      "text/plain": [
       "'nopqrstuvwxyz'"
      ]
     },
     "execution_count": 20,
     "metadata": {},
     "output_type": "execute_result"
    }
   ],
   "source": [
    "# c. The second half of the string using starting and ending indices.\n",
    "\n",
    "alphabet[int(len(alphabet)/2):len(alphabet)]"
   ]
  },
  {
   "cell_type": "code",
   "execution_count": 21,
   "id": "ea652122-7335-4b4c-bbbe-dcf830fef144",
   "metadata": {},
   "outputs": [
    {
     "data": {
      "text/plain": [
       "'nopqrstuvwxyz'"
      ]
     },
     "execution_count": 21,
     "metadata": {},
     "output_type": "execute_result"
    }
   ],
   "source": [
    "# d. The second half of the string using only the starting index.\n",
    "\n",
    "alphabet[int(len(alphabet)/2):]"
   ]
  },
  {
   "cell_type": "code",
   "execution_count": 22,
   "id": "26ac291e-8fdc-45a9-b092-1d0f47f2f3cc",
   "metadata": {},
   "outputs": [
    {
     "data": {
      "text/plain": [
       "'acegikmoqsuwy'"
      ]
     },
     "execution_count": 22,
     "metadata": {},
     "output_type": "execute_result"
    }
   ],
   "source": [
    "# e. Every second letter in the string starting with 'a'.\n",
    "\n",
    "alphabet[::2]"
   ]
  },
  {
   "cell_type": "code",
   "execution_count": 23,
   "id": "8e15db4e-d0da-477c-ba8c-352658514acb",
   "metadata": {},
   "outputs": [
    {
     "data": {
      "text/plain": [
       "'zyxwvutsrqponmlkjihgfedcba'"
      ]
     },
     "execution_count": 23,
     "metadata": {},
     "output_type": "execute_result"
    }
   ],
   "source": [
    "# f. The entire string in reverse.\n",
    "\n",
    "alphabet[::-1]"
   ]
  },
  {
   "cell_type": "code",
   "execution_count": 25,
   "id": "af827d80-cbc6-4c0d-8bd1-3e285b370978",
   "metadata": {},
   "outputs": [
    {
     "data": {
      "text/plain": [
       "'zwtqnkheb'"
      ]
     },
     "execution_count": 25,
     "metadata": {},
     "output_type": "execute_result"
    }
   ],
   "source": [
    "# g. Every third letter of the string in reverse starting with 'z'.\n",
    "\n",
    "alphabet[::-3]"
   ]
  },
  {
   "cell_type": "code",
   "execution_count": null,
   "id": "7cce2be1-d97a-4ca7-9309-293464b6ffdf",
   "metadata": {},
   "outputs": [],
   "source": []
  }
 ],
 "metadata": {
  "kernelspec": {
   "display_name": "Python [conda env:base] *",
   "language": "python",
   "name": "conda-base-py"
  },
  "language_info": {
   "codemirror_mode": {
    "name": "ipython",
    "version": 3
   },
   "file_extension": ".py",
   "mimetype": "text/x-python",
   "name": "python",
   "nbconvert_exporter": "python",
   "pygments_lexer": "ipython3",
   "version": "3.13.5"
  }
 },
 "nbformat": 4,
 "nbformat_minor": 5
}
