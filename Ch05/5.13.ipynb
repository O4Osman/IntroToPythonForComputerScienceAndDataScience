{
 "cells": [
  {
   "cell_type": "code",
   "execution_count": null,
   "id": "f953756c-8805-4b4e-bd90-a4245aecf2e7",
   "metadata": {},
   "outputs": [],
   "source": [
    "\"\"\"\n",
    "\n",
    "“5.13 (Word or Phrase to Phone-Number Generator) Just as people would enjoy knowing what word or phrase their phone number \n",
    "corresponds to, they might choose a word or phrase appropriate for their business and determine what phone numbers correspond \n",
    "to it. These are sometimes called vanity phone numbers, and various websites sell such phone numbers. Write a script similar \n",
    "to the one in the previous exercise that produces the possible phone number for the given seven-letter string.\n",
    "\n",
    "\"\"\""
   ]
  },
  {
   "cell_type": "code",
   "execution_count": 35,
   "id": "dcbc612c-7be5-4420-ad43-477702d7e4cf",
   "metadata": {},
   "outputs": [],
   "source": [
    "numbers_table = [[],[],['A','B','C'], ['D', 'E', 'F'], ['G', 'H', 'I'], ['J', 'K', 'L'], \n",
    "                 ['M', 'N', 'O'], ['P', 'R', 'S'], ['T', 'U', 'V'], ['W', 'X', 'Y']]"
   ]
  },
  {
   "cell_type": "code",
   "execution_count": 43,
   "id": "914f8032-202d-484d-aa1f-73458f155b9b",
   "metadata": {},
   "outputs": [
    {
     "name": "stdin",
     "output_type": "stream",
     "text": [
      "Enter 7 letters string (A-Z):  johnkal\n"
     ]
    }
   ],
   "source": [
    "while True:\n",
    "    user_input = list(input('Enter 7 letters string (A-Z): ').upper())\n",
    "    if len(user_input) == 7:\n",
    "        break\n",
    "    else:\n",
    "        print('Please enter a 7 letters string (A-Z).')"
   ]
  },
  {
   "cell_type": "code",
   "execution_count": 56,
   "id": "99cbe719-5d4f-4a74-abd3-45ae43434b14",
   "metadata": {},
   "outputs": [],
   "source": [
    "phone_number = []"
   ]
  },
  {
   "cell_type": "code",
   "execution_count": 57,
   "id": "adfd44de-81d0-4313-aafe-16cdbef89bf2",
   "metadata": {},
   "outputs": [],
   "source": [
    "for i in user_input:\n",
    "    for index, list1 in enumerate(numbers_table):\n",
    "        if i in list1:\n",
    "            phone_number += [index]\n",
    "            break"
   ]
  },
  {
   "cell_type": "code",
   "execution_count": 62,
   "id": "ee21a20c-dd06-45d4-a4ed-0c3e56247a4d",
   "metadata": {},
   "outputs": [
    {
     "name": "stdout",
     "output_type": "stream",
     "text": [
      "Possilbe phone number of the given string is 564-6525"
     ]
    }
   ],
   "source": [
    "print('Possilbe phone number of the given string is ', end='')\n",
    "for index, value in enumerate(phone_number):\n",
    "    if index == 3:\n",
    "        print('-', end='')\n",
    "    print(value, end='')"
   ]
  },
  {
   "cell_type": "code",
   "execution_count": null,
   "id": "b31d79ba-8f89-405d-a1dc-64b375435d89",
   "metadata": {},
   "outputs": [],
   "source": []
  }
 ],
 "metadata": {
  "kernelspec": {
   "display_name": "Python [conda env:base] *",
   "language": "python",
   "name": "conda-base-py"
  },
  "language_info": {
   "codemirror_mode": {
    "name": "ipython",
    "version": 3
   },
   "file_extension": ".py",
   "mimetype": "text/x-python",
   "name": "python",
   "nbconvert_exporter": "python",
   "pygments_lexer": "ipython3",
   "version": "3.13.5"
  }
 },
 "nbformat": 4,
 "nbformat_minor": 5
}
