{
 "cells": [
  {
   "cell_type": "code",
   "execution_count": null,
   "id": "55803ea5-b2ab-4d2f-bdbf-87696f876b5c",
   "metadata": {},
   "outputs": [],
   "source": [
    "\"\"\"\n",
    "\n",
    "5.32 (Intro to Data Science: Rolling Two Dice) Modify the script RollDie.py that we provided with this chapter’s examples \n",
    "to simulate rolling two dice. Calculate the sum of the two values. Each die has a value from 1 to 6, so the sum of the \n",
    "values will vary from 2 to 12, with 7 being the most frequent sum, and 2 and 12 the least frequent. The following diagram \n",
    "shows the 36 equally likely possible combinations of the two dice and their corresponding sums:\n",
    "\n",
    "/5.32_1.png\n",
    "\n",
    "If you roll the dice 36,000 times:\n",
    "\n",
    "* The values 2 and 12 each occur 1/36th (2.778%) of the time, so you should expect about 1000 of each.\n",
    "* The values 3 and 11 each occur 2/36ths (5.556%) of the time, so you should expect about 2000 of each, and so on.\n",
    "\n",
    "Use a command-line argument to obtain the number of rolls. Display a bar plot summarizing the roll frequencies. \n",
    "The following screen captures show the final bar plots for sample executions of 360, 36,000 and 36,000,000 rolls. \n",
    "Use the Seaborn barplot function’s optional orient keyword argument to specify a horizontal bar plot.\n",
    "\n",
    "/5.32_2.png\n",
    "\n",
    "\"\"\""
   ]
  },
  {
   "cell_type": "code",
   "execution_count": null,
   "id": "b8ef0453-51e4-40ea-942d-94ff3c768506",
   "metadata": {},
   "outputs": [],
   "source": [
    "# See File RollDie.py\n",
    "# use terminal\n",
    "# python RollDie.py 360\n",
    "# python RollDie.py 36000\n",
    "# python RollDie.py 36000000"
   ]
  },
  {
   "cell_type": "code",
   "execution_count": null,
   "id": "7a17af15-0518-41a6-9d97-677558c56b96",
   "metadata": {},
   "outputs": [],
   "source": []
  }
 ],
 "metadata": {
  "kernelspec": {
   "display_name": "Python [conda env:base] *",
   "language": "python",
   "name": "conda-base-py"
  },
  "language_info": {
   "codemirror_mode": {
    "name": "ipython",
    "version": 3
   },
   "file_extension": ".py",
   "mimetype": "text/x-python",
   "name": "python",
   "nbconvert_exporter": "python",
   "pygments_lexer": "ipython3",
   "version": "3.13.5"
  }
 },
 "nbformat": 4,
 "nbformat_minor": 5
}
