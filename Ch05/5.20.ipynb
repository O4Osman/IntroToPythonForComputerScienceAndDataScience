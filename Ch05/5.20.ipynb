{
 "cells": [
  {
   "cell_type": "code",
   "execution_count": null,
   "id": "59cd3c55-6677-4fee-9c0b-5c3d10603c18",
   "metadata": {},
   "outputs": [],
   "source": [
    "\"\"\"\n",
    "\n",
    "5.20 (Display a Two-Dimensional List in Tabular Format) Define a function named display_table that receives a \n",
    "two-dimensional list and displays its contents in tabular format. List the column indices as headings across the top, and \n",
    "list the row indices at the left of each row.\n",
    "\n",
    "\"\"\""
   ]
  },
  {
   "cell_type": "code",
   "execution_count": 24,
   "id": "57bb2082-596b-4c65-ab22-8fdbc9d5c070",
   "metadata": {},
   "outputs": [],
   "source": [
    "def display_table(sequence):\n",
    "    \"\"\"display two dimensional list in tabular form\"\"\"\n",
    "    list1 = sequence\n",
    "    col_len = len(list1[0])\n",
    "    print('X\\t', end='')\n",
    "    for i in range(col_len):\n",
    "        print(f'{i}\\t', end='')\n",
    "    print()\n",
    "    for index, row in enumerate(list1):\n",
    "        print(f'{index}\\t', end='')\n",
    "        for col in row:\n",
    "            print(f'{col}\\t', end='')\n",
    "        print()\n",
    "            "
   ]
  },
  {
   "cell_type": "code",
   "execution_count": 27,
   "id": "f8bd13c7-c683-4502-b304-137acea63f2e",
   "metadata": {},
   "outputs": [
    {
     "name": "stdout",
     "output_type": "stream",
     "text": [
      "X\t0\t1\t2\t3\t\n",
      "0\t1\t2\t3\t4\t\n",
      "1\t5\t6\t7\t9\t\n"
     ]
    }
   ],
   "source": [
    "list1 = [[1, 2, 3, 4], [5, 6, 7, 9]]\n",
    "display_table(list1)"
   ]
  },
  {
   "cell_type": "code",
   "execution_count": null,
   "id": "a793c322-9730-4e13-b1c1-5b1b9274f8f0",
   "metadata": {},
   "outputs": [],
   "source": []
  }
 ],
 "metadata": {
  "kernelspec": {
   "display_name": "Python [conda env:base] *",
   "language": "python",
   "name": "conda-base-py"
  },
  "language_info": {
   "codemirror_mode": {
    "name": "ipython",
    "version": 3
   },
   "file_extension": ".py",
   "mimetype": "text/x-python",
   "name": "python",
   "nbconvert_exporter": "python",
   "pygments_lexer": "ipython3",
   "version": "3.13.5"
  }
 },
 "nbformat": 4,
 "nbformat_minor": 5
}
