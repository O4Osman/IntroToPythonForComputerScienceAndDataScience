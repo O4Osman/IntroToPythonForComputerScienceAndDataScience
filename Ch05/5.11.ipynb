{
 "cells": [
  {
   "cell_type": "code",
   "execution_count": null,
   "id": "809f6ccf-1a34-46e0-b94b-2dd2198a4c72",
   "metadata": {},
   "outputs": [],
   "source": [
    "\"\"\"\n",
    "\n",
    "5.11 (Summarizing Letters in a String) Write a function summarize_letters that receives a string and returns a list \n",
    "of tuples containing the unique letters and their frequencies in the string. Test your function and display each \n",
    "letter with its frequency. Your function should ignore case sensitivity (that is, 'a' and 'A' are the same) and ignore \n",
    "spaces and punctuation. When done, write a statement that says whether the string has all the letters of the alphabet.\n",
    "\n",
    "\"\"\""
   ]
  },
  {
   "cell_type": "code",
   "execution_count": 7,
   "id": "a57d39d7-e671-499e-ab66-a4cefa56d464",
   "metadata": {},
   "outputs": [],
   "source": [
    "def summarize_letters(arg):\n",
    "    \"\"\"return unique letters and their frequencies\"\"\"\n",
    "    arg = list(arg.lower())\n",
    "    punctuations = [' ', '.', ',', '!', '?', ';', ':', \"'\", '...', '-', '(', ')', '“', '”', '/', '[', ']']\n",
    "    alphabets = ['a', 'b', 'c', 'd', 'e', 'f', 'g', 'h', 'i', 'j', 'k', 'l', 'm', 'n', 'o', 'p', 'q', 'r', 's', 't', 'u',\n",
    "                'v', 'w', 'x', 'y', 'z']\n",
    "    alphabet_counter = [0] * 26\n",
    "    for character in alphabets:\n",
    "        count = arg.count(character)\n",
    "        index = alphabets.index(character)\n",
    "        alphabet_counter[index] = count\n",
    "    for t in zip(alphabets, alphabet_counter):\n",
    "        print(t)\n",
    "    if alphabet_counter.count(0) > 0:\n",
    "        print('No, the string does not have all the letters of the alphabet.')\n",
    "    else:\n",
    "        print('Yes, the string has all the letters of the alphabet.')"
   ]
  },
  {
   "cell_type": "code",
   "execution_count": 10,
   "id": "b7905cd5-0744-40aa-a600-3980e8206655",
   "metadata": {},
   "outputs": [
    {
     "name": "stdout",
     "output_type": "stream",
     "text": [
      "('a', 18)\n",
      "('b', 2)\n",
      "('c', 1)\n",
      "('d', 4)\n",
      "('e', 2)\n",
      "('f', 12)\n",
      "('g', 1)\n",
      "('h', 1)\n",
      "('i', 1)\n",
      "('j', 8)\n",
      "('k', 2)\n",
      "('l', 3)\n",
      "('m', 1)\n",
      "('n', 1)\n",
      "('o', 1)\n",
      "('p', 1)\n",
      "('q', 2)\n",
      "('r', 1)\n",
      "('s', 1)\n",
      "('t', 1)\n",
      "('u', 1)\n",
      "('v', 1)\n",
      "('w', 1)\n",
      "('x', 1)\n",
      "('y', 1)\n",
      "('z', 1)\n",
      "Yes, the string has all the letters of the alphabet.\n"
     ]
    }
   ],
   "source": [
    "result = summarize_letters('aBCa ,dbakldjf npstvyal;jfafadfaefgwxhimf;adjfa;f/af;ajfa;ljfq[ouerqjjjzkafaAaaa')"
   ]
  },
  {
   "cell_type": "code",
   "execution_count": null,
   "id": "8aa0888c-cc15-4d05-8c8e-bc558b0314f6",
   "metadata": {},
   "outputs": [],
   "source": []
  },
  {
   "cell_type": "code",
   "execution_count": null,
   "id": "bb198c3a-efb9-431e-90ce-8cf92e40ff70",
   "metadata": {},
   "outputs": [],
   "source": []
  }
 ],
 "metadata": {
  "kernelspec": {
   "display_name": "Python [conda env:base] *",
   "language": "python",
   "name": "conda-base-py"
  },
  "language_info": {
   "codemirror_mode": {
    "name": "ipython",
    "version": 3
   },
   "file_extension": ".py",
   "mimetype": "text/x-python",
   "name": "python",
   "nbconvert_exporter": "python",
   "pygments_lexer": "ipython3",
   "version": "3.13.5"
  }
 },
 "nbformat": 4,
 "nbformat_minor": 5
}
