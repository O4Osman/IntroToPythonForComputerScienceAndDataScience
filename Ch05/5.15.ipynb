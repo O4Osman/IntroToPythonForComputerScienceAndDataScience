{
 "cells": [
  {
   "cell_type": "code",
   "execution_count": null,
   "id": "6ff64d90-7b07-4d9a-90d9-9d067181ef66",
   "metadata": {},
   "outputs": [],
   "source": [
    "\"\"\"\n",
    "\n",
    "5.15 (Tuples Representing Invoices) When you purchase products or services from a company, you typically receive an invoice \n",
    "listing what you purchased and the total amount of money due. Use tuples to represent hardware store invoices that consist \n",
    "of four pieces of data—a part ID string, a part description string, an integer quantity of the item being purchased and, \n",
    "for simplicity, a float item price (in general, Decimal should be used for monetary amounts). Use the sample hardware data \n",
    "shown in the following table.\n",
    "\n",
    "5.15.png\n",
    "\n",
    "Perform the following tasks on a list of invoice tuples:\n",
    "\n",
    "A) Use function sorted with a key argument to sort the tuples by part description, then display the results. \n",
    "To specify the element of the tuple that should be used for sorting, first import the itemgetter function from the operator \n",
    "module as in\n",
    "\n",
    "from operator import itemgetter\n",
    "\n",
    "Then, for sorted’s key argument specify itemgetter(index) where index specifies which element of the tuple should be \n",
    "used for sorting purposes.\n",
    "\n",
    "B) “Use the sorted function with a key argument to sort the tuples by price, then display the results.\n",
    "\n",
    "C) Map each invoice tuple to a tuple containing the part description and quantity, sort the results by quantity, \n",
    "then display the results.\n",
    "\n",
    "D) Map each invoice tuple to a tuple containing the part description and the value of the invoice \n",
    "(the product of the quantity and the item price), sort the results by the invoice value, then display the results.\n",
    "\n",
    "E) Modify Part (d) to filter the results to invoice values in the range $200 to $500.\n",
    "\n",
    "F) Calculate the total of all the invoices.\n",
    "\n",
    "\"\"\""
   ]
  },
  {
   "cell_type": "code",
   "execution_count": 2,
   "id": "d1d9b930-fd8b-43a9-aaf8-f7433f338c21",
   "metadata": {},
   "outputs": [],
   "source": [
    "from operator import itemgetter"
   ]
  },
  {
   "cell_type": "code",
   "execution_count": 3,
   "id": "2d7f1858-7a53-4d39-b26c-eb456e5481a0",
   "metadata": {},
   "outputs": [],
   "source": [
    "invoices = [('83', 'Electric Sander', 7, 57.98), ('24', 'Power Saw',18, 99.99), ('7', 'sledge hammer', 11, 21.50),\n",
    "           ('77', 'Hammer', 76, 11.99), ('39', 'Jig Saw', 3, 79.60)]"
   ]
  },
  {
   "cell_type": "code",
   "execution_count": 21,
   "id": "84b35cf4-0564-4da0-832c-2614d08c2ae7",
   "metadata": {},
   "outputs": [],
   "source": [
    "def print_tuple(sequence):\n",
    "    \"\"\"print tuple in tabular form\"\"\"\n",
    "    print(f'Part Number\\tPart description\\tQuantity\\tPrice\\n')\n",
    "    for t in sequence:\n",
    "        print(f'{t[0]:<11}\\t{t[1]:<16}\\t{t[2]:<8}\\t{t[3]:<5}')"
   ]
  },
  {
   "cell_type": "code",
   "execution_count": 22,
   "id": "e205d5d8-79a7-4ace-92ba-0cd8913a434d",
   "metadata": {},
   "outputs": [
    {
     "name": "stdout",
     "output_type": "stream",
     "text": [
      "Part Number\tPart description\tQuantity\tPrice\n",
      "\n",
      "83         \tElectric Sander \t7       \t57.98\n",
      "77         \tHammer          \t76      \t11.99\n",
      "39         \tJig Saw         \t3       \t79.6 \n",
      "24         \tPower Saw       \t18      \t99.99\n",
      "7          \tsledge hammer   \t11      \t21.5 \n"
     ]
    }
   ],
   "source": [
    "# A)\n",
    "temp = sorted(invoices, key=itemgetter(1))\n",
    "print_tuple(temp)"
   ]
  },
  {
   "cell_type": "code",
   "execution_count": 23,
   "id": "ee032be6-9729-48eb-b300-2603baf7e284",
   "metadata": {},
   "outputs": [
    {
     "name": "stdout",
     "output_type": "stream",
     "text": [
      "Part Number\tPart description\tQuantity\tPrice\n",
      "\n",
      "77         \tHammer          \t76      \t11.99\n",
      "7          \tsledge hammer   \t11      \t21.5 \n",
      "83         \tElectric Sander \t7       \t57.98\n",
      "39         \tJig Saw         \t3       \t79.6 \n",
      "24         \tPower Saw       \t18      \t99.99\n"
     ]
    }
   ],
   "source": [
    "# B) \n",
    "temp = sorted(invoices, key=itemgetter(3))\n",
    "print_tuple(temp)"
   ]
  },
  {
   "cell_type": "code",
   "execution_count": 39,
   "id": "694bb906-5363-4751-a306-f0ed2ad0e7ae",
   "metadata": {},
   "outputs": [
    {
     "name": "stdout",
     "output_type": "stream",
     "text": [
      "Part description\tQuantity\n",
      "\n",
      "Jig Saw         \t3       \n",
      "Electric Sander \t7       \n",
      "sledge hammer   \t11      \n",
      "Power Saw       \t18      \n",
      "Hammer          \t76      \n"
     ]
    }
   ],
   "source": [
    "# C)\n",
    "temp = list(map(lambda x: (x[1], x[2]), invoices))\n",
    "temp = sorted(temp, key=itemgetter(1))\n",
    "print('Part description\\tQuantity\\n')\n",
    "for t in temp:\n",
    "    print(f'{t[0]:<16}\\t{t[1]:<8}')"
   ]
  },
  {
   "cell_type": "code",
   "execution_count": 48,
   "id": "3a1f679e-5d63-4592-80f9-73f1fa4379f8",
   "metadata": {},
   "outputs": [
    {
     "name": "stdout",
     "output_type": "stream",
     "text": [
      "Part description\tValue\n",
      "\n",
      "sledge hammer   \t236.50\n",
      "Jig Saw         \t238.80\n",
      "Electric Sander \t405.86\n",
      "Hammer          \t911.24\n",
      "Power Saw       \t1799.82\n"
     ]
    }
   ],
   "source": [
    "# D)\n",
    "temp = list(map(lambda x: (x[1], x[2] * x[3]), invoices))\n",
    "temp = sorted(temp, key=itemgetter(1))\n",
    "print('Part description\\tValue\\n')\n",
    "for t in temp:\n",
    "    print(f'{t[0]:<16}\\t{t[1]:<5.2f}')"
   ]
  },
  {
   "cell_type": "code",
   "execution_count": 51,
   "id": "9c08f639-93e2-428b-8c4b-279ff569be75",
   "metadata": {},
   "outputs": [
    {
     "name": "stdout",
     "output_type": "stream",
     "text": [
      "Part description\tValue\n",
      "\n",
      "sledge hammer   \t236.50\n",
      "Jig Saw         \t238.80\n",
      "Electric Sander \t405.86\n"
     ]
    }
   ],
   "source": [
    "# E)\n",
    "temp = list(filter(lambda x: 200 <= x[1] <= 500, map(lambda x: (x[1], x[2] * x[3]), invoices)))\n",
    "temp = sorted(temp, key=itemgetter(1))\n",
    "print('Part description\\tValue\\n')\n",
    "for t in temp:\n",
    "    print(f'{t[0]:<16}\\t{t[1]:<5.2f}')"
   ]
  },
  {
   "cell_type": "code",
   "execution_count": 58,
   "id": "d8371cc0-81fc-4588-b3be-771327a90446",
   "metadata": {},
   "outputs": [
    {
     "name": "stdout",
     "output_type": "stream",
     "text": [
      "The total is 3592.22\n"
     ]
    }
   ],
   "source": [
    "# D)\n",
    "total = 0\n",
    "for i in invoices:\n",
    "    total += i[2] * i[3]\n",
    "print(f'The total is {total:.2f}')"
   ]
  },
  {
   "cell_type": "code",
   "execution_count": null,
   "id": "8a0dc8e5-c9d2-4a21-b5c8-e32b2dfb4f65",
   "metadata": {},
   "outputs": [],
   "source": []
  }
 ],
 "metadata": {
  "kernelspec": {
   "display_name": "Python [conda env:base] *",
   "language": "python",
   "name": "conda-base-py"
  },
  "language_info": {
   "codemirror_mode": {
    "name": "ipython",
    "version": 3
   },
   "file_extension": ".py",
   "mimetype": "text/x-python",
   "name": "python",
   "nbconvert_exporter": "python",
   "pygments_lexer": "ipython3",
   "version": "3.13.5"
  }
 },
 "nbformat": 4,
 "nbformat_minor": 5
}
