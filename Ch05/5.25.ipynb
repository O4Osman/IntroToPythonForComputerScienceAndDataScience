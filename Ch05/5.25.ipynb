{
 "cells": [
  {
   "cell_type": "code",
   "execution_count": null,
   "id": "d3c69486-f9f9-4b95-b330-819cb4e57af8",
   "metadata": {},
   "outputs": [],
   "source": [
    "\"\"\"\n",
    "\n",
    "(Card Playing: Evaluating Poker Hands) Modify Exercise 5.24 to deal a five-card\n",
    "poker hand as a list of five card tuples. Then create functions (i.e., is_pair, is_two_pair,\n",
    "is_three_of_a_kind, …) that determine whether the hand they receive as an argument\n",
    "contains groups of cards, such as:\n",
    "a) one pair\n",
    "b) two pairs\n",
    "c) three of a kind (e.g., three jacks)\n",
    "d) a straight (i.e., five cards of consecutive face values)\n",
    "e) a flush (i.e., all five cards of the same suit)\n",
    "f) a full house (i.e., two cards of one face value and three cards of another)\n",
    "g) four of a kind (e.g., four aces)\n",
    "h) straight flush (i.e., a straight with all five cards of the same suit)\n",
    "i) … and others.\n",
    "See https://en.wikipedia.org/wiki/List_of_poker_hands for poker-hand types and\n",
    "how they rank with respect to one another. For example, three of a kind beats two pairs.\n",
    "\n",
    "\"\"\""
   ]
  },
  {
   "cell_type": "code",
   "execution_count": 26,
   "id": "0e560888-29cd-4605-99e0-80cf6d299712",
   "metadata": {},
   "outputs": [],
   "source": [
    "import random"
   ]
  },
  {
   "cell_type": "code",
   "execution_count": 27,
   "id": "ee047dd3-f67d-4d51-a734-c82e8f41fd5e",
   "metadata": {},
   "outputs": [],
   "source": [
    "faces = ['Ace', 'Deuce', 'Three', 'Four', 'Five', 'Six', 'Seven', 'Eight', 'Nine', 'Ten', 'Jack', 'Queen', 'King']"
   ]
  },
  {
   "cell_type": "code",
   "execution_count": 28,
   "id": "ac474c56-5482-4781-9e78-38dc871a0883",
   "metadata": {},
   "outputs": [],
   "source": [
    "suits = ['Hearts', 'Diamonds', 'Clubs', 'Spades']"
   ]
  },
  {
   "cell_type": "code",
   "execution_count": 29,
   "id": "6cb8948b-14ac-4d51-bf3a-2ea8284a5de3",
   "metadata": {},
   "outputs": [],
   "source": [
    "def initialize_deck():\n",
    "    \"\"\"returns a shuffled deck of card\"\"\"\n",
    "    deck = []\n",
    "    for suit in suits:\n",
    "        for face in faces:\n",
    "            deck += [(face, suit)]\n",
    "    random.shuffle(deck)\n",
    "    return deck[:5]"
   ]
  },
  {
   "cell_type": "code",
   "execution_count": 30,
   "id": "c90f40ac-bb97-4e1d-a6d5-0065fc165f48",
   "metadata": {},
   "outputs": [],
   "source": [
    "def output_deck(deck):\n",
    "    \"\"\"print deck of cards in 4 columns and 13 rows\"\"\"\n",
    "    for index, card in enumerate(deck):\n",
    "        print(f'{card[0]} of {card[1]:<18}\\t', end='')\n",
    "        index += 1\n",
    "        if index % 4 == 0 and index > 0:\n",
    "            print()"
   ]
  },
  {
   "cell_type": "code",
   "execution_count": 31,
   "id": "549b8932-6593-4482-8744-718cc4441eff",
   "metadata": {},
   "outputs": [],
   "source": [
    "def is_royal_flush(hand):\n",
    "    \"\"\"A royal flush consists of Ace, King, Queen, Jack, and Ten of same suit.\"\"\"\n",
    "    empty_faces = [0] * 13\n",
    "    empty_suits = [0] * 4\n",
    "    for card in hand:\n",
    "        empty_faces[faces.index(card[0])] += 1\n",
    "        empty_suits[suits.index(card[1])] += 1\n",
    "    royal_indices = [0, 9, 10, 11, 12]\n",
    "    for i in royal_indices:\n",
    "        if empty_faces[i] != 1 or 5 not in empty_suits:\n",
    "            return False\n",
    "            \n",
    "    return True"
   ]
  },
  {
   "cell_type": "code",
   "execution_count": 32,
   "id": "6f7dc5cc-0c8f-4f92-804b-88229e2021ed",
   "metadata": {},
   "outputs": [],
   "source": [
    "def is_straight_flush(hand):\n",
    "    \"\"\"A Straight Flush is a poker hand that contains five consecutive cards of the same suit.\"\"\"\n",
    "    empty_faces = [0] * 13\n",
    "    empty_suits = [0] * 4\n",
    "    for card in hand:\n",
    "        empty_faces[faces.index(card[0])] += 1\n",
    "        empty_suits[suits.index(card[1])] += 1\n",
    "    start = empty_faces.index(True)\n",
    "    end = start + 4\n",
    "    for i in range(start, end):\n",
    "        if empty_faces[i] != 1 or 5 not in empty_suits:\n",
    "            return False\n",
    "    return True"
   ]
  },
  {
   "cell_type": "code",
   "execution_count": 33,
   "id": "6bc9d4ac-a4a6-4166-b193-81a3f8951bd7",
   "metadata": {},
   "outputs": [],
   "source": [
    "def is_four_of_a_kind(hand):\n",
    "    \"\"\"A Four of a Kind (also called Quads) is a poker hand that contains four cards of the same face value\"\"\"\n",
    "    empty_faces = [0] * 13\n",
    "    for card in hand:\n",
    "        empty_faces[faces.index(card[0])] += 1\n",
    "    if 4 in empty_faces:\n",
    "        return True\n",
    "    else:\n",
    "        return False"
   ]
  },
  {
   "cell_type": "code",
   "execution_count": 34,
   "id": "a613773a-5c06-4938-b0be-ea8a23bf761e",
   "metadata": {},
   "outputs": [],
   "source": [
    "def is_full_house(hand):\n",
    "    \"\"\"A Full House in poker is a hand that contains three cards of one rank and two cards of another rank.\"\"\"\n",
    "    empty_faces = [0] * 13\n",
    "    for card in hand:\n",
    "        empty_faces[faces.index(card[0])] += 1\n",
    "    if 3 in empty_faces and 2 in empty_faces:\n",
    "        return True\n",
    "    return False"
   ]
  },
  {
   "cell_type": "code",
   "execution_count": 35,
   "id": "958ac510-5181-47c0-8403-788ef640e834",
   "metadata": {},
   "outputs": [],
   "source": [
    "def is_flush(hand):\n",
    "    \"\"\"A Flush in poker is a hand that contains five cards of the same suit, not necessarily in sequence.\"\"\"\n",
    "    empty_suits = [0] * 4\n",
    "    for card in hand:\n",
    "        empty_suits[suits.index(card[1])] += 1\n",
    "    if 5 in empty_suits:\n",
    "        return True\n",
    "    else:\n",
    "        return False"
   ]
  },
  {
   "cell_type": "code",
   "execution_count": 36,
   "id": "b55e255f-e0d2-4a7b-98f3-ea00a44c8d50",
   "metadata": {},
   "outputs": [],
   "source": [
    "def is_straight(hand):\n",
    "    \"\"\"A Straight in poker is a hand that contains five consecutive cards in rank, but not all of the same suit.\"\"\"\n",
    "    empty_faces = [0] * 13\n",
    "    for card in hand:\n",
    "        empty_faces[faces.index(card[0])] += 1\n",
    "    start = empty_faces.index(True)\n",
    "    end = start + 4\n",
    "    if end < len(empty_faces):\n",
    "        for i in range(start, end):\n",
    "            if empty_faces[i] != 1:\n",
    "                return False\n",
    "    else:\n",
    "        return False\n",
    "    return True"
   ]
  },
  {
   "cell_type": "code",
   "execution_count": 37,
   "id": "eb9ede7c-2d50-44a0-bd1f-7b0bd9ebc4b7",
   "metadata": {},
   "outputs": [],
   "source": [
    "def is_three_of_a_kind(hand):\n",
    "    \"\"\"A Three of a Kind (also called Trips or Set) is a poker hand that contains three cards of the same rank and \n",
    "    two unrelated cards.\"\"\"\n",
    "    empty_faces = [0] * 13\n",
    "    for card in hand:\n",
    "        empty_faces[faces.index(card[0])] += 1\n",
    "    if 3 in empty_faces and 2 not in empty_faces:\n",
    "        return True\n",
    "    return False"
   ]
  },
  {
   "cell_type": "code",
   "execution_count": 38,
   "id": "939bb8f3-e03c-46b9-b788-0bce550204aa",
   "metadata": {},
   "outputs": [],
   "source": [
    "def is_two_pair(hand):\n",
    "    \"\"\"A Two Pair hand in poker consists of two different pairs of cards with the same rank, plus one extra (kicker) card.\"\"\"\n",
    "    empty_faces = [0] * 13\n",
    "    for card in hand:\n",
    "        empty_faces[faces.index(card[0])] += 1\n",
    "    if empty_faces.count(2) == 2:\n",
    "        return True\n",
    "    return False"
   ]
  },
  {
   "cell_type": "code",
   "execution_count": 39,
   "id": "c78fb099-d6f8-4b4d-b2e4-9a0bcdc782c5",
   "metadata": {},
   "outputs": [],
   "source": [
    "def is_one_pair(hand):\n",
    "    \"\"\"A One Pair hand in poker contains two cards of the same rank and three other cards of different ranks.\"\"\"\n",
    "    empty_faces = [0] * 13\n",
    "    for card in hand:\n",
    "        empty_faces[faces.index(card[0])] += 1\n",
    "    if empty_faces.count(2) == 1 and 3 not in empty_faces:\n",
    "        return True\n",
    "    return False"
   ]
  },
  {
   "cell_type": "code",
   "execution_count": 40,
   "id": "9dadee32-699b-41b4-abd7-b1dc5adbfab1",
   "metadata": {},
   "outputs": [],
   "source": [
    "def check_hand(hand):\n",
    "    \"\"\"check hand and print its rank\"\"\"\n",
    "    # Royal Flush\n",
    "    ans = is_royal_flush(hand)\n",
    "    if ans:\n",
    "        rank = 1\n",
    "        print(f'The hand is a royal flush. Its rank is {rank}')\n",
    "        return rank\n",
    "        \n",
    "    # Straight Flush\n",
    "    ans = is_straight_flush(hand)\n",
    "    if ans:\n",
    "        rank = 2\n",
    "        print(f'The hand is a straight flush. Its rank is {rank}')\n",
    "        return rank\n",
    "        \n",
    "    # Four of a kind\n",
    "    ans = is_four_of_a_kind(hand)\n",
    "    if ans:\n",
    "        rank = 3\n",
    "        print(f'The hand is four of a kind. Its rank is {rank}')\n",
    "        return rank\n",
    "        \n",
    "    # Full House\n",
    "    ans = is_full_house(hand)\n",
    "    if ans:\n",
    "        rank = 4\n",
    "        print(f'The hand is a full house. Its rank is {rank}')\n",
    "        return rank\n",
    "        \n",
    "    # Flush\n",
    "    ans = is_flush(hand)\n",
    "    if ans:\n",
    "        rank = 5\n",
    "        print(f'The hand is a flush. Its rank is {rank}')\n",
    "        return rank\n",
    "        \n",
    "    # Straight\n",
    "    ans = is_straight(hand)\n",
    "    if ans:\n",
    "        rank = 6\n",
    "        print(f'The hand is a straight. Its rank is {rank}')\n",
    "        return rank\n",
    "        \n",
    "    # Three of a kind\n",
    "    ans = is_three_of_a_kind(hand)\n",
    "    if ans:\n",
    "        rank = 7\n",
    "        print(f'The hand is three of a kind. Its rank is {rank}')\n",
    "        return rank\n",
    "        \n",
    "    # Two pair\n",
    "    ans = is_two_pair(hand)\n",
    "    if ans:\n",
    "        rank = 8\n",
    "        print(f'The hand is a two pair. Its rank is {rank}')\n",
    "        return rank\n",
    "        \n",
    "    # One pair\n",
    "    ans = is_one_pair(hand)\n",
    "    if ans:\n",
    "        rank = 9\n",
    "        print(f'The hand is a one pair. Its rank is {rank}')\n",
    "        return rank\n",
    "        \n",
    "    if ans == False:\n",
    "        rank = 10\n",
    "        print('The hand is a high card. Its rank is 10')\n",
    "        return rank"
   ]
  },
  {
   "cell_type": "code",
   "execution_count": 44,
   "id": "fe6818a9-f291-40d5-b0a3-c359251b5de8",
   "metadata": {},
   "outputs": [
    {
     "name": "stdout",
     "output_type": "stream",
     "text": [
      "Five of Clubs             \tNine of Hearts            \tFour of Hearts            \tJack of Spades            \t\n",
      "Three of Hearts            \t"
     ]
    }
   ],
   "source": [
    "hand = initialize_deck()\n",
    "output_deck(hand)"
   ]
  },
  {
   "cell_type": "code",
   "execution_count": 45,
   "id": "0f7ee6a2-bf5a-4ed6-99a5-ce8bb19e8834",
   "metadata": {},
   "outputs": [
    {
     "name": "stdout",
     "output_type": "stream",
     "text": [
      "The hand is a high card. Its rank is 10\n"
     ]
    }
   ],
   "source": [
    "rank = check_hand(hand)"
   ]
  },
  {
   "cell_type": "code",
   "execution_count": null,
   "id": "b5946c61-c070-46a1-a586-6dba628ee7db",
   "metadata": {},
   "outputs": [],
   "source": []
  },
  {
   "cell_type": "code",
   "execution_count": null,
   "id": "4dd8459f-188b-41d8-a681-24a8e12b6da7",
   "metadata": {},
   "outputs": [],
   "source": []
  }
 ],
 "metadata": {
  "kernelspec": {
   "display_name": "Python [conda env:base] *",
   "language": "python",
   "name": "conda-base-py"
  },
  "language_info": {
   "codemirror_mode": {
    "name": "ipython",
    "version": 3
   },
   "file_extension": ".py",
   "mimetype": "text/x-python",
   "name": "python",
   "nbconvert_exporter": "python",
   "pygments_lexer": "ipython3",
   "version": "3.13.5"
  }
 },
 "nbformat": 4,
 "nbformat_minor": 5
}
