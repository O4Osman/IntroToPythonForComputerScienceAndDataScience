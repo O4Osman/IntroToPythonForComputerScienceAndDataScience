{
 "cells": [
  {
   "cell_type": "code",
   "execution_count": null,
   "id": "d5fc8bd7-4c30-4613-8e50-ad6d36055413",
   "metadata": {},
   "outputs": [],
   "source": [
    "\"\"\"\n",
    "\n",
    "5.18 (Summing the Triples of the Even Integers from 2 through 10) Starting with a list containing 1 through 10, use filter, \n",
    "map and sum to calculate the total of the triples of the even integers from 2 through 10. Reimplement your code with list \n",
    "comprehensions rather than filter and map.\n",
    "\n",
    "\"\"\""
   ]
  },
  {
   "cell_type": "code",
   "execution_count": 1,
   "id": "5940fda9-8801-4023-b683-86f80e741b7f",
   "metadata": {},
   "outputs": [],
   "source": [
    "numbers = list(range(1, 11))"
   ]
  },
  {
   "cell_type": "code",
   "execution_count": 2,
   "id": "cab4b8af-4f79-4256-a0bf-a40ced25353f",
   "metadata": {},
   "outputs": [
    {
     "data": {
      "text/plain": [
       "90"
      ]
     },
     "execution_count": 2,
     "metadata": {},
     "output_type": "execute_result"
    }
   ],
   "source": [
    "sum(list(map(lambda x: x * 3, filter(lambda x: x % 2 == 0, numbers))))"
   ]
  },
  {
   "cell_type": "code",
   "execution_count": 4,
   "id": "2be26b87-3025-4854-9a89-3262eedf6bfd",
   "metadata": {},
   "outputs": [
    {
     "data": {
      "text/plain": [
       "90"
      ]
     },
     "execution_count": 4,
     "metadata": {},
     "output_type": "execute_result"
    }
   ],
   "source": [
    "# Reimplementing the logic using list comprehensions\n",
    "sum([x * 3 for x in numbers if x % 2 == 0])"
   ]
  },
  {
   "cell_type": "code",
   "execution_count": null,
   "id": "6aaeb977-693d-4dc9-a151-4e20ec5d18a6",
   "metadata": {},
   "outputs": [],
   "source": []
  }
 ],
 "metadata": {
  "kernelspec": {
   "display_name": "Python [conda env:base] *",
   "language": "python",
   "name": "conda-base-py"
  },
  "language_info": {
   "codemirror_mode": {
    "name": "ipython",
    "version": 3
   },
   "file_extension": ".py",
   "mimetype": "text/x-python",
   "name": "python",
   "nbconvert_exporter": "python",
   "pygments_lexer": "ipython3",
   "version": "3.13.5"
  }
 },
 "nbformat": 4,
 "nbformat_minor": 5
}
