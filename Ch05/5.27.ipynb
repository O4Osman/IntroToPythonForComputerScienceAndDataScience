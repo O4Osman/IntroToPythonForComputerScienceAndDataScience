{
 "cells": [
  {
   "cell_type": "code",
   "execution_count": null,
   "id": "9a2ba3ed-80ef-4d61-b62d-b629fc8233f1",
   "metadata": {},
   "outputs": [],
   "source": [
    "\"\"\"\n",
    "\n",
    "5.27 (Intro to Data Science: Duplicate Elimination and Counting Frequencies) Use a list comprehension to create a \n",
    "list of 50 random values in the range 1 through 10. Use NumPy’s unique function to obtain the unique values and their \n",
    "frequencies. Display the results.\n",
    "\n",
    "\"\"\""
   ]
  },
  {
   "cell_type": "code",
   "execution_count": 4,
   "id": "3b778418-5088-4f93-b8f2-6f65503cc265",
   "metadata": {},
   "outputs": [],
   "source": [
    "import random\n",
    "import numpy as np"
   ]
  },
  {
   "cell_type": "code",
   "execution_count": 2,
   "id": "3749fd67-df32-4762-834c-78b1862819b2",
   "metadata": {},
   "outputs": [],
   "source": [
    "numbers = [random.randrange(1, 11) for i in range(50)]"
   ]
  },
  {
   "cell_type": "code",
   "execution_count": 5,
   "id": "ae756c7d-949d-4cdd-a959-bbc44e1d51fd",
   "metadata": {},
   "outputs": [],
   "source": [
    "values, frequencies = np.unique(numbers, return_counts=True)"
   ]
  },
  {
   "cell_type": "code",
   "execution_count": 8,
   "id": "58e92a1a-30ee-41a4-b22b-751a0b6cdfe0",
   "metadata": {},
   "outputs": [
    {
     "name": "stdout",
     "output_type": "stream",
     "text": [
      "Value\tFrequency\n",
      "1\t2\n",
      "2\t3\n",
      "3\t6\n",
      "4\t4\n",
      "5\t10\n",
      "6\t5\n",
      "7\t3\n",
      "8\t7\n",
      "9\t3\n",
      "10\t7\n"
     ]
    }
   ],
   "source": [
    "print('Value\\tFrequency')\n",
    "for t in zip(values, frequencies):\n",
    "    print(f'{t[0]}\\t{t[1]}')"
   ]
  },
  {
   "cell_type": "code",
   "execution_count": null,
   "id": "1ffd91b4-e7bb-4fdd-b699-dfea0d37a232",
   "metadata": {},
   "outputs": [],
   "source": []
  }
 ],
 "metadata": {
  "kernelspec": {
   "display_name": "Python [conda env:base] *",
   "language": "python",
   "name": "conda-base-py"
  },
  "language_info": {
   "codemirror_mode": {
    "name": "ipython",
    "version": 3
   },
   "file_extension": ".py",
   "mimetype": "text/x-python",
   "name": "python",
   "nbconvert_exporter": "python",
   "pygments_lexer": "ipython3",
   "version": "3.13.5"
  }
 },
 "nbformat": 4,
 "nbformat_minor": 5
}
