{
 "cells": [
  {
   "cell_type": "code",
   "execution_count": null,
   "id": "5a06726f-7ad0-4d4c-a8c8-0ee2e72fc3fd",
   "metadata": {},
   "outputs": [],
   "source": [
    "\"\"\"\n",
    "\n",
    "5.1 (What’s Wrong with This Code?) What, if anything, is wrong with each of the following code segments?\n",
    "\n",
    "\"\"\""
   ]
  },
  {
   "cell_type": "code",
   "execution_count": null,
   "id": "eb2d2416-41de-44d7-8d0a-7b85f8a41e9f",
   "metadata": {},
   "outputs": [],
   "source": [
    "\"\"\"\n",
    "\n",
    "day, high_temperature = ('Monday', 87, 65)\n",
    "\n",
    "\"\"\"\n",
    "\n",
    "# tuple have 3 items but this statement is trying to slice items from tuple but it is providing only\n",
    "# two variables however there are three values to it will produce \"ValueError\"\n"
   ]
  },
  {
   "cell_type": "code",
   "execution_count": null,
   "id": "942920ba-7948-441e-996f-bb724ca882ad",
   "metadata": {},
   "outputs": [],
   "source": [
    "\"\"\"\n",
    "\n",
    "numbers = [1, 2, 3, 4, 5]\n",
    "numbers[10]\n",
    "\n",
    "\"\"\"\n",
    "\n",
    "# numbers list have only 5 values so its starting index will be 0 and last index will be 4.\n",
    "# the numbers[10] is trying to access element at index 10 which does not exist so it will produce \"IndexError\""
   ]
  },
  {
   "cell_type": "code",
   "execution_count": null,
   "id": "e5a5cbec-111f-445a-a082-d03e4c956534",
   "metadata": {},
   "outputs": [],
   "source": [
    "\"\"\"\n",
    "\n",
    "name = 'amanda'\n",
    "name[0] = 'A'\n",
    "\n",
    "\"\"\"\n",
    "\n",
    "# name[0] is trying to slice element at 0th index but it only works with mutable collections i.e list"
   ]
  },
  {
   "cell_type": "code",
   "execution_count": null,
   "id": "998792c6-0f3f-44e1-9ef7-ccd6a92f92ff",
   "metadata": {},
   "outputs": [],
   "source": [
    "\"\"\"\n",
    "\n",
    "numbers = [1, 2, 3, 4, 5]\n",
    "numbers[3.4]\n",
    "\n",
    "\"\"\"\n",
    "\n",
    "# index values are integer numbers but numbers[3.4] is trying to access an element using float index\n",
    "# it will produce \"TypeError\""
   ]
  },
  {
   "cell_type": "code",
   "execution_count": null,
   "id": "ac9ef288-9ae9-4e36-9ec1-eb84f42f7e2b",
   "metadata": {},
   "outputs": [],
   "source": [
    "\"\"\"\n",
    "\n",
    "student_tuple = ('Amanda', 'Blue', [98, 75, 87])\n",
    "student_tuple[0] = 'Ariana'\n",
    "\n",
    "\"\"\"\n",
    "\n",
    "# we need to provide same numbers of variables as the tuple's length to slice tuple's elements\n",
    "# student_tuple[0] would world if it was a list but it will produce \"ValueError\""
   ]
  },
  {
   "cell_type": "code",
   "execution_count": null,
   "id": "34df4680-aece-4889-beae-0adb0a59a521",
   "metadata": {},
   "outputs": [],
   "source": [
    "\"\"\"\n",
    "\n",
    "('Monday', 87, 65) + 'Tuesday'\n",
    "\n",
    "\"\"\"\n",
    "\n",
    "# Only collections of same types are concatenated for example list + list, tuple + tuple, string + string\n",
    "# concatenating different types of collections would produce \"TypeError\""
   ]
  },
  {
   "cell_type": "code",
   "execution_count": null,
   "id": "62205522-3a21-40c9-b011-2ea782728b67",
   "metadata": {},
   "outputs": [],
   "source": [
    "\"\"\"\n",
    "\n",
    "'A' += ('B', 'C')\n",
    "\n",
    "\"\"\"\n",
    "\n",
    "# First error is that it is trying to assing a concatenation of string and tuple to a string not a variable but if 'A' was \n",
    "# variable this statement would produce \"TypeError\" as it is trying to += augumented assignment to concatenate string \n",
    "# with tuple. It would only work if both left and right sides are a collection for example list += list or tuple += tuple or\n",
    "# sring += string."
   ]
  },
  {
   "cell_type": "code",
   "execution_count": null,
   "id": "9bbf5392-5881-40d4-aa9c-cafd50f1bb57",
   "metadata": {},
   "outputs": [],
   "source": [
    "\"\"\"\n",
    "\n",
    "x = 7\n",
    "del x\n",
    "print(x)\n",
    "\n",
    "\"\"\"\n",
    "\n",
    "# This statement will produce \"NameError\" becuase del x delete the variable x so print x would lead to \"NameError\""
   ]
  },
  {
   "cell_type": "code",
   "execution_count": null,
   "id": "60740cf6-6c6c-4a59-829e-42d29d1f16bc",
   "metadata": {},
   "outputs": [],
   "source": [
    "\"\"\"\n",
    "\n",
    "numbers = [1, 2, 3, 4, 5]\n",
    "numbers.index(10)\n",
    "\n",
    "\"\"\"\n",
    "\n",
    "# searching a value in list will produce \"ValueError\" if that value does't exist in the list"
   ]
  },
  {
   "cell_type": "code",
   "execution_count": null,
   "id": "42d1db59-a4c7-495a-97c3-26fbc2ae0786",
   "metadata": {},
   "outputs": [],
   "source": [
    "\"\"\"\n",
    "\n",
    "numbers = [1, 2, 3, 4, 5]\n",
    "numbers.extend(6, 7, 8)\n",
    "\n",
    "\"\"\"\n",
    "\n",
    "# extend method would work if a collection was passed as an argument. but 6, 7, 8 are three seperate values.\n",
    "# it will lead to \"TypeError\""
   ]
  },
  {
   "cell_type": "code",
   "execution_count": null,
   "id": "1371a9d7-ff2b-4a2c-803d-9c890c097afd",
   "metadata": {},
   "outputs": [],
   "source": [
    "\"\"\"\n",
    "\n",
    "numbers = [1, 2, 3, 4, 5]\n",
    "numbers.remove(10)\n",
    "\n",
    "\"\"\"\n",
    "\n",
    "# remove method will remove first occurence of value passed as argument. But it will lead to \"ValueError\" if \n",
    "# passed value does't exist in the list"
   ]
  },
  {
   "cell_type": "code",
   "execution_count": null,
   "id": "91de991f-7c04-4f57-bc2c-e28cc54fb852",
   "metadata": {},
   "outputs": [],
   "source": [
    "\"\"\"\n",
    "\n",
    "values = []\n",
    "values.pop()\n",
    "\n",
    "\"\"\"\n",
    "# it is trying to pop element from an empty list. It will lead to a \"IndexError\""
   ]
  }
 ],
 "metadata": {
  "kernelspec": {
   "display_name": "Python [conda env:base] *",
   "language": "python",
   "name": "conda-base-py"
  },
  "language_info": {
   "codemirror_mode": {
    "name": "ipython",
    "version": 3
   },
   "file_extension": ".py",
   "mimetype": "text/x-python",
   "name": "python",
   "nbconvert_exporter": "python",
   "pygments_lexer": "ipython3",
   "version": "3.13.5"
  }
 },
 "nbformat": 4,
 "nbformat_minor": 5
}
