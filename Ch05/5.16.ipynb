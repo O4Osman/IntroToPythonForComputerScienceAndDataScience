{
 "cells": [
  {
   "cell_type": "code",
   "execution_count": null,
   "id": "fcd98fc4-4b41-4ae2-8432-47564766acd6",
   "metadata": {},
   "outputs": [],
   "source": [
    "\"\"\"\n",
    "\n",
    "5.16 (Sorting Letters and Removing Duplicates) Insert 20 random letters in the range 'a' through 'f' into a list. \n",
    "Perform the following tasks and display your results: \n",
    "\n",
    "A) Sort the list in ascending order.\n",
    "B) Sort the list in descending order.\n",
    "C) Get the unique values sort them in ascending order.\n",
    "\n",
    "\"\"\""
   ]
  },
  {
   "cell_type": "code",
   "execution_count": 6,
   "id": "2ff09f06-13a6-400c-a9b8-4d91c735acdf",
   "metadata": {},
   "outputs": [],
   "source": [
    "import random"
   ]
  },
  {
   "cell_type": "code",
   "execution_count": 11,
   "id": "ebb0f9ee-bf49-4107-b9b6-dae71027c955",
   "metadata": {},
   "outputs": [],
   "source": [
    "letters = ['a', 'b', 'c', 'd', 'e', 'f']\n",
    "list1 = []\n",
    "for _ in range(20):\n",
    "    index = random.randrange(0, len(letters))\n",
    "    list1 += letters[index]"
   ]
  },
  {
   "cell_type": "code",
   "execution_count": 12,
   "id": "b8468a35-7079-4ff3-9ce9-e83a48b503d9",
   "metadata": {},
   "outputs": [
    {
     "data": {
      "text/plain": [
       "['a',\n",
       " 'a',\n",
       " 'a',\n",
       " 'b',\n",
       " 'c',\n",
       " 'c',\n",
       " 'd',\n",
       " 'e',\n",
       " 'e',\n",
       " 'e',\n",
       " 'e',\n",
       " 'e',\n",
       " 'e',\n",
       " 'e',\n",
       " 'e',\n",
       " 'e',\n",
       " 'f',\n",
       " 'f',\n",
       " 'f',\n",
       " 'f']"
      ]
     },
     "execution_count": 12,
     "metadata": {},
     "output_type": "execute_result"
    }
   ],
   "source": [
    "# A)\n",
    "sorted(list1)"
   ]
  },
  {
   "cell_type": "code",
   "execution_count": 13,
   "id": "a8aea7e7-6dd6-4dd3-964d-c6082b1b1c43",
   "metadata": {},
   "outputs": [
    {
     "data": {
      "text/plain": [
       "['f',\n",
       " 'f',\n",
       " 'f',\n",
       " 'f',\n",
       " 'e',\n",
       " 'e',\n",
       " 'e',\n",
       " 'e',\n",
       " 'e',\n",
       " 'e',\n",
       " 'e',\n",
       " 'e',\n",
       " 'e',\n",
       " 'd',\n",
       " 'c',\n",
       " 'c',\n",
       " 'b',\n",
       " 'a',\n",
       " 'a',\n",
       " 'a']"
      ]
     },
     "execution_count": 13,
     "metadata": {},
     "output_type": "execute_result"
    }
   ],
   "source": [
    "# B)\n",
    "sorted(list1, reverse=True)"
   ]
  },
  {
   "cell_type": "code",
   "execution_count": 24,
   "id": "70d6a457-4e86-4111-9eed-18ef81400b84",
   "metadata": {},
   "outputs": [
    {
     "data": {
      "text/plain": [
       "['a', 'b', 'c', 'd', 'e', 'f']"
      ]
     },
     "execution_count": 24,
     "metadata": {},
     "output_type": "execute_result"
    }
   ],
   "source": [
    "list2 = []\n",
    "[list2.append(x) for x in list1 if x not in list2]\n",
    "list2.sort()\n",
    "list2"
   ]
  },
  {
   "cell_type": "code",
   "execution_count": null,
   "id": "36ee50f2-d9dc-45f3-9a1d-1a04647c8c2c",
   "metadata": {},
   "outputs": [],
   "source": []
  }
 ],
 "metadata": {
  "kernelspec": {
   "display_name": "Python [conda env:base] *",
   "language": "python",
   "name": "conda-base-py"
  },
  "language_info": {
   "codemirror_mode": {
    "name": "ipython",
    "version": 3
   },
   "file_extension": ".py",
   "mimetype": "text/x-python",
   "name": "python",
   "nbconvert_exporter": "python",
   "pygments_lexer": "ipython3",
   "version": "3.13.5"
  }
 },
 "nbformat": 4,
 "nbformat_minor": 5
}
