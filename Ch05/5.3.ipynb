{
 "cells": [
  {
   "cell_type": "code",
   "execution_count": null,
   "id": "d7b0b3ac-74cc-475a-ab08-e1a080a5b819",
   "metadata": {},
   "outputs": [],
   "source": [
    "\"\"\"\n",
    "\n",
    "5.3 (Fill in the Missing Code) Replace the ***s in the following list comprehension and map function call, such that \n",
    "given a list of heights in inches, the code maps the list to a list of tuples containing the original height values \n",
    "and their corresponding values in meters. For example, if one element in the original list contains the height 69 \n",
    "inches, the corresponding element in the new list will contain the tuple (69, 1.7526), representing both the height \n",
    "in inches and the height in meters. There are 0.0254 meters per inch. \n",
    "\n",
    "[*** for x in [69, 77, 54]]\n",
    "list(map(lambda ***, [69, 77, 54]))\n",
    "\n",
    "\"\"\""
   ]
  },
  {
   "cell_type": "code",
   "execution_count": 5,
   "id": "60e207e3-a1d1-4ce8-8e1e-58ee3a97216c",
   "metadata": {},
   "outputs": [
    {
     "data": {
      "text/plain": [
       "[(69, 1.7526), (77, 1.9558), (54, 1.3716)]"
      ]
     },
     "execution_count": 5,
     "metadata": {},
     "output_type": "execute_result"
    }
   ],
   "source": [
    "[(x, x * 0.0254) for x in [69, 77, 54]]"
   ]
  },
  {
   "cell_type": "code",
   "execution_count": 6,
   "id": "e69eff1f-14ca-434f-9165-8b64aa4b8ef8",
   "metadata": {},
   "outputs": [
    {
     "data": {
      "text/plain": [
       "[(69, 1.7526), (77, 1.9558), (54, 1.3716)]"
      ]
     },
     "execution_count": 6,
     "metadata": {},
     "output_type": "execute_result"
    }
   ],
   "source": [
    "list(map(lambda x: (x, x * 0.0254), [69, 77, 54]))"
   ]
  },
  {
   "cell_type": "code",
   "execution_count": null,
   "id": "a5f0a4b7-71ef-49d2-8279-353c4f16a05c",
   "metadata": {},
   "outputs": [],
   "source": []
  }
 ],
 "metadata": {
  "kernelspec": {
   "display_name": "Python [conda env:base] *",
   "language": "python",
   "name": "conda-base-py"
  },
  "language_info": {
   "codemirror_mode": {
    "name": "ipython",
    "version": 3
   },
   "file_extension": ".py",
   "mimetype": "text/x-python",
   "name": "python",
   "nbconvert_exporter": "python",
   "pygments_lexer": "ipython3",
   "version": "3.13.5"
  }
 },
 "nbformat": 4,
 "nbformat_minor": 5
}
