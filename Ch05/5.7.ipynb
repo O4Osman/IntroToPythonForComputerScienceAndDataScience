{
 "cells": [
  {
   "cell_type": "code",
   "execution_count": null,
   "id": "919ffc5b-3ef5-40ee-a673-78a580542191",
   "metadata": {},
   "outputs": [],
   "source": [
    "\"\"\"\n",
    "\n",
    "only the unique values in sorted order. Test your function with a list of numbers and a list of strings.\n",
    "\n",
    "\"\"\""
   ]
  },
  {
   "cell_type": "code",
   "execution_count": 1,
   "id": "4c36f42c-495f-4c55-96af-c2a82517f4ae",
   "metadata": {},
   "outputs": [],
   "source": [
    "numbers = [45, 65, 58, 121, 45, 64, 987, 654, 32, 687, 64, 987]"
   ]
  },
  {
   "cell_type": "code",
   "execution_count": 41,
   "id": "b9fc9d98-761f-42d0-879e-9a9bd9dbabe9",
   "metadata": {},
   "outputs": [],
   "source": [
    "strings = ['blue', 'Red' , 'green', 'Black', 'Blue', 'white', 'yellow', 'orange', 'Red']"
   ]
  },
  {
   "cell_type": "code",
   "execution_count": 42,
   "id": "72269bc3-8f12-4b66-a1ea-e767760d2007",
   "metadata": {},
   "outputs": [],
   "source": [
    "def shortner(list1):\n",
    "    \"\"\"returns a sorted list with unique values\"\"\"\n",
    "    list2 = []\n",
    "    [list2.append(item) for item in list1 if item not in list2]\n",
    "    list2.sort()\n",
    "    return list2"
   ]
  },
  {
   "cell_type": "code",
   "execution_count": 43,
   "id": "86c5f48c-dc22-45fa-98f2-4231cdca9a17",
   "metadata": {},
   "outputs": [
    {
     "data": {
      "text/plain": [
       "[32, 45, 58, 64, 65, 121, 654, 687, 987]"
      ]
     },
     "execution_count": 43,
     "metadata": {},
     "output_type": "execute_result"
    }
   ],
   "source": [
    "shortner(numbers)"
   ]
  },
  {
   "cell_type": "code",
   "execution_count": 44,
   "id": "00e2f763-e5d8-4174-ab91-6fbd1ca77899",
   "metadata": {},
   "outputs": [
    {
     "data": {
      "text/plain": [
       "['Black', 'Blue', 'Red', 'blue', 'green', 'orange', 'white', 'yellow']"
      ]
     },
     "execution_count": 44,
     "metadata": {},
     "output_type": "execute_result"
    }
   ],
   "source": [
    "shortner(strings)"
   ]
  },
  {
   "cell_type": "code",
   "execution_count": null,
   "id": "891189d3-e56d-4f9e-9d8c-f24eeeb04166",
   "metadata": {},
   "outputs": [],
   "source": []
  }
 ],
 "metadata": {
  "kernelspec": {
   "display_name": "Python [conda env:base] *",
   "language": "python",
   "name": "conda-base-py"
  },
  "language_info": {
   "codemirror_mode": {
    "name": "ipython",
    "version": 3
   },
   "file_extension": ".py",
   "mimetype": "text/x-python",
   "name": "python",
   "nbconvert_exporter": "python",
   "pygments_lexer": "ipython3",
   "version": "3.13.5"
  }
 },
 "nbformat": 4,
 "nbformat_minor": 5
}
