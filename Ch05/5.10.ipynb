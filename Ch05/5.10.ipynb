{
 "cells": [
  {
   "cell_type": "code",
   "execution_count": null,
   "id": "f7641937-4d6b-4dd6-9005-b7d2d3265c3e",
   "metadata": {},
   "outputs": [],
   "source": [
    "\"\"\"\n",
    "\n",
    "5.10 (Anagrams) An anagram of a string is another string formed by rearranging the letters in the first. \n",
    "Write a script that produces all possible anagrams of a given string using only techniques that you’ve seen to this \n",
    "point in the book. [The itertools module provides many functions, including one that produces permutations.]\n",
    "\n",
    "\"\"\""
   ]
  },
  {
   "cell_type": "code",
   "execution_count": 1,
   "id": "653e69e3-bb8b-4016-9b48-d063a0938f40",
   "metadata": {},
   "outputs": [],
   "source": [
    "def func(arg):\n",
    "    \"\"\"Return all possible anagrams of a given string\"\"\"\n",
    "    give_string = []\n",
    "    give_string += arg\n",
    "    string_length = len(give_string)\n",
    "    if string_length > 2:\n",
    "        final_result = []\n",
    "        for i in range(string_length):\n",
    "            first_element = give_string[i]\n",
    "            remeaning_array = give_string[:i] + give_string[i+1:]\n",
    "            result = func(remeaning_array)\n",
    "            for j in result:\n",
    "                j.insert(0, first_element)\n",
    "                final_result.append(j)\n",
    "        return final_result\n",
    "    elif string_length == 2:\n",
    "        a = [give_string[0], give_string[1]]\n",
    "        b = [give_string[1], give_string[0]]\n",
    "        return [a, b]\n",
    "    else:\n",
    "        return (give_string[0])   "
   ]
  },
  {
   "cell_type": "code",
   "execution_count": 2,
   "id": "8f3bc76c-5cab-4f2c-b035-54300f06fbe0",
   "metadata": {},
   "outputs": [],
   "source": [
    "def print_result(result):\n",
    "    \"\"\"print the list as a tuple\"\"\"\n",
    "    if len(result) == 1:\n",
    "        print((result[0],))\n",
    "    else:\n",
    "        for index, value in enumerate(result):\n",
    "            t = ()\n",
    "            for item in value:\n",
    "                t += (item,)\n",
    "            print(t)"
   ]
  },
  {
   "cell_type": "code",
   "execution_count": 17,
   "id": "ad3af8f4-1d2a-4e28-ad7c-e12a89086439",
   "metadata": {},
   "outputs": [],
   "source": [
    "a = 'abcd'"
   ]
  },
  {
   "cell_type": "code",
   "execution_count": 18,
   "id": "1058f112-ee63-47ab-aafb-b9b8558d126d",
   "metadata": {},
   "outputs": [],
   "source": [
    "result = func(a)"
   ]
  },
  {
   "cell_type": "code",
   "execution_count": 19,
   "id": "81b0e29d-c73b-487d-b667-72b74f0bad9c",
   "metadata": {},
   "outputs": [
    {
     "name": "stdout",
     "output_type": "stream",
     "text": [
      "('a', 'b', 'c', 'd')\n",
      "('a', 'b', 'd', 'c')\n",
      "('a', 'c', 'b', 'd')\n",
      "('a', 'c', 'd', 'b')\n",
      "('a', 'd', 'b', 'c')\n",
      "('a', 'd', 'c', 'b')\n",
      "('b', 'a', 'c', 'd')\n",
      "('b', 'a', 'd', 'c')\n",
      "('b', 'c', 'a', 'd')\n",
      "('b', 'c', 'd', 'a')\n",
      "('b', 'd', 'a', 'c')\n",
      "('b', 'd', 'c', 'a')\n",
      "('c', 'a', 'b', 'd')\n",
      "('c', 'a', 'd', 'b')\n",
      "('c', 'b', 'a', 'd')\n",
      "('c', 'b', 'd', 'a')\n",
      "('c', 'd', 'a', 'b')\n",
      "('c', 'd', 'b', 'a')\n",
      "('d', 'a', 'b', 'c')\n",
      "('d', 'a', 'c', 'b')\n",
      "('d', 'b', 'a', 'c')\n",
      "('d', 'b', 'c', 'a')\n",
      "('d', 'c', 'a', 'b')\n",
      "('d', 'c', 'b', 'a')\n"
     ]
    }
   ],
   "source": [
    "print_result(sorted(result))"
   ]
  },
  {
   "cell_type": "code",
   "execution_count": null,
   "id": "060f28be-8d2c-46aa-9116-a5cb913b4d4e",
   "metadata": {},
   "outputs": [],
   "source": []
  },
  {
   "cell_type": "code",
   "execution_count": null,
   "id": "b47821b3-ad83-4a46-be64-bd5413f5996f",
   "metadata": {},
   "outputs": [],
   "source": []
  }
 ],
 "metadata": {
  "kernelspec": {
   "display_name": "Python [conda env:base] *",
   "language": "python",
   "name": "conda-base-py"
  },
  "language_info": {
   "codemirror_mode": {
    "name": "ipython",
    "version": 3
   },
   "file_extension": ".py",
   "mimetype": "text/x-python",
   "name": "python",
   "nbconvert_exporter": "python",
   "pygments_lexer": "ipython3",
   "version": "3.13.5"
  }
 },
 "nbformat": 4,
 "nbformat_minor": 5
}
