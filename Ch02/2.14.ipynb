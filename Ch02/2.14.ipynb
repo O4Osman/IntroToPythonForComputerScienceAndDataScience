{
 "cells": [
  {
   "cell_type": "raw",
   "id": "8661721a-1083-4def-bebe-1e30119140a9",
   "metadata": {},
   "source": [
    "\"\"\"\n",
    "\n",
    "2.14 (Target Heart-Rate Calculator) While exercising, you can use a heart-rate monitor to see that your heart rate \n",
    "stays within a safe range suggested by your doctors and trainers. According to the American Heart Association (AHA) \n",
    "(http://bit.ly/AHATargetHeartRates), the formula for calculating your maximum heart rate in beats per minute is \n",
    "220 minus your age in years. Your target heart rate is 50–85% of your maximum heart rate. Write a script that prompts \n",
    "for and inputs the user’s age and calculates and displays the user’s maximum heart rate and the range of the user’s \n",
    "target heart rate. [These formulas are estimates provided by the AHA; maximum and target heart rates may vary based on \n",
    "the health, fitness and gender of the individual. Always consult a physician or qualified healthcare professional before \n",
    "beginning or modifying an exercise program.]\n",
    "\n",
    "\n",
    "\"\"\""
   ]
  },
  {
   "cell_type": "code",
   "execution_count": 1,
   "id": "5b23d55a-41dc-441d-96ed-fb8c4b8c695a",
   "metadata": {},
   "outputs": [
    {
     "name": "stdin",
     "output_type": "stream",
     "text": [
      "Enter your age:  26\n"
     ]
    }
   ],
   "source": [
    "age = int(input('Enter your age: '))"
   ]
  },
  {
   "cell_type": "code",
   "execution_count": 2,
   "id": "d1e9bc2a-1a3e-4b35-b5c9-7be789ab4ebc",
   "metadata": {},
   "outputs": [],
   "source": [
    "maximum_heart_rate = 220 - age"
   ]
  },
  {
   "cell_type": "code",
   "execution_count": 3,
   "id": "f0f14e5b-a466-4bf6-b05c-24378f9375e8",
   "metadata": {},
   "outputs": [],
   "source": [
    "lower_range = maximum_heart_rate / 100 * 50"
   ]
  },
  {
   "cell_type": "code",
   "execution_count": 4,
   "id": "9a68a7b7-da52-4974-bcec-4915027c8162",
   "metadata": {},
   "outputs": [],
   "source": [
    "upper_range = maximum_heart_rate / 100 * 85"
   ]
  },
  {
   "cell_type": "code",
   "execution_count": 7,
   "id": "3f9755f3-3a3a-4216-bf12-db32fbd786de",
   "metadata": {},
   "outputs": [
    {
     "name": "stdout",
     "output_type": "stream",
     "text": [
      "Your maximum heart rate is: 194\n"
     ]
    }
   ],
   "source": [
    "print('Your maximum heart rate is:', maximum_heart_rate)"
   ]
  },
  {
   "cell_type": "code",
   "execution_count": 6,
   "id": "6f971c83-e964-444f-8f92-e47eb778d679",
   "metadata": {},
   "outputs": [
    {
     "name": "stdout",
     "output_type": "stream",
     "text": [
      "Range of your target heart rate is: 97.0 - 164.9\n"
     ]
    }
   ],
   "source": [
    "print('Range of your target heart rate is:', lower_range,'-', upper_range)"
   ]
  },
  {
   "cell_type": "code",
   "execution_count": null,
   "id": "bc281606-2907-48d2-a9ca-a5ba90756325",
   "metadata": {},
   "outputs": [],
   "source": []
  }
 ],
 "metadata": {
  "kernelspec": {
   "display_name": "Python [conda env:base] *",
   "language": "python",
   "name": "conda-base-py"
  },
  "language_info": {
   "codemirror_mode": {
    "name": "ipython",
    "version": 3
   },
   "file_extension": ".py",
   "mimetype": "text/x-python",
   "name": "python",
   "nbconvert_exporter": "python",
   "pygments_lexer": "ipython3",
   "version": "3.13.5"
  }
 },
 "nbformat": 4,
 "nbformat_minor": 5
}
