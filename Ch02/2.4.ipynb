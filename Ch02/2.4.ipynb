{
 "cells": [
  {
   "cell_type": "code",
   "execution_count": null,
   "id": "c1ebaf41-af09-45f2-a9ed-7dde977757d4",
   "metadata": {},
   "outputs": [],
   "source": [
    "\"\"\"\n",
    "\n",
    "2.4 (Arithmetic) For each of the arithmetic operators +, -, *, /, // and **, display the value of an expression with 27.5 \n",
    "as the left operand and 2 as the right operand.\n",
    "\n",
    "\"\"\""
   ]
  },
  {
   "cell_type": "code",
   "execution_count": 1,
   "id": "9778191c-2aff-4fa4-84e7-5296f180d8fa",
   "metadata": {},
   "outputs": [],
   "source": [
    "left_operand = 27.5"
   ]
  },
  {
   "cell_type": "code",
   "execution_count": 2,
   "id": "66ef1526-38ce-432a-afea-b139049865c5",
   "metadata": {},
   "outputs": [],
   "source": [
    "right_operand = 2"
   ]
  },
  {
   "cell_type": "code",
   "execution_count": 3,
   "id": "373793d4-ee98-4cc7-87d9-26c7ee648c75",
   "metadata": {},
   "outputs": [
    {
     "name": "stdout",
     "output_type": "stream",
     "text": [
      "Result of + is: 29.5\n"
     ]
    }
   ],
   "source": [
    "print('Result of + is:', left_operand + right_operand) "
   ]
  },
  {
   "cell_type": "code",
   "execution_count": 5,
   "id": "d98ea891-e165-4389-8dcd-52f1f756e226",
   "metadata": {},
   "outputs": [
    {
     "name": "stdout",
     "output_type": "stream",
     "text": [
      "Result of - is: 25.5\n"
     ]
    }
   ],
   "source": [
    "print('Result of - is:', left_operand - right_operand) "
   ]
  },
  {
   "cell_type": "code",
   "execution_count": 6,
   "id": "a7c8f074-0cd0-4190-812e-5825e89701fc",
   "metadata": {},
   "outputs": [
    {
     "name": "stdout",
     "output_type": "stream",
     "text": [
      "Result of * is: 55.0\n"
     ]
    }
   ],
   "source": [
    "print('Result of * is:', left_operand * right_operand) "
   ]
  },
  {
   "cell_type": "code",
   "execution_count": 7,
   "id": "343b8d81-724a-43e9-9378-e37f8a4c86b3",
   "metadata": {},
   "outputs": [
    {
     "name": "stdout",
     "output_type": "stream",
     "text": [
      "Result of / is: 13.75\n"
     ]
    }
   ],
   "source": [
    "print('Result of / is:', left_operand / right_operand) "
   ]
  },
  {
   "cell_type": "code",
   "execution_count": 8,
   "id": "43d8bf2d-6b87-470e-9ebb-4914a77106b2",
   "metadata": {},
   "outputs": [
    {
     "name": "stdout",
     "output_type": "stream",
     "text": [
      "Result of // is: 13.0\n"
     ]
    }
   ],
   "source": [
    "print('Result of // is:', left_operand // right_operand) "
   ]
  },
  {
   "cell_type": "code",
   "execution_count": 4,
   "id": "e383996f-1047-4b6e-b78e-4532dfaee8f6",
   "metadata": {},
   "outputs": [
    {
     "name": "stdout",
     "output_type": "stream",
     "text": [
      "Result of ** is: 756.25\n"
     ]
    }
   ],
   "source": [
    "print('Result of ** is:', left_operand ** right_operand) "
   ]
  }
 ],
 "metadata": {
  "kernelspec": {
   "display_name": "Python [conda env:base] *",
   "language": "python",
   "name": "conda-base-py"
  },
  "language_info": {
   "codemirror_mode": {
    "name": "ipython",
    "version": 3
   },
   "file_extension": ".py",
   "mimetype": "text/x-python",
   "name": "python",
   "nbconvert_exporter": "python",
   "pygments_lexer": "ipython3",
   "version": "3.13.5"
  }
 },
 "nbformat": 4,
 "nbformat_minor": 5
}
