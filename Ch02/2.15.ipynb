{
 "cells": [
  {
   "cell_type": "code",
   "execution_count": 73,
   "id": "4b5caf25-3cb0-4d94-bd10-883cf280e325",
   "metadata": {},
   "outputs": [
    {
     "data": {
      "text/plain": [
       "(54456.54, 955.74, 5545.98)"
      ]
     },
     "execution_count": 73,
     "metadata": {},
     "output_type": "execute_result"
    }
   ],
   "source": [
    "\"\"\"\n",
    "\n",
    "2.15 (Sort in Ascending Order) Write a script that inputs three different floating-point numbers from the user. \n",
    "Display the numbers in increasing order. Recall that an if statement’s suite can contain more than one statement. \n",
    "Prove that your script works by running it on all six possible orderings of the numbers. Does your script work with \n",
    "duplicate numbers? [This is challenging. In later chapters you’ll do this more conveniently and with many more numbers.]\n",
    "\n",
    "\"\"\"\n",
    "5545.98, 955.74, 54456.54\n",
    "5545.98, 54456.54, 955.74\n",
    "955.74, 5545.98, 54456.54\n",
    "955.74, 54456.54, 5545.98\n",
    "54456.54, 5545.98, 955.74\n",
    "54456.54, 955.74, 5545.98"
   ]
  },
  {
   "cell_type": "code",
   "execution_count": 74,
   "id": "577b6784-7e54-4b39-8885-267f64a5f60c",
   "metadata": {},
   "outputs": [
    {
     "name": "stdin",
     "output_type": "stream",
     "text": [
      "Enter first number:  54456.54\n"
     ]
    }
   ],
   "source": [
    "n1 = float(input('Enter first number: '))"
   ]
  },
  {
   "cell_type": "code",
   "execution_count": 75,
   "id": "0f7af041-7a4f-4f92-a8df-99abdb83a861",
   "metadata": {},
   "outputs": [
    {
     "name": "stdin",
     "output_type": "stream",
     "text": [
      "Enter second number:  955.74\n"
     ]
    }
   ],
   "source": [
    "n2 = float(input('Enter second number: '))"
   ]
  },
  {
   "cell_type": "code",
   "execution_count": 76,
   "id": "8310a524-04ff-4b70-b707-a42abd68577a",
   "metadata": {},
   "outputs": [
    {
     "name": "stdin",
     "output_type": "stream",
     "text": [
      "Enter third number:  5545.98\n"
     ]
    }
   ],
   "source": [
    "n3 = float(input('Enter third number: '))"
   ]
  },
  {
   "cell_type": "code",
   "execution_count": 77,
   "id": "3ea61191-d2b0-4442-b3f7-a5623dae6008",
   "metadata": {},
   "outputs": [
    {
     "name": "stdout",
     "output_type": "stream",
     "text": [
      "Given nubmers are 54456.54 955.74 5545.98\n"
     ]
    }
   ],
   "source": [
    "print('Given nubmers are',n1,n2,n3)"
   ]
  },
  {
   "cell_type": "code",
   "execution_count": 78,
   "id": "4dcb72e4-08eb-4365-9f45-c2a784f87718",
   "metadata": {},
   "outputs": [],
   "source": [
    "if n1 <= n2 <= n3:\n",
    "    print('Sorted order is:', n1, ',', n2, ',', n3)"
   ]
  },
  {
   "cell_type": "code",
   "execution_count": 79,
   "id": "48869284-49e6-43cf-8d9c-13d411fae70b",
   "metadata": {},
   "outputs": [],
   "source": [
    "if n2 <= n1 <= n3:\n",
    "    print('Sorted order is:', n2, ',', n1, ',', n3)"
   ]
  },
  {
   "cell_type": "code",
   "execution_count": 80,
   "id": "c24ff5d9-c1d4-482f-a5ad-373c1617c5dc",
   "metadata": {},
   "outputs": [],
   "source": [
    "if n3 <= n1 <= n2:\n",
    "    print('Sorted order is:', n3, ',', n1, ',', n2)"
   ]
  },
  {
   "cell_type": "code",
   "execution_count": 81,
   "id": "1a3cf004-c4a8-46f1-bf29-7aff9d819c68",
   "metadata": {},
   "outputs": [],
   "source": [
    "if n3 <= n2 <= n1:\n",
    "    print('Sorted order is:', n3, ',', n2, ',', n1)"
   ]
  },
  {
   "cell_type": "code",
   "execution_count": 82,
   "id": "8d236fb7-4e4f-46bf-938d-bc1008c7221e",
   "metadata": {},
   "outputs": [
    {
     "name": "stdout",
     "output_type": "stream",
     "text": [
      "Sorted order is: 955.74 , 5545.98 , 54456.54\n"
     ]
    }
   ],
   "source": [
    "if n2 <= n3 <= n1:\n",
    "    print('Sorted order is:', n2, ',', n3, ',', n1)"
   ]
  },
  {
   "cell_type": "code",
   "execution_count": 83,
   "id": "1514fec1-526f-4dc7-ac80-7fb095e17db3",
   "metadata": {},
   "outputs": [],
   "source": [
    "if n1 <= n3 <= n2:\n",
    "    print('Sorted order is:', n1, ',', n3, ',', n2)"
   ]
  }
 ],
 "metadata": {
  "kernelspec": {
   "display_name": "Python [conda env:base] *",
   "language": "python",
   "name": "conda-base-py"
  },
  "language_info": {
   "codemirror_mode": {
    "name": "ipython",
    "version": 3
   },
   "file_extension": ".py",
   "mimetype": "text/x-python",
   "name": "python",
   "nbconvert_exporter": "python",
   "pygments_lexer": "ipython3",
   "version": "3.13.5"
  }
 },
 "nbformat": 4,
 "nbformat_minor": 5
}
