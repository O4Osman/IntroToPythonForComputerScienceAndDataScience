{
 "cells": [
  {
   "cell_type": "code",
   "execution_count": null,
   "id": "2f83023d-3896-4e14-9c6f-5d379422e9a3",
   "metadata": {},
   "outputs": [],
   "source": [
    "\"\"\"\n",
    "\n",
    "2.11 (Separating the Digits in an Integer) Write a script that inputs a five-digit integer from the user. \n",
    "Separate the number into its individual digits. Print them separated by three spaces each. For example, if the user \n",
    "types in the number 42339, the script should print “4 2 3 3 9”. Assume that the user enters the correct number of digits. \n",
    "Use both the floor division and remainder operations to “pick off” each digit.\n",
    "\n",
    "\"\"\""
   ]
  },
  {
   "cell_type": "code",
   "execution_count": 1,
   "id": "d7060b54-7fb3-4314-9e69-9c1fda3d2e3c",
   "metadata": {},
   "outputs": [
    {
     "name": "stdin",
     "output_type": "stream",
     "text": [
      "Enter a 5 digit value:  12389\n"
     ]
    }
   ],
   "source": [
    "user_ip = int(input('Enter a 5 digit value: '))"
   ]
  },
  {
   "cell_type": "code",
   "execution_count": 4,
   "id": "2df4a4e5-395d-4fac-b984-a79a068a949e",
   "metadata": {},
   "outputs": [],
   "source": [
    "_5th = user_ip % 10"
   ]
  },
  {
   "cell_type": "code",
   "execution_count": 6,
   "id": "8e2b4650-fe06-4409-9ec4-ce5a07c08a79",
   "metadata": {},
   "outputs": [],
   "source": [
    "user_ip = user_ip // 10"
   ]
  },
  {
   "cell_type": "code",
   "execution_count": 8,
   "id": "4c044103-d693-4f1d-a3cb-8b33f4b9f649",
   "metadata": {},
   "outputs": [],
   "source": [
    "_4th = user_ip % 10"
   ]
  },
  {
   "cell_type": "code",
   "execution_count": 9,
   "id": "2d941a95-8310-4f29-a5ef-cf56345c5c03",
   "metadata": {},
   "outputs": [],
   "source": [
    "user_ip = user_ip // 10"
   ]
  },
  {
   "cell_type": "code",
   "execution_count": 10,
   "id": "99cf28e6-c46c-4cf8-a183-9ac85ec4cae6",
   "metadata": {},
   "outputs": [],
   "source": [
    "_3rd = user_ip % 10"
   ]
  },
  {
   "cell_type": "code",
   "execution_count": 11,
   "id": "4c7ec839-3249-431d-af26-e9ee79bbf55c",
   "metadata": {},
   "outputs": [],
   "source": [
    "user_ip = user_ip // 10"
   ]
  },
  {
   "cell_type": "code",
   "execution_count": 12,
   "id": "02bf9d26-69e0-40b7-a484-aca942f4ab5c",
   "metadata": {},
   "outputs": [],
   "source": [
    "_2nd = user_ip % 10"
   ]
  },
  {
   "cell_type": "code",
   "execution_count": 13,
   "id": "7e01ef4e-e53e-4584-8c3a-14dd4fbff070",
   "metadata": {},
   "outputs": [],
   "source": [
    "user_ip = user_ip // 10"
   ]
  },
  {
   "cell_type": "code",
   "execution_count": 14,
   "id": "d0d8831c-467d-4d50-b1d3-679cae7ab43a",
   "metadata": {},
   "outputs": [],
   "source": [
    "_1st = user_ip % 10"
   ]
  },
  {
   "cell_type": "code",
   "execution_count": 15,
   "id": "968f76fe-ee07-46ac-9982-9ad498fc658a",
   "metadata": {},
   "outputs": [],
   "source": [
    "user_ip = user_ip // 10"
   ]
  },
  {
   "cell_type": "code",
   "execution_count": 18,
   "id": "8bc3600e-86c4-4691-9c3a-42a4f0da26ff",
   "metadata": {},
   "outputs": [
    {
     "name": "stdout",
     "output_type": "stream",
     "text": [
      "1   2    3    8    9\n"
     ]
    }
   ],
   "source": [
    "print(_1st, '  ', _2nd, '  ', _3rd, '  ', _4th, '  ', _5th)"
   ]
  }
 ],
 "metadata": {
  "kernelspec": {
   "display_name": "Python [conda env:base] *",
   "language": "python",
   "name": "conda-base-py"
  },
  "language_info": {
   "codemirror_mode": {
    "name": "ipython",
    "version": 3
   },
   "file_extension": ".py",
   "mimetype": "text/x-python",
   "name": "python",
   "nbconvert_exporter": "python",
   "pygments_lexer": "ipython3",
   "version": "3.13.5"
  }
 },
 "nbformat": 4,
 "nbformat_minor": 5
}
