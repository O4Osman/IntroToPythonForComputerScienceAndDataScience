{
 "cells": [
  {
   "cell_type": "code",
   "execution_count": null,
   "id": "bdeec209-3425-454d-9bf1-a05c662294fc",
   "metadata": {},
   "outputs": [],
   "source": [
    "\"\"\"\n",
    "\n",
    "2.9 (Integer Value of a Character) Here’s a peek ahead. In this chapter, you learned about strings. Each of a string’s \n",
    "characters has an integer representation. The set of characters a computer uses together with the characters’ integer\n",
    "representations is called that computer’s character set. You can indicate a character value in a program by enclosing \n",
    "that character in quotes, as in 'A'. To determine a character’s integer value, call the built-in function ord:\n",
    "\n",
    "In [1]: ord('A')\n",
    "Out[1]: 65”\n",
    "\n",
    "Display the integer equivalents of B C D b c d 0 1 2 $ * +  and the space character.\n",
    "\n",
    "\"\"\""
   ]
  },
  {
   "cell_type": "code",
   "execution_count": 1,
   "id": "76b06d9c-5360-499f-8cde-4d9e755d9ce7",
   "metadata": {},
   "outputs": [
    {
     "name": "stdout",
     "output_type": "stream",
     "text": [
      "Integer value of B is: 65\n"
     ]
    }
   ],
   "source": [
    "print('Integer value of B is:', ord('A'))"
   ]
  },
  {
   "cell_type": "code",
   "execution_count": 3,
   "id": "89290c35-c6f2-41e9-9c37-44be5c3508b7",
   "metadata": {},
   "outputs": [
    {
     "name": "stdout",
     "output_type": "stream",
     "text": [
      "Integer value of C is: 67\n"
     ]
    }
   ],
   "source": [
    "print('Integer value of C is:', ord('C'))"
   ]
  },
  {
   "cell_type": "code",
   "execution_count": 4,
   "id": "1ee0cc89-30f7-4dd9-8359-1cd3d5a9a571",
   "metadata": {},
   "outputs": [
    {
     "name": "stdout",
     "output_type": "stream",
     "text": [
      "Integer value of D is: 68\n"
     ]
    }
   ],
   "source": [
    "print('Integer value of D is:', ord('D'))"
   ]
  },
  {
   "cell_type": "code",
   "execution_count": 5,
   "id": "f971e272-2244-4f09-b8f0-51df164704b8",
   "metadata": {},
   "outputs": [
    {
     "name": "stdout",
     "output_type": "stream",
     "text": [
      "Integer value of b is: 98\n"
     ]
    }
   ],
   "source": [
    "print('Integer value of b is:', ord('b'))"
   ]
  },
  {
   "cell_type": "code",
   "execution_count": 6,
   "id": "4a4d09f6-7342-4de2-818a-dea1fc148dd0",
   "metadata": {},
   "outputs": [
    {
     "name": "stdout",
     "output_type": "stream",
     "text": [
      "Integer value of c is: 99\n"
     ]
    }
   ],
   "source": [
    "print('Integer value of c is:', ord('c'))"
   ]
  },
  {
   "cell_type": "code",
   "execution_count": 8,
   "id": "2c1bd40c-193e-417e-98d4-7d17b9868b25",
   "metadata": {},
   "outputs": [
    {
     "name": "stdout",
     "output_type": "stream",
     "text": [
      "Integer value of d is: 100\n"
     ]
    }
   ],
   "source": [
    "print('Integer value of d is:', ord('d'))"
   ]
  },
  {
   "cell_type": "code",
   "execution_count": 9,
   "id": "48eebb09-35b3-4762-b5e4-293d069222c3",
   "metadata": {},
   "outputs": [
    {
     "name": "stdout",
     "output_type": "stream",
     "text": [
      "Integer value of 0 is: 48\n"
     ]
    }
   ],
   "source": [
    "print('Integer value of 0 is:', ord('0'))"
   ]
  },
  {
   "cell_type": "code",
   "execution_count": 10,
   "id": "491420d4-81a4-45f0-acce-72dd4053ed5b",
   "metadata": {},
   "outputs": [
    {
     "name": "stdout",
     "output_type": "stream",
     "text": [
      "Integer value of 1 is: 49\n"
     ]
    }
   ],
   "source": [
    "print('Integer value of 1 is:', ord('1'))"
   ]
  },
  {
   "cell_type": "code",
   "execution_count": 11,
   "id": "9020a45f-c018-43d2-bc82-512492ac0882",
   "metadata": {},
   "outputs": [
    {
     "name": "stdout",
     "output_type": "stream",
     "text": [
      "Integer value of 2 is: 50\n"
     ]
    }
   ],
   "source": [
    "print('Integer value of 2 is:', ord('2'))"
   ]
  },
  {
   "cell_type": "code",
   "execution_count": 12,
   "id": "a1592417-7764-4f22-a3b8-37b0f00b6323",
   "metadata": {},
   "outputs": [
    {
     "name": "stdout",
     "output_type": "stream",
     "text": [
      "Integer value of $ is: 36\n"
     ]
    }
   ],
   "source": [
    "print('Integer value of $ is:', ord('$'))"
   ]
  },
  {
   "cell_type": "code",
   "execution_count": 13,
   "id": "615848e0-85dd-4a81-93ec-300577caf825",
   "metadata": {},
   "outputs": [
    {
     "name": "stdout",
     "output_type": "stream",
     "text": [
      "Integer value of * is: 42\n"
     ]
    }
   ],
   "source": [
    "print('Integer value of * is:', ord('*'))"
   ]
  },
  {
   "cell_type": "code",
   "execution_count": 7,
   "id": "7aa32bb2-c4a2-4d22-9ba4-e46da2dcecae",
   "metadata": {},
   "outputs": [
    {
     "name": "stdout",
     "output_type": "stream",
     "text": [
      "Integer value of + is: 43\n"
     ]
    }
   ],
   "source": [
    "print('Integer value of + is:', ord('+'))"
   ]
  }
 ],
 "metadata": {
  "kernelspec": {
   "display_name": "Python [conda env:base] *",
   "language": "python",
   "name": "conda-base-py"
  },
  "language_info": {
   "codemirror_mode": {
    "name": "ipython",
    "version": 3
   },
   "file_extension": ".py",
   "mimetype": "text/x-python",
   "name": "python",
   "nbconvert_exporter": "python",
   "pygments_lexer": "ipython3",
   "version": "3.13.5"
  }
 },
 "nbformat": 4,
 "nbformat_minor": 5
}
