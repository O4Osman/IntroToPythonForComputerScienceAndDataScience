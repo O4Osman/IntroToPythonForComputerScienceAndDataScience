{
 "cells": [
  {
   "cell_type": "raw",
   "id": "4b6a2ea4-101c-4bca-b5e8-6e2ba17cb946",
   "metadata": {},
   "source": [
    "\"\"\"\n",
    "\n",
    "2.8 (Table of Squares and Cubes) Write a script that calculates the squares and cubes of the numbers from 0 to 5. \n",
    "Print the resulting values in table format, as shown below. Use the tab escape sequence to achieve the three-column output.\n",
    "\n",
    "Ch02/table.png\n",
    "\n",
    "\"\"\""
   ]
  },
  {
   "cell_type": "code",
   "execution_count": 3,
   "id": "8b81abdb-01e8-4e01-bc12-4a01d9168611",
   "metadata": {},
   "outputs": [
    {
     "name": "stdout",
     "output_type": "stream",
     "text": [
      "number\tsquare\tcube\n",
      "0 \t 0 \t 0\n",
      "1 \t 1 \t 1\n",
      "2 \t 4 \t 8\n",
      "3 \t 9 \t 27\n",
      "4 \t 16 \t 64\n",
      "5 \t 25 \t 125\n"
     ]
    }
   ],
   "source": [
    "print('number\\tsquare\\tcube')\n",
    "print(0, '\\t', 0 * 0, '\\t', 0 * 0 * 0)\n",
    "print(1, '\\t', 1 * 1, '\\t', 1 * 1 * 1)\n",
    "print(2, '\\t', 2 * 2, '\\t', 2 * 2 * 2)\n",
    "print(3, '\\t', 3 * 3, '\\t', 3 * 3 * 3)\n",
    "print(4, '\\t', 4 * 4, '\\t', 4 * 4 * 4)\n",
    "print(5, '\\t', 5 * 5, '\\t', 5 * 5 * 5)"
   ]
  }
 ],
 "metadata": {
  "kernelspec": {
   "display_name": "Python [conda env:base] *",
   "language": "python",
   "name": "conda-base-py"
  },
  "language_info": {
   "codemirror_mode": {
    "name": "ipython",
    "version": 3
   },
   "file_extension": ".py",
   "mimetype": "text/x-python",
   "name": "python",
   "nbconvert_exporter": "python",
   "pygments_lexer": "ipython3",
   "version": "3.13.5"
  }
 },
 "nbformat": 4,
 "nbformat_minor": 5
}
