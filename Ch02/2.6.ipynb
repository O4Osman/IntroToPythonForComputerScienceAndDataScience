{
 "cells": [
  {
   "cell_type": "code",
   "execution_count": 3,
   "id": "237d30bf-f139-4554-8543-3acb476a6b1d",
   "metadata": {},
   "outputs": [
    {
     "data": {
      "text/plain": [
       "'\\n\\n2.6 (Odd or Even) Use if statements to determine whether an integer is odd or even. [Hint: Use the remainder operator. \\nAn even number is a multiple of 2. Any multiple of 2 leaves a remainder of 0 when divided by 2.]”\\n\\n\\n'"
      ]
     },
     "execution_count": 3,
     "metadata": {},
     "output_type": "execute_result"
    }
   ],
   "source": [
    "\"\"\"\n",
    "\n",
    "2.6 (Odd or Even) Use if statements to determine whether an integer is odd or even. [Hint: Use the remainder operator. \n",
    "An even number is a multiple of 2. Any multiple of 2 leaves a remainder of 0 when divided by 2.]”\n",
    "\n",
    "\"\"\""
   ]
  },
  {
   "cell_type": "code",
   "execution_count": 4,
   "id": "4935b578-e21a-480f-8aea-c4dfaa487583",
   "metadata": {},
   "outputs": [],
   "source": [
    "number = 799"
   ]
  },
  {
   "cell_type": "code",
   "execution_count": 5,
   "id": "16e18dd2-2055-423d-b51f-f28725a55163",
   "metadata": {},
   "outputs": [
    {
     "name": "stdout",
     "output_type": "stream",
     "text": [
      "799 is odd.\n"
     ]
    }
   ],
   "source": [
    "if number % 2 == 0:\n",
    "    print(number,'is even.')\n",
    "else:\n",
    "    print(number,'is odd.')"
   ]
  }
 ],
 "metadata": {
  "kernelspec": {
   "display_name": "Python [conda env:base] *",
   "language": "python",
   "name": "conda-base-py"
  },
  "language_info": {
   "codemirror_mode": {
    "name": "ipython",
    "version": 3
   },
   "file_extension": ".py",
   "mimetype": "text/x-python",
   "name": "python",
   "nbconvert_exporter": "python",
   "pygments_lexer": "ipython3",
   "version": "3.13.5"
  }
 },
 "nbformat": 4,
 "nbformat_minor": 5
}
