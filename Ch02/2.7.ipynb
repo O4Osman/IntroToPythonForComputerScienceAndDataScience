{
 "cells": [
  {
   "cell_type": "raw",
   "id": "e202fd07-6b64-4217-8260-97cede6d417e",
   "metadata": {},
   "source": [
    "\"\"\"\n",
    "\n",
    "2.7 (Multiples) Use if statements to determine whether 1024 is a multiple of 4 and whether 2 is a multiple of 10. \n",
    "(Hint: Use the remainder operator.)\n",
    "\n",
    "\"\"\""
   ]
  },
  {
   "cell_type": "code",
   "execution_count": 2,
   "id": "e409afdd-e224-420f-84e5-e61d53715d2c",
   "metadata": {},
   "outputs": [
    {
     "name": "stdout",
     "output_type": "stream",
     "text": [
      "1024 is multiple of 4.\n"
     ]
    }
   ],
   "source": [
    "if 1024 % 4 == 0:\n",
    "    print('1024 is multiple of 4.')\n",
    "else:\n",
    "    print('1024 is not multiple of 4.')"
   ]
  },
  {
   "cell_type": "code",
   "execution_count": 3,
   "id": "ff99c465-e0e2-40ee-b7a3-5696ad81ea22",
   "metadata": {},
   "outputs": [
    {
     "name": "stdout",
     "output_type": "stream",
     "text": [
      "2 is not multiple of 10.\n"
     ]
    }
   ],
   "source": [
    "if 2 % 10 == 0:\n",
    "    print('2 is multiple of 10.')\n",
    "else:\n",
    "    print('2 is not multiple of 10.')"
   ]
  }
 ],
 "metadata": {
  "kernelspec": {
   "display_name": "Python [conda env:base] *",
   "language": "python",
   "name": "conda-base-py"
  },
  "language_info": {
   "codemirror_mode": {
    "name": "ipython",
    "version": 3
   },
   "file_extension": ".py",
   "mimetype": "text/x-python",
   "name": "python",
   "nbconvert_exporter": "python",
   "pygments_lexer": "ipython3",
   "version": "3.13.5"
  }
 },
 "nbformat": 4,
 "nbformat_minor": 5
}
