{
 "cells": [
  {
   "cell_type": "code",
   "execution_count": 1,
   "id": "bd63b35e-ff26-4a29-b2ed-8da8cf4079d2",
   "metadata": {},
   "outputs": [
    {
     "data": {
      "text/plain": [
       "\"\\n\\n“2.2 (What’s wrong with this code?) The following code should read an integer into the variable rating:\\nrating = input('Enter an integer rating between 1 and 10')”\\n\\n\""
      ]
     },
     "execution_count": 1,
     "metadata": {},
     "output_type": "execute_result"
    }
   ],
   "source": [
    "\"\"\"\n",
    "\n",
    "2.2 (What’s wrong with this code?) The following code should read an integer into the variable rating:\n",
    "rating = input('Enter an integer rating between 1 and 10')\n",
    "\n",
    "\"\"\""
   ]
  },
  {
   "cell_type": "code",
   "execution_count": 2,
   "id": "07e6c86d-b5e5-43c2-97ec-12e366462212",
   "metadata": {},
   "outputs": [
    {
     "name": "stdin",
     "output_type": "stream",
     "text": [
      "Enter an integer rating between 1 and 10 5\n"
     ]
    }
   ],
   "source": [
    "# input returns a string not an integer. We need to cast input to integer\n",
    "rating = int(input('Enter an integer rating between 1 and 10'))"
   ]
  }
 ],
 "metadata": {
  "kernelspec": {
   "display_name": "Python [conda env:base] *",
   "language": "python",
   "name": "conda-base-py"
  },
  "language_info": {
   "codemirror_mode": {
    "name": "ipython",
    "version": 3
   },
   "file_extension": ".py",
   "mimetype": "text/x-python",
   "name": "python",
   "nbconvert_exporter": "python",
   "pygments_lexer": "ipython3",
   "version": "3.13.5"
  }
 },
 "nbformat": 4,
 "nbformat_minor": 5
}
