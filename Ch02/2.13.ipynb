{
 "cells": [
  {
   "cell_type": "raw",
   "id": "09904cb6-b640-426b-83c4-721ece555323",
   "metadata": {},
   "source": [
    "\"\"\"\n",
    "\n",
    "2.13 (How Big Can Python Integers Be?) We’ll answer this question later in the book. For now, use the exponentiation \n",
    "operator ** with large and very large exponents to produce some huge integers and assign those to the variable number to \n",
    "see if Python accepts them. Did you find any integer value that Python won’t accept?\n",
    "\n",
    "\"\"\""
   ]
  },
  {
   "cell_type": "code",
   "execution_count": 1,
   "id": "2a70ae95-a214-4e28-a321-83e58d5d3d72",
   "metadata": {},
   "outputs": [],
   "source": [
    "number = 9 ** 9"
   ]
  },
  {
   "cell_type": "code",
   "execution_count": 2,
   "id": "1ad3cb5e-1548-44b2-9bd1-34045b8d72af",
   "metadata": {},
   "outputs": [
    {
     "name": "stdout",
     "output_type": "stream",
     "text": [
      "387420489\n"
     ]
    }
   ],
   "source": [
    "print(number)"
   ]
  },
  {
   "cell_type": "code",
   "execution_count": 3,
   "id": "39831645-7c6f-4d27-bf2f-feef5e6fccd7",
   "metadata": {},
   "outputs": [],
   "source": [
    "number = 9 ** 99"
   ]
  },
  {
   "cell_type": "code",
   "execution_count": 4,
   "id": "f1fa8c7e-62d8-4785-b52d-1c6f7ac76d93",
   "metadata": {},
   "outputs": [
    {
     "name": "stdout",
     "output_type": "stream",
     "text": [
      "29512665430652752148753480226197736314359272517043832886063884637676943433478020332709411004889\n"
     ]
    }
   ],
   "source": [
    "print(number)"
   ]
  },
  {
   "cell_type": "code",
   "execution_count": 5,
   "id": "f6cef30b-251a-4b4f-b280-6ce4c81d7c21",
   "metadata": {},
   "outputs": [],
   "source": [
    "number = 9 ** 999"
   ]
  },
  {
   "cell_type": "code",
   "execution_count": 6,
   "id": "45910594-2449-4424-96b6-90a8d62c49df",
   "metadata": {},
   "outputs": [
    {
     "name": "stdout",
     "output_type": "stream",
     "text": [
      "194207916858072401073330513240517841169895831937243168645765334645631807358586165476831829984964567897289883410682808509863485381763945405279379355788182053541434708898886353264614403164257835946591015853500491562156765579388944516423770646547300211711400609344237550775485394558425026601257627110879613741893863295847627378504481736441703291029360564416718984718052676789493826372811349572386149787861703350363229770343522164432121091627871310618608734044108407173015970850780786711471108639762810760748899301375323974504010469298672123113693793242558662498267897607159946316136440215024585534972601864730717278590674861331708227340510282977338127859756479389076075528672989549862138485404935127984793120586289288424045660573066638008624179879066798350622453419082976217706653276687992598885030141711458658381360884807741768071789239593772708382532520992894115725948613681993478965648216640862698897925988931145600683858128653568049999074868783790048889\n"
     ]
    }
   ],
   "source": [
    "print(number)"
   ]
  },
  {
   "cell_type": "code",
   "execution_count": 7,
   "id": "1512ecb6-d6ce-4812-943e-cb717af4bb5f",
   "metadata": {},
   "outputs": [],
   "source": [
    "number = 9 ** 9999 # Integer value that python won't accept"
   ]
  },
  {
   "cell_type": "code",
   "execution_count": 8,
   "id": "5b413b18-bdd6-412d-9870-b284f6660fd4",
   "metadata": {},
   "outputs": [
    {
     "ename": "ValueError",
     "evalue": "Exceeds the limit (4300 digits) for integer string conversion; use sys.set_int_max_str_digits() to increase the limit",
     "output_type": "error",
     "traceback": [
      "\u001b[0;31m---------------------------------------------------------------------------\u001b[0m",
      "\u001b[0;31mValueError\u001b[0m                                Traceback (most recent call last)",
      "Cell \u001b[0;32mIn[8], line 1\u001b[0m\n\u001b[0;32m----> 1\u001b[0m \u001b[38;5;28mprint\u001b[39m(number)\n",
      "\u001b[0;31mValueError\u001b[0m: Exceeds the limit (4300 digits) for integer string conversion; use sys.set_int_max_str_digits() to increase the limit"
     ]
    }
   ],
   "source": [
    "print(number)"
   ]
  },
  {
   "cell_type": "code",
   "execution_count": null,
   "id": "edba98fa-3f8c-414d-8ba5-3744683ee0da",
   "metadata": {},
   "outputs": [],
   "source": []
  }
 ],
 "metadata": {
  "kernelspec": {
   "display_name": "Python [conda env:base] *",
   "language": "python",
   "name": "conda-base-py"
  },
  "language_info": {
   "codemirror_mode": {
    "name": "ipython",
    "version": 3
   },
   "file_extension": ".py",
   "mimetype": "text/x-python",
   "name": "python",
   "nbconvert_exporter": "python",
   "pygments_lexer": "ipython3",
   "version": "3.13.5"
  }
 },
 "nbformat": 4,
 "nbformat_minor": 5
}
