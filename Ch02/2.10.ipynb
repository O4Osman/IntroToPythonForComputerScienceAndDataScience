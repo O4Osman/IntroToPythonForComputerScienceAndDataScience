{
 "cells": [
  {
   "cell_type": "raw",
   "id": "eae8894b-6c16-482d-8eb2-4089568fe3ec",
   "metadata": {},
   "source": [
    "\"\"\"\n",
    "\n",
    "2.10 (Arithmetic, Smallest and Largest) Write a script that inputs three integers from the user. Display the sum, \n",
    "average, product, smallest and largest of the numbers. Note that each of these is a reduction in functional-style \n",
    "programming.\n",
    "\n",
    "\"\"\""
   ]
  },
  {
   "cell_type": "code",
   "execution_count": 1,
   "id": "1c33e205-77a1-4107-82ee-e61f2c4d6708",
   "metadata": {},
   "outputs": [
    {
     "name": "stdin",
     "output_type": "stream",
     "text": [
      "Enter first value:  85\n"
     ]
    }
   ],
   "source": [
    "val1 = int(input('Enter first value: '))"
   ]
  },
  {
   "cell_type": "code",
   "execution_count": 2,
   "id": "5359eeec-6840-4651-88a5-0f203af2e92b",
   "metadata": {},
   "outputs": [
    {
     "name": "stdin",
     "output_type": "stream",
     "text": [
      "Enter second value:  545\n"
     ]
    }
   ],
   "source": [
    "val2 = int(input('Enter second value: '))"
   ]
  },
  {
   "cell_type": "code",
   "execution_count": 3,
   "id": "28a24814-95e6-4442-810a-3584beb694f2",
   "metadata": {},
   "outputs": [
    {
     "name": "stdin",
     "output_type": "stream",
     "text": [
      "Enter third value:  4545\n"
     ]
    }
   ],
   "source": [
    "val3 = int(input('Enter third value: '))"
   ]
  },
  {
   "cell_type": "code",
   "execution_count": 11,
   "id": "8c66c114-436a-4a4d-8616-bf56cf9c9077",
   "metadata": {},
   "outputs": [],
   "source": [
    "sum_val = val1 + val2 + val3"
   ]
  },
  {
   "cell_type": "code",
   "execution_count": 12,
   "id": "bbfff494-b0c4-47a9-987b-91d2d7a4a615",
   "metadata": {},
   "outputs": [],
   "source": [
    "average = sum_val / 3"
   ]
  },
  {
   "cell_type": "code",
   "execution_count": 13,
   "id": "d707168d-aa91-46b7-a8c7-14669b671f02",
   "metadata": {},
   "outputs": [],
   "source": [
    "product = val1 * val2 * val3"
   ]
  },
  {
   "cell_type": "code",
   "execution_count": 14,
   "id": "948a3cde-b35e-485c-95a2-9d0ffedeff01",
   "metadata": {},
   "outputs": [],
   "source": [
    "smallest = min(val1, val2, val3)"
   ]
  },
  {
   "cell_type": "code",
   "execution_count": 30,
   "id": "c8daf23c-8577-48ab-90ee-3e51455b545d",
   "metadata": {},
   "outputs": [],
   "source": [
    "largest = max(val1, val2, val3)"
   ]
  },
  {
   "cell_type": "code",
   "execution_count": 16,
   "id": "d8e6ceab-84b3-49f9-942c-d6cb535b900b",
   "metadata": {},
   "outputs": [
    {
     "name": "stdout",
     "output_type": "stream",
     "text": [
      "Sum of 85 545 4545 is 5175\n"
     ]
    }
   ],
   "source": [
    "print('Sum of', val1, val2, val3, 'is', sum_val)"
   ]
  },
  {
   "cell_type": "code",
   "execution_count": 17,
   "id": "bc2b0703-dddb-447d-814f-a000a8b75a1b",
   "metadata": {},
   "outputs": [
    {
     "name": "stdout",
     "output_type": "stream",
     "text": [
      "Average of 85 545 4545 is 1725.0\n"
     ]
    }
   ],
   "source": [
    "print('Average of', val1, val2, val3, 'is', average)"
   ]
  },
  {
   "cell_type": "code",
   "execution_count": 18,
   "id": "4d00b037-c8c3-4a18-b4e0-da6fab5b2a7f",
   "metadata": {},
   "outputs": [
    {
     "name": "stdout",
     "output_type": "stream",
     "text": [
      "Product of 85 545 4545 is 210547125\n"
     ]
    }
   ],
   "source": [
    "print('Product of', val1, val2, val3, 'is', product)"
   ]
  },
  {
   "cell_type": "code",
   "execution_count": 19,
   "id": "227895f0-20dd-4f62-9f58-f6e2f6ec94f1",
   "metadata": {},
   "outputs": [
    {
     "name": "stdout",
     "output_type": "stream",
     "text": [
      "Smallest of 85 545 4545 is 85\n"
     ]
    }
   ],
   "source": [
    "print('Smallest of', val1, val2, val3, 'is', smallest)"
   ]
  },
  {
   "cell_type": "code",
   "execution_count": 31,
   "id": "67b152da-5909-4c26-9e20-bc5c619a6d0d",
   "metadata": {},
   "outputs": [
    {
     "name": "stdout",
     "output_type": "stream",
     "text": [
      "Largest of 85 545 4545 is 4545\n"
     ]
    }
   ],
   "source": [
    "print('Largest of', val1, val2, val3, 'is', largest)"
   ]
  }
 ],
 "metadata": {
  "kernelspec": {
   "display_name": "Python [conda env:base] *",
   "language": "python",
   "name": "conda-base-py"
  },
  "language_info": {
   "codemirror_mode": {
    "name": "ipython",
    "version": 3
   },
   "file_extension": ".py",
   "mimetype": "text/x-python",
   "name": "python",
   "nbconvert_exporter": "python",
   "pygments_lexer": "ipython3",
   "version": "3.13.5"
  }
 },
 "nbformat": 4,
 "nbformat_minor": 5
}
