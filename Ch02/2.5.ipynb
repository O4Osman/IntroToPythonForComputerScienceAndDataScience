{
 "cells": [
  {
   "cell_type": "raw",
   "id": "9c61a3d2-6ef3-41bf-bf4d-789cf9d2c336",
   "metadata": {},
   "source": [
    "\"\"\"\n",
    "\n",
    "2.5 (Circle Area, Diameter and Circumference) For a circle of radius 2, display the diameter, circumference and area.\n",
    "Use the value 3.14159 for π. Use the following formulas (r is the radius): diameter = 2r, circumference = 2πr \n",
    "and area = πr2. [In a later chapter, we’ll introduce Python’s math module which contains a higher-precision \n",
    "representation of π.]\n",
    "\n",
    "\"\"\""
   ]
  },
  {
   "cell_type": "code",
   "execution_count": 3,
   "id": "ed3e02d7-6740-484c-8a33-7c4fe93b6e3b",
   "metadata": {},
   "outputs": [],
   "source": [
    "radius = 2"
   ]
  },
  {
   "cell_type": "code",
   "execution_count": 4,
   "id": "7b0e8f0a-39ff-42d7-ae27-73480109dc48",
   "metadata": {},
   "outputs": [],
   "source": [
    "pi = 3.14159"
   ]
  },
  {
   "cell_type": "code",
   "execution_count": 6,
   "id": "c35a9eaa-08f3-4bdd-945c-4e07b0c96fae",
   "metadata": {},
   "outputs": [
    {
     "name": "stdout",
     "output_type": "stream",
     "text": [
      "Diameter of circle is 4\n"
     ]
    }
   ],
   "source": [
    "print('Diameter of circle is', 2 * radius)"
   ]
  },
  {
   "cell_type": "code",
   "execution_count": 7,
   "id": "61c24b68-1e2f-44d5-bb7a-214752975b8c",
   "metadata": {},
   "outputs": [
    {
     "name": "stdout",
     "output_type": "stream",
     "text": [
      "Circumference of circle is 12.56636\n"
     ]
    }
   ],
   "source": [
    "print('Circumference of circle is', 2 * pi * radius)"
   ]
  },
  {
   "cell_type": "code",
   "execution_count": 11,
   "id": "ec67a640-20ee-4c64-986f-dcc6f14a2e85",
   "metadata": {},
   "outputs": [
    {
     "name": "stdout",
     "output_type": "stream",
     "text": [
      "Area of circle is 12.56636\n"
     ]
    }
   ],
   "source": [
    "print('Area of circle is', pi * radius ** 2)"
   ]
  }
 ],
 "metadata": {
  "kernelspec": {
   "display_name": "Python [conda env:base] *",
   "language": "python",
   "name": "conda-base-py"
  },
  "language_info": {
   "codemirror_mode": {
    "name": "ipython",
    "version": 3
   },
   "file_extension": ".py",
   "mimetype": "text/x-python",
   "name": "python",
   "nbconvert_exporter": "python",
   "pygments_lexer": "ipython3",
   "version": "3.13.5"
  }
 },
 "nbformat": 4,
 "nbformat_minor": 5
}
