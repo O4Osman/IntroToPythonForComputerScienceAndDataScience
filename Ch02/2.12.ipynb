{
 "cells": [
  {
   "cell_type": "raw",
   "id": "203f1f1f-4b43-4f45-9949-144738e90f24",
   "metadata": {},
   "source": [
    "\"\"\"\n",
    "\n",
    "2.12 (7% Investment Return) Some investment advisors say that it’s reasonable to expect a 7% return over the long term \n",
    "in the stock market. Assuming that you begin with $1000 and leave your money invested, calculate and display how much \n",
    "money you’ll have after 10, 20 and 30 years. Use the following formula for determining these amounts:\n",
    "a = p(1 + r)n\n",
    "where\n",
    "p is the original amount invested (i.e., the principal of $1000),\n",
    "r is the annual rate of return (7%),\n",
    "n is the number of years (10, 20 or 30) and\n",
    "a is the amount on deposit at the end of the\n",
    "nth year.\n",
    "\n",
    "\"\"\""
   ]
  },
  {
   "cell_type": "code",
   "execution_count": 1,
   "id": "ae8b1532-8837-4271-8516-65169cbeb779",
   "metadata": {},
   "outputs": [],
   "source": [
    "p = 1000"
   ]
  },
  {
   "cell_type": "code",
   "execution_count": 2,
   "id": "08b29642-53eb-4554-99e2-ce3f777c325a",
   "metadata": {},
   "outputs": [],
   "source": [
    "r = 7/100"
   ]
  },
  {
   "cell_type": "code",
   "execution_count": 20,
   "id": "5601647a-e1c4-46e6-977f-e996e232f0e2",
   "metadata": {},
   "outputs": [],
   "source": [
    "a_10 = p * (1 + r) ** 10 # Money after 10 years"
   ]
  },
  {
   "cell_type": "code",
   "execution_count": 18,
   "id": "8881699c-7320-44b2-a4f9-f2e3eccd0347",
   "metadata": {},
   "outputs": [],
   "source": [
    "a_20 = p * (1 + r) ** 20 # Money after 20 years"
   ]
  },
  {
   "cell_type": "code",
   "execution_count": 14,
   "id": "0f94d81d-d6bb-4b40-bf73-3dcfe735c8ef",
   "metadata": {},
   "outputs": [],
   "source": [
    "a_30 = p * (1 + r) ** 30 # Money after 30 years"
   ]
  },
  {
   "cell_type": "code",
   "execution_count": 21,
   "id": "2d8b681a-d23f-417d-875e-3850703e8ff7",
   "metadata": {},
   "outputs": [
    {
     "name": "stdout",
     "output_type": "stream",
     "text": [
      "Money after 10 years: 1967.1513572895665\n"
     ]
    }
   ],
   "source": [
    "print('Money after 10 years:', a_10)"
   ]
  },
  {
   "cell_type": "code",
   "execution_count": 19,
   "id": "55d25253-4d4c-4acd-83f1-7828df2fe42e",
   "metadata": {},
   "outputs": [
    {
     "name": "stdout",
     "output_type": "stream",
     "text": [
      "Money after 20 years: 3869.6844624861833\n"
     ]
    }
   ],
   "source": [
    "print('Money after 20 years:', a_20)"
   ]
  },
  {
   "cell_type": "code",
   "execution_count": 17,
   "id": "01d0d0d6-22fc-41f0-b525-c3c391138c4e",
   "metadata": {},
   "outputs": [
    {
     "name": "stdout",
     "output_type": "stream",
     "text": [
      "Money after 30 years: 7612.255042662042\n"
     ]
    }
   ],
   "source": [
    "print('Money after 30 years:', a_30)"
   ]
  }
 ],
 "metadata": {
  "kernelspec": {
   "display_name": "Python [conda env:base] *",
   "language": "python",
   "name": "conda-base-py"
  },
  "language_info": {
   "codemirror_mode": {
    "name": "ipython",
    "version": 3
   },
   "file_extension": ".py",
   "mimetype": "text/x-python",
   "name": "python",
   "nbconvert_exporter": "python",
   "pygments_lexer": "ipython3",
   "version": "3.13.5"
  }
 },
 "nbformat": 4,
 "nbformat_minor": 5
}
