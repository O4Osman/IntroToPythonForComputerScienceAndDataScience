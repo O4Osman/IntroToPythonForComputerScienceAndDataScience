{
 "cells": [
  {
   "cell_type": "code",
   "execution_count": 1,
   "id": "272fd554-9145-4b75-aa8a-774fa3becba0",
   "metadata": {},
   "outputs": [
    {
     "data": {
      "text/plain": [
       "\"\\n\\n“2.3 (Fill in the missing code) Replace *** in the following code with a statement that will print a message like 'Congratulations! Your grade of 91 earns you an A in this course'. Your statement should print the value stored in the variable grade:\\nif grade >= 90:\\n    ***”\\n\\n\""
      ]
     },
     "execution_count": 1,
     "metadata": {},
     "output_type": "execute_result"
    }
   ],
   "source": [
    "\"\"\"\n",
    "\n",
    "2.3 (Fill in the missing code) Replace *** in the following code with a statement that will print a message like \n",
    "'Congratulations! Your grade of 91 earns you an A in this course'. Your statement should print the value stored \n",
    "in the variable grade:\n",
    "if grade >= 90:\n",
    "    ***\n",
    "\n",
    "\"\"\""
   ]
  },
  {
   "cell_type": "code",
   "execution_count": 2,
   "id": "b4ae6de6-b1ad-42af-96f1-98d6327f3df2",
   "metadata": {},
   "outputs": [],
   "source": [
    "grade = 95"
   ]
  },
  {
   "cell_type": "code",
   "execution_count": 3,
   "id": "db9ccef7-cee7-44bd-b3a7-f4925516c995",
   "metadata": {},
   "outputs": [
    {
     "name": "stdout",
     "output_type": "stream",
     "text": [
      "Congratulations! Your grade of 91 earns an A in this course\n"
     ]
    }
   ],
   "source": [
    "if grade >= 90:\n",
    "    print('Congratulations! Your grade of 91 earns an A in this course')"
   ]
  }
 ],
 "metadata": {
  "kernelspec": {
   "display_name": "Python [conda env:base] *",
   "language": "python",
   "name": "conda-base-py"
  },
  "language_info": {
   "codemirror_mode": {
    "name": "ipython",
    "version": 3
   },
   "file_extension": ".py",
   "mimetype": "text/x-python",
   "name": "python",
   "nbconvert_exporter": "python",
   "pygments_lexer": "ipython3",
   "version": "3.13.5"
  }
 },
 "nbformat": 4,
 "nbformat_minor": 5
}
