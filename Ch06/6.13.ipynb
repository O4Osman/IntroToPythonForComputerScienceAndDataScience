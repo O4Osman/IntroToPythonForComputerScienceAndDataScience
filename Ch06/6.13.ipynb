{
 "cells": [
  {
   "cell_type": "code",
   "execution_count": null,
   "id": "64ab4d15-f945-429a-97a8-ed359ecdf9c4",
   "metadata": {},
   "outputs": [],
   "source": [
    "\"\"\"\n",
    "\n",
    "6.13 (Synonyms Dictionary) Use an online thesaurus to look up synonyms for five words, then create a synonyms dictionary \n",
    "that maps those words to lists containing three synonyms for each word. Display the dictionary’s contents as a key with \n",
    "an indented list of synonyms below it.\n",
    "\n",
    "\"\"\""
   ]
  },
  {
   "cell_type": "code",
   "execution_count": 1,
   "id": "c90db117-c396-496c-8e55-6aca5cb15a1c",
   "metadata": {},
   "outputs": [],
   "source": [
    "synonyms_dictionary = {'I': ['he', 'it', 'she'], 'take': ['bring', 'have', 'include'], \n",
    "                       'somewhere':['around', 'elsewhere', 'someplace'], 'know': ['realize', 'experience', 'learn'],\n",
    "                      'care': ['concern', 'load', 'responsibility']}"
   ]
  },
  {
   "cell_type": "code",
   "execution_count": 4,
   "id": "f8bd24f4-be1d-4a94-9abe-ce67f983cf22",
   "metadata": {},
   "outputs": [
    {
     "name": "stdout",
     "output_type": "stream",
     "text": [
      "I\n",
      "\the\n",
      "\tit\n",
      "\tshe\n",
      "\n",
      "take\n",
      "\tbring\n",
      "\thave\n",
      "\tinclude\n",
      "\n",
      "somewhere\n",
      "\taround\n",
      "\telsewhere\n",
      "\tsomeplace\n",
      "\n",
      "know\n",
      "\trealize\n",
      "\texperience\n",
      "\tlearn\n",
      "\n",
      "care\n",
      "\tconcern\n",
      "\tload\n",
      "\tresponsibility\n",
      "\n"
     ]
    }
   ],
   "source": [
    "for k, li in synonyms_dictionary.items():\n",
    "    print(f'{k}')\n",
    "    for i in li:\n",
    "        print(f'\\t{i}')\n",
    "    print()"
   ]
  },
  {
   "cell_type": "code",
   "execution_count": null,
   "id": "52963605-c767-45c4-aa9d-070f284bbd11",
   "metadata": {},
   "outputs": [],
   "source": []
  }
 ],
 "metadata": {
  "kernelspec": {
   "display_name": "Python [conda env:base] *",
   "language": "python",
   "name": "conda-base-py"
  },
  "language_info": {
   "codemirror_mode": {
    "name": "ipython",
    "version": 3
   },
   "file_extension": ".py",
   "mimetype": "text/x-python",
   "name": "python",
   "nbconvert_exporter": "python",
   "pygments_lexer": "ipython3",
   "version": "3.13.5"
  }
 },
 "nbformat": 4,
 "nbformat_minor": 5
}
