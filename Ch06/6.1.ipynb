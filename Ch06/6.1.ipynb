{
 "cells": [
  {
   "cell_type": "code",
   "execution_count": null,
   "id": "aaa9b317-ad5b-4dd9-8e8a-d5d9c7893d35",
   "metadata": {},
   "outputs": [],
   "source": [
    "\"\"\"\n",
    "\n",
    "(Discussion: Dictionary Methods) Briefly explain the operation of each of the fol- lowing dictionary methods:\n",
    "a) add\n",
    "b) keys \n",
    "c) values \n",
    "d) items\n",
    "\n",
    "\"\"\""
   ]
  },
  {
   "cell_type": "code",
   "execution_count": null,
   "id": "ea6903c8-f5b8-4b98-8789-0912651fd611",
   "metadata": {},
   "outputs": [],
   "source": [
    "\"\"\"\n",
    "a) add\n",
    "This method belongs to set. It does not work for dictionary. This method is used to add an item in the set passed as\n",
    "parameter if it is not duplicate and ignore if it is duplicate.\n",
    "\n",
    "b) keys\n",
    "This method returns a view object of all keys in a dictionary againts the values of the dictionary.\n",
    "\n",
    "c) Values\n",
    "This method returns a view object of all values in a dictionary against the keys of the dictionary.\n",
    "\n",
    "d) items\n",
    "This method return a view object of tuples of dictionary passed as parameter. In those tuple first item is key and 2nd \n",
    "item is value againts that key.\n",
    "\n",
    "\"\"\""
   ]
  }
 ],
 "metadata": {
  "kernelspec": {
   "display_name": "Python [conda env:base] *",
   "language": "python",
   "name": "conda-base-py"
  },
  "language_info": {
   "codemirror_mode": {
    "name": "ipython",
    "version": 3
   },
   "file_extension": ".py",
   "mimetype": "text/x-python",
   "name": "python",
   "nbconvert_exporter": "python",
   "pygments_lexer": "ipython3",
   "version": "3.13.5"
  }
 },
 "nbformat": 4,
 "nbformat_minor": 5
}
