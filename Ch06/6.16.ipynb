{
 "cells": [
  {
   "cell_type": "code",
   "execution_count": null,
   "id": "d5d0046e-84de-494a-9ac9-dcbaa4dd93a3",
   "metadata": {},
   "outputs": [],
   "source": [
    "\"\"\"\n",
    "\n",
    "6.16 (Intro to Data Science: Dynamic Visualization of the Dice Game of Craps) Reim- plement your solution to Exercise 5.33, \n",
    "using the techniques you learned in Section 6.4.2 to create a dynamic bar chart showing the wins and losses on the first \n",
    "roll, second roll, third roll, etc.\n",
    "\n",
    "\"\"\""
   ]
  },
  {
   "cell_type": "code",
   "execution_count": null,
   "id": "e69e03d0-c52c-4c38-9765-c05b471efe42",
   "metadata": {},
   "outputs": [],
   "source": [
    "\"\"\"\n",
    "\n",
    "5.33 (Intro to Data Science Challenge: Analyzing the Dice Game Craps) In this exercise, you’ll modify Chapter 4’s script \n",
    "that simulates the dice game craps by using the techniques you learned in Section 5.17.2. The script should receive a \n",
    "command-line argument indicating the number of games of craps to execute and use two lists to track the total numbers of \n",
    "games won and lost on the first roll, second roll, third roll, etc. Summarize the results as follows:\n",
    "\n",
    "a) Display a horizontal bar plot indicating how many games are won and how many are lost on the first roll, second roll, \n",
    "third roll, etc. Since the game could continue indefinitely, you might track wins and losses through the first dozen rolls \n",
    "(of a pair of dice), then maintain two counters that keep track of wins and losses after 12 rolls—no matter how long the \n",
    "game gets. Create separate bars for wins and losses.\n",
    "\n",
    "b) What are the chances of winning at craps? [Note: You should discover that craps is one of the fairest casino games. \n",
    "What do you suppose this means?]\n",
    "\n",
    "c) What is the mean for the length of a game of craps? The median? The mode?\n",
    "d) Do the chances of winning improve with the length of the game?\n",
    "\n",
    "\"\"\""
   ]
  },
  {
   "cell_type": "code",
   "execution_count": null,
   "id": "0a2e72a3-2fb2-4d8f-920b-a1b8b0febae8",
   "metadata": {},
   "outputs": [],
   "source": [
    "\"\"\"\n",
    "a)\n",
    "\n",
    "python 6.16.py 50000 100\n",
    "\n",
    "\"\"\""
   ]
  },
  {
   "cell_type": "code",
   "execution_count": null,
   "id": "a69bcab6-fc9a-415b-97f2-13ac13935077",
   "metadata": {},
   "outputs": [],
   "source": [
    "\"\"\"\n",
    "\n",
    "b) Craps is one of the fairest casino games because the chance of the house winning (and the player losing) is only \n",
    "slightly greater than the chance of the player winning.\n",
    "\n",
    "# Analysis of 50000 Games\n",
    "\n",
    "Winning Percentage: 49.16\n",
    "Loosing Percentage: 50.84\n",
    "\n",
    "\"\"\""
   ]
  },
  {
   "cell_type": "code",
   "execution_count": null,
   "id": "42c285ec-1fdf-4d35-bf44-108b72ebe475",
   "metadata": {},
   "outputs": [],
   "source": [
    "\"\"\"\n",
    "Winning Results Analysis (50000 Games)\n",
    "\n",
    "Winning Mean: 2.93246541903987\n",
    "Winning Median: 2.0\n",
    "Winning Mode: 1\n",
    "\n",
    "Loosing Results Analysis (50000 Games)\n",
    "\n",
    "Loosing Mean: 3.785995279307632\n",
    "Loosing Median: 3.0\n",
    "Loosing Mode: 2\n",
    "\n",
    "\"\"\""
   ]
  },
  {
   "cell_type": "code",
   "execution_count": null,
   "id": "0acafad9-9e1b-4105-af20-b14d227e86b3",
   "metadata": {},
   "outputs": [],
   "source": [
    "\"\"\"\n",
    "\n",
    "d) Craps is an independent-events game. The chances of winning do not improve with the length of the game.\n",
    "\n",
    "\"\"\""
   ]
  }
 ],
 "metadata": {
  "kernelspec": {
   "display_name": "Python [conda env:base] *",
   "language": "python",
   "name": "conda-base-py"
  },
  "language_info": {
   "codemirror_mode": {
    "name": "ipython",
    "version": 3
   },
   "file_extension": ".py",
   "mimetype": "text/x-python",
   "name": "python",
   "nbconvert_exporter": "python",
   "pygments_lexer": "ipython3",
   "version": "3.13.5"
  }
 },
 "nbformat": 4,
 "nbformat_minor": 5
}
