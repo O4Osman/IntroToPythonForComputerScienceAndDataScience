{
 "cells": [
  {
   "cell_type": "code",
   "execution_count": null,
   "id": "5f4b244c-1534-4369-84ba-32b48164f07f",
   "metadata": {},
   "outputs": [],
   "source": [
    "\"\"\"\n",
    "\n",
    "6.12 (Translation Dictionary) Use an online translation tool such as Bing Microsoft Translator or Google Translate to \n",
    "translate English words to another language. Create a translations dictionary that maps the English words to their \n",
    "translations. Display a two- column table of translations.\n",
    "\n",
    "\"\"\""
   ]
  },
  {
   "cell_type": "code",
   "execution_count": 1,
   "id": "ea4b67fe-3980-4e07-87f7-48d556b70fc9",
   "metadata": {},
   "outputs": [],
   "source": [
    "translation_dictionary = {'I': 'je', 'wanna': 'veut', 'take': 'prendre', 'you': 'toi', 'somewhere': 'quelque part',\n",
    "                         'so': 'donc', 'know': 'savoir', 'care': 'soins'}"
   ]
  },
  {
   "cell_type": "code",
   "execution_count": 4,
   "id": "19a0bbf5-7667-4625-bfe8-041f28540acd",
   "metadata": {},
   "outputs": [
    {
     "name": "stdout",
     "output_type": "stream",
     "text": [
      "Word\t\tTranslation\n",
      "I         \tje        \n",
      "wanna     \tveut      \n",
      "take      \tprendre   \n",
      "you       \ttoi       \n",
      "somewhere \tquelque part\n",
      "so        \tdonc      \n",
      "know      \tsavoir    \n",
      "care      \tsoins     \n"
     ]
    }
   ],
   "source": [
    "print('Word\\t\\tTranslation')\n",
    "for k, v in translation_dictionary.items():\n",
    "    print(f'{k:<10}\\t{v:<10}')"
   ]
  },
  {
   "cell_type": "code",
   "execution_count": null,
   "id": "c4c64251-ee8e-4fe8-b6de-e8575dd95128",
   "metadata": {},
   "outputs": [],
   "source": []
  }
 ],
 "metadata": {
  "kernelspec": {
   "display_name": "Python [conda env:base] *",
   "language": "python",
   "name": "conda-base-py"
  },
  "language_info": {
   "codemirror_mode": {
    "name": "ipython",
    "version": 3
   },
   "file_extension": ".py",
   "mimetype": "text/x-python",
   "name": "python",
   "nbconvert_exporter": "python",
   "pygments_lexer": "ipython3",
   "version": "3.13.5"
  }
 },
 "nbformat": 4,
 "nbformat_minor": 5
}
