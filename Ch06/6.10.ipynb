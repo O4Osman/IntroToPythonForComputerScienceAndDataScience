{
 "cells": [
  {
   "cell_type": "code",
   "execution_count": null,
   "id": "a8e6f256-900e-441e-8676-a696338242a4",
   "metadata": {},
   "outputs": [],
   "source": [
    "\"\"\"\n",
    "\n",
    "6.10 (Set Manipulations) Using the following sets:\n",
    "       {'red', 'green', 'blue'}\n",
    "       {'cyan', 'green', 'blue', 'magenta', 'red'}\n",
    "display the results of:\n",
    "a) comparing the sets using the each of the comparison operators.\n",
    "b) combining the sets using each of the mathematical set operators.\n",
    "\n",
    "\"\"\""
   ]
  },
  {
   "cell_type": "code",
   "execution_count": 1,
   "id": "8179becf-a2af-4565-a8cb-df8134bc4648",
   "metadata": {},
   "outputs": [],
   "source": [
    "set1 = {'red', 'green', 'blue'}\n",
    "set2 = {'cyan', 'green', 'blue', 'magenta', 'red'}"
   ]
  },
  {
   "cell_type": "code",
   "execution_count": 2,
   "id": "15e353bb-4d7e-4d7b-860f-2e604d6dd9e2",
   "metadata": {},
   "outputs": [
    {
     "data": {
      "text/plain": [
       "False"
      ]
     },
     "execution_count": 2,
     "metadata": {},
     "output_type": "execute_result"
    }
   ],
   "source": [
    "# a) comparing the sets using the each of the comparison operators.\n",
    "set1 == set2"
   ]
  },
  {
   "cell_type": "code",
   "execution_count": 3,
   "id": "cf423c08-535f-487b-9caf-190052ff16dd",
   "metadata": {},
   "outputs": [
    {
     "data": {
      "text/plain": [
       "True"
      ]
     },
     "execution_count": 3,
     "metadata": {},
     "output_type": "execute_result"
    }
   ],
   "source": [
    "set1 != set2"
   ]
  },
  {
   "cell_type": "code",
   "execution_count": 4,
   "id": "3645886e-302c-44d9-baba-23141aa0c019",
   "metadata": {},
   "outputs": [
    {
     "data": {
      "text/plain": [
       "True"
      ]
     },
     "execution_count": 4,
     "metadata": {},
     "output_type": "execute_result"
    }
   ],
   "source": [
    "set1 < set2"
   ]
  },
  {
   "cell_type": "code",
   "execution_count": 5,
   "id": "cc577d68-fe77-4f33-a3d2-f7bf2ab3b6a3",
   "metadata": {},
   "outputs": [
    {
     "data": {
      "text/plain": [
       "True"
      ]
     },
     "execution_count": 5,
     "metadata": {},
     "output_type": "execute_result"
    }
   ],
   "source": [
    "set1 <= set2"
   ]
  },
  {
   "cell_type": "code",
   "execution_count": 6,
   "id": "cc70eb10-4905-4a8e-ac3d-34b213976825",
   "metadata": {},
   "outputs": [
    {
     "data": {
      "text/plain": [
       "False"
      ]
     },
     "execution_count": 6,
     "metadata": {},
     "output_type": "execute_result"
    }
   ],
   "source": [
    "set1 > set2"
   ]
  },
  {
   "cell_type": "code",
   "execution_count": 7,
   "id": "01f9a703-cac3-4acc-8aaf-b7cff4cdae9e",
   "metadata": {},
   "outputs": [
    {
     "data": {
      "text/plain": [
       "False"
      ]
     },
     "execution_count": 7,
     "metadata": {},
     "output_type": "execute_result"
    }
   ],
   "source": [
    "set1 >= set2"
   ]
  },
  {
   "cell_type": "code",
   "execution_count": 8,
   "id": "5eb6c217-25f9-4b7a-bef7-2fa4dbe6b1ac",
   "metadata": {},
   "outputs": [
    {
     "data": {
      "text/plain": [
       "{'blue', 'cyan', 'green', 'magenta', 'red'}"
      ]
     },
     "execution_count": 8,
     "metadata": {},
     "output_type": "execute_result"
    }
   ],
   "source": [
    "# b) combining the sets using each of the mathematical set operators.\n",
    "set1 | set2"
   ]
  },
  {
   "cell_type": "code",
   "execution_count": 9,
   "id": "6ab3e39b-3eeb-4c8c-9f78-08a97f9f7876",
   "metadata": {},
   "outputs": [
    {
     "data": {
      "text/plain": [
       "{'blue', 'green', 'red'}"
      ]
     },
     "execution_count": 9,
     "metadata": {},
     "output_type": "execute_result"
    }
   ],
   "source": [
    "set1 & set2"
   ]
  },
  {
   "cell_type": "code",
   "execution_count": 10,
   "id": "924376fe-51f6-4915-8a15-562fa720ee9d",
   "metadata": {},
   "outputs": [
    {
     "data": {
      "text/plain": [
       "{'cyan', 'magenta'}"
      ]
     },
     "execution_count": 10,
     "metadata": {},
     "output_type": "execute_result"
    }
   ],
   "source": [
    "set1 ^ set2"
   ]
  },
  {
   "cell_type": "code",
   "execution_count": 14,
   "id": "82e4f9e8-1ee4-433b-9128-ce5783fa27db",
   "metadata": {},
   "outputs": [
    {
     "data": {
      "text/plain": [
       "set()"
      ]
     },
     "execution_count": 14,
     "metadata": {},
     "output_type": "execute_result"
    }
   ],
   "source": [
    "set1 - set2"
   ]
  },
  {
   "cell_type": "code",
   "execution_count": 15,
   "id": "719ea7b5-8291-4e8f-87aa-696673ee2b96",
   "metadata": {},
   "outputs": [
    {
     "data": {
      "text/plain": [
       "{'cyan', 'magenta'}"
      ]
     },
     "execution_count": 15,
     "metadata": {},
     "output_type": "execute_result"
    }
   ],
   "source": [
    "set2 - set1"
   ]
  },
  {
   "cell_type": "code",
   "execution_count": null,
   "id": "219e3134-9753-4622-8182-a08d00737f6d",
   "metadata": {},
   "outputs": [],
   "source": []
  }
 ],
 "metadata": {
  "kernelspec": {
   "display_name": "Python [conda env:base] *",
   "language": "python",
   "name": "conda-base-py"
  },
  "language_info": {
   "codemirror_mode": {
    "name": "ipython",
    "version": 3
   },
   "file_extension": ".py",
   "mimetype": "text/x-python",
   "name": "python",
   "nbconvert_exporter": "python",
   "pygments_lexer": "ipython3",
   "version": "3.13.5"
  }
 },
 "nbformat": 4,
 "nbformat_minor": 5
}
