{
 "cells": [
  {
   "cell_type": "code",
   "execution_count": null,
   "id": "b23efa5f-2107-4f76-9d4f-73b052a31567",
   "metadata": {},
   "outputs": [],
   "source": [
    "\"\"\"\n",
    "\n",
    "6.4 (Fill in the Missing Code) In each of the following expressions, replace the ***s with a set operator that produces the \n",
    "result shown in the comment. The last operation should check whether the left operand is an improper subset of the right \n",
    "operand. For each of the first four expressions, specify the name of the set operation that produces the spec- ified result.\n",
    "\n",
    "a) {1, 2, 4, 8, 16} *** {1, 4, 16, 64, 256} # {1,2,4,8,16,64,256} \n",
    "b) {1, 2, 4, 8, 16} *** {1, 4, 16, 64, 256} # {1,4,16} \n",
    "c){1,2,4,8,16}***{1,4,16,64,256} #{2,8}\n",
    "d) {1, 2, 4, 8, 16} *** {1, 4, 16, 64, 256} # {2,8,64,256} \n",
    "e){1,2,4,8,16}***{1,4,16,64,256} #False\n",
    "\n",
    "\"\"\""
   ]
  },
  {
   "cell_type": "code",
   "execution_count": 1,
   "id": "897888aa-dc9f-4864-a2c3-56623bd95656",
   "metadata": {},
   "outputs": [
    {
     "data": {
      "text/plain": [
       "{1, 2, 4, 8, 16, 64, 256}"
      ]
     },
     "execution_count": 1,
     "metadata": {},
     "output_type": "execute_result"
    }
   ],
   "source": [
    "# a) union\n",
    "{1, 2, 4, 8, 16} | {1, 4, 16, 64, 256} # {1,2,4,8,16,64,256} "
   ]
  },
  {
   "cell_type": "code",
   "execution_count": 2,
   "id": "3ffc306e-d592-4839-9c9d-3fb32319f8dd",
   "metadata": {},
   "outputs": [
    {
     "data": {
      "text/plain": [
       "{1, 4, 16}"
      ]
     },
     "execution_count": 2,
     "metadata": {},
     "output_type": "execute_result"
    }
   ],
   "source": [
    "# b) intersection\n",
    "{1, 2, 4, 8, 16} & {1, 4, 16, 64, 256} # {1,4,16} "
   ]
  },
  {
   "cell_type": "code",
   "execution_count": 3,
   "id": "b6a1f9ef-c4df-4a87-be96-6808c8f7860e",
   "metadata": {},
   "outputs": [
    {
     "data": {
      "text/plain": [
       "{2, 8}"
      ]
     },
     "execution_count": 3,
     "metadata": {},
     "output_type": "execute_result"
    }
   ],
   "source": [
    "# c) difference\n",
    "{1,2,4,8,16} - {1,4,16,64,256} #{2,8}"
   ]
  },
  {
   "cell_type": "code",
   "execution_count": 4,
   "id": "ff27c606-2b33-46d7-a6d3-cb95f5cd3b21",
   "metadata": {},
   "outputs": [
    {
     "data": {
      "text/plain": [
       "{2, 8, 64, 256}"
      ]
     },
     "execution_count": 4,
     "metadata": {},
     "output_type": "execute_result"
    }
   ],
   "source": [
    "# d) symmetric difference\n",
    "{1, 2, 4, 8, 16} ^ {1, 4, 16, 64, 256} # {2,8,64,256} "
   ]
  },
  {
   "cell_type": "code",
   "execution_count": 6,
   "id": "5927d305-518e-45c6-8a6d-f162433291d2",
   "metadata": {},
   "outputs": [
    {
     "data": {
      "text/plain": [
       "False"
      ]
     },
     "execution_count": 6,
     "metadata": {},
     "output_type": "execute_result"
    }
   ],
   "source": [
    "# e) improper subset\n",
    "{1,2,4,8,16} <= {1,4,16,64,256} #False"
   ]
  },
  {
   "cell_type": "code",
   "execution_count": null,
   "id": "a5a5c889-d6ef-442e-b034-ec651123c1af",
   "metadata": {},
   "outputs": [],
   "source": []
  }
 ],
 "metadata": {
  "kernelspec": {
   "display_name": "Python [conda env:base] *",
   "language": "python",
   "name": "conda-base-py"
  },
  "language_info": {
   "codemirror_mode": {
    "name": "ipython",
    "version": 3
   },
   "file_extension": ".py",
   "mimetype": "text/x-python",
   "name": "python",
   "nbconvert_exporter": "python",
   "pygments_lexer": "ipython3",
   "version": "3.13.5"
  }
 },
 "nbformat": 4,
 "nbformat_minor": 5
}
