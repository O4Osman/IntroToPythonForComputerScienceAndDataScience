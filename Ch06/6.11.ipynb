{
 "cells": [
  {
   "cell_type": "code",
   "execution_count": null,
   "id": "05ff8586-4d9d-4e94-b8bc-eb0d24a735e1",
   "metadata": {},
   "outputs": [],
   "source": [
    "\"\"\"\n",
    "\n",
    "6.11 (Analyzing the Game of Craps) Modify the script of Fig. 4.2 to play 1,000,000 games of craps. Use a wins dictionary to \n",
    "keep track of the number of games won for a particular number of rolls. Similarly, use a losses dictionary to keep track \n",
    "of the number of games lost for a particular number of rolls. As the simulation proceeds, keep updating the dictionaries.\n",
    "\n",
    "A typical key–value pair in the wins dictionary might be \n",
    "4: 50217\n",
    "indicating that 50217 games were won on the 4th roll. Display a summary of the results including:\n",
    "\n",
    "a) the percentage of the total games played that were won.\n",
    "b) the percentage of the total games played that were lost.\n",
    "c) the percentages of the total games played that were won or lost on a given roll(column 2 of the sample output).\n",
    "d) the cumulative percentage of the total games played that were won or lost up to and including a given number of rolls \n",
    "(column 3 of the sample output).\n",
    "Your output should be similar to the one below.\n",
    "\n",
    "/6.11.png\n",
    "\n",
    "\"\"\""
   ]
  },
  {
   "cell_type": "code",
   "execution_count": null,
   "id": "8ed5ead5-720c-4c6f-b2c2-d46b1bafe787",
   "metadata": {},
   "outputs": [],
   "source": [
    "\"\"\"\n",
    "run this in terminal\n",
    "\n",
    "python 6.11.py 1000000\n",
    "\n",
    "\"\"\""
   ]
  },
  {
   "cell_type": "code",
   "execution_count": null,
   "id": "3afb2764-5d50-4a43-a8c1-6d4e0784caf6",
   "metadata": {},
   "outputs": [],
   "source": []
  }
 ],
 "metadata": {
  "kernelspec": {
   "display_name": "Python [conda env:base] *",
   "language": "python",
   "name": "conda-base-py"
  },
  "language_info": {
   "codemirror_mode": {
    "name": "ipython",
    "version": 3
   },
   "file_extension": ".py",
   "mimetype": "text/x-python",
   "name": "python",
   "nbconvert_exporter": "python",
   "pygments_lexer": "ipython3",
   "version": "3.13.5"
  }
 },
 "nbformat": 4,
 "nbformat_minor": 5
}
