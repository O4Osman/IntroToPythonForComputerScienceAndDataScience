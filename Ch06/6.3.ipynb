{
 "cells": [
  {
   "cell_type": "code",
   "execution_count": null,
   "id": "2ce64e19-bbd8-449e-8d89-86e73e570273",
   "metadata": {},
   "outputs": [],
   "source": [
    "\"\"\"\n",
    "\n",
    "6.3 (What Does This Code Do?) The dictionary temperatures contains three Fahren-\n",
    "heit temperature samples for each of four days. What does the for statement do?\n",
    "       temperatures = {\n",
    "           'Monday': [66, 70, 74],\n",
    "           'Tuesday': [50, 56, 64],\n",
    "           'Wednesday': [75, 80, 83],\n",
    "           'Thursday': [67, 74, 81]\n",
    "       }\n",
    "       for k, v in temperatures.items():\n",
    "           print(f'{k}: {sum(v)/len(v):.2f}')\n",
    "\n",
    "\"\"\""
   ]
  },
  {
   "cell_type": "code",
   "execution_count": null,
   "id": "eb1ee7b5-d780-4f5f-8daf-0657a4518f87",
   "metadata": {},
   "outputs": [],
   "source": [
    "\"\"\"\n",
    "\n",
    "the code output the Day and its average of 3 fahrenheit temperature sample for that day.\n",
    "\n",
    "\"\"\""
   ]
  },
  {
   "cell_type": "code",
   "execution_count": 1,
   "id": "8beea2ce-6c8a-412e-9e0d-f12609782bd1",
   "metadata": {},
   "outputs": [
    {
     "name": "stdout",
     "output_type": "stream",
     "text": [
      "Monday: 70.00\n",
      "Tuesday: 56.67\n",
      "Wednesday: 79.33\n",
      "Thursday: 74.00\n"
     ]
    }
   ],
   "source": [
    "temperatures = {\n",
    "   'Monday': [66, 70, 74],\n",
    "   'Tuesday': [50, 56, 64],\n",
    "   'Wednesday': [75, 80, 83],\n",
    "   'Thursday': [67, 74, 81]\n",
    "}\n",
    "for k, v in temperatures.items():\n",
    "   print(f'{k}: {sum(v)/len(v):.2f}')"
   ]
  },
  {
   "cell_type": "code",
   "execution_count": null,
   "id": "688ecf69-de6d-424a-9407-05587694e6da",
   "metadata": {},
   "outputs": [],
   "source": []
  }
 ],
 "metadata": {
  "kernelspec": {
   "display_name": "Python [conda env:base] *",
   "language": "python",
   "name": "conda-base-py"
  },
  "language_info": {
   "codemirror_mode": {
    "name": "ipython",
    "version": 3
   },
   "file_extension": ".py",
   "mimetype": "text/x-python",
   "name": "python",
   "nbconvert_exporter": "python",
   "pygments_lexer": "ipython3",
   "version": "3.13.5"
  }
 },
 "nbformat": 4,
 "nbformat_minor": 5
}
