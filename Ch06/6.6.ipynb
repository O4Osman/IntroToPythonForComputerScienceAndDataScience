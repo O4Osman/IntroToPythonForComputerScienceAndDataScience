{
 "cells": [
  {
   "cell_type": "code",
   "execution_count": null,
   "id": "6ad5e5df-60ec-43cd-9a5e-9ec0e39368b5",
   "metadata": {},
   "outputs": [],
   "source": [
    "\"\"\"\n",
    "\n",
    "6.6 (Duplicate Word Removal) Write a function that receives a list of words, then de- termines and displays in alphabetical \n",
    "order only the unique words. Treat uppercase and lowercase letters the same. The function should use a set to get the unique \n",
    "words in the list. Test your function with several sentences.\n",
    "\n",
    "\"\"\""
   ]
  },
  {
   "cell_type": "code",
   "execution_count": 12,
   "id": "6f30dcd3-3f63-4ee2-bfa7-78733d017df1",
   "metadata": {},
   "outputs": [],
   "source": [
    "def get_unique_words(words):\n",
    "    \"\"\"return unique set of words\"\"\"\n",
    "    unique_words = set(words)\n",
    "    sorted_words = sorted(unique_words)\n",
    "    return sorted_words"
   ]
  },
  {
   "cell_type": "code",
   "execution_count": null,
   "id": "025344ea-cc76-4546-8134-c894e8fb827b",
   "metadata": {},
   "outputs": [
    {
     "name": "stdin",
     "output_type": "stream",
     "text": [
      "Enter text to get unique words (q to quit):  the quick brown fox jumps over the lazy dog the dog was not quick\n"
     ]
    },
    {
     "name": "stdout",
     "output_type": "stream",
     "text": [
      "['brown', 'dog', 'fox', 'jumps', 'lazy', 'not', 'over', 'quick', 'the', 'was']\n"
     ]
    },
    {
     "name": "stdin",
     "output_type": "stream",
     "text": [
      "Enter text to get unique words (q to quit):  Hello hello world world hello\n"
     ]
    },
    {
     "name": "stdout",
     "output_type": "stream",
     "text": [
      "['hello', 'world']\n"
     ]
    },
    {
     "name": "stdin",
     "output_type": "stream",
     "text": [
      "Enter text to get unique words (q to quit):  python makes programming fun\n"
     ]
    },
    {
     "name": "stdout",
     "output_type": "stream",
     "text": [
      "['fun', 'makes', 'programming', 'python']\n"
     ]
    },
    {
     "name": "stdin",
     "output_type": "stream",
     "text": [
      "Enter text to get unique words (q to quit):  this is a test this is only a test\n"
     ]
    },
    {
     "name": "stdout",
     "output_type": "stream",
     "text": [
      "['a', 'is', 'only', 'test', 'this']\n"
     ]
    }
   ],
   "source": [
    "while True:\n",
    "    text = input('Enter text to get unique words (q to quit): ').lower()\n",
    "    if text == 'q':\n",
    "        break\n",
    "    else:\n",
    "        answer = get_unique_words(text.split())\n",
    "        print(answer)"
   ]
  },
  {
   "cell_type": "code",
   "execution_count": null,
   "id": "e5323831-8344-4cf9-be93-5c277823eab3",
   "metadata": {},
   "outputs": [],
   "source": []
  }
 ],
 "metadata": {
  "kernelspec": {
   "display_name": "Python [conda env:base] *",
   "language": "python",
   "name": "conda-base-py"
  },
  "language_info": {
   "codemirror_mode": {
    "name": "ipython",
    "version": 3
   },
   "file_extension": ".py",
   "mimetype": "text/x-python",
   "name": "python",
   "nbconvert_exporter": "python",
   "pygments_lexer": "ipython3",
   "version": "3.13.5"
  }
 },
 "nbformat": 4,
 "nbformat_minor": 5
}
