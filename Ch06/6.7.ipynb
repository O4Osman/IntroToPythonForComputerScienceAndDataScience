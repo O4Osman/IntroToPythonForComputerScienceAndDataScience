{
 "cells": [
  {
   "cell_type": "code",
   "execution_count": null,
   "id": "4728a15f-0dc8-4dbf-b3b7-c6ad0aef6c4e",
   "metadata": {},
   "outputs": [],
   "source": [
    "\"\"\"\n",
    "\n",
    "6.7 (Character Counts) Recall that strings are sequences of characters. Use techniques similar to Fig. 6.2 to write a script \n",
    "that inputs a sentence from the user, then uses a dictionary to summarize the number of occurrences of each letter. \n",
    "Ignore case, ignore blanks and assume the user does not enter any punctuation. Display a two-column table of the letters and \n",
    "their counts with the letters in sorted order. Challenge: Use a set operation to determine which letters of the alphabet \n",
    "were not in the original string.\n",
    "\n",
    "\"\"\""
   ]
  },
  {
   "cell_type": "code",
   "execution_count": 1,
   "id": "93853ec5-b97c-4c27-9a85-2b3aaa68f7f3",
   "metadata": {},
   "outputs": [],
   "source": [
    "from collections import Counter"
   ]
  },
  {
   "cell_type": "code",
   "execution_count": 3,
   "id": "fac17d82-c7d2-436f-b605-3b104cb9f0b8",
   "metadata": {},
   "outputs": [
    {
     "name": "stdin",
     "output_type": "stream",
     "text": [
      "Enter text:  Recall that strings are sequences of characters\n"
     ]
    }
   ],
   "source": [
    "text = input('Enter text: ').lower()"
   ]
  },
  {
   "cell_type": "code",
   "execution_count": 4,
   "id": "888bec90-148d-428d-9e4c-b1bd7b38d715",
   "metadata": {},
   "outputs": [],
   "source": [
    "characters_counter = Counter(text)\n",
    "if ' ' in characters_counter:\n",
    "    del characters_counter[' ']"
   ]
  },
  {
   "cell_type": "code",
   "execution_count": 5,
   "id": "2f7d8d82-e656-4024-a9d0-15b9580901d2",
   "metadata": {},
   "outputs": [
    {
     "name": "stdout",
     "output_type": "stream",
     "text": [
      "Character\tCount\n",
      "a        \t5    \n",
      "c        \t4    \n",
      "e        \t6    \n",
      "f        \t1    \n",
      "g        \t1    \n",
      "h        \t2    \n",
      "i        \t1    \n",
      "l        \t2    \n",
      "n        \t2    \n",
      "o        \t1    \n",
      "q        \t1    \n",
      "r        \t5    \n",
      "s        \t5    \n",
      "t        \t4    \n",
      "u        \t1    \n"
     ]
    }
   ],
   "source": [
    "print('Character\\tCount')\n",
    "for character, count in sorted(characters_counter.items()):\n",
    "    print(f'{character:<9}\\t{count:<5}')"
   ]
  },
  {
   "cell_type": "code",
   "execution_count": 6,
   "id": "ceef33dd-7c6f-479f-aea3-a397b6c42a75",
   "metadata": {},
   "outputs": [],
   "source": [
    "alphabets = {'d', 'x', 'm', 'v', 'c', 'y', 'q', 'n', 't', 'a', 'e', 'j', 'p', 'h', 'o', 'w', 'i', 'r', 'b', 's', 'g', 'f', 'l', 'u', 'k', 'z'}"
   ]
  },
  {
   "cell_type": "code",
   "execution_count": 7,
   "id": "ebfb23b8-7ff2-4984-a6d3-0211091d58da",
   "metadata": {},
   "outputs": [],
   "source": [
    "if characters_counter.keys() == alphabets:\n",
    "    print('')"
   ]
  },
  {
   "cell_type": "code",
   "execution_count": 8,
   "id": "eebcd9ac-6b38-44a7-83ca-8688cc8b1c3e",
   "metadata": {},
   "outputs": [
    {
     "name": "stdout",
     "output_type": "stream",
     "text": [
      "Following characters are not present in original string.\n",
      "['b', 'd', 'j', 'k', 'm', 'p', 'v', 'w', 'x', 'y', 'z']\n"
     ]
    }
   ],
   "source": [
    "original_string_characters = set(characters_counter.keys())\n",
    "absent_characters = alphabets - original_string_characters\n",
    "if len(absent_characters) > 0:\n",
    "    print('Following characters are not present in original string.')\n",
    "    print(sorted(absent_characters))\n",
    "else:\n",
    "    print('All alphabet characters are present in the original string.')"
   ]
  },
  {
   "cell_type": "code",
   "execution_count": null,
   "id": "776fd4f0-155c-43be-9647-042d911f4674",
   "metadata": {},
   "outputs": [],
   "source": []
  }
 ],
 "metadata": {
  "kernelspec": {
   "display_name": "Python [conda env:base] *",
   "language": "python",
   "name": "conda-base-py"
  },
  "language_info": {
   "codemirror_mode": {
    "name": "ipython",
    "version": 3
   },
   "file_extension": ".py",
   "mimetype": "text/x-python",
   "name": "python",
   "nbconvert_exporter": "python",
   "pygments_lexer": "ipython3",
   "version": "3.13.5"
  }
 },
 "nbformat": 4,
 "nbformat_minor": 5
}
