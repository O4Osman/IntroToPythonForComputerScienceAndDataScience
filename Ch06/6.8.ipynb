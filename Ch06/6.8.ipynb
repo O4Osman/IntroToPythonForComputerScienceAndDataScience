{
 "cells": [
  {
   "cell_type": "code",
   "execution_count": null,
   "id": "496f2404-7d2f-49ad-9274-1b87f78ad4b8",
   "metadata": {},
   "outputs": [],
   "source": [
    "\"\"\"\n",
    "\n",
    "6.8 (Challenge: Writing the Word Equivalent of a Check Amount) In check-writing systems, it’s crucial to prevent alteration \n",
    "of check amounts. One common security method requires that the amount be written in numbers and spelled out in words as well.\n",
    "Even if someone can alter the numerical amount of the check, it’s tough to change the amount in words. Create a dictionary \n",
    "that maps numbers to their corresponding word equivalents. Write a script that inputs a numeric check amount that’s less \n",
    "than 1000 and uses the dic- tionary to write the word equivalent of the amount. For example, the amount 112.43 should be \n",
    "written as\n",
    "       ONE HUNDRED TWELVE AND 43/100\n",
    "       \n",
    "\"\"\""
   ]
  },
  {
   "cell_type": "code",
   "execution_count": 143,
   "id": "b20e6deb-9888-45bf-afe1-b3953e44b545",
   "metadata": {},
   "outputs": [],
   "source": [
    "from decimal import Decimal"
   ]
  },
  {
   "cell_type": "code",
   "execution_count": 169,
   "id": "cc41e7a6-a67d-4736-b538-f9257a06abfd",
   "metadata": {},
   "outputs": [],
   "source": [
    "word_equivalent = {1: 'ONE', 2: 'TWO', 3: 'THREE', 4: 'FOUR', 5: 'FIVE', 6: 'SIX', 7: 'SEVEN', 8: 'EIGHT', 9: 'NINE', \n",
    "                   10: 'TEN', 11: 'ELEVEN', 12: 'TWELVE', 13: 'THIRTEEN', 14: 'FOURTEEN', 15: 'FIFTEEN', 16: 'SIXTEEN',\n",
    "                  17: 'SEVENTEEN', 18: 'EIGHTEEN', 19: 'NINETEEN', 20: 'TWENTY', 30: 'THIRTY', 40: 'FORTY', 50: 'FIFTY',\n",
    "                  60: 'SIXTY', 70: 'SEVENTY', 80: 'EIGHTY', 90: 'NINETY'}"
   ]
  },
  {
   "cell_type": "code",
   "execution_count": 288,
   "id": "b810588c-e73d-45d0-9bad-211e8586dfe4",
   "metadata": {},
   "outputs": [],
   "source": [
    "def hundred_position(number):\n",
    "    \"\"\"return words if number is greater then or equal to 100.\"\"\"\n",
    "    words = ''\n",
    "    first_digit = int(number / 100)\n",
    "    words += word_equivalent[first_digit] + ' HUNDRED '\n",
    "    number = Decimal(number % 100)\n",
    "    if number > 1:\n",
    "        words += tenth_position(number)\n",
    "    else:\n",
    "        words += decimal_position(number)\n",
    "    return words"
   ]
  },
  {
   "cell_type": "code",
   "execution_count": 289,
   "id": "670231bd-0a6f-4e9b-b7e2-c487b9fef612",
   "metadata": {},
   "outputs": [],
   "source": [
    "def tenth_position(number):\n",
    "    \"\"\"return words if number is greater then or equal to 10.\"\"\"\n",
    "    words = ''\n",
    "    if int(number) in word_equivalent:\n",
    "        words += word_equivalent[int(number)]\n",
    "        number = Decimal(number % 1)\n",
    "    else:\n",
    "        first_digit = int(number / 10) * 10\n",
    "        last_digit = int(number % 10)\n",
    "        words += word_equivalent[first_digit] + ' ' + word_equivalent[last_digit]\n",
    "        number = Decimal(number % 1)\n",
    "    words += decimal_position(number)\n",
    "    return words"
   ]
  },
  {
   "cell_type": "code",
   "execution_count": 290,
   "id": "4f998430-7c9a-4795-a8c2-f36044ccc312",
   "metadata": {},
   "outputs": [],
   "source": [
    "def decimal_position(number):\n",
    "    \"\"\"return words for decimal part of a number.\"\"\"\n",
    "    words = ''\n",
    "    number = number * 100\n",
    "    words = f' AND {int(number)}/100'\n",
    "    return words"
   ]
  },
  {
   "cell_type": "code",
   "execution_count": 291,
   "id": "b2d9b75a-e77b-4482-afb6-3e6ab4a91945",
   "metadata": {},
   "outputs": [
    {
     "name": "stdin",
     "output_type": "stream",
     "text": [
      "Enter a number (less then 1000):  100\n"
     ]
    },
    {
     "name": "stdout",
     "output_type": "stream",
     "text": [
      "ONE HUNDRED  AND 0/100\n"
     ]
    }
   ],
   "source": [
    "amount = Decimal(input('Enter a number (less then 1000): '))\n",
    "words = ''\n",
    "if amount >= 100:\n",
    "    words = hundred_position(amount)\n",
    "elif amount >= 1:\n",
    "     words = tenth_position(amount)\n",
    "elif amount > 0  and amount < 1:\n",
    "    words = ''\n",
    "    amount = amount * 100\n",
    "    words = f'ZERO AND {int(amount)}/100'\n",
    "print(words)"
   ]
  },
  {
   "cell_type": "code",
   "execution_count": null,
   "id": "d0cd7b38-3a94-4302-8665-df1199f76024",
   "metadata": {},
   "outputs": [],
   "source": []
  }
 ],
 "metadata": {
  "kernelspec": {
   "display_name": "Python [conda env:base] *",
   "language": "python",
   "name": "conda-base-py"
  },
  "language_info": {
   "codemirror_mode": {
    "name": "ipython",
    "version": 3
   },
   "file_extension": ".py",
   "mimetype": "text/x-python",
   "name": "python",
   "nbconvert_exporter": "python",
   "pygments_lexer": "ipython3",
   "version": "3.13.5"
  }
 },
 "nbformat": 4,
 "nbformat_minor": 5
}
