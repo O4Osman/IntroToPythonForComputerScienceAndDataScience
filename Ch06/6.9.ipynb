{
 "cells": [
  {
   "cell_type": "code",
   "execution_count": null,
   "id": "077fd506-c5e3-4b56-a610-3fe46b861cba",
   "metadata": {},
   "outputs": [],
   "source": [
    "\"\"\"\n",
    "\n",
    "6.9 (Dictionary Manipulations) Using the following dictionary, which maps country names to Internet top-level domains (TLDs):\n",
    "       tlds = {'Canada': 'ca', 'United States': 'us', 'Mexico': 'mx'}\n",
    "perform the following tasks and display the results:\n",
    "a) Check whether the dictionary contains the key'Canada'.\n",
    "b) Check whether the dictionary contains the key 'France'.\n",
    "c) Iterate through the key–value pairs and display them in two-column format.\n",
    "d) Add the key–value pair 'Sweden' and 'sw' (which is incorrect).\n",
    "e) Update the value for the key 'Sweden' to 'se'.\n",
    "f) Use a dictionary comprehension to reverse the keys and values.\n",
    "g) With the result of part(f), use a dictionary comprehension to convert the country names to all uppercase letters.\n",
    "\n",
    "\"\"\""
   ]
  },
  {
   "cell_type": "code",
   "execution_count": 17,
   "id": "bdf2389e-8992-4aae-a610-bbdbe6010d50",
   "metadata": {},
   "outputs": [],
   "source": [
    "tlds = {'Canada': 'ca', 'United States': 'us', 'Mexico': 'mx'}"
   ]
  },
  {
   "cell_type": "code",
   "execution_count": 18,
   "id": "5d9fcbf5-1905-4735-bcfc-99d31d2007d4",
   "metadata": {},
   "outputs": [
    {
     "data": {
      "text/plain": [
       "True"
      ]
     },
     "execution_count": 18,
     "metadata": {},
     "output_type": "execute_result"
    }
   ],
   "source": [
    "# a) Check whether the dictionary contains the key'Canada'.\n",
    "'Canada' in tlds"
   ]
  },
  {
   "cell_type": "code",
   "execution_count": 19,
   "id": "f0bf9213-6134-4419-9d6d-7b0ab7195581",
   "metadata": {},
   "outputs": [
    {
     "data": {
      "text/plain": [
       "False"
      ]
     },
     "execution_count": 19,
     "metadata": {},
     "output_type": "execute_result"
    }
   ],
   "source": [
    "# b) Check whether the dictionary contains the key 'France'.\n",
    "'France' in tlds"
   ]
  },
  {
   "cell_type": "code",
   "execution_count": 20,
   "id": "ae8f34cd-7e78-487c-a6f1-a3ab91208deb",
   "metadata": {},
   "outputs": [
    {
     "name": "stdout",
     "output_type": "stream",
     "text": [
      "Canada    \t\tca        \n",
      "United States\t\tus        \n",
      "Mexico    \t\tmx        \n"
     ]
    }
   ],
   "source": [
    "# c) Iterate through the key–value pairs and display them in two-column format.\n",
    "for key, value in tlds.items():\n",
    "    print(f'{key:<10}\\t\\t{value:<10}')"
   ]
  },
  {
   "cell_type": "code",
   "execution_count": 21,
   "id": "6212cf4b-f386-456c-9db9-8d346e56d347",
   "metadata": {},
   "outputs": [],
   "source": [
    "# d) Add the key–value pair 'Sweden' and 'sw' (which is incorrect).\n",
    "tlds['Sweden'] = 'sw'"
   ]
  },
  {
   "cell_type": "code",
   "execution_count": 22,
   "id": "45aab57f-d2e8-4ea6-9d21-f8267db5e83f",
   "metadata": {},
   "outputs": [
    {
     "data": {
      "text/plain": [
       "{'Canada': 'ca', 'United States': 'us', 'Mexico': 'mx', 'Sweden': 'sw'}"
      ]
     },
     "execution_count": 22,
     "metadata": {},
     "output_type": "execute_result"
    }
   ],
   "source": [
    "tlds"
   ]
  },
  {
   "cell_type": "code",
   "execution_count": 23,
   "id": "46c12d26-e273-418f-a49f-1aefe172f8d5",
   "metadata": {},
   "outputs": [],
   "source": [
    "# e) Update the value for the key 'Sweden' to 'se'.\n",
    "tlds.update(Sweden='se')"
   ]
  },
  {
   "cell_type": "code",
   "execution_count": 24,
   "id": "780a007b-6611-4899-a84a-bcad7a228a2d",
   "metadata": {},
   "outputs": [
    {
     "data": {
      "text/plain": [
       "{'Canada': 'ca', 'United States': 'us', 'Mexico': 'mx', 'Sweden': 'se'}"
      ]
     },
     "execution_count": 24,
     "metadata": {},
     "output_type": "execute_result"
    }
   ],
   "source": [
    "tlds"
   ]
  },
  {
   "cell_type": "code",
   "execution_count": 26,
   "id": "c8d9bfc6-bea6-4415-8b74-9bac827b8cde",
   "metadata": {},
   "outputs": [
    {
     "data": {
      "text/plain": [
       "{'ca': 'Canada', 'us': 'United States', 'mx': 'Mexico', 'se': 'Sweden'}"
      ]
     },
     "execution_count": 26,
     "metadata": {},
     "output_type": "execute_result"
    }
   ],
   "source": [
    "# f) Use a dictionary comprehension to reverse the keys and values.\n",
    "result = {value: key for key, value in tlds.items()}"
   ]
  },
  {
   "cell_type": "code",
   "execution_count": 27,
   "id": "d77ff0e4-b028-4478-a87f-2024b09a885c",
   "metadata": {},
   "outputs": [
    {
     "data": {
      "text/plain": [
       "{'ca': 'CANADA', 'us': 'UNITED STATES', 'mx': 'MEXICO', 'se': 'SWEDEN'}"
      ]
     },
     "execution_count": 27,
     "metadata": {},
     "output_type": "execute_result"
    }
   ],
   "source": [
    "# g) With the result of part(f), use a dictionary comprehension to convert the country names to all uppercase letters.\n",
    "{key: value.upper() for key, value in result.items()}"
   ]
  },
  {
   "cell_type": "code",
   "execution_count": null,
   "id": "e8293df5-a6e3-48c1-a780-f9d9715a2f99",
   "metadata": {},
   "outputs": [],
   "source": []
  }
 ],
 "metadata": {
  "kernelspec": {
   "display_name": "Python [conda env:base] *",
   "language": "python",
   "name": "conda-base-py"
  },
  "language_info": {
   "codemirror_mode": {
    "name": "ipython",
    "version": 3
   },
   "file_extension": ".py",
   "mimetype": "text/x-python",
   "name": "python",
   "nbconvert_exporter": "python",
   "pygments_lexer": "ipython3",
   "version": "3.13.5"
  }
 },
 "nbformat": 4,
 "nbformat_minor": 5
}
