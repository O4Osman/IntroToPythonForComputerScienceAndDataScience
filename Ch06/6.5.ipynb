{
 "cells": [
  {
   "cell_type": "code",
   "execution_count": null,
   "id": "b18e5016-d751-41c4-8b01-fc5e3a88e8e8",
   "metadata": {},
   "outputs": [],
   "source": [
    "\"\"\"\n",
    "\n",
    "6.5 (Counting Duplicate Words) Write a script that uses a dictionary to determine and print the number of duplicate words \n",
    "in a sentence. Treat uppercase and lowercase letters the same and assume there is no punctuation in the sentence. \n",
    "Use the techniques you learned in Section 6.2.7. Words with counts larger than 1 have duplicates.\n",
    "\n",
    "\"\"\""
   ]
  },
  {
   "cell_type": "code",
   "execution_count": 17,
   "id": "741e0a7a-eda3-4416-ad27-ace4a278caa3",
   "metadata": {},
   "outputs": [],
   "source": [
    "from collections import Counter"
   ]
  },
  {
   "cell_type": "code",
   "execution_count": 12,
   "id": "872aa262-5608-4545-809c-c1d70ee49435",
   "metadata": {},
   "outputs": [],
   "source": [
    "text = 'the quick brown fox jumps over the lazy dog the dog was not quick'"
   ]
  },
  {
   "cell_type": "code",
   "execution_count": 19,
   "id": "244ccef0-ac04-4e03-9be4-901fae737b26",
   "metadata": {},
   "outputs": [],
   "source": [
    "counters = Counter((text.lower()).split())"
   ]
  },
  {
   "cell_type": "code",
   "execution_count": 20,
   "id": "58c6b751-b23d-4d1b-b8e2-c7760bc9b589",
   "metadata": {},
   "outputs": [
    {
     "name": "stdout",
     "output_type": "stream",
     "text": [
      "Word\tCount\n",
      "dog\t2\n",
      "quick\t2\n",
      "the\t3\n"
     ]
    }
   ],
   "source": [
    "print('Word\\tCount')\n",
    "for word, count in sorted(counters.items()):\n",
    "    if count > 1:\n",
    "        print(f'{word:<}\\t{count:<}')"
   ]
  },
  {
   "cell_type": "code",
   "execution_count": null,
   "id": "3e85a195-633f-450d-8100-6f4c158b733d",
   "metadata": {},
   "outputs": [],
   "source": []
  }
 ],
 "metadata": {
  "kernelspec": {
   "display_name": "Python [conda env:base] *",
   "language": "python",
   "name": "conda-base-py"
  },
  "language_info": {
   "codemirror_mode": {
    "name": "ipython",
    "version": 3
   },
   "file_extension": ".py",
   "mimetype": "text/x-python",
   "name": "python",
   "nbconvert_exporter": "python",
   "pygments_lexer": "ipython3",
   "version": "3.13.5"
  }
 },
 "nbformat": 4,
 "nbformat_minor": 5
}
