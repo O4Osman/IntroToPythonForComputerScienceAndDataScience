{
 "cells": [
  {
   "cell_type": "code",
   "execution_count": null,
   "id": "80737417-c16a-4445-ae4d-e36d4b997d25",
   "metadata": {},
   "outputs": [],
   "source": [
    "\"\"\"\n",
    "\n",
    "4.16 (Computer-Assisted Instruction: Difficulty Levels) Modify the previous exercise to allow the user to enter a \n",
    "difficulty level. At a difficulty level of 1, the program should use only single-digit numbers in the problems and \n",
    "at a difficulty level of 2, numbers as large as two digits.\n",
    "\n",
    "\"\"\""
   ]
  },
  {
   "cell_type": "code",
   "execution_count": 44,
   "id": "8b01c000-1997-44a0-a02e-17bb2cb2ee7b",
   "metadata": {},
   "outputs": [],
   "source": [
    "import random"
   ]
  },
  {
   "cell_type": "code",
   "execution_count": 45,
   "id": "06cfa462-eb1b-4cbe-83ef-d41d1bb9a998",
   "metadata": {},
   "outputs": [],
   "source": [
    "def choose_defficulty_level():\n",
    "    \"\"\" This function ask the user to input difficulty level and return that. \"\"\"\n",
    "    level = int(input('Choose the difficulty level (1/2): '))\n",
    "    return level"
   ]
  },
  {
   "cell_type": "code",
   "execution_count": 46,
   "id": "313deb6b-4f63-401a-94ed-dd3b85bc9936",
   "metadata": {},
   "outputs": [],
   "source": [
    "def generate_question(max_range):\n",
    "    \"\"\" This function generates two random numbers of single digit and calculate their product and return that. \"\"\"\n",
    "    num1 = random.randrange(1, max_range)\n",
    "    num2 = random.randrange(1, max_range)\n",
    "    answer = num1 * num2\n",
    "    return num1, num2, answer"
   ]
  },
  {
   "cell_type": "code",
   "execution_count": 47,
   "id": "cd0ada88-78c0-432d-a125-5365477d2c99",
   "metadata": {},
   "outputs": [],
   "source": [
    "def display_correct_response(number):\n",
    "    \"\"\" This function display message according to the parameter. \"\"\"\n",
    "    if number == 1:\n",
    "        print('Very good!') \n",
    "    elif number == 2:\n",
    "        print('Nice Work!')\n",
    "    elif number == 3:\n",
    "        print('Keep up the good work!')"
   ]
  },
  {
   "cell_type": "code",
   "execution_count": 48,
   "id": "453cc1c9-03e9-470a-b993-606d31f51516",
   "metadata": {},
   "outputs": [],
   "source": [
    "def display_wrong_response(number):\n",
    "    \"\"\" This function display message according to the parameter. \"\"\"\n",
    "    if number == 1:\n",
    "        print('No. Please try again.') \n",
    "    elif number == 2:\n",
    "        print('Wrong. Try once more.')\n",
    "    elif number == 3:\n",
    "        print('No. Keep trying.')"
   ]
  },
  {
   "cell_type": "code",
   "execution_count": 49,
   "id": "4b3194ca-67b8-4056-bce4-0d50a2d1e392",
   "metadata": {},
   "outputs": [
    {
     "name": "stdin",
     "output_type": "stream",
     "text": [
      "Choose the difficulty level (1/2):  2\n"
     ]
    }
   ],
   "source": [
    "level = choose_defficulty_level()"
   ]
  },
  {
   "cell_type": "code",
   "execution_count": 50,
   "id": "d99fac3d-40a7-4bfa-b612-1960ddc93a08",
   "metadata": {},
   "outputs": [],
   "source": [
    "if level == 1:\n",
    "    max_range = 10\n",
    "elif level == 2:\n",
    "    max_range = 100"
   ]
  },
  {
   "cell_type": "code",
   "execution_count": 51,
   "id": "732ef8e0-0e22-4607-831b-ce252cd13a8b",
   "metadata": {},
   "outputs": [],
   "source": [
    "num1, num2, answer = generate_question(max_range)"
   ]
  },
  {
   "cell_type": "code",
   "execution_count": 52,
   "id": "e57784f5-c1d3-491f-a57b-39fedf665a14",
   "metadata": {},
   "outputs": [
    {
     "name": "stdin",
     "output_type": "stream",
     "text": [
      "How much is 13 times 22 (-1 to quit) :  286\n"
     ]
    }
   ],
   "source": [
    "guess = int(input(f'How much is {num1} times {num2} (-1 to quit) : ')) "
   ]
  },
  {
   "cell_type": "code",
   "execution_count": 53,
   "id": "5e657a6b-5e8a-402c-a0cd-b110e4ec43a4",
   "metadata": {},
   "outputs": [
    {
     "name": "stdout",
     "output_type": "stream",
     "text": [
      "Nice Work!\n"
     ]
    },
    {
     "name": "stdin",
     "output_type": "stream",
     "text": [
      "How much is 40 times 68 (-1 to quit) :  2720\n"
     ]
    },
    {
     "name": "stdout",
     "output_type": "stream",
     "text": [
      "Very good!\n"
     ]
    },
    {
     "name": "stdin",
     "output_type": "stream",
     "text": [
      "How much is 99 times 25 (-1 to quit) :  100\n"
     ]
    },
    {
     "name": "stdout",
     "output_type": "stream",
     "text": [
      "No. Keep trying.\n"
     ]
    },
    {
     "name": "stdin",
     "output_type": "stream",
     "text": [
      "How much is 99 times 25 (-1 to quit) :  100\n"
     ]
    },
    {
     "name": "stdout",
     "output_type": "stream",
     "text": [
      "No. Keep trying.\n"
     ]
    },
    {
     "name": "stdin",
     "output_type": "stream",
     "text": [
      "How much is 99 times 25 (-1 to quit) :  101\n"
     ]
    },
    {
     "name": "stdout",
     "output_type": "stream",
     "text": [
      "No. Please try again.\n"
     ]
    },
    {
     "name": "stdin",
     "output_type": "stream",
     "text": [
      "How much is 99 times 25 (-1 to quit) :  101\n"
     ]
    },
    {
     "name": "stdout",
     "output_type": "stream",
     "text": [
      "Wrong. Try once more.\n"
     ]
    },
    {
     "name": "stdin",
     "output_type": "stream",
     "text": [
      "How much is 99 times 25 (-1 to quit) :  101\n"
     ]
    },
    {
     "name": "stdout",
     "output_type": "stream",
     "text": [
      "No. Keep trying.\n"
     ]
    },
    {
     "name": "stdin",
     "output_type": "stream",
     "text": [
      "How much is 99 times 25 (-1 to quit) :  -1\n"
     ]
    }
   ],
   "source": [
    "while True:\n",
    "    \n",
    "    if guess == -1:\n",
    "        break\n",
    "    elif guess == answer:\n",
    "        \n",
    "        response_number = random.randrange(1, 4)\n",
    "        display_correct_response(response_number)\n",
    "        \n",
    "        num1, num2, answer = generate_question(max_range)\n",
    "    else:\n",
    "        response_number = random.randrange(1, 4)\n",
    "        display_wrong_response(response_number)\n",
    "\n",
    "    guess = int(input(f'How much is {num1} times {num2} (-1 to quit) : ')) "
   ]
  },
  {
   "cell_type": "markdown",
   "id": "af11b586-57d8-4805-8552-d80dfca81fa0",
   "metadata": {},
   "source": [
    "## "
   ]
  }
 ],
 "metadata": {
  "kernelspec": {
   "display_name": "Python [conda env:base] *",
   "language": "python",
   "name": "conda-base-py"
  },
  "language_info": {
   "codemirror_mode": {
    "name": "ipython",
    "version": 3
   },
   "file_extension": ".py",
   "mimetype": "text/x-python",
   "name": "python",
   "nbconvert_exporter": "python",
   "pygments_lexer": "ipython3",
   "version": "3.13.5"
  }
 },
 "nbformat": 4,
 "nbformat_minor": 5
}
