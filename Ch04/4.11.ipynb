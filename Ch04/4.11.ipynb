{
 "cells": [
  {
   "cell_type": "code",
   "execution_count": null,
   "id": "ce91364a-6c1d-48a2-9751-26a3c70db7d9",
   "metadata": {},
   "outputs": [],
   "source": [
    "\"\"\"\n",
    "\n",
    "4.11 (Guess-the-Number Modification) Modify the previous exercise to count the number of guesses the player makes. If the number is 10 or fewer, display \n",
    "\"Either you know the secret or you got lucky!\" If the player makes more than 10 guesses, display \"You should be able to do better!\" Why should it take no more \n",
    "than 10 guesses? Well, with each “good guess,” the player should be able to eliminate half of the numbers, then half of the remaining numbers, and so on. \n",
    "Doing this 10 times narrows down the possibilities to a single number. This kind of “halving” appears in many computer science applications. For example, \n",
    "in the “Computer Science Thinking:Recursion, Searching, Sorting and Big O” chapter, we’ll present the high-speed binary search and merge sort algorithms, \n",
    "and you’ll attempt the quicksort exercise—each of these cleverly uses halving to achieve high performance.\n",
    "\n",
    "\"\"\""
   ]
  },
  {
   "cell_type": "code",
   "execution_count": 15,
   "id": "9bbd9391-9344-47f6-a22a-261356765b83",
   "metadata": {},
   "outputs": [],
   "source": [
    "import random"
   ]
  },
  {
   "cell_type": "code",
   "execution_count": 16,
   "id": "2f0aba72-d756-47af-b588-03e0e0a317fb",
   "metadata": {},
   "outputs": [],
   "source": [
    "def guesses_message(guesses):\n",
    "    \"\"\" This function show the message to user about their performance in number guessing game \"\"\"\n",
    "    if guesses <= 10:\n",
    "        print('Either you know the secret or you got lucky!')\n",
    "    else:\n",
    "        print('You should be able to do better!')"
   ]
  },
  {
   "cell_type": "code",
   "execution_count": 17,
   "id": "1f0af872-da8d-410f-8868-4d7e99d63dda",
   "metadata": {},
   "outputs": [],
   "source": [
    "def start():\n",
    "    \"\"\" This function generate and random number and ask the user for input to guess the number \"\"\"\n",
    "    random_number = random.randrange(1, 1001)\n",
    "    answer = int(input('Guess my number between 1 and 1000 with the fewest guesses: '))\n",
    "    return answer, random_number"
   ]
  },
  {
   "cell_type": "code",
   "execution_count": 18,
   "id": "f9dcb226-0a05-4dbb-bc4f-99ceda9710ce",
   "metadata": {},
   "outputs": [
    {
     "name": "stdin",
     "output_type": "stream",
     "text": [
      "Guess my number between 1 and 1000 with the fewest guesses:  500\n"
     ]
    }
   ],
   "source": [
    "answer, random_number = start()"
   ]
  },
  {
   "cell_type": "code",
   "execution_count": 19,
   "id": "999753e6-d610-4740-aa30-f3654516fdbc",
   "metadata": {},
   "outputs": [],
   "source": [
    "guesses = 1"
   ]
  },
  {
   "cell_type": "code",
   "execution_count": 20,
   "id": "1661bdcd-5757-40eb-93ef-4dcc33460fc2",
   "metadata": {},
   "outputs": [
    {
     "name": "stdout",
     "output_type": "stream",
     "text": [
      "Too low. Try again.\n"
     ]
    },
    {
     "name": "stdin",
     "output_type": "stream",
     "text": [
      "Guess my number between 1 and 1000 with the fewest guesses:  600\n"
     ]
    },
    {
     "name": "stdout",
     "output_type": "stream",
     "text": [
      "Too low. Try again.\n"
     ]
    },
    {
     "name": "stdin",
     "output_type": "stream",
     "text": [
      "Guess my number between 1 and 1000 with the fewest guesses:  700\n"
     ]
    },
    {
     "name": "stdout",
     "output_type": "stream",
     "text": [
      "Too low. Try again.\n"
     ]
    },
    {
     "name": "stdin",
     "output_type": "stream",
     "text": [
      "Guess my number between 1 and 1000 with the fewest guesses:  800\n"
     ]
    },
    {
     "name": "stdout",
     "output_type": "stream",
     "text": [
      "Too low. Try again.\n"
     ]
    },
    {
     "name": "stdin",
     "output_type": "stream",
     "text": [
      "Guess my number between 1 and 1000 with the fewest guesses:  900\n"
     ]
    },
    {
     "name": "stdout",
     "output_type": "stream",
     "text": [
      "Too high. Try again.\n"
     ]
    },
    {
     "name": "stdin",
     "output_type": "stream",
     "text": [
      "Guess my number between 1 and 1000 with the fewest guesses:  850\n"
     ]
    },
    {
     "name": "stdout",
     "output_type": "stream",
     "text": [
      "Too high. Try again.\n"
     ]
    },
    {
     "name": "stdin",
     "output_type": "stream",
     "text": [
      "Guess my number between 1 and 1000 with the fewest guesses:  840\n"
     ]
    },
    {
     "name": "stdout",
     "output_type": "stream",
     "text": [
      "Too high. Try again.\n"
     ]
    },
    {
     "name": "stdin",
     "output_type": "stream",
     "text": [
      "Guess my number between 1 and 1000 with the fewest guesses:  830\n"
     ]
    },
    {
     "name": "stdout",
     "output_type": "stream",
     "text": [
      "Too high. Try again.\n"
     ]
    },
    {
     "name": "stdin",
     "output_type": "stream",
     "text": [
      "Guess my number between 1 and 1000 with the fewest guesses:  820\n"
     ]
    },
    {
     "name": "stdout",
     "output_type": "stream",
     "text": [
      "Congratulations. You guessed the number!\n",
      "Either you know the secret or you got lucky!\n"
     ]
    },
    {
     "name": "stdin",
     "output_type": "stream",
     "text": [
      "Press Enter to play again (-1 to quit):  \n",
      "Guess my number between 1 and 1000 with the fewest guesses:  500\n"
     ]
    },
    {
     "name": "stdout",
     "output_type": "stream",
     "text": [
      "Too high. Try again.\n"
     ]
    },
    {
     "name": "stdin",
     "output_type": "stream",
     "text": [
      "Guess my number between 1 and 1000 with the fewest guesses:  500\n"
     ]
    },
    {
     "name": "stdout",
     "output_type": "stream",
     "text": [
      "Too high. Try again.\n"
     ]
    },
    {
     "name": "stdin",
     "output_type": "stream",
     "text": [
      "Guess my number between 1 and 1000 with the fewest guesses:  500\n"
     ]
    },
    {
     "name": "stdout",
     "output_type": "stream",
     "text": [
      "Too high. Try again.\n"
     ]
    },
    {
     "name": "stdin",
     "output_type": "stream",
     "text": [
      "Guess my number between 1 and 1000 with the fewest guesses:  599\n"
     ]
    },
    {
     "name": "stdout",
     "output_type": "stream",
     "text": [
      "Too high. Try again.\n"
     ]
    },
    {
     "name": "stdin",
     "output_type": "stream",
     "text": [
      "Guess my number between 1 and 1000 with the fewest guesses:  400\n"
     ]
    },
    {
     "name": "stdout",
     "output_type": "stream",
     "text": [
      "Too high. Try again.\n"
     ]
    },
    {
     "name": "stdin",
     "output_type": "stream",
     "text": [
      "Guess my number between 1 and 1000 with the fewest guesses:  300\n"
     ]
    },
    {
     "name": "stdout",
     "output_type": "stream",
     "text": [
      "Too high. Try again.\n"
     ]
    },
    {
     "name": "stdin",
     "output_type": "stream",
     "text": [
      "Guess my number between 1 and 1000 with the fewest guesses:  200\n"
     ]
    },
    {
     "name": "stdout",
     "output_type": "stream",
     "text": [
      "Too high. Try again.\n"
     ]
    },
    {
     "name": "stdin",
     "output_type": "stream",
     "text": [
      "Guess my number between 1 and 1000 with the fewest guesses:  100\n"
     ]
    },
    {
     "name": "stdout",
     "output_type": "stream",
     "text": [
      "Too low. Try again.\n"
     ]
    },
    {
     "name": "stdin",
     "output_type": "stream",
     "text": [
      "Guess my number between 1 and 1000 with the fewest guesses:  150\n"
     ]
    },
    {
     "name": "stdout",
     "output_type": "stream",
     "text": [
      "Too high. Try again.\n"
     ]
    },
    {
     "name": "stdin",
     "output_type": "stream",
     "text": [
      "Guess my number between 1 and 1000 with the fewest guesses:  140\n"
     ]
    },
    {
     "name": "stdout",
     "output_type": "stream",
     "text": [
      "Too high. Try again.\n"
     ]
    },
    {
     "name": "stdin",
     "output_type": "stream",
     "text": [
      "Guess my number between 1 and 1000 with the fewest guesses:  130\n"
     ]
    },
    {
     "name": "stdout",
     "output_type": "stream",
     "text": [
      "Too high. Try again.\n"
     ]
    },
    {
     "name": "stdin",
     "output_type": "stream",
     "text": [
      "Guess my number between 1 and 1000 with the fewest guesses:  120\n"
     ]
    },
    {
     "name": "stdout",
     "output_type": "stream",
     "text": [
      "Too low. Try again.\n"
     ]
    },
    {
     "name": "stdin",
     "output_type": "stream",
     "text": [
      "Guess my number between 1 and 1000 with the fewest guesses:  125\n"
     ]
    },
    {
     "name": "stdout",
     "output_type": "stream",
     "text": [
      "Too high. Try again.\n"
     ]
    },
    {
     "name": "stdin",
     "output_type": "stream",
     "text": [
      "Guess my number between 1 and 1000 with the fewest guesses:  124\n"
     ]
    },
    {
     "name": "stdout",
     "output_type": "stream",
     "text": [
      "Too high. Try again.\n"
     ]
    },
    {
     "name": "stdin",
     "output_type": "stream",
     "text": [
      "Guess my number between 1 and 1000 with the fewest guesses:  123\n"
     ]
    },
    {
     "name": "stdout",
     "output_type": "stream",
     "text": [
      "Congratulations. You guessed the number!\n",
      "You should be able to do better!\n"
     ]
    },
    {
     "name": "stdin",
     "output_type": "stream",
     "text": [
      "Press Enter to play again (-1 to quit):  -1\n"
     ]
    }
   ],
   "source": [
    "while True:\n",
    "    if answer < random_number:\n",
    "        print('Too low. Try again.')\n",
    "    elif answer > random_number:\n",
    "        print('Too high. Try again.')\n",
    "    elif answer == random_number:\n",
    "        print('Congratulations. You guessed the number!')\n",
    "        guesses_message(guesses)\n",
    "        answer = input('Press Enter to play again (-1 to quit): ')\n",
    "        if answer == '-1':\n",
    "            break\n",
    "        else:\n",
    "            answer, random_number = start()\n",
    "            continue\n",
    "    answer = int(input('Guess my number between 1 and 1000 with the fewest guesses: '))\n",
    "    guesses += 1"
   ]
  },
  {
   "cell_type": "code",
   "execution_count": null,
   "id": "8dbcb341-3ca3-47ba-9fa0-fdf2090c4b17",
   "metadata": {},
   "outputs": [],
   "source": []
  }
 ],
 "metadata": {
  "kernelspec": {
   "display_name": "Python [conda env:base] *",
   "language": "python",
   "name": "conda-base-py"
  },
  "language_info": {
   "codemirror_mode": {
    "name": "ipython",
    "version": 3
   },
   "file_extension": ".py",
   "mimetype": "text/x-python",
   "name": "python",
   "nbconvert_exporter": "python",
   "pygments_lexer": "ipython3",
   "version": "3.13.5"
  }
 },
 "nbformat": 4,
 "nbformat_minor": 5
}
