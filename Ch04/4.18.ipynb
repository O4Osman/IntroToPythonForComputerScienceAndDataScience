{
 "cells": [
  {
   "cell_type": "code",
   "execution_count": null,
   "id": "818270e4-a0ff-46a5-8287-645b8101b9cd",
   "metadata": {},
   "outputs": [],
   "source": [
    "\"\"\"\n",
    "\n",
    "4.18 (Functional-Style Programming: Internal vs. External Iteration) Why is internal iteration preferable to \n",
    "external iteration in functional-style programming?\n",
    "\n",
    "\"\"\""
   ]
  },
  {
   "cell_type": "code",
   "execution_count": null,
   "id": "2c464e4c-57fc-42cd-be6f-4b325a4c10b7",
   "metadata": {},
   "outputs": [],
   "source": [
    "\"\"\"\n",
    "\n",
    "In internal iteration we foucus on what to do not how to do. Specifying what, but not how, is an important aspect of \n",
    "internal iteration—a key functional-style programming concept. In internal iteration range and for functions know how to \n",
    "do their task so we don't have to declare a loop control variable and initialize it to a value and specify the condition \n",
    "of iteration and increment the loop control variable. We just declare the varible to whom we want to receive the value and\n",
    "range function know how to get each value and for know when to stop.\n",
    "\n",
    "In external iteration we also have to define what to do and how to do as well. We have to declare and initialize the \n",
    "variables and specify the the loop controller condition. Internal iteration do this work itself.\n",
    "\n",
    "\"\"\""
   ]
  }
 ],
 "metadata": {
  "kernelspec": {
   "display_name": "Python [conda env:base] *",
   "language": "python",
   "name": "conda-base-py"
  },
  "language_info": {
   "codemirror_mode": {
    "name": "ipython",
    "version": 3
   },
   "file_extension": ".py",
   "mimetype": "text/x-python",
   "name": "python",
   "nbconvert_exporter": "python",
   "pygments_lexer": "ipython3",
   "version": "3.13.5"
  }
 },
 "nbformat": 4,
 "nbformat_minor": 5
}
