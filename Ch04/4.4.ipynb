{
 "cells": [
  {
   "cell_type": "code",
   "execution_count": null,
   "id": "91ca9674-b96b-4991-b56a-2e8e0b57e9b4",
   "metadata": {},
   "outputs": [],
   "source": [
    "\"\"\"\n",
    "\n",
    "4.4 (What’s Does This Code Do?) What does the following mystery function do? Assume you pass the list \n",
    "[1, 2, 3, 4, 5] as an argument.\n",
    "\n",
    "def mystery(x):\n",
    "    y = 0\n",
    "    for value in x:\n",
    "        y += value ** 2\n",
    "    return y\n",
    "\n",
    "\"\"\""
   ]
  },
  {
   "cell_type": "code",
   "execution_count": null,
   "id": "99cd0d15-dbfa-4497-b3af-0e27bbf4fa9a",
   "metadata": {},
   "outputs": [],
   "source": [
    "\"\"\"\n",
    "\n",
    "This function returns the sum of square of each item of the list.\n",
    "\n",
    "\"\"\""
   ]
  },
  {
   "cell_type": "code",
   "execution_count": 1,
   "id": "b079d5e0-4c6f-4218-9e9a-01a0cb04ceae",
   "metadata": {},
   "outputs": [],
   "source": [
    "x = [1, 2, 3, 4, 5]"
   ]
  },
  {
   "cell_type": "code",
   "execution_count": 2,
   "id": "234b3a4a-5d30-41b9-98ea-35d9273cfc52",
   "metadata": {},
   "outputs": [],
   "source": [
    "def mystery(x):\n",
    "    y = 0\n",
    "    for value in x:\n",
    "        y += value ** 2\n",
    "    return y"
   ]
  },
  {
   "cell_type": "code",
   "execution_count": 3,
   "id": "5463c4bd-2182-4269-a726-e7366f0e5191",
   "metadata": {},
   "outputs": [
    {
     "data": {
      "text/plain": [
       "55"
      ]
     },
     "execution_count": 3,
     "metadata": {},
     "output_type": "execute_result"
    }
   ],
   "source": [
    "mystery(x)"
   ]
  },
  {
   "cell_type": "code",
   "execution_count": null,
   "id": "602f0c32-448a-4fba-a323-d233573f1803",
   "metadata": {},
   "outputs": [],
   "source": []
  }
 ],
 "metadata": {
  "kernelspec": {
   "display_name": "Python [conda env:base] *",
   "language": "python",
   "name": "conda-base-py"
  },
  "language_info": {
   "codemirror_mode": {
    "name": "ipython",
    "version": 3
   },
   "file_extension": ".py",
   "mimetype": "text/x-python",
   "name": "python",
   "nbconvert_exporter": "python",
   "pygments_lexer": "ipython3",
   "version": "3.13.5"
  }
 },
 "nbformat": 4,
 "nbformat_minor": 5
}
