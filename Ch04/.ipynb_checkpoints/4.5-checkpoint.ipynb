{
 "cells": [
  {
   "cell_type": "code",
   "execution_count": null,
   "id": "363fa197-6c70-4e8d-b036-a57c53c200d8",
   "metadata": {},
   "outputs": [],
   "source": [
    "\"\"\"\n",
    "\n",
    "“4.5 (Fill in the Missing Code?) Replace the ***s in the seconds_since_midnight function so that it returns the \n",
    "number of seconds since midnight. The function should receive three integers representing the current time of day. \n",
    "Assume that the hour is a value from 0 (midnight) through 23 (11 PM) and that the minute and second are values \n",
    "from 0 to 59. Test your function with actual times. For example, if you call the function for 1:30:45 PM by passing \n",
    "13, 30 and 45, the function should return 48645.\n",
    "\n",
    "def seconds_since_midnight(***):\n",
    "    hour_in_seconds = ***\n",
    "    minute_in_seconds = ***\n",
    "    return ***\n",
    "\n",
    "\"\"\""
   ]
  },
  {
   "cell_type": "code",
   "execution_count": 4,
   "id": "7f3e2ae9-4c1f-435e-aa8a-0dcdafa1baac",
   "metadata": {},
   "outputs": [],
   "source": [
    "def seconds_since_midnight(hours, minutes, seconds):\n",
    "    \"\"\"Caculates the number of seconds since midnight\"\"\"\n",
    "    hour_in_seconds = hours * 60 * 60\n",
    "    minute_in_seconds = minutes * 60\n",
    "    return hour_in_seconds + minute_in_seconds + seconds"
   ]
  },
  {
   "cell_type": "code",
   "execution_count": 6,
   "id": "9d3cc590-ad51-49f9-946d-2e5024689ca8",
   "metadata": {},
   "outputs": [
    {
     "data": {
      "text/plain": [
       "48645"
      ]
     },
     "execution_count": 6,
     "metadata": {},
     "output_type": "execute_result"
    }
   ],
   "source": [
    "seconds_since_midnight(13, 30, 45)"
   ]
  },
  {
   "cell_type": "code",
   "execution_count": null,
   "id": "96a1ff3b-08bf-4335-af95-345f4b9e1376",
   "metadata": {},
   "outputs": [],
   "source": []
  }
 ],
 "metadata": {
  "kernelspec": {
   "display_name": "Python [conda env:base] *",
   "language": "python",
   "name": "conda-base-py"
  },
  "language_info": {
   "codemirror_mode": {
    "name": "ipython",
    "version": 3
   },
   "file_extension": ".py",
   "mimetype": "text/x-python",
   "name": "python",
   "nbconvert_exporter": "python",
   "pygments_lexer": "ipython3",
   "version": "3.13.5"
  }
 },
 "nbformat": 4,
 "nbformat_minor": 5
}
