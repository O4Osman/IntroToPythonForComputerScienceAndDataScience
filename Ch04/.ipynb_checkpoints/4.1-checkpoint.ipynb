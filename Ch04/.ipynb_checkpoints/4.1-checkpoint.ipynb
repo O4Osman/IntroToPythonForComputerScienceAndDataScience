{
 "cells": [
  {
   "cell_type": "code",
   "execution_count": null,
   "id": "91367482-c6cc-46ef-a6a0-657bad3ac934",
   "metadata": {},
   "outputs": [],
   "source": [
    "\"\"\"\n",
    "\n",
    "4.1  (Discussion: else Clause) In the script of Fig4.1. , we did not include an else clause in the if…elif statement. \n",
    "What are the possible consequences of this choice?\n",
    "\n",
    "1 # fig04_01.py\n",
    "3 import random\n",
    "4\n",
    "5 # face frequency counters\n",
    "6 frequency1 = 0\n",
    "7 frequency2 = 0\n",
    "8 frequency3 = 0\n",
    "9 frequency4 = 0\n",
    "10 frequency5 = 0\n",
    "11 frequency6 = 0\n",
    "12\n",
    "13 # 6,000,000 die rolls\n",
    "14 for roll in range(6_000_000):  # note underscore separators\n",
    "15     face = random.randrange(1, 7)\n",
    "16\n",
    "17     # increment appropriate face counter\n",
    "18     if face == 1:\n",
    "19         frequency1 += 1\n",
    "20     elif face == 2:\n",
    "21         frequency2 += 1\n",
    "22     elif face == 3:\n",
    "23         frequency3 += 1\n",
    "24     elif face == 4:\n",
    "25         frequency4 += 1\n",
    "26     elif face == 5:\n",
    "27         frequency5 += 1\n",
    "28     elif face == 6:\n",
    "29         frequency6 += 1\n",
    "30\n",
    "31 print(f'Face{\"Frequency\":>13}')\n",
    "32 print(f'{1:>4}{frequency1:>13}')\n",
    "33 print(f'{2:>4}{frequency2:>13}')\n",
    "34 print(f'{3:>4}{frequency3:>13}')\n",
    "35 print(f'{4:>4}{frequency4:>13}')\n",
    "36 print(f'{5:>4}{frequency5:>13}')\n",
    "37 print(f'{6:>4}{frequency6:>13}')\n",
    "\n",
    "\"\"\""
   ]
  },
  {
   "cell_type": "code",
   "execution_count": null,
   "id": "efa83f9d-58f2-473f-9c74-ba7715789a1c",
   "metadata": {},
   "outputs": [],
   "source": [
    "\"\"\"\n",
    "The exclusion does not effect the flow of our program at all.\n",
    "We are only generating face from 1 to 6 so it will execute one of the if/elif suite so else clause does not \n",
    "effect our program.\n",
    "\n",
    "\"\"\""
   ]
  }
 ],
 "metadata": {
  "kernelspec": {
   "display_name": "Python [conda env:base] *",
   "language": "python",
   "name": "conda-base-py"
  },
  "language_info": {
   "codemirror_mode": {
    "name": "ipython",
    "version": 3
   },
   "file_extension": ".py",
   "mimetype": "text/x-python",
   "name": "python",
   "nbconvert_exporter": "python",
   "pygments_lexer": "ipython3",
   "version": "3.13.5"
  }
 },
 "nbformat": 4,
 "nbformat_minor": 5
}
