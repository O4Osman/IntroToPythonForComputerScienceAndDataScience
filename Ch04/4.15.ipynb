{
 "cells": [
  {
   "cell_type": "code",
   "execution_count": null,
   "id": "141e28dc-1f14-4cca-8133-587c0378965c",
   "metadata": {},
   "outputs": [],
   "source": [
    "\"\"\"\n",
    "\n",
    "4.15 (Computer-Assisted Instruction: Reducing Student Fatigue) Varying the computer’s responses can help hold the \n",
    "student’s attention. Modify the previous exercise so that various comments are displayed for each answer. \n",
    "Possible responses to a correct answer should include 'Very good!', 'Nice work!' and 'Keep up the good work!' \n",
    "Possible responses to an incorrect answer should include 'No. Please try again.', 'Wrong. Try once more.' and 'No. \n",
    "Keep trying.' Choose a number from 1 to 3, then use that value to select one of the three appropriate responses to \n",
    "each correct or incorrect answer.\n",
    "\n",
    "\"\"\""
   ]
  },
  {
   "cell_type": "code",
   "execution_count": 8,
   "id": "a6626029-e723-4633-94c7-3e8f162427a9",
   "metadata": {},
   "outputs": [],
   "source": [
    "import random"
   ]
  },
  {
   "cell_type": "code",
   "execution_count": 9,
   "id": "7c5e0221-1ad0-4274-b6b4-e9ec4dfee012",
   "metadata": {},
   "outputs": [],
   "source": [
    "def generate_question():\n",
    "    \"\"\" This function generates two random numbers of single digit and calculate their product and return that. \"\"\"\n",
    "    num1 = random.randrange(1, 10)\n",
    "    num2 = random.randrange(1, 10)\n",
    "    answer = num1 * num2\n",
    "    return num1, num2, answer"
   ]
  },
  {
   "cell_type": "code",
   "execution_count": 10,
   "id": "4a3d180e-eede-4cb7-a58e-371d449c2d5d",
   "metadata": {},
   "outputs": [],
   "source": [
    "def display_correct_response(number):\n",
    "    \"\"\" This function display message according to the parameter. \"\"\"\n",
    "    if number == 1:\n",
    "        print('Very good!') \n",
    "    elif number == 2:\n",
    "        print('Nice Work!')\n",
    "    elif number == 3:\n",
    "        print('Keep up the good work!')"
   ]
  },
  {
   "cell_type": "code",
   "execution_count": 11,
   "id": "d02cba99-82aa-4467-9bd5-4446468866a3",
   "metadata": {},
   "outputs": [],
   "source": [
    "def display_wrong_response(number):\n",
    "    \"\"\" This function display message according to the parameter. \"\"\"\n",
    "    if number == 1:\n",
    "        print('No. Please try again.') \n",
    "    elif number == 2:\n",
    "        print('Wrong. Try once more.')\n",
    "    elif number == 3:\n",
    "        print('No. Keep trying.')"
   ]
  },
  {
   "cell_type": "code",
   "execution_count": 12,
   "id": "2f61689a-7809-4347-b388-640e81fafa33",
   "metadata": {},
   "outputs": [],
   "source": [
    "num1, num2, answer = generate_question()"
   ]
  },
  {
   "cell_type": "code",
   "execution_count": 13,
   "id": "3ba035a2-66ec-4c12-b94b-35f8b7843c6a",
   "metadata": {},
   "outputs": [
    {
     "name": "stdin",
     "output_type": "stream",
     "text": [
      "How much is 8 times 7 (-1 to quit) :  55\n"
     ]
    }
   ],
   "source": [
    "guess = int(input(f'How much is {num1} times {num2} (-1 to quit) : ')) "
   ]
  },
  {
   "cell_type": "code",
   "execution_count": 14,
   "id": "1f88c08a-56ad-488a-be76-6afc0ea0200f",
   "metadata": {},
   "outputs": [
    {
     "name": "stdout",
     "output_type": "stream",
     "text": [
      "No. Keep trying.\n"
     ]
    },
    {
     "name": "stdin",
     "output_type": "stream",
     "text": [
      "How much is 8 times 7 (-1 to quit) :  55\n"
     ]
    },
    {
     "name": "stdout",
     "output_type": "stream",
     "text": [
      "No. Keep trying.\n"
     ]
    },
    {
     "name": "stdin",
     "output_type": "stream",
     "text": [
      "How much is 8 times 7 (-1 to quit) :  55\n"
     ]
    },
    {
     "name": "stdout",
     "output_type": "stream",
     "text": [
      "No. Keep trying.\n"
     ]
    },
    {
     "name": "stdin",
     "output_type": "stream",
     "text": [
      "How much is 8 times 7 (-1 to quit) :  55\n"
     ]
    },
    {
     "name": "stdout",
     "output_type": "stream",
     "text": [
      "No. Please try again.\n"
     ]
    },
    {
     "name": "stdin",
     "output_type": "stream",
     "text": [
      "How much is 8 times 7 (-1 to quit) :  55\n"
     ]
    },
    {
     "name": "stdout",
     "output_type": "stream",
     "text": [
      "Wrong. Try once more.\n"
     ]
    },
    {
     "name": "stdin",
     "output_type": "stream",
     "text": [
      "How much is 8 times 7 (-1 to quit) :  56\n"
     ]
    },
    {
     "name": "stdout",
     "output_type": "stream",
     "text": [
      "Keep up the good work!\n"
     ]
    },
    {
     "name": "stdin",
     "output_type": "stream",
     "text": [
      "How much is 3 times 6 (-1 to quit) :  18\n"
     ]
    },
    {
     "name": "stdout",
     "output_type": "stream",
     "text": [
      "Nice Work!\n"
     ]
    },
    {
     "name": "stdin",
     "output_type": "stream",
     "text": [
      "How much is 2 times 8 (-1 to quit) :  16\n"
     ]
    },
    {
     "name": "stdout",
     "output_type": "stream",
     "text": [
      "Keep up the good work!\n"
     ]
    },
    {
     "name": "stdin",
     "output_type": "stream",
     "text": [
      "How much is 6 times 3 (-1 to quit) :  18\n"
     ]
    },
    {
     "name": "stdout",
     "output_type": "stream",
     "text": [
      "Keep up the good work!\n"
     ]
    },
    {
     "name": "stdin",
     "output_type": "stream",
     "text": [
      "How much is 3 times 6 (-1 to quit) :  18\n"
     ]
    },
    {
     "name": "stdout",
     "output_type": "stream",
     "text": [
      "Very good!\n"
     ]
    },
    {
     "name": "stdin",
     "output_type": "stream",
     "text": [
      "How much is 3 times 3 (-1 to quit) :  -1\n"
     ]
    }
   ],
   "source": [
    "while True:\n",
    "    \n",
    "    if guess == -1:\n",
    "        break\n",
    "    elif guess == answer:\n",
    "        \n",
    "        response_number = random.randrange(1, 4)\n",
    "        display_correct_response(response_number)\n",
    "        \n",
    "        num1, num2, answer = generate_question()\n",
    "    else:\n",
    "        response_number = random.randrange(1, 4)\n",
    "        display_wrong_response(response_number)\n",
    "\n",
    "    guess = int(input(f'How much is {num1} times {num2} (-1 to quit) : ')) "
   ]
  }
 ],
 "metadata": {
  "kernelspec": {
   "display_name": "Python [conda env:base] *",
   "language": "python",
   "name": "conda-base-py"
  },
  "language_info": {
   "codemirror_mode": {
    "name": "ipython",
    "version": 3
   },
   "file_extension": ".py",
   "mimetype": "text/x-python",
   "name": "python",
   "nbconvert_exporter": "python",
   "pygments_lexer": "ipython3",
   "version": "3.13.5"
  }
 },
 "nbformat": 4,
 "nbformat_minor": 5
}
