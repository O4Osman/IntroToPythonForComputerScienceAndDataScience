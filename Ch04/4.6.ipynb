{
 "cells": [
  {
   "cell_type": "code",
   "execution_count": null,
   "id": "1461e3a5-6cd6-4e85-b291-d8d7befd78c6",
   "metadata": {},
   "outputs": [],
   "source": [
    "\"\"\"\n",
    "\n",
    "4.6 (Modified average Function) The average function we defined in Section 4.11 can receive any number of arguments. If you call it with no arguments, however, \n",
    "the function causes a ZeroDivisionError. Reimplement average to receive one required argument and the arbitrary argument list argument *args, and update its \n",
    "calculation accordingly. Test your function. The “function will always require at least one argument, so you’ll no longer be able to get a ZeroDivisionError. \n",
    "When you call average with no arguments, Python should issue a TypeError indicating \"average() missing 1 required positional argument.”\n",
    "\n",
    "def average(*args):\n",
    "    return sum(args) / len(args)\n",
    "\n",
    "\"\"\""
   ]
  },
  {
   "cell_type": "code",
   "execution_count": 43,
   "id": "fc37d5fe-e320-4c14-bb58-206d127806ac",
   "metadata": {},
   "outputs": [],
   "source": [
    "def average(required, *args):\n",
    "    \"\"\"Return average of  iterables\"\"\"\n",
    "    required += sum(args)\n",
    "    return required / (len(args) + 1)"
   ]
  },
  {
   "cell_type": "code",
   "execution_count": 45,
   "id": "73771b97-9182-4d0d-ba26-afe8597424cd",
   "metadata": {},
   "outputs": [
    {
     "ename": "TypeError",
     "evalue": "average() missing 1 required positional argument: 'required'",
     "output_type": "error",
     "traceback": [
      "\u001b[0;31m---------------------------------------------------------------------------\u001b[0m",
      "\u001b[0;31mTypeError\u001b[0m                                 Traceback (most recent call last)",
      "Cell \u001b[0;32mIn[45], line 1\u001b[0m\n\u001b[0;32m----> 1\u001b[0m average()\n",
      "\u001b[0;31mTypeError\u001b[0m: average() missing 1 required positional argument: 'required'"
     ]
    }
   ],
   "source": [
    "average()"
   ]
  },
  {
   "cell_type": "code",
   "execution_count": 46,
   "id": "9e005a77-86fb-45ec-a0f7-b67b9594093d",
   "metadata": {},
   "outputs": [
    {
     "data": {
      "text/plain": [
       "10.0"
      ]
     },
     "execution_count": 46,
     "metadata": {},
     "output_type": "execute_result"
    }
   ],
   "source": [
    "average(10)"
   ]
  },
  {
   "cell_type": "code",
   "execution_count": 47,
   "id": "70c4bc3b-f772-4546-a197-3bb62f158e25",
   "metadata": {},
   "outputs": [
    {
     "data": {
      "text/plain": [
       "12.5"
      ]
     },
     "execution_count": 47,
     "metadata": {},
     "output_type": "execute_result"
    }
   ],
   "source": [
    "average(10,15)"
   ]
  },
  {
   "cell_type": "code",
   "execution_count": 48,
   "id": "703d1cd0-0be8-48c4-8fa4-ad2d7cf51b77",
   "metadata": {},
   "outputs": [
    {
     "data": {
      "text/plain": [
       "25.0"
      ]
     },
     "execution_count": 48,
     "metadata": {},
     "output_type": "execute_result"
    }
   ],
   "source": [
    "average(20, 25, 30)"
   ]
  },
  {
   "cell_type": "code",
   "execution_count": null,
   "id": "b71583dc-01e6-4a2d-ba61-b61e9e332c62",
   "metadata": {},
   "outputs": [],
   "source": []
  }
 ],
 "metadata": {
  "kernelspec": {
   "display_name": "Python [conda env:base] *",
   "language": "python",
   "name": "conda-base-py"
  },
  "language_info": {
   "codemirror_mode": {
    "name": "ipython",
    "version": 3
   },
   "file_extension": ".py",
   "mimetype": "text/x-python",
   "name": "python",
   "nbconvert_exporter": "python",
   "pygments_lexer": "ipython3",
   "version": "3.13.5"
  }
 },
 "nbformat": 4,
 "nbformat_minor": 5
}
