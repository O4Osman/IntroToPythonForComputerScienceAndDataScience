{
 "cells": [
  {
   "cell_type": "code",
   "execution_count": null,
   "id": "9ca2c337-600c-4684-b326-c287f587f22d",
   "metadata": {},
   "outputs": [],
   "source": [
    "\"\"\"\n",
    "\n",
    "4.17 (Computer-Assisted Instruction: Varying the Types of Problems) Modify the previous exercise to allow the user to \n",
    "pick a type of arithmetic problem to study—1 means addition problems only, 2 means subtraction problems only, 3 means \n",
    "multiplication problems only, 4 means division problems only (avoid dividing by 0) and 5 means a random mixture of all \n",
    "these types.\n",
    "\n",
    "\"\"\""
   ]
  },
  {
   "cell_type": "code",
   "execution_count": 370,
   "id": "70bfd0c6-80da-4660-b8b8-3a101396bf52",
   "metadata": {},
   "outputs": [],
   "source": [
    "import random"
   ]
  },
  {
   "cell_type": "code",
   "execution_count": 371,
   "id": "4ad72b13-1816-443f-b047-51a8ad8b03c4",
   "metadata": {},
   "outputs": [],
   "source": [
    "def ask_question_type():\n",
    "    \"\"\" This function ask the question type a user wants to practice\"\"\"\n",
    "    question_type = int(input('''Choose the problems type you want to study. \n",
    "type 1 for addition, 2 for subtraction, 3 for multiplication, 4 for division \n",
    "and 5 for random mixture of all these types: '''))\n",
    "    return question_type"
   ]
  },
  {
   "cell_type": "code",
   "execution_count": 372,
   "id": "242ace0e-c9ad-49ca-9f0c-4a911fa7c63c",
   "metadata": {},
   "outputs": [],
   "source": [
    "def choose_defficulty_level():\n",
    "    \"\"\" This function ask the user to input difficulty level and return that. \"\"\"\n",
    "    level = int(input('Choose the difficulty level (1/2): '))\n",
    "    return level"
   ]
  },
  {
   "cell_type": "code",
   "execution_count": 373,
   "id": "e1e7edba-532c-49dd-ac18-d479b29f6b4c",
   "metadata": {},
   "outputs": [],
   "source": [
    "def get_question_string(num1, num2, q_type):\n",
    "    q = ''\n",
    "    if q_type == 1:\n",
    "        q = 'How much is '+ str(num1) + ' plus '+ str(num2) + ' (q to quit): '\n",
    "    elif q_type == 2:\n",
    "        q = 'How much is '+ str(num1) + ' minus '+ str(num2) + ' (q to quit): '\n",
    "    elif q_type == 3:\n",
    "        q = 'How much is '+ str(num1) + ' times '+ str(num2) + ' (q to quit): '\n",
    "    elif q_type == 4:\n",
    "        q = 'How much is '+ str(num1) + ' divided by '+ str(num2) + ' (q to quit): '\n",
    "\n",
    "    return q"
   ]
  },
  {
   "cell_type": "code",
   "execution_count": 374,
   "id": "cb5b3d96-934b-42c5-8a04-526843055e3a",
   "metadata": {},
   "outputs": [],
   "source": [
    "def calculate_answer(num1, num2, question_type):\n",
    "    \"\"\" This function calculate the answer according to question type. \"\"\"\n",
    "    if question_type == 5:\n",
    "        question_type = random.randrange(1, 5)\n",
    "\n",
    "    if question_type == 4:\n",
    "        num2 = random.randrange(1, num1 + 1) # To generate a simple division question that student can solve easily.\n",
    "        answer = num1 / num2\n",
    "    elif question_type == 3:\n",
    "        answer = num1 * num2\n",
    "    elif question_type == 2:\n",
    "        answer = num1 - num2\n",
    "    elif question_type == 1:\n",
    "        answer = num1 + num2\n",
    "    return num2, answer, question_type    # Also returning the question_type to ask the user appropriate question in case \n",
    "                                          #user mixed question to be asked"
   ]
  },
  {
   "cell_type": "code",
   "execution_count": 375,
   "id": "6bd4dd1d-3fba-47a9-9083-341dc85bb5d1",
   "metadata": {},
   "outputs": [],
   "source": [
    "def generate_question(max_range, question_type):\n",
    "    \"\"\" This function generates two random numbers of single digit and calculate their product and return that. \"\"\"\n",
    "    num1 = random.randrange(1, max_range)\n",
    "    num2 = random.randrange(1, max_range)\n",
    "    \n",
    "    num2, answer, question_type = calculate_answer(num1, num2, question_type)\n",
    "    return num1, num2, answer, question_type"
   ]
  },
  {
   "cell_type": "code",
   "execution_count": 376,
   "id": "cde71df2-1f19-4b1d-8f72-98a72567c73c",
   "metadata": {},
   "outputs": [],
   "source": [
    "def display_correct_response(number):\n",
    "    \"\"\" This function display message according to the parameter. \"\"\"\n",
    "    if number == 1:\n",
    "        print('Very good!') \n",
    "    elif number == 2:\n",
    "        print('Nice Work!')\n",
    "    elif number == 3:\n",
    "        print('Keep up the good work!')"
   ]
  },
  {
   "cell_type": "code",
   "execution_count": 377,
   "id": "ca3ada00-9258-48e8-bb59-fa58efdf56f3",
   "metadata": {},
   "outputs": [],
   "source": [
    "def display_wrong_response(number):\n",
    "    \"\"\" This function display message according to the parameter. \"\"\"\n",
    "    if number == 1:\n",
    "        print('No. Please try again.') \n",
    "    elif number == 2:\n",
    "        print('Wrong. Try once more.')\n",
    "    elif number == 3:\n",
    "        print('No. Keep trying.')"
   ]
  },
  {
   "cell_type": "code",
   "execution_count": 378,
   "id": "ba83b32f-8420-4083-9e49-3b74d2a54704",
   "metadata": {},
   "outputs": [
    {
     "name": "stdin",
     "output_type": "stream",
     "text": [
      "Choose the problems type you want to study. \n",
      "type 1 for addition, 2 for subtraction, 3 for multiplication, 4 for division \n",
      "and 5 for random mixture of all these types:  5\n"
     ]
    }
   ],
   "source": [
    "question_type = ask_question_type()"
   ]
  },
  {
   "cell_type": "code",
   "execution_count": 379,
   "id": "665de79d-96c0-4566-b658-046b71f7188f",
   "metadata": {},
   "outputs": [
    {
     "name": "stdin",
     "output_type": "stream",
     "text": [
      "Choose the difficulty level (1/2):  2\n"
     ]
    }
   ],
   "source": [
    "level = choose_defficulty_level()"
   ]
  },
  {
   "cell_type": "code",
   "execution_count": 380,
   "id": "b9b13072-2cbb-499a-b0a3-484fd008cc15",
   "metadata": {},
   "outputs": [],
   "source": [
    "if level == 1:\n",
    "    max_range = 10\n",
    "elif level == 2:\n",
    "    max_range = 100"
   ]
  },
  {
   "cell_type": "code",
   "execution_count": 381,
   "id": "cc51c52b-ff7c-405a-a532-4f6919b65815",
   "metadata": {},
   "outputs": [],
   "source": [
    "num1, num2, answer, q_type = generate_question(max_range, question_type)"
   ]
  },
  {
   "cell_type": "code",
   "execution_count": 382,
   "id": "6ce571c0-77a5-4849-8fc8-8f1b9854209c",
   "metadata": {},
   "outputs": [],
   "source": [
    "question_string = get_question_string(num1, num2, q_type)"
   ]
  },
  {
   "cell_type": "code",
   "execution_count": 383,
   "id": "eb936042-6d8c-4b1a-b604-9216ed540185",
   "metadata": {},
   "outputs": [
    {
     "name": "stdin",
     "output_type": "stream",
     "text": [
      "How much is 87 times 62 (q to quit):  5394\n"
     ]
    }
   ],
   "source": [
    "guess = input(question_string).lower()"
   ]
  },
  {
   "cell_type": "code",
   "execution_count": 384,
   "id": "904d4897-c686-42a6-86e5-cada82fbe219",
   "metadata": {},
   "outputs": [
    {
     "name": "stdout",
     "output_type": "stream",
     "text": [
      "Very good!\n"
     ]
    },
    {
     "name": "stdin",
     "output_type": "stream",
     "text": [
      "How much is 32 divided by 6 (q to quit):  5.33\n"
     ]
    },
    {
     "name": "stdout",
     "output_type": "stream",
     "text": [
      "No. Keep trying.\n"
     ]
    },
    {
     "name": "stdin",
     "output_type": "stream",
     "text": [
      "How much is 32 divided by 6 (q to quit):  5.33333333333333333\n"
     ]
    },
    {
     "name": "stdout",
     "output_type": "stream",
     "text": [
      "Keep up the good work!\n"
     ]
    },
    {
     "name": "stdin",
     "output_type": "stream",
     "text": [
      "How much is 68 times 43 (q to quit):  2924\n"
     ]
    },
    {
     "name": "stdout",
     "output_type": "stream",
     "text": [
      "Very good!\n"
     ]
    },
    {
     "name": "stdin",
     "output_type": "stream",
     "text": [
      "How much is 56 plus 18 (q to quit):  74\n"
     ]
    },
    {
     "name": "stdout",
     "output_type": "stream",
     "text": [
      "Very good!\n"
     ]
    },
    {
     "name": "stdin",
     "output_type": "stream",
     "text": [
      "How much is 59 minus 42 (q to quit):  17\n"
     ]
    },
    {
     "name": "stdout",
     "output_type": "stream",
     "text": [
      "Very good!\n"
     ]
    },
    {
     "name": "stdin",
     "output_type": "stream",
     "text": [
      "How much is 36 minus 46 (q to quit):  -10\n"
     ]
    },
    {
     "name": "stdout",
     "output_type": "stream",
     "text": [
      "Keep up the good work!\n"
     ]
    },
    {
     "name": "stdin",
     "output_type": "stream",
     "text": [
      "How much is 8 minus 35 (q to quit):  -27\n"
     ]
    },
    {
     "name": "stdout",
     "output_type": "stream",
     "text": [
      "Very good!\n"
     ]
    },
    {
     "name": "stdin",
     "output_type": "stream",
     "text": [
      "How much is 1 times 86 (q to quit):  86\n"
     ]
    },
    {
     "name": "stdout",
     "output_type": "stream",
     "text": [
      "Keep up the good work!\n"
     ]
    },
    {
     "name": "stdin",
     "output_type": "stream",
     "text": [
      "How much is 70 times 78 (q to quit):  q\n"
     ]
    }
   ],
   "source": [
    "while True:\n",
    "    \n",
    "    if guess == 'q':\n",
    "        break\n",
    "        \n",
    "    guess = float(guess)\n",
    "        \n",
    "    if guess == answer:\n",
    "        \n",
    "        response_number = random.randrange(1, 4)\n",
    "        display_correct_response(response_number)\n",
    "        \n",
    "        num1, num2, answer, q_type = generate_question(max_range, question_type)\n",
    "        question_string = get_question_string(num1, num2, q_type)\n",
    "    else:\n",
    "        response_number = random.randrange(1, 4)\n",
    "        display_wrong_response(response_number)\n",
    "\n",
    "    guess = input(question_string).lower()"
   ]
  },
  {
   "cell_type": "markdown",
   "id": "290d533c-bf72-4dce-bb6f-54d367dcaa52",
   "metadata": {},
   "source": [
    "#### "
   ]
  }
 ],
 "metadata": {
  "kernelspec": {
   "display_name": "Python [conda env:base] *",
   "language": "python",
   "name": "conda-base-py"
  },
  "language_info": {
   "codemirror_mode": {
    "name": "ipython",
    "version": 3
   },
   "file_extension": ".py",
   "mimetype": "text/x-python",
   "name": "python",
   "nbconvert_exporter": "python",
   "pygments_lexer": "ipython3",
   "version": "3.13.5"
  }
 },
 "nbformat": 4,
 "nbformat_minor": 5
}
