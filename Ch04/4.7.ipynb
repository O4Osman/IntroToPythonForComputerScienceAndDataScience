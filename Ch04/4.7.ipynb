{
 "cells": [
  {
   "cell_type": "code",
   "execution_count": null,
   "id": "ff7af151-26c3-4b24-8936-846eef32d749",
   "metadata": {},
   "outputs": [],
   "source": [
    "\"\"\"\n",
    "\n",
    "4.7 (Date and Time) Python’s datetime module contains a datetime type with a method today that returns the current date and time as a datetime object. \n",
    "Write a parameterless date_and_time function containing the following statement, then call that function to display the current date and time:\n",
    "\n",
    "print(datetime.datetime.today())\n",
    "\n",
    "On our system, the date and time display in the following format:\n",
    "\n",
    "2018-06-08 13:04:19.214180\n",
    "\n",
    "\"\"\""
   ]
  },
  {
   "cell_type": "code",
   "execution_count": 4,
   "id": "1d241d32-656a-461b-b375-cb3e7545a4a7",
   "metadata": {},
   "outputs": [],
   "source": [
    "import datetime"
   ]
  },
  {
   "cell_type": "code",
   "execution_count": 5,
   "id": "7c8949b7-c471-4071-ab35-53e2c4e3729c",
   "metadata": {},
   "outputs": [],
   "source": [
    "def date_and_time():\n",
    "    \"\"\" This function display the current date and time \"\"\"\n",
    "    print(datetime.datetime.today())"
   ]
  },
  {
   "cell_type": "code",
   "execution_count": 6,
   "id": "a4e844e1-841a-4226-bc40-fc1f53cc17e5",
   "metadata": {},
   "outputs": [
    {
     "name": "stdout",
     "output_type": "stream",
     "text": [
      "2025-09-22 12:11:42.441652\n"
     ]
    }
   ],
   "source": [
    "date_and_time()"
   ]
  },
  {
   "cell_type": "code",
   "execution_count": null,
   "id": "4fd71640-5801-4041-824c-fead02768663",
   "metadata": {},
   "outputs": [],
   "source": []
  }
 ],
 "metadata": {
  "kernelspec": {
   "display_name": "Python [conda env:base] *",
   "language": "python",
   "name": "conda-base-py"
  },
  "language_info": {
   "codemirror_mode": {
    "name": "ipython",
    "version": 3
   },
   "file_extension": ".py",
   "mimetype": "text/x-python",
   "name": "python",
   "nbconvert_exporter": "python",
   "pygments_lexer": "ipython3",
   "version": "3.13.5"
  }
 },
 "nbformat": 4,
 "nbformat_minor": 5
}
