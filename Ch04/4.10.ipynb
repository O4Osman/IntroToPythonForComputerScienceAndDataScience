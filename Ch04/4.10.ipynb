{
 "cells": [
  {
   "cell_type": "code",
   "execution_count": 30,
   "id": "3cf6b02d-62bf-4186-a7ef-0d1c421693c8",
   "metadata": {},
   "outputs": [
    {
     "data": {
      "text/plain": [
       "'\\n\\n4.10 (Guess the Number) Write a script that plays “guess the number.” Choose the number to be guessed by selecting a random integer in the range 1 to 1000. \\nDo not reveal this number to the user. Display the prompt \"Guess my number between 1 and 1000 with the fewest guesses:\". The player inputs a first guess. \\nIf the guess is incorrect, display \"Too high. Try again.\" or \"Too low. Try again.\" as appropriate to help the player “zero in” on the correct answer, then prompt \\nthe user for the next guess. When the user enters the correct answer, display \"Congratulations. You guessed the number!\", and allow the user to choose whether \\nto play again.\\n\\n'"
      ]
     },
     "execution_count": 30,
     "metadata": {},
     "output_type": "execute_result"
    }
   ],
   "source": [
    "\"\"\"\n",
    "\n",
    "4.10 (Guess the Number) Write a script that plays “guess the number.” Choose the number to be guessed by selecting a random integer in the range 1 to 1000. \n",
    "Do not reveal this number to the user. Display the prompt \"Guess my number between 1 and 1000 with the fewest guesses:\". The player inputs a first guess. \n",
    "If the guess is incorrect, display \"Too high. Try again.\" or \"Too low. Try again.\" as appropriate to help the player “zero in” on the correct answer, then prompt \n",
    "the user for the next guess. When the user enters the correct answer, display \"Congratulations. You guessed the number!\", and allow the user to choose whether \n",
    "to play again.\n",
    "\n",
    "\"\"\""
   ]
  },
  {
   "cell_type": "code",
   "execution_count": 31,
   "id": "221dce01-992c-41ae-a1b6-1becdd8f6c85",
   "metadata": {},
   "outputs": [],
   "source": [
    "import random"
   ]
  },
  {
   "cell_type": "code",
   "execution_count": 32,
   "id": "b338db36-0f0d-4a68-89e8-90df9b82986c",
   "metadata": {},
   "outputs": [
    {
     "name": "stdout",
     "output_type": "stream",
     "text": [
      "Guess the Number.\n"
     ]
    }
   ],
   "source": [
    "print('Guess the Number.')"
   ]
  },
  {
   "cell_type": "code",
   "execution_count": 33,
   "id": "a87cef54-d971-4f85-a6c4-17b2b871b51f",
   "metadata": {},
   "outputs": [],
   "source": [
    "def start():\n",
    "    \"\"\" This function generate and random number and ask the user for input to guess the number \"\"\"\n",
    "    random_number = random.randrange(1, 1001)\n",
    "    answer = int(input('Guess my number between 1 and 1000 with the fewest guesses: '))\n",
    "    return answer, random_number"
   ]
  },
  {
   "cell_type": "code",
   "execution_count": 34,
   "id": "f0f87909-55a6-4123-8c55-d6bd806dd608",
   "metadata": {},
   "outputs": [
    {
     "name": "stdin",
     "output_type": "stream",
     "text": [
      "Guess my number between 1 and 1000 with the fewest guesses:  500\n"
     ]
    }
   ],
   "source": [
    "answer, random_number = start()"
   ]
  },
  {
   "cell_type": "code",
   "execution_count": 35,
   "id": "fec83794-2eb9-4026-aa33-4eda30e67794",
   "metadata": {},
   "outputs": [
    {
     "name": "stdout",
     "output_type": "stream",
     "text": [
      "Too high. Try again.\n"
     ]
    },
    {
     "name": "stdin",
     "output_type": "stream",
     "text": [
      "Guess my number between 1 and 1000 with the fewest guesses:  4\n"
     ]
    },
    {
     "name": "stdout",
     "output_type": "stream",
     "text": [
      "Too low. Try again.\n"
     ]
    },
    {
     "name": "stdin",
     "output_type": "stream",
     "text": [
      "Guess my number between 1 and 1000 with the fewest guesses:  400\n"
     ]
    },
    {
     "name": "stdout",
     "output_type": "stream",
     "text": [
      "Too high. Try again.\n"
     ]
    },
    {
     "name": "stdin",
     "output_type": "stream",
     "text": [
      "Guess my number between 1 and 1000 with the fewest guesses:  300\n"
     ]
    },
    {
     "name": "stdout",
     "output_type": "stream",
     "text": [
      "Too high. Try again.\n"
     ]
    },
    {
     "name": "stdin",
     "output_type": "stream",
     "text": [
      "Guess my number between 1 and 1000 with the fewest guesses:  200\n"
     ]
    },
    {
     "name": "stdout",
     "output_type": "stream",
     "text": [
      "Too high. Try again.\n"
     ]
    },
    {
     "name": "stdin",
     "output_type": "stream",
     "text": [
      "Guess my number between 1 and 1000 with the fewest guesses:  100\n"
     ]
    },
    {
     "name": "stdout",
     "output_type": "stream",
     "text": [
      "Too high. Try again.\n"
     ]
    },
    {
     "name": "stdin",
     "output_type": "stream",
     "text": [
      "Guess my number between 1 and 1000 with the fewest guesses:  50\n"
     ]
    },
    {
     "name": "stdout",
     "output_type": "stream",
     "text": [
      "Too high. Try again.\n"
     ]
    },
    {
     "name": "stdin",
     "output_type": "stream",
     "text": [
      "Guess my number between 1 and 1000 with the fewest guesses:  40\n"
     ]
    },
    {
     "name": "stdout",
     "output_type": "stream",
     "text": [
      "Congratulations. You guessed the number!\n"
     ]
    },
    {
     "name": "stdin",
     "output_type": "stream",
     "text": [
      "Press Enter to play again (-1 to quit):  -1\n"
     ]
    }
   ],
   "source": [
    "while True:\n",
    "    if answer < random_number:\n",
    "        print('Too low. Try again.')\n",
    "    elif answer > random_number:\n",
    "        print('Too high. Try again.')\n",
    "    elif answer == random_number:\n",
    "        print('Congratulations. You guessed the number!')\n",
    "        answer = input('Press Enter to play again (-1 to quit): ')\n",
    "        if answer == '-1':\n",
    "            break\n",
    "        else:\n",
    "            answer, random_number = start()\n",
    "            continue\n",
    "    answer = int(input('Guess my number between 1 and 1000 with the fewest guesses: '))"
   ]
  },
  {
   "cell_type": "code",
   "execution_count": null,
   "id": "32036dfd-df4c-475e-aa45-275792f795f5",
   "metadata": {},
   "outputs": [],
   "source": []
  }
 ],
 "metadata": {
  "kernelspec": {
   "display_name": "Python [conda env:base] *",
   "language": "python",
   "name": "conda-base-py"
  },
  "language_info": {
   "codemirror_mode": {
    "name": "ipython",
    "version": 3
   },
   "file_extension": ".py",
   "mimetype": "text/x-python",
   "name": "python",
   "nbconvert_exporter": "python",
   "pygments_lexer": "ipython3",
   "version": "3.13.5"
  }
 },
 "nbformat": 4,
 "nbformat_minor": 5
}
