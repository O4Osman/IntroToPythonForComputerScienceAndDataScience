{
 "cells": [
  {
   "cell_type": "code",
   "execution_count": null,
   "id": "1ee6aa9e-fe2a-4664-b8eb-a41d054d4623",
   "metadata": {},
   "outputs": [],
   "source": [
    "\"\"\"\n",
    "\n",
    "4.20 (Intro to Data Science: Population Variance vs. Sample Variance) We mentioned in the Intro to Data Science section \n",
    "that there’s a slight difference between the way the statistics module’s functions calculate the population variance \n",
    "and the sample variance. The same is true for the population standard deviation and the sample standard deviation. \n",
    "Research the reason for these differences.\n",
    "\n",
    "\"\"\""
   ]
  },
  {
   "cell_type": "code",
   "execution_count": 1,
   "id": "1cacc833-33f6-475a-a5fd-0f2c2b62811a",
   "metadata": {},
   "outputs": [],
   "source": [
    "\"\"\"\n",
    "\n",
    "The main difference is that population variance measures spread in an entire group, while sample variance estimates \n",
    "the spread of that group using a smaller sample. The sample variance formula divides by n-1 instead of n \n",
    "(population size) to correct for the fact that sample data, especially the sample mean, tends to underestimate the \n",
    "true population variability. Standard deviation, being the square root of variance, also differs for samples and \n",
    "populations for the same reason. \n",
    "\n",
    "\"\"\""
   ]
  }
 ],
 "metadata": {
  "kernelspec": {
   "display_name": "Python [conda env:base] *",
   "language": "python",
   "name": "conda-base-py"
  },
  "language_info": {
   "codemirror_mode": {
    "name": "ipython",
    "version": 3
   },
   "file_extension": ".py",
   "mimetype": "text/x-python",
   "name": "python",
   "nbconvert_exporter": "python",
   "pygments_lexer": "ipython3",
   "version": "3.13.5"
  }
 },
 "nbformat": 4,
 "nbformat_minor": 5
}
