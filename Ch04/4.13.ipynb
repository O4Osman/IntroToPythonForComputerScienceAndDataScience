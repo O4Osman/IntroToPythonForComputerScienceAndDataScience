{
 "cells": [
  {
   "cell_type": "code",
   "execution_count": null,
   "id": "5f41d5a6-eb07-4be5-a357-fc878947b5f7",
   "metadata": {},
   "outputs": [],
   "source": [
    "\"\"\"\n",
    "\n",
    "4.13 (Arbitrary Argument List) Calculate the product of a series of integers that are passed to the function product, which receives an arbitrary argument list. \n",
    "Test your function with several calls, each with a different number of arguments.\n",
    "\n",
    "\"\"\""
   ]
  },
  {
   "cell_type": "code",
   "execution_count": 16,
   "id": "00ecf75f-db59-4589-a435-a6b3ce2cbb31",
   "metadata": {},
   "outputs": [],
   "source": [
    "def product(*args):\n",
    "    \"\"\" This function returns the product or single or multiple arguments \"\"\"\n",
    "    if args:\n",
    "        prodcut = 1\n",
    "    else:\n",
    "        prodcut = None\n",
    "    for i in args:\n",
    "        prodcut *= i\n",
    "    return prodcut"
   ]
  },
  {
   "cell_type": "code",
   "execution_count": 17,
   "id": "d6b36d54-d689-4d32-b958-9fc95cd0e7eb",
   "metadata": {},
   "outputs": [],
   "source": [
    "product()"
   ]
  },
  {
   "cell_type": "code",
   "execution_count": 18,
   "id": "64457e81-0dc0-4af6-8125-83c288ef0f7f",
   "metadata": {},
   "outputs": [
    {
     "data": {
      "text/plain": [
       "0"
      ]
     },
     "execution_count": 18,
     "metadata": {},
     "output_type": "execute_result"
    }
   ],
   "source": [
    "product(0)"
   ]
  },
  {
   "cell_type": "code",
   "execution_count": 19,
   "id": "f7c31273-0d53-4b3a-ab0e-e3af737cf985",
   "metadata": {},
   "outputs": [
    {
     "data": {
      "text/plain": [
       "1"
      ]
     },
     "execution_count": 19,
     "metadata": {},
     "output_type": "execute_result"
    }
   ],
   "source": [
    "product(1)"
   ]
  },
  {
   "cell_type": "code",
   "execution_count": 20,
   "id": "8c0e9b1e-4c96-4520-9826-4985c6375648",
   "metadata": {},
   "outputs": [
    {
     "data": {
      "text/plain": [
       "2"
      ]
     },
     "execution_count": 20,
     "metadata": {},
     "output_type": "execute_result"
    }
   ],
   "source": [
    "product(1, 2)"
   ]
  },
  {
   "cell_type": "code",
   "execution_count": 21,
   "id": "90c525ab-8a52-494a-be49-de78e40ea84e",
   "metadata": {},
   "outputs": [
    {
     "data": {
      "text/plain": [
       "6"
      ]
     },
     "execution_count": 21,
     "metadata": {},
     "output_type": "execute_result"
    }
   ],
   "source": [
    "product(1, 2, 3)"
   ]
  },
  {
   "cell_type": "code",
   "execution_count": 22,
   "id": "25ad413d-279b-4fd9-9438-a6992cb6a360",
   "metadata": {},
   "outputs": [
    {
     "data": {
      "text/plain": [
       "24"
      ]
     },
     "execution_count": 22,
     "metadata": {},
     "output_type": "execute_result"
    }
   ],
   "source": [
    "product(1, 2, 3, 4)"
   ]
  },
  {
   "cell_type": "code",
   "execution_count": 23,
   "id": "d5f6d936-1b28-4a22-9d4d-763ea2bb1fc0",
   "metadata": {},
   "outputs": [
    {
     "data": {
      "text/plain": [
       "120"
      ]
     },
     "execution_count": 23,
     "metadata": {},
     "output_type": "execute_result"
    }
   ],
   "source": [
    "product(1, 2, 3, 4, 5)"
   ]
  },
  {
   "cell_type": "code",
   "execution_count": 24,
   "id": "1bf3bf4e-d2a8-453e-862e-819f901492df",
   "metadata": {},
   "outputs": [
    {
     "data": {
      "text/plain": [
       "720"
      ]
     },
     "execution_count": 24,
     "metadata": {},
     "output_type": "execute_result"
    }
   ],
   "source": [
    "product(1, 2, 3, 4, 5, 6)"
   ]
  }
 ],
 "metadata": {
  "kernelspec": {
   "display_name": "Python [conda env:base] *",
   "language": "python",
   "name": "conda-base-py"
  },
  "language_info": {
   "codemirror_mode": {
    "name": "ipython",
    "version": 3
   },
   "file_extension": ".py",
   "mimetype": "text/x-python",
   "name": "python",
   "nbconvert_exporter": "python",
   "pygments_lexer": "ipython3",
   "version": "3.13.5"
  }
 },
 "nbformat": 4,
 "nbformat_minor": 5
}
