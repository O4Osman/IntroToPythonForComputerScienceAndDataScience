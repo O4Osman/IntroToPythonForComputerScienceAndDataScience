{
 "cells": [
  {
   "cell_type": "code",
   "execution_count": null,
   "id": "157526d5-a4da-4415-b2cd-679838e16fc0",
   "metadata": {},
   "outputs": [],
   "source": [
    "\"\"\"\n",
    "\n",
    "4.14 (Computer-Assisted Instruction) Computer-assisted instruction (CAI) refers to the use of computers in education. \n",
    "Write a script to help an elementary school student learn multiplication. Create a function that randomly generates \n",
    "and returns a tuple of two positive one-digit integers. Use that function’s result in your script to prompt the user \n",
    "with a question, such as\n",
    "\n",
    "How much is 6 times 7?\n",
    "\n",
    "For a correct answer, display the message \"Very good!\" and ask another multiplication question. For an incorrect answer, \n",
    "display the message \"No. Please try again.\" and let the student try the same question repeatedly until the student \n",
    "finally gets it right.\n",
    "\n",
    "\"\"\""
   ]
  },
  {
   "cell_type": "code",
   "execution_count": 23,
   "id": "13d7c320-c857-4463-9a20-a1120a761b40",
   "metadata": {},
   "outputs": [],
   "source": [
    "import random"
   ]
  },
  {
   "cell_type": "code",
   "execution_count": 24,
   "id": "3834e89a-8d49-4dac-8e78-76ede49e866c",
   "metadata": {},
   "outputs": [],
   "source": [
    "def generate_question():\n",
    "    \"\"\" This function generates two random numbers of single digit and calculate their product and return that. \"\"\"\n",
    "    num1 = random.randrange(1, 10)\n",
    "    num2 = random.randrange(1, 10)\n",
    "    answer = num1 * num2\n",
    "    return num1, num2, answer"
   ]
  },
  {
   "cell_type": "code",
   "execution_count": 25,
   "id": "2198887a-2c82-4038-8477-bb615c635ffd",
   "metadata": {},
   "outputs": [],
   "source": [
    "num1, num2, answer = generate_question()"
   ]
  },
  {
   "cell_type": "code",
   "execution_count": 26,
   "id": "92d4cb32-a158-40e4-a1d4-bcc907e595ca",
   "metadata": {},
   "outputs": [
    {
     "name": "stdin",
     "output_type": "stream",
     "text": [
      "How much is 6 times 8 (-1 to quit) :  48\n"
     ]
    }
   ],
   "source": [
    "guess = int(input(f'How much is {num1} times {num2} (-1 to quit) : ')) "
   ]
  },
  {
   "cell_type": "code",
   "execution_count": 27,
   "id": "be1b639c-4daf-4dca-a7e4-9624736ebdf5",
   "metadata": {},
   "outputs": [
    {
     "name": "stdout",
     "output_type": "stream",
     "text": [
      "Very Good!\n"
     ]
    },
    {
     "name": "stdin",
     "output_type": "stream",
     "text": [
      "How much is 1 times 9 (-1 to quit) :  9\n"
     ]
    },
    {
     "name": "stdout",
     "output_type": "stream",
     "text": [
      "Very Good!\n"
     ]
    },
    {
     "name": "stdin",
     "output_type": "stream",
     "text": [
      "How much is 4 times 4 (-1 to quit) :  15\n"
     ]
    },
    {
     "name": "stdout",
     "output_type": "stream",
     "text": [
      "No. Please try again.\n"
     ]
    },
    {
     "name": "stdin",
     "output_type": "stream",
     "text": [
      "How much is 4 times 4 (-1 to quit) :  16\n"
     ]
    },
    {
     "name": "stdout",
     "output_type": "stream",
     "text": [
      "Very Good!\n"
     ]
    },
    {
     "name": "stdin",
     "output_type": "stream",
     "text": [
      "How much is 1 times 2 (-1 to quit) :  -1\n"
     ]
    }
   ],
   "source": [
    "while True:\n",
    "    \n",
    "    if guess == -1:\n",
    "        break\n",
    "    elif guess == answer:\n",
    "        print('Very Good!')\n",
    "        num1, num2, answer = generate_question()\n",
    "    else:\n",
    "        print('No. Please try again.')\n",
    "\n",
    "    guess = int(input(f'How much is {num1} times {num2} (-1 to quit) : ')) "
   ]
  },
  {
   "cell_type": "code",
   "execution_count": null,
   "id": "6246cf37-41db-433b-b765-249e6a9c9ddd",
   "metadata": {},
   "outputs": [],
   "source": []
  }
 ],
 "metadata": {
  "kernelspec": {
   "display_name": "Python [conda env:base] *",
   "language": "python",
   "name": "conda-base-py"
  },
  "language_info": {
   "codemirror_mode": {
    "name": "ipython",
    "version": 3
   },
   "file_extension": ".py",
   "mimetype": "text/x-python",
   "name": "python",
   "nbconvert_exporter": "python",
   "pygments_lexer": "ipython3",
   "version": "3.13.5"
  }
 },
 "nbformat": 4,
 "nbformat_minor": 5
}
