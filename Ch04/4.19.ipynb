{
 "cells": [
  {
   "cell_type": "code",
   "execution_count": null,
   "id": "63e32999-0985-437a-b456-40ae5e09e510",
   "metadata": {},
   "outputs": [],
   "source": [
    "\"\"\"\n",
    "\n",
    "4.19 (Functional-Style Programming: What vs. How) Why is programming that emphasizes “what” preferable to programming \n",
    "that emphasizes “how”? What is it that makes “what” programming feasible?\n",
    "\n",
    "\"\"\""
   ]
  },
  {
   "cell_type": "code",
   "execution_count": null,
   "id": "896cdbd5-3e9c-4f01-8c20-8ad6ef81fa94",
   "metadata": {},
   "outputs": [],
   "source": [
    "\"\"\"\n",
    "\n",
    "The programming that emphasizes \"What\" is preferable to programming that emphasizes \"how\" becuase it is error prone.\n",
    "The programming that emphasizes \"how\" needs the user to define and control everything which can lead to errors. Because\n",
    "user can make mistake at any point. Debugging such error is also very difficult. On the other hand the programming \n",
    "that emphasize \"what\" only needs the user to tell what to do and handle everthing else itself. So chances of error \n",
    "becomes very very small and provide encapsulation. That is the reason that makes \"what\" programming feasible.\n",
    "\n",
    "\"\"\""
   ]
  }
 ],
 "metadata": {
  "kernelspec": {
   "display_name": "Python [conda env:base] *",
   "language": "python",
   "name": "conda-base-py"
  },
  "language_info": {
   "codemirror_mode": {
    "name": "ipython",
    "version": 3
   },
   "file_extension": ".py",
   "mimetype": "text/x-python",
   "name": "python",
   "nbconvert_exporter": "python",
   "pygments_lexer": "ipython3",
   "version": "3.13.5"
  }
 },
 "nbformat": 4,
 "nbformat_minor": 5
}
