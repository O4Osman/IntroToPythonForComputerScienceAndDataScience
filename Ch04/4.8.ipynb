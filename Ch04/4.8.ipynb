{
 "cells": [
  {
   "cell_type": "code",
   "execution_count": null,
   "id": "b577b24b-577a-47a0-be5c-c80c47643ab1",
   "metadata": {},
   "outputs": [],
   "source": [
    "\"\"\"\n",
    "\n",
    "4.8 (Rounding Numbers) Investigate built-in function round at\n",
    "https://docs.python.org/3/library/functions.html#round\n",
    "then use it to round the float value 13.56449 to the nearest integer, tenths, hundredths and thousandths positions.\n",
    "\n",
    "\"\"\""
   ]
  },
  {
   "cell_type": "code",
   "execution_count": 1,
   "id": "3a4fac24-f508-4757-b0ed-a0c7eff7d3bf",
   "metadata": {},
   "outputs": [],
   "source": [
    "number = 13.56449"
   ]
  },
  {
   "cell_type": "code",
   "execution_count": 5,
   "id": "9ef99077-cc20-4fde-9459-c7012cb4b534",
   "metadata": {},
   "outputs": [
    {
     "data": {
      "text/plain": [
       "14"
      ]
     },
     "execution_count": 5,
     "metadata": {},
     "output_type": "execute_result"
    }
   ],
   "source": [
    "# Rounding to nearest integer\n",
    "round(number)"
   ]
  },
  {
   "cell_type": "code",
   "execution_count": 8,
   "id": "3321581c-4a37-4c12-833c-0446a8797a6c",
   "metadata": {},
   "outputs": [
    {
     "data": {
      "text/plain": [
       "13.6"
      ]
     },
     "execution_count": 8,
     "metadata": {},
     "output_type": "execute_result"
    }
   ],
   "source": [
    "# Rounding to tenth position\n",
    "round(number, 1)"
   ]
  },
  {
   "cell_type": "code",
   "execution_count": 9,
   "id": "ee14bb00-4f6c-4033-99f6-762bee285c05",
   "metadata": {},
   "outputs": [
    {
     "data": {
      "text/plain": [
       "13.56"
      ]
     },
     "execution_count": 9,
     "metadata": {},
     "output_type": "execute_result"
    }
   ],
   "source": [
    "# Rounding to hundredths position\n",
    "round(number, 2)"
   ]
  },
  {
   "cell_type": "code",
   "execution_count": 10,
   "id": "64574b5b-ec29-49c0-97b5-7f22b1239511",
   "metadata": {},
   "outputs": [
    {
     "data": {
      "text/plain": [
       "13.564"
      ]
     },
     "execution_count": 10,
     "metadata": {},
     "output_type": "execute_result"
    }
   ],
   "source": [
    "# Rounding to thousandths position\n",
    "round(number, 3)"
   ]
  },
  {
   "cell_type": "code",
   "execution_count": null,
   "id": "4b933215-721f-4869-8e5e-ff9e47e98cef",
   "metadata": {},
   "outputs": [],
   "source": []
  }
 ],
 "metadata": {
  "kernelspec": {
   "display_name": "Python [conda env:base] *",
   "language": "python",
   "name": "conda-base-py"
  },
  "language_info": {
   "codemirror_mode": {
    "name": "ipython",
    "version": 3
   },
   "file_extension": ".py",
   "mimetype": "text/x-python",
   "name": "python",
   "nbconvert_exporter": "python",
   "pygments_lexer": "ipython3",
   "version": "3.13.5"
  }
 },
 "nbformat": 4,
 "nbformat_minor": 5
}
