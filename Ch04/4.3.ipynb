{
 "cells": [
  {
   "cell_type": "code",
   "execution_count": null,
   "id": "0572d7b3-a317-4a56-ba20-b9370a0081e6",
   "metadata": {},
   "outputs": [],
   "source": [
    "\"\"\"\n",
    "\n",
    "4.3 (What’s Wrong with This Code?) What is wrong with the following cube function’s definition?\n",
    "\n",
    "def cube(x):\n",
    "    '''Calculate the cube of x.'''\n",
    "    x ** 3\n",
    "print('The cube of 2 is', cube(2))\n",
    "\n",
    "\"\"\""
   ]
  },
  {
   "cell_type": "code",
   "execution_count": null,
   "id": "3a37abf7-a3ef-4d5b-ac0c-ae469060e174",
   "metadata": {},
   "outputs": [],
   "source": [
    "\"\"\"\n",
    "\n",
    "The function's definition is almost correct except it does not return the result of cube of the parameter.Excuding the \n",
    "return statment from a function returns None implicitly.\n",
    "So Print statement will only print the string part as None will be returned by function so output will be:\n",
    "The cube of 2 is None\n",
    "\n",
    "Following code is removes the error and then we can get expect out.\n",
    "\n",
    "\"\"\""
   ]
  },
  {
   "cell_type": "code",
   "execution_count": 3,
   "id": "2705b400-2ed0-4642-9ac7-16a3441c9290",
   "metadata": {},
   "outputs": [
    {
     "name": "stdout",
     "output_type": "stream",
     "text": [
      "The cube of 2 is 8\n"
     ]
    }
   ],
   "source": [
    "def cube(x):\n",
    "    '''Calculate the cube of x.'''\n",
    "    return x ** 3\n",
    "print('The cube of 2 is', cube(2))"
   ]
  },
  {
   "cell_type": "code",
   "execution_count": null,
   "id": "35eec43c-8480-48e2-8079-e920f8ce2a00",
   "metadata": {},
   "outputs": [],
   "source": []
  }
 ],
 "metadata": {
  "kernelspec": {
   "display_name": "Python [conda env:base] *",
   "language": "python",
   "name": "conda-base-py"
  },
  "language_info": {
   "codemirror_mode": {
    "name": "ipython",
    "version": 3
   },
   "file_extension": ".py",
   "mimetype": "text/x-python",
   "name": "python",
   "nbconvert_exporter": "python",
   "pygments_lexer": "ipython3",
   "version": "3.13.5"
  }
 },
 "nbformat": 4,
 "nbformat_minor": 5
}
